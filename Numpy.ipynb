{
 "cells": [
  {
   "cell_type": "code",
   "execution_count": null,
   "id": "b772dd68",
   "metadata": {},
   "outputs": [],
   "source": []
  },
  {
   "attachments": {
    "image.png": {
     "image/png": "[encoded data removed]"
    }
   },
   "cell_type": "markdown",
   "id": "7f6ac273",
   "metadata": {},
   "source": [
    "![image.png](attachment:image.png)"
   ]
  },
  {
   "cell_type": "markdown",
   "id": "abdca395",
   "metadata": {},
   "source": [
    "- NumPy is a library for the Python programming language, \n",
    "- adding support for large, multi-dimensional arrays and matrices, \n",
    "- along with a large collection of high-level mathematical functions to operate on these arrays\n",
    "- Written in: Python, C\n",
    "- Developer(s): Community project\n",
    "- Initial release: As Numeric, 1995; as NumPy, 2006\n",
    "- Original author(s): Travis Oliphant"
   ]
  },
  {
   "cell_type": "code",
   "execution_count": null,
   "id": "8bade3b9",
   "metadata": {},
   "outputs": [],
   "source": [
    "Features of Numpy:"
   ]
  },
  {
   "cell_type": "markdown",
   "id": "a68dba82",
   "metadata": {},
   "source": [
    "- Powerful N-dimensional arrays\n",
    " - Fast and versatile, the NumPy vectorization, indexing, and broadcasting concepts are the de-facto standards of array computing today."
   ]
  },
  {
   "cell_type": "markdown",
   "id": "9a91baae",
   "metadata": {},
   "source": [
    " **Numerical computing tools**\n",
    "  - NumPy offers comprehensive mathematical functions, random number generators, linear algebra routines, Fourier transforms, and more."
   ]
  },
  {
   "cell_type": "markdown",
   "id": "24e0575f",
   "metadata": {},
   "source": [
    "**Interoperable**\n",
    "- NumPy supports a wide range of hardware and computing platforms, and plays well with distributed, GPU, and sparse array libraries."
   ]
  },
  {
   "cell_type": "markdown",
   "id": "afcb642f",
   "metadata": {},
   "source": [
    "**Performant**\n",
    "- The core of NumPy is well-optimized C code. Enjoy the flexibility of Python with the speed of compiled code."
   ]
  },
  {
   "cell_type": "markdown",
   "id": "31659451",
   "metadata": {},
   "source": [
    "**Easy to use**\n",
    "- NumPy’s high level syntax makes it accessible and productive for programmers from any background or experience level."
   ]
  },
  {
   "cell_type": "markdown",
   "id": "e47db939",
   "metadata": {},
   "source": [
    "**Open source**\n",
    "- Distributed under a liberal BSD license, NumPy is developed and maintained publicly on GitHub by a vibrant, responsive, and diverse community."
   ]
  },
  {
   "cell_type": "markdown",
   "id": "94985e6c",
   "metadata": {},
   "source": [
    "## The Basics\n",
    "- NumPy’s main object is the homogeneous multidimensional array. It is a table of elements (usually numbers), all of the same type, indexed by a tuple of non-negative integers. In NumPy dimensions are called axes."
   ]
  },
  {
   "cell_type": "code",
   "execution_count": null,
   "id": "53f90e4d",
   "metadata": {},
   "outputs": [],
   "source": [
    "#installing numpy\n",
    "!pip install numpy"
   ]
  },
  {
   "cell_type": "code",
   "execution_count": 95,
   "id": "bb165217",
   "metadata": {},
   "outputs": [],
   "source": [
    "import numpy as np  # import Numpy Library"
   ]
  },
  {
   "cell_type": "code",
   "execution_count": 96,
   "id": "5090dd36",
   "metadata": {},
   "outputs": [],
   "source": [
    "list_data=[2,3,5,6,7]\n",
    "arr1=np.array(list_data) # create ndarray using python List"
   ]
  },
  {
   "cell_type": "code",
   "execution_count": 98,
   "id": "a387c87e",
   "metadata": {},
   "outputs": [
    {
     "data": {
      "text/plain": [
       "array([12, 56, 78, 56])"
      ]
     },
     "execution_count": 98,
     "metadata": {},
     "output_type": "execute_result"
    }
   ],
   "source": [
    "np.array([12,56,78,56,])"
   ]
  },
  {
   "cell_type": "code",
   "execution_count": 97,
   "id": "860fe4fe",
   "metadata": {},
   "outputs": [
    {
     "name": "stdout",
     "output_type": "stream",
     "text": [
      "[2 3 5 6 7]\n"
     ]
    }
   ],
   "source": [
    "print(arr1)"
   ]
  },
  {
   "cell_type": "code",
   "execution_count": 100,
   "id": "a9136431",
   "metadata": {},
   "outputs": [
    {
     "name": "stdout",
     "output_type": "stream",
     "text": [
      "<class 'numpy.ndarray'>\n"
     ]
    }
   ],
   "source": [
    "print(type(arr1))"
   ]
  },
  {
   "cell_type": "code",
   "execution_count": 101,
   "id": "4a2391ec",
   "metadata": {},
   "outputs": [
    {
     "name": "stdout",
     "output_type": "stream",
     "text": [
      "['T', '__abs__', '__add__', '__and__', '__array__', '__array_finalize__', '__array_function__', '__array_interface__', '__array_prepare__', '__array_priority__', '__array_struct__', '__array_ufunc__', '__array_wrap__', '__bool__', '__class__', '__complex__', '__contains__', '__copy__', '__deepcopy__', '__delattr__', '__delitem__', '__dir__', '__divmod__', '__doc__', '__eq__', '__float__', '__floordiv__', '__format__', '__ge__', '__getattribute__', '__getitem__', '__gt__', '__hash__', '__iadd__', '__iand__', '__ifloordiv__', '__ilshift__', '__imatmul__', '__imod__', '__imul__', '__index__', '__init__', '__init_subclass__', '__int__', '__invert__', '__ior__', '__ipow__', '__irshift__', '__isub__', '__iter__', '__itruediv__', '__ixor__', '__le__', '__len__', '__lshift__', '__lt__', '__matmul__', '__mod__', '__mul__', '__ne__', '__neg__', '__new__', '__or__', '__pos__', '__pow__', '__radd__', '__rand__', '__rdivmod__', '__reduce__', '__reduce_ex__', '__repr__', '__rfloordiv__', '__rlshift__', '__rmatmul__', '__rmod__', '__rmul__', '__ror__', '__rpow__', '__rrshift__', '__rshift__', '__rsub__', '__rtruediv__', '__rxor__', '__setattr__', '__setitem__', '__setstate__', '__sizeof__', '__str__', '__sub__', '__subclasshook__', '__truediv__', '__xor__', 'all', 'any', 'argmax', 'argmin', 'argpartition', 'argsort', 'astype', 'base', 'byteswap', 'choose', 'clip', 'compress', 'conj', 'conjugate', 'copy', 'ctypes', 'cumprod', 'cumsum', 'data', 'diagonal', 'dot', 'dtype', 'dump', 'dumps', 'fill', 'flags', 'flat', 'flatten', 'getfield', 'imag', 'item', 'itemset', 'itemsize', 'max', 'mean', 'min', 'nbytes', 'ndim', 'newbyteorder', 'nonzero', 'partition', 'prod', 'ptp', 'put', 'ravel', 'real', 'repeat', 'reshape', 'resize', 'round', 'searchsorted', 'setfield', 'setflags', 'shape', 'size', 'sort', 'squeeze', 'std', 'strides', 'sum', 'swapaxes', 'take', 'tobytes', 'tofile', 'tolist', 'tostring', 'trace', 'transpose', 'var', 'view']\n"
     ]
    }
   ],
   "source": [
    "print(dir(arr1))"
   ]
  },
  {
   "cell_type": "code",
   "execution_count": null,
   "id": "62f43ec4",
   "metadata": {},
   "outputs": [],
   "source": [
    "Ndarray BASIC Attribute"
   ]
  },
  {
   "cell_type": "markdown",
   "id": "dd8533ca",
   "metadata": {},
   "source": [
    "# ndarray.ndim\n",
    "-    the number of axes (dimensions) of the array.\n"
   ]
  },
  {
   "cell_type": "code",
   "execution_count": 102,
   "id": "4a6100dc",
   "metadata": {},
   "outputs": [
    {
     "data": {
      "text/plain": [
       "1"
      ]
     },
     "execution_count": 102,
     "metadata": {},
     "output_type": "execute_result"
    }
   ],
   "source": [
    "arr1.ndim"
   ]
  },
  {
   "cell_type": "code",
   "execution_count": 110,
   "id": "0234c61b",
   "metadata": {},
   "outputs": [
    {
     "data": {
      "text/plain": [
       "2"
      ]
     },
     "execution_count": 110,
     "metadata": {},
     "output_type": "execute_result"
    }
   ],
   "source": [
    "np.array([[1,2,3],[4,5,6]]).ndim"
   ]
  },
  {
   "cell_type": "markdown",
   "id": "27e85b32",
   "metadata": {},
   "source": [
    "# ndarray.shape\n",
    "\n",
    " - the dimensions of the array. This is a tuple of integers indicating the size of the array in each dimension. For a matrix with n rows and m columns, shape will be (n,m). The length of the shape tuple is therefore the number of axes, ndim.\n"
   ]
  },
  {
   "cell_type": "code",
   "execution_count": 111,
   "id": "c5d467f7",
   "metadata": {},
   "outputs": [
    {
     "data": {
      "text/plain": [
       "array([2, 3, 5, 6, 7])"
      ]
     },
     "execution_count": 111,
     "metadata": {},
     "output_type": "execute_result"
    }
   ],
   "source": [
    "arr1"
   ]
  },
  {
   "cell_type": "code",
   "execution_count": 119,
   "id": "8bc6c3a8",
   "metadata": {},
   "outputs": [
    {
     "data": {
      "text/plain": [
       "numpy.ndarray"
      ]
     },
     "execution_count": 119,
     "metadata": {},
     "output_type": "execute_result"
    }
   ],
   "source": [
    "type(arr1)"
   ]
  },
  {
   "cell_type": "code",
   "execution_count": 120,
   "id": "e25fa588",
   "metadata": {},
   "outputs": [
    {
     "data": {
      "text/plain": [
       "dtype('int32')"
      ]
     },
     "execution_count": 120,
     "metadata": {},
     "output_type": "execute_result"
    }
   ],
   "source": [
    "arr1.dtype"
   ]
  },
  {
   "cell_type": "code",
   "execution_count": 112,
   "id": "407a61f6",
   "metadata": {},
   "outputs": [
    {
     "data": {
      "text/plain": [
       "(5,)"
      ]
     },
     "execution_count": 112,
     "metadata": {},
     "output_type": "execute_result"
    }
   ],
   "source": [
    "arr1.shape"
   ]
  },
  {
   "cell_type": "code",
   "execution_count": 121,
   "id": "1d486f9f",
   "metadata": {},
   "outputs": [
    {
     "data": {
      "text/plain": [
       "array(['a', '2', '45', '3'], dtype='<U11')"
      ]
     },
     "execution_count": 121,
     "metadata": {},
     "output_type": "execute_result"
    }
   ],
   "source": [
    "arr=np.array([\"a\",2,45,3])\n",
    "arr"
   ]
  },
  {
   "cell_type": "code",
   "execution_count": null,
   "id": "68ac563b",
   "metadata": {},
   "outputs": [],
   "source": []
  },
  {
   "cell_type": "code",
   "execution_count": null,
   "id": "6d844cdc",
   "metadata": {},
   "outputs": [],
   "source": []
  },
  {
   "cell_type": "code",
   "execution_count": 113,
   "id": "efb6bc7f",
   "metadata": {},
   "outputs": [],
   "source": [
    "arr2d=np.array([[1,2,3],[4,5,6]])"
   ]
  },
  {
   "cell_type": "code",
   "execution_count": 114,
   "id": "f6875917",
   "metadata": {},
   "outputs": [
    {
     "data": {
      "text/plain": [
       "(2, 3)"
      ]
     },
     "execution_count": 114,
     "metadata": {},
     "output_type": "execute_result"
    }
   ],
   "source": [
    "arr2d.shape"
   ]
  },
  {
   "cell_type": "code",
   "execution_count": 117,
   "id": "8007a8db",
   "metadata": {},
   "outputs": [],
   "source": [
    "arr3d=np.array([[[1,2,3],[4,5,6],[2,5,6]]])"
   ]
  },
  {
   "cell_type": "code",
   "execution_count": 122,
   "id": "75c3145c",
   "metadata": {},
   "outputs": [
    {
     "data": {
      "text/plain": [
       "(1, 3, 3)"
      ]
     },
     "execution_count": 122,
     "metadata": {},
     "output_type": "execute_result"
    }
   ],
   "source": [
    "arr3d.shape"
   ]
  },
  {
   "cell_type": "code",
   "execution_count": 116,
   "id": "59d04aa5",
   "metadata": {},
   "outputs": [
    {
     "data": {
      "text/plain": [
       "array([[[1, 2, 3],\n",
       "        [4, 5, 6]]])"
      ]
     },
     "execution_count": 116,
     "metadata": {},
     "output_type": "execute_result"
    }
   ],
   "source": [
    "arr3d"
   ]
  },
  {
   "cell_type": "code",
   "execution_count": 126,
   "id": "9a17a4ca",
   "metadata": {},
   "outputs": [
    {
     "data": {
      "text/plain": [
       "array([3, 2, 3, 4])"
      ]
     },
     "execution_count": 126,
     "metadata": {},
     "output_type": "execute_result"
    }
   ],
   "source": [
    "arrex=np.array((3.6,2,3,4),dtype='int')\n",
    "arrex"
   ]
  },
  {
   "cell_type": "code",
   "execution_count": 127,
   "id": "cb060971",
   "metadata": {},
   "outputs": [
    {
     "data": {
      "text/plain": [
       "dtype('int32')"
      ]
     },
     "execution_count": 127,
     "metadata": {},
     "output_type": "execute_result"
    }
   ],
   "source": [
    "arrex.dtype"
   ]
  },
  {
   "cell_type": "markdown",
   "id": "9aa9300e",
   "metadata": {},
   "source": [
    "# ndarray.size\n",
    "\n",
    "   - the total number of elements of the array. This is equal to the product of the elements of shape.\n"
   ]
  },
  {
   "cell_type": "code",
   "execution_count": 129,
   "id": "1f800a0c",
   "metadata": {},
   "outputs": [
    {
     "data": {
      "text/plain": [
       "array([[[1, 2, 3],\n",
       "        [4, 5, 6],\n",
       "        [2, 5, 6]]])"
      ]
     },
     "execution_count": 129,
     "metadata": {},
     "output_type": "execute_result"
    }
   ],
   "source": [
    "arr3d"
   ]
  },
  {
   "cell_type": "code",
   "execution_count": 128,
   "id": "3059b4b3",
   "metadata": {},
   "outputs": [
    {
     "data": {
      "text/plain": [
       "9"
      ]
     },
     "execution_count": 128,
     "metadata": {},
     "output_type": "execute_result"
    }
   ],
   "source": [
    "arr3d.size"
   ]
  },
  {
   "cell_type": "markdown",
   "id": "ec863629",
   "metadata": {},
   "source": [
    "# ndarray.dtype\n",
    "\n",
    "   - an object describing the type of the elements in the array. One can create or specify dtype’s using standard Python types. Additionally NumPy provides types of its own. numpy.int32, numpy.int16, and numpy.float64 are some examples.\n"
   ]
  },
  {
   "cell_type": "code",
   "execution_count": 133,
   "id": "d91b413e",
   "metadata": {},
   "outputs": [
    {
     "data": {
      "text/plain": [
       "array([34.5, 34. , 45. , 56. , 56. ])"
      ]
     },
     "execution_count": 133,
     "metadata": {},
     "output_type": "execute_result"
    }
   ],
   "source": [
    "arrfloat=np.array([34.5,34,45,56,56],dtype='float')\n",
    "arrfloat"
   ]
  },
  {
   "cell_type": "code",
   "execution_count": 132,
   "id": "de4a0aa3",
   "metadata": {},
   "outputs": [
    {
     "data": {
      "text/plain": [
       "dtype('float64')"
      ]
     },
     "execution_count": 132,
     "metadata": {},
     "output_type": "execute_result"
    }
   ],
   "source": [
    "arrfloat.dtype"
   ]
  },
  {
   "cell_type": "markdown",
   "id": "e712bf65",
   "metadata": {},
   "source": [
    "# ndarray.itemsize\n",
    "\n",
    "- the size in bytes of each element of the array. For example, an array of elements of type float64 has itemsize 8 (=64/8), while one of type complex32 has itemsize 4 (=32/8). It is equivalent to ndarray.dtype.itemsize.\n"
   ]
  },
  {
   "cell_type": "code",
   "execution_count": 134,
   "id": "fd4a61c7",
   "metadata": {},
   "outputs": [
    {
     "data": {
      "text/plain": [
       "8"
      ]
     },
     "execution_count": 134,
     "metadata": {},
     "output_type": "execute_result"
    }
   ],
   "source": [
    "arrfloat.itemsize # float64    64/8"
   ]
  },
  {
   "cell_type": "markdown",
   "id": "30c78983",
   "metadata": {},
   "source": [
    "# ndarray.data\n",
    "\n",
    " - the buffer containing the actual elements of the array. Normally, we won’t need to use this attribute because we will access the elements in an array using indexing facilities.\n"
   ]
  },
  {
   "cell_type": "code",
   "execution_count": 135,
   "id": "9bddc798",
   "metadata": {},
   "outputs": [
    {
     "data": {
      "text/plain": [
       "<memory at 0x000001B53F745B80>"
      ]
     },
     "execution_count": 135,
     "metadata": {},
     "output_type": "execute_result"
    }
   ],
   "source": [
    "arrfloat.data"
   ]
  },
  {
   "cell_type": "code",
   "execution_count": 138,
   "id": "0425d4b1",
   "metadata": {},
   "outputs": [
    {
     "data": {
      "text/plain": [
       "56.0"
      ]
     },
     "execution_count": 138,
     "metadata": {},
     "output_type": "execute_result"
    }
   ],
   "source": [
    "arrfloat[-1]"
   ]
  },
  {
   "cell_type": "markdown",
   "id": "9be9b41b",
   "metadata": {},
   "source": [
    "# Creating an array\n",
    "- The basic unit in NumPy is an array.we look at the various methods for creating an array."
   ]
  },
  {
   "cell_type": "markdown",
   "id": "c8b3ef78",
   "metadata": {},
   "source": [
    "### Creating an array from a list\n",
    "- The np.array function is used to create a one-dimensional or multidimensional array from a list."
   ]
  },
  {
   "cell_type": "code",
   "execution_count": 141,
   "id": "b346539a",
   "metadata": {},
   "outputs": [
    {
     "data": {
      "text/plain": [
       "array([[1, 2, 3],\n",
       "       [4, 5, 6],\n",
       "       [3, 6, 6]])"
      ]
     },
     "execution_count": 141,
     "metadata": {},
     "output_type": "execute_result"
    }
   ],
   "source": [
    "np.array([[1,2,3],[4,5,6],[3,6,6]])"
   ]
  },
  {
   "cell_type": "markdown",
   "id": "37d142e7",
   "metadata": {},
   "source": [
    "### Creating an array from arange\n",
    "- The np.arange function is used to create a range of integers."
   ]
  },
  {
   "cell_type": "code",
   "execution_count": 142,
   "id": "d7590684",
   "metadata": {},
   "outputs": [
    {
     "data": {
      "text/plain": [
       "array([0, 2, 4, 6, 8])"
      ]
     },
     "execution_count": 142,
     "metadata": {},
     "output_type": "execute_result"
    }
   ],
   "source": [
    "np.arange(0,10,2) #np.arange(9)  # arrayrange\n",
    "#Generates 9 equally spaced integers starting from 0"
   ]
  },
  {
   "cell_type": "code",
   "execution_count": 143,
   "id": "4324f27e",
   "metadata": {},
   "outputs": [
    {
     "data": {
      "text/plain": [
       "array([100., 110., 120., 130., 140., 150., 160., 170., 180., 190.])"
      ]
     },
     "execution_count": 143,
     "metadata": {},
     "output_type": "execute_result"
    }
   ],
   "source": [
    "np.arange(100,200,10,dtype='float')"
   ]
  },
  {
   "cell_type": "code",
   "execution_count": 144,
   "id": "4b0e2b63",
   "metadata": {},
   "outputs": [
    {
     "data": {
      "text/plain": [
       "array([0, 1, 2, 3, 4, 5, 6, 7])"
      ]
     },
     "execution_count": 144,
     "metadata": {},
     "output_type": "execute_result"
    }
   ],
   "source": [
    "np.arange(8)"
   ]
  },
  {
   "cell_type": "code",
   "execution_count": null,
   "id": "977a9415",
   "metadata": {},
   "outputs": [],
   "source": []
  },
  {
   "cell_type": "markdown",
   "id": "c57d046c",
   "metadata": {},
   "source": [
    "### Creating an array of equally spaced numbers\n",
    "- The np.linspace function creates a given number of equally spaced values between two limits."
   ]
  },
  {
   "cell_type": "code",
   "execution_count": 147,
   "id": "b50a4eb5",
   "metadata": {},
   "outputs": [
    {
     "data": {
      "text/plain": [
       "array([1.  , 2.25, 3.5 , 4.75, 6.  ])"
      ]
     },
     "execution_count": 147,
     "metadata": {},
     "output_type": "execute_result"
    }
   ],
   "source": [
    "np.linspace(1,6,5)\n",
    "# This generates five equally spaced values between 1 and 6"
   ]
  },
  {
   "cell_type": "code",
   "execution_count": 153,
   "id": "43610a94",
   "metadata": {},
   "outputs": [
    {
     "data": {
      "text/plain": [
       "array([1.        , 1.02040816, 1.04081633, 1.06122449, 1.08163265,\n",
       "       1.10204082, 1.12244898, 1.14285714, 1.16326531, 1.18367347,\n",
       "       1.20408163, 1.2244898 , 1.24489796, 1.26530612, 1.28571429,\n",
       "       1.30612245, 1.32653061, 1.34693878, 1.36734694, 1.3877551 ,\n",
       "       1.40816327, 1.42857143, 1.44897959, 1.46938776, 1.48979592,\n",
       "       1.51020408, 1.53061224, 1.55102041, 1.57142857, 1.59183673,\n",
       "       1.6122449 , 1.63265306, 1.65306122, 1.67346939, 1.69387755,\n",
       "       1.71428571, 1.73469388, 1.75510204, 1.7755102 , 1.79591837,\n",
       "       1.81632653, 1.83673469, 1.85714286, 1.87755102, 1.89795918,\n",
       "       1.91836735, 1.93877551, 1.95918367, 1.97959184, 2.        ])"
      ]
     },
     "execution_count": 153,
     "metadata": {},
     "output_type": "execute_result"
    }
   ],
   "source": [
    "np.linspace(1,2) # deafult num=50"
   ]
  },
  {
   "cell_type": "markdown",
   "id": "0955fcb4",
   "metadata": {},
   "source": [
    "### Creating an array of zeros\n",
    "- The np.zeros function creates an array with a given number of rows and columns, with only one value throughout the array – “0”."
   ]
  },
  {
   "cell_type": "code",
   "execution_count": 162,
   "id": "1bb0a2f8",
   "metadata": {},
   "outputs": [
    {
     "data": {
      "text/plain": [
       "array([[0, 0],\n",
       "       [0, 0],\n",
       "       [0, 0],\n",
       "       [0, 0]])"
      ]
     },
     "execution_count": 162,
     "metadata": {},
     "output_type": "execute_result"
    }
   ],
   "source": [
    "np.zeros((4,2),dtype='int')\n",
    "#Creates a 4*2 array with all values as 0"
   ]
  },
  {
   "cell_type": "code",
   "execution_count": 66,
   "id": "1360ad4b",
   "metadata": {},
   "outputs": [
    {
     "data": {
      "text/plain": [
       "array([[[0, 0, 0],\n",
       "        [0, 0, 0]],\n",
       "\n",
       "       [[0, 0, 0],\n",
       "        [0, 0, 0]],\n",
       "\n",
       "       [[0, 0, 0],\n",
       "        [0, 0, 0]],\n",
       "\n",
       "       [[0, 0, 0],\n",
       "        [0, 0, 0]],\n",
       "\n",
       "       [[0, 0, 0],\n",
       "        [0, 0, 0]]])"
      ]
     },
     "execution_count": 66,
     "metadata": {},
     "output_type": "execute_result"
    }
   ],
   "source": [
    "np.zeros((5,2,3),dtype=\"int\")"
   ]
  },
  {
   "cell_type": "markdown",
   "id": "068c2f87",
   "metadata": {},
   "source": [
    "### Creating an array of ones\n",
    "- The np.ones function is similar to the np.zeros function, the difference being that the value repeated throughout the array is “1”."
   ]
  },
  {
   "cell_type": "code",
   "execution_count": 163,
   "id": "03c41c7b",
   "metadata": {},
   "outputs": [
    {
     "data": {
      "text/plain": [
       "array([[1., 1., 1.],\n",
       "       [1., 1., 1.]])"
      ]
     },
     "execution_count": 163,
     "metadata": {},
     "output_type": "execute_result"
    }
   ],
   "source": [
    "np.ones((2,3))\n",
    "#creates a 2*3 array with all values as 1"
   ]
  },
  {
   "cell_type": "code",
   "execution_count": 164,
   "id": "30a7d983",
   "metadata": {},
   "outputs": [
    {
     "data": {
      "text/plain": [
       "array([[[1, 1, 1, 1],\n",
       "        [1, 1, 1, 1],\n",
       "        [1, 1, 1, 1]],\n",
       "\n",
       "       [[1, 1, 1, 1],\n",
       "        [1, 1, 1, 1],\n",
       "        [1, 1, 1, 1]]], dtype=int64)"
      ]
     },
     "execution_count": 164,
     "metadata": {},
     "output_type": "execute_result"
    }
   ],
   "source": [
    "np.ones((2,3,4),dtype='int64')"
   ]
  },
  {
   "cell_type": "markdown",
   "id": "a2171f8e",
   "metadata": {},
   "source": [
    "### Creating an array with a given value repeated throughout\n",
    "- The np.full function creates an array using the value specified by the user."
   ]
  },
  {
   "cell_type": "code",
   "execution_count": 165,
   "id": "9a9c5e56",
   "metadata": {},
   "outputs": [
    {
     "data": {
      "text/plain": [
       "array([[3, 3],\n",
       "       [3, 3]])"
      ]
     },
     "execution_count": 165,
     "metadata": {},
     "output_type": "execute_result"
    }
   ],
   "source": [
    "np.full((2,2),3)\n",
    "#Creates a 2*2 array with all values as 3"
   ]
  },
  {
   "cell_type": "code",
   "execution_count": 166,
   "id": "33459933",
   "metadata": {},
   "outputs": [
    {
     "data": {
      "text/plain": [
       "array([['ab', 'ab', 'ab', 'ab'],\n",
       "       ['ab', 'ab', 'ab', 'ab'],\n",
       "       ['ab', 'ab', 'ab', 'ab']], dtype='<U2')"
      ]
     },
     "execution_count": 166,
     "metadata": {},
     "output_type": "execute_result"
    }
   ],
   "source": [
    "np.full((3,4),\"ab\")"
   ]
  },
  {
   "cell_type": "markdown",
   "id": "618ac4cc",
   "metadata": {},
   "source": [
    "### Creating an empty array\n",
    "- The np.empty function generates an array, without any particular initial value (array is randomly initialized)"
   ]
  },
  {
   "cell_type": "code",
   "execution_count": 172,
   "id": "07680da5",
   "metadata": {},
   "outputs": [
    {
     "data": {
      "text/plain": [
       "array([[7.74860419e-304, 7.74860419e-304],\n",
       "       [7.74860419e-304, 7.74860419e-304]])"
      ]
     },
     "execution_count": 172,
     "metadata": {},
     "output_type": "execute_result"
    }
   ],
   "source": [
    "np.empty((2,2))\n",
    "#creates a 2*2 array filled with random values"
   ]
  },
  {
   "cell_type": "markdown",
   "id": "652fb7d1",
   "metadata": {},
   "source": [
    "### Creating an array from a repeating list\n",
    "- The np.repeat function creates an array from a list that is repeated a given number of times."
   ]
  },
  {
   "cell_type": "code",
   "execution_count": 174,
   "id": "05775ebd",
   "metadata": {},
   "outputs": [
    {
     "data": {
      "text/plain": [
       "array([1, 1, 1, 1, 2, 2, 2, 2, 3, 3, 3, 3])"
      ]
     },
     "execution_count": 174,
     "metadata": {},
     "output_type": "execute_result"
    }
   ],
   "source": [
    "np.repeat([1,2,3],4)\n",
    "#Will repeat each value in the list 3 times"
   ]
  },
  {
   "cell_type": "code",
   "execution_count": null,
   "id": "614372d3",
   "metadata": {},
   "outputs": [],
   "source": []
  },
  {
   "cell_type": "markdown",
   "id": "27b61428",
   "metadata": {},
   "source": [
    "### Creating an array of random integers\n",
    "- The randint function (from the np.random module) generates an array containing random numbers."
   ]
  },
  {
   "cell_type": "code",
   "execution_count": 180,
   "id": "f777ecc2",
   "metadata": {},
   "outputs": [
    {
     "data": {
      "text/plain": [
       "array([47, 25,  7, 47, 78])"
      ]
     },
     "execution_count": 180,
     "metadata": {},
     "output_type": "execute_result"
    }
   ],
   "source": [
    "np.random.randint(1,100,5)"
   ]
  },
  {
   "cell_type": "markdown",
   "id": "fc963700",
   "metadata": {},
   "source": [
    "# Creating an array using Eye"
   ]
  },
  {
   "cell_type": "code",
   "execution_count": 183,
   "id": "c1b68915",
   "metadata": {},
   "outputs": [
    {
     "data": {
      "text/plain": [
       "array([[1., 0., 0.],\n",
       "       [0., 1., 0.],\n",
       "       [0., 0., 1.]])"
      ]
     },
     "execution_count": 183,
     "metadata": {},
     "output_type": "execute_result"
    }
   ],
   "source": [
    "np.eye(3,3)"
   ]
  },
  {
   "cell_type": "code",
   "execution_count": 184,
   "id": "1c58fc39",
   "metadata": {},
   "outputs": [
    {
     "data": {
      "text/plain": [
       "array([[1., 0., 0., 0., 0.],\n",
       "       [0., 1., 0., 0., 0.],\n",
       "       [0., 0., 1., 0., 0.],\n",
       "       [0., 0., 0., 1., 0.],\n",
       "       [0., 0., 0., 0., 1.]])"
      ]
     },
     "execution_count": 184,
     "metadata": {},
     "output_type": "execute_result"
    }
   ],
   "source": [
    "np.eye(5)"
   ]
  },
  {
   "cell_type": "code",
   "execution_count": 188,
   "id": "19a2c21d",
   "metadata": {},
   "outputs": [
    {
     "data": {
      "text/plain": [
       "('E://NumpyLec-Test.ipynb', <http.client.HTTPMessage at 0x1b53f14f220>)"
      ]
     },
     "execution_count": 188,
     "metadata": {},
     "output_type": "execute_result"
    }
   ],
   "source": [
    "import urllib.request\n",
    "Numpy_url=\"https://raw.githubusercontent.com/svkarthik86/Advanced-python/main/NumpyLec.ipynb\"\n",
    "urllib.request.urlretrieve(Numpy_url,\"E://NumpyLec-Test.ipynb\")"
   ]
  },
  {
   "cell_type": "code",
   "execution_count": null,
   "id": "ecf9f74f",
   "metadata": {},
   "outputs": [],
   "source": []
  },
  {
   "cell_type": "code",
   "execution_count": null,
   "id": "308454e7",
   "metadata": {},
   "outputs": [],
   "source": []
  },
  {
   "cell_type": "code",
   "execution_count": null,
   "id": "a37001fc",
   "metadata": {},
   "outputs": [],
   "source": []
  },
  {
   "cell_type": "code",
   "execution_count": null,
   "id": "248e85a0",
   "metadata": {},
   "outputs": [],
   "source": []
  },
  {
   "cell_type": "code",
   "execution_count": null,
   "id": "56a948f2",
   "metadata": {},
   "outputs": [],
   "source": []
  },
  {
   "cell_type": "code",
   "execution_count": null,
   "id": "bc782537",
   "metadata": {},
   "outputs": [],
   "source": [
    "https://raw.githubusercontent.com/svkarthik86/Advanced-python/main/climate.txt"
   ]
  },
  {
   "cell_type": "code",
   "execution_count": 86,
   "id": "69ce1b41",
   "metadata": {},
   "outputs": [
    {
     "data": {
      "text/plain": [
       "('climate.txt', <http.client.HTTPMessage at 0x1b53ed3c940>)"
      ]
     },
     "execution_count": 86,
     "metadata": {},
     "output_type": "execute_result"
    }
   ],
   "source": [
    "import urllib.request\n",
    "urllib.request.urlretrieve(\"https://raw.githubusercontent.com/svkarthik86/Advanced-python/main/climate.txt\",\"climate.txt\")"
   ]
  },
  {
   "cell_type": "code",
   "execution_count": null,
   "id": "4502beb2",
   "metadata": {},
   "outputs": [],
   "source": [
    "climate_data = np.genfromtxt('climate.txt',delimiter=',',skip_header=1)   # conver to array data"
   ]
  },
  {
   "cell_type": "code",
   "execution_count": null,
   "id": "15eba036",
   "metadata": {},
   "outputs": [],
   "source": [
    "#any file download from url"
   ]
  },
  {
   "cell_type": "code",
   "execution_count": 88,
   "id": "8b943e13",
   "metadata": {},
   "outputs": [
    {
     "data": {
      "text/plain": [
       "('test1.ipynb', <http.client.HTTPMessage at 0x1b53ed3c670>)"
      ]
     },
     "execution_count": 88,
     "metadata": {},
     "output_type": "execute_result"
    }
   ],
   "source": [
    "import urllib.request\n",
    "url=\"https://raw.githubusercontent.com/svkarthik86/Advanced-python/main/NumpyLec.ipynb\"\n",
    "urllib.request.urlretrieve(url,\"test1.ipynb\")"
   ]
  },
  {
   "cell_type": "code",
   "execution_count": 90,
   "id": "c9ba6064",
   "metadata": {},
   "outputs": [
    {
     "data": {
      "text/plain": [
       "('climate.txt', <http.client.HTTPMessage at 0x1b53f13ed00>)"
      ]
     },
     "execution_count": 90,
     "metadata": {},
     "output_type": "execute_result"
    }
   ],
   "source": [
    "#download climate.txt file\n",
    "\"https://raw.githubusercontent.com/svkarthik86/Advanced-python/main/climate.txt\"\n",
    "urllib.request.urlretrieve(url_climate,\"climate.txt\")"
   ]
  },
  {
   "cell_type": "markdown",
   "id": "33831fe9",
   "metadata": {},
   "source": [
    "### Create ndarray from Text File"
   ]
  },
  {
   "cell_type": "code",
   "execution_count": 191,
   "id": "c6bb6e80",
   "metadata": {},
   "outputs": [
    {
     "data": {
      "text/plain": [
       "array([[25., 76., 99.],\n",
       "       [39., 65., 70.],\n",
       "       [59., 45., 77.],\n",
       "       ...,\n",
       "       [99., 62., 58.],\n",
       "       [70., 71., 91.],\n",
       "       [92., 39., 76.]])"
      ]
     },
     "execution_count": 191,
     "metadata": {},
     "output_type": "execute_result"
    }
   ],
   "source": [
    "climate_data=np.genfromtxt(url_climate,delimiter=',',skip_header=1)\n",
    "climate_data"
   ]
  },
  {
   "cell_type": "code",
   "execution_count": 92,
   "id": "748d851c",
   "metadata": {},
   "outputs": [
    {
     "name": "stdout",
     "output_type": "stream",
     "text": [
      "<class 'numpy.ndarray'>\n"
     ]
    }
   ],
   "source": [
    "print(type(climate_data))"
   ]
  },
  {
   "cell_type": "code",
   "execution_count": 94,
   "id": "e97f7e3b",
   "metadata": {},
   "outputs": [
    {
     "data": {
      "text/plain": [
       "array([[ 50., 152., 198.],\n",
       "       [ 78., 130., 140.],\n",
       "       [118.,  90., 154.],\n",
       "       ...,\n",
       "       [198., 124., 116.],\n",
       "       [140., 142., 182.],\n",
       "       [184.,  78., 152.]])"
      ]
     },
     "execution_count": 94,
     "metadata": {},
     "output_type": "execute_result"
    }
   ],
   "source": [
    "climate_data*2"
   ]
  },
  {
   "cell_type": "markdown",
   "id": "f56f467a",
   "metadata": {},
   "source": [
    "# Reshaping an array\n",
    "- Reshaping an array is the process of changing the dimensionality of an array. \n",
    "- The NumPy method “reshape” is important and is commonly used to convert a 1-D array to a multidimensional one.\n",
    "- Consider a simple 1-D array containing ten elements, as shown in the following statement."
   ]
  },
  {
   "cell_type": "code",
   "execution_count": 49,
   "id": "097ef57b",
   "metadata": {},
   "outputs": [],
   "source": [
    "x=np.arange(0,10)"
   ]
  },
  {
   "cell_type": "code",
   "execution_count": 50,
   "id": "8d481047",
   "metadata": {},
   "outputs": [
    {
     "data": {
      "text/plain": [
       "array([0, 1, 2, 3, 4, 5, 6, 7, 8, 9])"
      ]
     },
     "execution_count": 50,
     "metadata": {},
     "output_type": "execute_result"
    }
   ],
   "source": [
    "x"
   ]
  },
  {
   "cell_type": "code",
   "execution_count": 51,
   "id": "34c24dd2",
   "metadata": {},
   "outputs": [
    {
     "data": {
      "text/plain": [
       "array([[0, 1],\n",
       "       [2, 3],\n",
       "       [4, 5],\n",
       "       [6, 7],\n",
       "       [8, 9]])"
      ]
     },
     "execution_count": 51,
     "metadata": {},
     "output_type": "execute_result"
    }
   ],
   "source": [
    "x.reshape(5,2)"
   ]
  },
  {
   "cell_type": "code",
   "execution_count": null,
   "id": "df577c44",
   "metadata": {},
   "outputs": [],
   "source": []
  }
 ],
 "metadata": {
  "kernelspec": {
   "display_name": "Python 3 (ipykernel)",
   "language": "python",
   "name": "python3"
  },
  "language_info": {
   "codemirror_mode": {
    "name": "ipython",
    "version": 3
   },
   "file_extension": ".py",
   "mimetype": "text/x-python",
   "name": "python",
   "nbconvert_exporter": "python",
   "pygments_lexer": "ipython3",
   "version": "3.9.12"
  }
 },
 "nbformat": 4,
 "nbformat_minor": 5
}
