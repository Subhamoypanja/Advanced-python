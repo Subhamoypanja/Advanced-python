{
 "cells": [
  {
   "attachments": {
    "c37e6409-4849-454c-bcc5-b2217b4d210c.png": {
     "image/png": "[encoded data removed]"
    }
   },
   "cell_type": "markdown",
   "id": "2a4dd66f-df8f-4240-8de4-34d4a2befae0",
   "metadata": {
    "tags": []
   },
   "source": [
    "### Prepping Your Data with Pandas\n",
    "![image.png](attachment:c37e6409-4849-454c-bcc5-b2217b4d210c.png)"
   ]
  },
  {
   "cell_type": "markdown",
   "id": "190abba4-983c-48dd-a98e-d231fa6df121",
   "metadata": {},
   "source": [
    "- learn objective:\n",
    "-  the building blocks of the Pandas \n",
    "        - Series, \n",
    "        - DataFrames,and\n",
    "        - Indexes, \n",
    " - Understand the various functions in this library that are used to tidy,cleanse, merge, and aggregate data in Pandas. \n",
    " - develop the skills necessary for preparing your data."
   ]
  },
  {
   "cell_type": "code",
   "execution_count": 1,
   "id": "34382958-28ec-49f1-bf77-7f2be7e3320c",
   "metadata": {},
   "outputs": [
    {
     "data": {
      "text/plain": [
       "'1.4.0'"
      ]
     },
     "execution_count": 1,
     "metadata": {},
     "output_type": "execute_result"
    }
   ],
   "source": [
    "import pandas as pd \n",
    "pd.__version__"
   ]
  },
  {
   "cell_type": "code",
   "execution_count": 139,
   "id": "17ebe100-3d5e-4359-b340-0cc6ee647415",
   "metadata": {},
   "outputs": [],
   "source": [
    "# import pandas as pd\n",
    "# print(dir(pd),end=\" \")"
   ]
  },
  {
   "cell_type": "code",
   "execution_count": null,
   "id": "b4ff76fb-4773-4e4b-a81d-fcca8c0d8add",
   "metadata": {},
   "outputs": [],
   "source": []
  },
  {
   "cell_type": "code",
   "execution_count": 138,
   "id": "feb1d9c8-784d-47d9-bb77-7fcdd4cd3578",
   "metadata": {},
   "outputs": [],
   "source": [
    "import pandas as pd\n",
    "data=pd.read_csv(\"https://raw.githubusercontent.com/DataRepo2019/Data-files/master/subset-covid-data.csv\")\n",
    "data.head()"
   ]
  },
  {
   "cell_type": "code",
   "execution_count": 34,
   "id": "4dc8313f-8163-4b98-81c1-9d78680b040d",
   "metadata": {},
   "outputs": [
    {
     "data": {
      "text/html": [
       "<div>\n",
       "<style scoped>\n",
       "    .dataframe tbody tr th:only-of-type {\n",
       "        vertical-align: middle;\n",
       "    }\n",
       "\n",
       "    .dataframe tbody tr th {\n",
       "        vertical-align: top;\n",
       "    }\n",
       "\n",
       "    .dataframe thead th {\n",
       "        text-align: right;\n",
       "    }\n",
       "</style>\n",
       "<table border=\"1\" class=\"dataframe\">\n",
       "  <thead>\n",
       "    <tr style=\"text-align: right;\">\n",
       "      <th></th>\n",
       "      <th>country</th>\n",
       "      <th>continent</th>\n",
       "      <th>date</th>\n",
       "      <th>day</th>\n",
       "      <th>month</th>\n",
       "      <th>year</th>\n",
       "      <th>cases</th>\n",
       "      <th>deaths</th>\n",
       "      <th>country_code</th>\n",
       "      <th>population</th>\n",
       "    </tr>\n",
       "  </thead>\n",
       "  <tbody>\n",
       "    <tr>\n",
       "      <th>201</th>\n",
       "      <td>Venezuela</td>\n",
       "      <td>America</td>\n",
       "      <td>2020-04-12</td>\n",
       "      <td>12</td>\n",
       "      <td>4</td>\n",
       "      <td>2020</td>\n",
       "      <td>0</td>\n",
       "      <td>0</td>\n",
       "      <td>VEN</td>\n",
       "      <td>28870195.0</td>\n",
       "    </tr>\n",
       "    <tr>\n",
       "      <th>202</th>\n",
       "      <td>Vietnam</td>\n",
       "      <td>Asia</td>\n",
       "      <td>2020-04-12</td>\n",
       "      <td>12</td>\n",
       "      <td>4</td>\n",
       "      <td>2020</td>\n",
       "      <td>4</td>\n",
       "      <td>0</td>\n",
       "      <td>VNM</td>\n",
       "      <td>95540395.0</td>\n",
       "    </tr>\n",
       "    <tr>\n",
       "      <th>203</th>\n",
       "      <td>Yemen</td>\n",
       "      <td>Asia</td>\n",
       "      <td>2020-04-12</td>\n",
       "      <td>12</td>\n",
       "      <td>4</td>\n",
       "      <td>2020</td>\n",
       "      <td>0</td>\n",
       "      <td>0</td>\n",
       "      <td>YEM</td>\n",
       "      <td>28498687.0</td>\n",
       "    </tr>\n",
       "    <tr>\n",
       "      <th>204</th>\n",
       "      <td>Zambia</td>\n",
       "      <td>Africa</td>\n",
       "      <td>2020-04-12</td>\n",
       "      <td>12</td>\n",
       "      <td>4</td>\n",
       "      <td>2020</td>\n",
       "      <td>0</td>\n",
       "      <td>0</td>\n",
       "      <td>ZMB</td>\n",
       "      <td>17351822.0</td>\n",
       "    </tr>\n",
       "    <tr>\n",
       "      <th>205</th>\n",
       "      <td>Zimbabwe</td>\n",
       "      <td>Africa</td>\n",
       "      <td>2020-04-12</td>\n",
       "      <td>12</td>\n",
       "      <td>4</td>\n",
       "      <td>2020</td>\n",
       "      <td>3</td>\n",
       "      <td>0</td>\n",
       "      <td>ZWE</td>\n",
       "      <td>14439018.0</td>\n",
       "    </tr>\n",
       "  </tbody>\n",
       "</table>\n",
       "</div>"
      ],
      "text/plain": [
       "       country continent        date  day  month  year  cases  deaths  \\\n",
       "201  Venezuela   America  2020-04-12   12      4  2020      0       0   \n",
       "202    Vietnam      Asia  2020-04-12   12      4  2020      4       0   \n",
       "203      Yemen      Asia  2020-04-12   12      4  2020      0       0   \n",
       "204     Zambia    Africa  2020-04-12   12      4  2020      0       0   \n",
       "205   Zimbabwe    Africa  2020-04-12   12      4  2020      3       0   \n",
       "\n",
       "    country_code  population  \n",
       "201          VEN  28870195.0  \n",
       "202          VNM  95540395.0  \n",
       "203          YEM  28498687.0  \n",
       "204          ZMB  17351822.0  \n",
       "205          ZWE  14439018.0  "
      ]
     },
     "execution_count": 34,
     "metadata": {},
     "output_type": "execute_result"
    }
   ],
   "source": [
    "data.tail()"
   ]
  },
  {
   "cell_type": "code",
   "execution_count": 36,
   "id": "b586d006-78e9-418a-b4cf-5a50cd1a0c55",
   "metadata": {},
   "outputs": [
    {
     "data": {
      "text/plain": [
       "pandas.core.series.Series"
      ]
     },
     "execution_count": 36,
     "metadata": {},
     "output_type": "execute_result"
    }
   ],
   "source": [
    "type(data['country'])"
   ]
  },
  {
   "cell_type": "code",
   "execution_count": 37,
   "id": "9d35a5dc-20eb-4f80-b898-290cdfe67c53",
   "metadata": {},
   "outputs": [
    {
     "data": {
      "text/plain": [
       "pandas.core.frame.DataFrame"
      ]
     },
     "execution_count": 37,
     "metadata": {},
     "output_type": "execute_result"
    }
   ],
   "source": [
    "import pandas as pd\n",
    "type(pd.DataFrame())\n"
   ]
  },
  {
   "cell_type": "code",
   "execution_count": 38,
   "id": "6c679016-65d2-4485-b11d-72dc45097c84",
   "metadata": {},
   "outputs": [
    {
     "name": "stderr",
     "output_type": "stream",
     "text": [
      "C:\\Users\\karthik\\AppData\\Local\\Temp\\ipykernel_15740\\2002654213.py:1: FutureWarning: The default dtype for empty Series will be 'object' instead of 'float64' in a future version. Specify a dtype explicitly to silence this warning.\n",
      "  type(pd.Series())\n"
     ]
    },
    {
     "data": {
      "text/plain": [
       "pandas.core.series.Series"
      ]
     },
     "execution_count": 38,
     "metadata": {},
     "output_type": "execute_result"
    }
   ],
   "source": [
    "type(pd.Series())"
   ]
  },
  {
   "cell_type": "markdown",
   "id": "55815d25-4078-4899-b700-1ceb5977da04",
   "metadata": {},
   "source": [
    "### Pandas at a glance"
   ]
  },
  {
   "cell_type": "markdown",
   "id": "04ba8577-7c5c-4183-83b4-57368fd48a51",
   "metadata": {},
   "source": [
    "- Wes McKinney developed the Pandas library in 2008.\n",
    "- The name (Pandas) comes from the term “Panel Data” used in econometrics for analyzing time-series data.\n"
   ]
  },
  {
   "cell_type": "markdown",
   "id": "3f897085-9af7-43d9-9edc-bbe2ac2d859d",
   "metadata": {},
   "source": [
    "### Pandas features:"
   ]
  },
  {
   "cell_type": "markdown",
   "id": "46354a8a-c457-4ea3-9883-28cab26dd59f",
   "metadata": {},
   "source": [
    "1. Pandas provides features for labeling of data or indexing, which speeds up the retrieval of data."
   ]
  },
  {
   "cell_type": "markdown",
   "id": "3e3e62d4-aa83-4a48-9f59-a675756a7b4b",
   "metadata": {},
   "source": [
    "2. Input and output support: Pandas provides options to read data from different file formats like \n",
    "    - JSON (JavaScript Object Notation),\n",
    "    - CSV (Comma-Separated Values), \n",
    "    - Excel, and \n",
    "    - HDF5 (Hierarchical Data Format Version 5). \n",
    "    - It can also be used to write data into databases, web services, and so on."
   ]
  },
  {
   "cell_type": "markdown",
   "id": "783809ea-8fa9-4d4d-b193-4f3708f5f201",
   "metadata": {},
   "source": [
    "3. Most of the data that is needed for analysis is not contained in a single source, and we often need to combine datasets to consolidate the data that we need for analysis. Again, Pandas comes to the rescue with tailor-made functions to combine data."
   ]
  },
  {
   "cell_type": "markdown",
   "id": "fc418a97-5f58-48a8-b3df-c669350add0c",
   "metadata": {},
   "source": [
    " 4. Speed and enhanced performance: \n",
    "    - The Pandas library is based on Cython, which combines the convenience and ease of use of Python with the speed of the C language. Cython helps to optimize performance and reduce overheads."
   ]
  },
  {
   "cell_type": "markdown",
   "id": "35423d75-d3b4-49ea-8cf1-dce4c3b4c881",
   "metadata": {},
   "source": [
    "5. Data visualization: \n",
    "    - To derive insights from the data and make it presentable to the audience, viewing data using visual means is crucial, and Pandas provides a lot of built-in visualization tools using Matplotlib as the base library."
   ]
  },
  {
   "cell_type": "markdown",
   "id": "9af360a3-67b7-4a8f-b73e-91c97d191b6b",
   "metadata": {},
   "source": [
    "6. Support for other libraries: \n",
    "    - Pandas integrates smoothly with other libraries like Numpy, Matplotlib, Scipy, and Scikit-learn.Thus we can perform other tasks like numerical computations, visualizations, statistical analysis, and machine learning in conjunction with data manipulation."
   ]
  },
  {
   "cell_type": "markdown",
   "id": "e4b285d1-1c0c-4f65-befc-2c10d7ab8144",
   "metadata": {},
   "source": [
    "7. Grouping: \n",
    "    - Pandas provides support for the split-apply-combine methodology, whereby we can group our data into categories, apply separate functions on them, and combine the results."
   ]
  },
  {
   "cell_type": "markdown",
   "id": "369a50ea-f721-4657-98f9-a3e5fe0b0aef",
   "metadata": {},
   "source": [
    "8. Handling missing data, duplicates, and filler characters: \n",
    "    - Data often has missing values, duplicates, blank spaces, special characters (like $, &), and so on that may need to be removed or replaced. With the functions provided in Pandas, you can handle such anomalies with ease."
   ]
  },
  {
   "cell_type": "markdown",
   "id": "175f9a9f-ec9c-4895-8d17-51587894549e",
   "metadata": {},
   "source": [
    "9. Mathematical operations:\n",
    "    - Many numerical operations and computations can be performed in Pandas, with NumPy being used at the back end for this purpose."
   ]
  },
  {
   "cell_type": "markdown",
   "id": "e26e706a-3031-4008-ac67-6ecdb48b15fe",
   "metadata": {},
   "source": [
    "### Technical requirements\n",
    "\n",
    "- If you have not already installed Pandas, go to the Anaconda Prompt/Terminal  and enter the following command.\n",
    "- ``` >>>pip install pandas```\n",
    "\n",
    "- import pandas as pd\n",
    "- Here, pd is a shorthand name or alias that is a standard for Pandas.\n"
   ]
  },
  {
   "cell_type": "code",
   "execution_count": 145,
   "id": "3c294092-d638-49b3-83f4-47689fc5a083",
   "metadata": {},
   "outputs": [
    {
     "name": "stdout",
     "output_type": "stream",
     "text": [
      "['BooleanDtype', 'Categorical', 'CategoricalDtype', 'CategoricalIndex', 'DataFrame', 'DateOffset', 'DatetimeIndex', 'DatetimeTZDtype', 'ExcelFile', 'ExcelWriter', 'Flags', 'Float32Dtype', 'Float64Dtype', 'Float64Index', 'Grouper', 'HDFStore', 'Index', 'IndexSlice', 'Int16Dtype', 'Int32Dtype', 'Int64Dtype', 'Int64Index', 'Int8Dtype', 'Interval', 'IntervalDtype', 'IntervalIndex', 'MultiIndex', 'NA', 'NaT', 'NamedAgg', 'Period', 'PeriodDtype', 'PeriodIndex', 'RangeIndex', 'Series', 'SparseDtype', 'StringDtype', 'Timedelta', 'TimedeltaIndex', 'Timestamp', 'UInt16Dtype', 'UInt32Dtype', 'UInt64Dtype', 'UInt64Index', 'UInt8Dtype', '__all__', '__builtins__', '__cached__', '__deprecated_num_index_names', '__dir__', '__doc__', '__docformat__', '__file__', '__getattr__', '__git_version__', '__loader__', '__name__', '__package__', '__path__', '__spec__', '__version__', '_config', '_is_numpy_dev', '_libs', '_testing', '_typing', '_version', 'api', 'array', 'arrays', 'bdate_range', 'compat', 'concat', 'core', 'crosstab', 'cut', 'date_range', 'describe_option', 'errors', 'eval', 'factorize', 'get_dummies', 'get_option', 'infer_freq', 'interval_range', 'io', 'isna', 'isnull', 'json_normalize', 'lreshape', 'melt', 'merge', 'merge_asof', 'merge_ordered', 'notna', 'notnull', 'offsets', 'option_context', 'options', 'pandas', 'period_range', 'pivot', 'pivot_table', 'plotting', 'qcut', 'read_clipboard', 'read_csv', 'read_excel', 'read_feather', 'read_fwf', 'read_gbq', 'read_hdf', 'read_html', 'read_json', 'read_orc', 'read_parquet', 'read_pickle', 'read_sas', 'read_spss', 'read_sql', 'read_sql_query', 'read_sql_table', 'read_stata', 'read_table', 'read_xml', 'reset_option', 'set_eng_float_format', 'set_option', 'show_versions', 'test', 'testing', 'timedelta_range', 'to_datetime', 'to_numeric', 'to_pickle', 'to_timedelta', 'tseries', 'unique', 'util', 'value_counts', 'wide_to_long']"
     ]
    }
   ],
   "source": [
    "import pandas as pd\n",
    "print(dir(pd),end=\"\")"
   ]
  },
  {
   "cell_type": "code",
   "execution_count": null,
   "id": "4078bac1-ac87-440b-bbe3-99d8267fdec1",
   "metadata": {},
   "outputs": [],
   "source": []
  },
  {
   "cell_type": "markdown",
   "id": "b629b78e-10b9-44d6-a915-16bb473d2804",
   "metadata": {},
   "source": [
    "### Building blocks of Pandas\n",
    "- The Series and DataFrame class  objects are the underlying data structures in Pandas. \n",
    "- In a nutshell, a Series is like a column (has only one dimension),\n",
    "- and a DataFrame (has two dimensions ) is like a table or a spreadsheet with rows and columns. \n",
    "- Each value stored in a Series or a DataFrame has a label or an index attached to it, which speeds up retrieval and access to data. "
   ]
  },
  {
   "cell_type": "markdown",
   "id": "d4124e23-6fc5-4127-87c8-4ca19237d831",
   "metadata": {},
   "source": [
    "### Creating a Series object\n",
    "- The Series is a one-dimensional object, with a set of values and their associated indexes."
   ]
  },
  {
   "cell_type": "markdown",
   "id": "39a82401-587c-425e-bf4f-d902499ccbcf",
   "metadata": {
    "tags": []
   },
   "source": [
    "### Using a scalar value\n"
   ]
  },
  {
   "cell_type": "code",
   "execution_count": 146,
   "id": "4c05e251-a874-43df-8145-bc9e77a69015",
   "metadata": {},
   "outputs": [
    {
     "name": "stdout",
     "output_type": "stream",
     "text": [
      "0    4\n",
      "dtype: int64\n",
      "<class 'pandas.core.series.Series'>\n"
     ]
    }
   ],
   "source": [
    "#creating a Series using a scalar value:\n",
    "import pandas as pd\n",
    "x=pd.Series(4)\n",
    "print(x)\n",
    "print(type(x))\n",
    "#Creating a simple series with just one value. Here, 0 is the index label, and 2 is the value the Series object contains."
   ]
  },
  {
   "cell_type": "code",
   "execution_count": 148,
   "id": "30101692-168c-4e37-ae00-3c9963f2a156",
   "metadata": {},
   "outputs": [
    {
     "name": "stdout",
     "output_type": "stream",
     "text": [
      "<class 'int'>\n"
     ]
    }
   ],
   "source": [
    "a=10\n",
    "print(type(a))"
   ]
  },
  {
   "cell_type": "code",
   "execution_count": 157,
   "id": "f3c0bd4f-72a9-4254-a365-64269e5b4419",
   "metadata": {},
   "outputs": [
    {
     "name": "stdout",
     "output_type": "stream",
     "text": [
      "0      2\n",
      "1      3\n",
      "2      1\n",
      "3      2\n",
      "4    566\n",
      "5     76\n",
      "dtype: int64\n",
      "<class 'pandas.core.series.Series'>\n"
     ]
    }
   ],
   "source": [
    "# Using a list\n",
    "ls=pd.Series([2,3,1,2,566,76])\n",
    "#Creating a series by enclosing a single value (2) in a list and replicating it 5 times. 0,1,2,3,4 are the\n",
    "#autogenerated index labels.\n",
    "print(ls)\n",
    "print(type(ls))"
   ]
  },
  {
   "cell_type": "code",
   "execution_count": 152,
   "id": "d47e7bbf-e49a-4fe9-9614-def78c33fd38",
   "metadata": {},
   "outputs": [
    {
     "data": {
      "text/plain": [
       "a    h\n",
       "b    e\n",
       "c    l\n",
       "d    l\n",
       "e    o\n",
       "dtype: object"
      ]
     },
     "execution_count": 152,
     "metadata": {},
     "output_type": "execute_result"
    }
   ],
   "source": [
    "#Using characters in a string\n",
    "pd.Series(list('hello'),index =[\"a\",\"b\",\"c\",\"d\",\"e\"])\n",
    "#Creating a series by using each character in the string \"hello\" as a separate value in the Series."
   ]
  },
  {
   "cell_type": "code",
   "execution_count": 166,
   "id": "871d6af4-1120-4f9f-898c-6e5ac59a7e22",
   "metadata": {},
   "outputs": [
    {
     "data": {
      "text/plain": [
       "1        India\n",
       "2        Japan\n",
       "3    Singapore\n",
       "dtype: object"
      ]
     },
     "execution_count": 166,
     "metadata": {},
     "output_type": "execute_result"
    }
   ],
   "source": [
    "#Using a dictionary\n",
    "pd.Series({1:'India',2:'Japan',3:'Singapore'})\n",
    "#The key/value pairs correspond to the index labels and values in the Series object."
   ]
  },
  {
   "cell_type": "code",
   "execution_count": 167,
   "id": "bef13650-9dcb-41f6-85f3-b3354e4c70f3",
   "metadata": {},
   "outputs": [
    {
     "data": {
      "text/plain": [
       "0    1\n",
       "1    2\n",
       "2    3\n",
       "3    4\n",
       "dtype: int32"
      ]
     },
     "execution_count": 167,
     "metadata": {},
     "output_type": "execute_result"
    }
   ],
   "source": [
    "#Using a range\n",
    "import numpy as np\n",
    "pd.Series(np.arange(1,5))\n",
    "#Using the NumPy asciiarrange function to create a series from a range of 4 numbers (1-4), ensure that the\n",
    "#NumPy library is also imported"
   ]
  },
  {
   "cell_type": "code",
   "execution_count": 177,
   "id": "0c92f1bf-2891-4201-b44b-e2136d5983e9",
   "metadata": {},
   "outputs": [
    {
     "data": {
      "text/plain": [
       "(10000, 3)"
      ]
     },
     "execution_count": 177,
     "metadata": {},
     "output_type": "execute_result"
    }
   ],
   "source": [
    "import numpy as np\n",
    "data=np.genfromtxt(\"climate.txt\",delimiter=',',skip_header=1)\n",
    "data.shape"
   ]
  },
  {
   "cell_type": "code",
   "execution_count": 170,
   "id": "0f8f9412-0405-4c9a-8a31-6578ffcced90",
   "metadata": {},
   "outputs": [
    {
     "data": {
      "text/plain": [
       "array([25., 39., 59., ..., 99., 70., 92.])"
      ]
     },
     "execution_count": 170,
     "metadata": {},
     "output_type": "execute_result"
    }
   ],
   "source": [
    "data[:,0]"
   ]
  },
  {
   "cell_type": "code",
   "execution_count": 1,
   "id": "a48f8969-33a3-4c93-9564-2bd2917f2f25",
   "metadata": {},
   "outputs": [
    {
     "ename": "NameError",
     "evalue": "name 'pd' is not defined",
     "output_type": "error",
     "traceback": [
      "\u001b[1;31m---------------------------------------------------------------------------\u001b[0m",
      "\u001b[1;31mNameError\u001b[0m                                 Traceback (most recent call last)",
      "Input \u001b[1;32mIn [1]\u001b[0m, in \u001b[0;36m<module>\u001b[1;34m\u001b[0m\n\u001b[0;32m      1\u001b[0m \u001b[38;5;28;01mimport\u001b[39;00m \u001b[38;5;21;01mnumpy\u001b[39;00m \u001b[38;5;28;01mas\u001b[39;00m \u001b[38;5;21;01mnp\u001b[39;00m\n\u001b[1;32m----> 2\u001b[0m temp_data\u001b[38;5;241m=\u001b[39m\u001b[43mpd\u001b[49m\u001b[38;5;241m.\u001b[39mSeries(data)\n\u001b[0;32m      3\u001b[0m \u001b[38;5;28mtype\u001b[39m(temp_data)\n",
      "\u001b[1;31mNameError\u001b[0m: name 'pd' is not defined"
     ]
    }
   ],
   "source": [
    "import numpy as np\n",
    "temp_data=pd.Series(data)\n",
    "type(temp_data)"
   ]
  },
  {
   "cell_type": "code",
   "execution_count": 174,
   "id": "6c020257-715e-40d1-a09d-ec4073d8e536",
   "metadata": {},
   "outputs": [
    {
     "data": {
      "text/plain": [
       "0    0.664566\n",
       "1   -0.196134\n",
       "2    1.451272\n",
       "3   -1.753180\n",
       "4    1.983111\n",
       "dtype: float64"
      ]
     },
     "execution_count": 174,
     "metadata": {},
     "output_type": "execute_result"
    }
   ],
   "source": [
    "#Using random numbers\n",
    "pd.Series(np.random.normal(size=5))\n",
    "#Creating a set of 4 random numbers using the np.random.normal function"
   ]
  },
  {
   "cell_type": "code",
   "execution_count": null,
   "id": "df4942ac-00c5-459e-857e-91f123716267",
   "metadata": {},
   "outputs": [],
   "source": []
  },
  {
   "cell_type": "code",
   "execution_count": 175,
   "id": "251620ab-3ca6-41c6-9a49-8c340b04b7aa",
   "metadata": {},
   "outputs": [
    {
     "data": {
      "text/plain": [
       "a    2\n",
       "b    0\n",
       "c    1\n",
       "d    6\n",
       "dtype: int64"
      ]
     },
     "execution_count": 175,
     "metadata": {},
     "output_type": "execute_result"
    }
   ],
   "source": [
    "#Creating a series with customized index labels\n",
    "pd.Series([2,0,1,6],index=['a','b','c','d'])\n",
    "#The list [2,0,1,6] specifies the values in the series, and the list for the index['a','b','c','d'] specifies the index labels"
   ]
  },
  {
   "cell_type": "markdown",
   "id": "dc09c29a-3f48-4f26-9b0e-a0371af93449",
   "metadata": {},
   "source": [
    "create a Series object from a single (scalar) value, list, dictionary, a set of random numbers, or a range of numbers. The pd.Series function creates a Series\n",
    "object (note that the letter “S” in “Series” is in uppercase; pd.series will not work). Use the index parameter if you want to customize the index."
   ]
  },
  {
   "cell_type": "markdown",
   "id": "3e79924b-e161-4559-a10a-4f80e6001b4a",
   "metadata": {},
   "source": [
    "### Examining the properties of a Series\n",
    "- a Series object like the number of elements, its values, and unique elements."
   ]
  },
  {
   "cell_type": "markdown",
   "id": "36d48149-b65d-4c56-bef0-b8caed985c06",
   "metadata": {
    "tags": []
   },
   "source": [
    "### Finding out the number of elements in a Series\n",
    "- There are three ways of finding the number of elements a Series contains: \n",
    "     - using the size parameter, the len function, or the shape parameter\n"
   ]
  },
  {
   "cell_type": "code",
   "execution_count": 179,
   "id": "c78446a3-a01a-45c8-9b47-9ea60d72c1f4",
   "metadata": {},
   "outputs": [
    {
     "name": "stdout",
     "output_type": "stream",
     "text": [
      "0    1\n",
      "1    2\n",
      "2    3\n",
      "3    4\n",
      "4    5\n",
      "5    6\n",
      "6    7\n",
      "7    8\n",
      "8    9\n",
      "dtype: int32\n"
     ]
    },
    {
     "data": {
      "text/plain": [
       "9"
      ]
     },
     "execution_count": 179,
     "metadata": {},
     "output_type": "execute_result"
    }
   ],
   "source": [
    "#series definition\n",
    "x=pd.Series(np.arange(1,10))\n",
    "#using the size attribute\n",
    "print(x)\n",
    "x.size"
   ]
  },
  {
   "cell_type": "code",
   "execution_count": 64,
   "id": "8acf4371-fa46-430f-842f-acbc8e01c5f5",
   "metadata": {},
   "outputs": [
    {
     "data": {
      "text/plain": [
       "9"
      ]
     },
     "execution_count": 64,
     "metadata": {},
     "output_type": "execute_result"
    }
   ],
   "source": [
    "#builtin function \n",
    "len(x)"
   ]
  },
  {
   "cell_type": "code",
   "execution_count": 49,
   "id": "1d1c90bd-6fe8-40df-b89c-349a356de677",
   "metadata": {},
   "outputs": [
    {
     "data": {
      "text/plain": [
       "(9,)"
      ]
     },
     "execution_count": 49,
     "metadata": {},
     "output_type": "execute_result"
    }
   ],
   "source": [
    "#The shape attribute returns a tuple with the number of rows and columns\n",
    "x.shape"
   ]
  },
  {
   "cell_type": "markdown",
   "id": "89134c70-dd52-43bd-9029-60ec0c459e82",
   "metadata": {},
   "source": [
    "### Listing the values of the individual elements in a Series\n",
    "- The values attribute returns a NumPy array containing the values of each item in the Series."
   ]
  },
  {
   "cell_type": "code",
   "execution_count": 50,
   "id": "c777eea0-b918-46a8-bb21-0720199c3c1e",
   "metadata": {},
   "outputs": [
    {
     "data": {
      "text/plain": [
       "array([1, 2, 3, 4, 5, 6, 7, 8, 9])"
      ]
     },
     "execution_count": 50,
     "metadata": {},
     "output_type": "execute_result"
    }
   ],
   "source": [
    "x.values"
   ]
  },
  {
   "cell_type": "code",
   "execution_count": 184,
   "id": "f52a9d46-b4f5-4a28-8680-a482600d3495",
   "metadata": {},
   "outputs": [
    {
     "data": {
      "text/plain": [
       "RangeIndex(start=0, stop=9, step=1)"
      ]
     },
     "execution_count": 184,
     "metadata": {},
     "output_type": "execute_result"
    }
   ],
   "source": [
    "x.index"
   ]
  },
  {
   "cell_type": "code",
   "execution_count": 183,
   "id": "0e9168a6-e0db-4c18-a963-50c0f5584fb2",
   "metadata": {},
   "outputs": [
    {
     "data": {
      "text/plain": [
       "40.0    151\n",
       "37.0    148\n",
       "72.0    146\n",
       "35.0    145\n",
       "80.0    144\n",
       "       ... \n",
       "63.0    103\n",
       "83.0    101\n",
       "25.0    101\n",
       "47.0    100\n",
       "34.0     98\n",
       "Length: 81, dtype: int64"
      ]
     },
     "execution_count": 183,
     "metadata": {},
     "output_type": "execute_result"
    }
   ],
   "source": [
    "temp_data.value_counts()  # distinict element "
   ]
  },
  {
   "cell_type": "code",
   "execution_count": 72,
   "id": "5233bef6-0914-4665-9907-bbad74d50606",
   "metadata": {},
   "outputs": [],
   "source": [
    "ixs=pd.Series([2,0,1,6],index=['a','b','c','d'])"
   ]
  },
  {
   "cell_type": "code",
   "execution_count": 185,
   "id": "81e86673-8b18-4ce2-a415-c84121ffcc51",
   "metadata": {},
   "outputs": [
    {
     "data": {
      "text/plain": [
       "RangeIndex(start=0, stop=10000, step=1)"
      ]
     },
     "execution_count": 185,
     "metadata": {},
     "output_type": "execute_result"
    }
   ],
   "source": [
    "temp_data.index"
   ]
  },
  {
   "cell_type": "code",
   "execution_count": 186,
   "id": "396a1c0a-f3e6-4eda-9016-a868c13da36a",
   "metadata": {},
   "outputs": [
    {
     "data": {
      "text/plain": [
       "Index(['a', 'b', 'c', 'd'], dtype='object')"
      ]
     },
     "execution_count": 186,
     "metadata": {},
     "output_type": "execute_result"
    }
   ],
   "source": [
    "ixs.index"
   ]
  },
  {
   "cell_type": "markdown",
   "id": "a4099ab3-c4a7-490f-a5a3-e6e75300579f",
   "metadata": {},
   "source": [
    "### Accessing the index of a Series\n",
    "- The index of the Series can be accessed through the index attribute. \n",
    "- An index is an object with a data type and a set of values. \n",
    "- The default type for an index object is RangeIndex.\n"
   ]
  },
  {
   "cell_type": "code",
   "execution_count": 70,
   "id": "370392aa-98c9-43e8-bcdf-1248c018c4c1",
   "metadata": {},
   "outputs": [
    {
     "data": {
      "text/plain": [
       "RangeIndex(start=0, stop=9, step=1)"
      ]
     },
     "execution_count": 70,
     "metadata": {},
     "output_type": "execute_result"
    }
   ],
   "source": [
    "x.index"
   ]
  },
  {
   "cell_type": "code",
   "execution_count": 71,
   "id": "d60844b2-c04a-47a9-9785-1f988bf55729",
   "metadata": {},
   "outputs": [
    {
     "data": {
      "text/plain": [
       "RangeIndex(start=0, stop=10000, step=1)"
      ]
     },
     "execution_count": 71,
     "metadata": {},
     "output_type": "execute_result"
    }
   ],
   "source": [
    "temp_data.index"
   ]
  },
  {
   "cell_type": "markdown",
   "id": "20078cbe-c5b5-46c8-9b6d-3a692556da2d",
   "metadata": {},
   "source": [
    "### Obtaining the unique values in a Series and their count\n",
    "- The value_counts() method is an important method. \n",
    "- When used with a Series object, it displays the unique values contained in this object and the count of each of these unique values. It is a common practice to use this method with a categorical variable, to get an idea of the distinct values it contains.\n"
   ]
  },
  {
   "cell_type": "code",
   "execution_count": 74,
   "id": "5a6d625b-c5f4-458c-a516-8503755d80cd",
   "metadata": {},
   "outputs": [
    {
     "data": {
      "text/plain": [
       "a    2\n",
       "b    2\n",
       "c    1\n",
       "d    1\n",
       "dtype: int64"
      ]
     },
     "execution_count": 74,
     "metadata": {},
     "output_type": "execute_result"
    }
   ],
   "source": [
    "\n",
    "z=pd.Series(['a','b','a','c','d','b'])\n",
    "z.value_counts()"
   ]
  },
  {
   "cell_type": "markdown",
   "id": "6cef8f31-43ca-4c59-9f31-775e3b77474c",
   "metadata": {},
   "source": [
    "### Method chaining for a Series\n",
    "- We can apply multiple methods to a series and apply them successively. \n",
    "- This is called method chaining and can be applied for both Series and DataFrame objects.\n",
    "- Example:\n",
    "    - Suppose we want to find out the number of times the values “a” and “b” occur for the series “z” defined in the following. We can combine the value_counts method and the head method by chaining them."
   ]
  },
  {
   "cell_type": "code",
   "execution_count": 188,
   "id": "445d310b-d079-46a6-9a73-2794893617c4",
   "metadata": {},
   "outputs": [
    {
     "data": {
      "text/plain": [
       "a    2\n",
       "b    2\n",
       "dtype: int64"
      ]
     },
     "execution_count": 188,
     "metadata": {},
     "output_type": "execute_result"
    }
   ],
   "source": [
    "z=pd.Series(['a','b','a','c','d','b'])\n",
    "z.value_counts().head(2) # defaul is 5  , n=5  # int "
   ]
  },
  {
   "cell_type": "markdown",
   "id": "c23a56bd-afab-40b6-bb0b-cea9c9001c38",
   "metadata": {},
   "source": [
    "- If multiple methods need to be changed together and applied on a Series object, it is better to mention each method on a separate line, with each line ending with a backslash. \n",
    "- It would make the code more readable, as shown in the following.\n"
   ]
  },
  {
   "cell_type": "code",
   "execution_count": 192,
   "id": "899fa3bc-99d5-49f8-b572-0b3f130d1e70",
   "metadata": {},
   "outputs": [
    {
     "data": {
      "text/plain": [
       "array([2, 2, 1], dtype=int64)"
      ]
     },
     "execution_count": 192,
     "metadata": {},
     "output_type": "execute_result"
    }
   ],
   "source": [
    "z.value_counts()\\\n",
    ".head(3)\\\n",
    ".values"
   ]
  },
  {
   "cell_type": "code",
   "execution_count": 202,
   "id": "330f4b34-e285-493a-9775-a5b230d5466d",
   "metadata": {},
   "outputs": [],
   "source": [
    "x=pd.Series([10,20,30,4.4], index=np.arange(1,5), name=\"tens\", copy=False, fastpath=False)"
   ]
  },
  {
   "cell_type": "code",
   "execution_count": 90,
   "id": "eda6e630-a4bf-4ec7-a350-27955553d4d2",
   "metadata": {},
   "outputs": [
    {
     "data": {
      "text/plain": [
       "'tens'"
      ]
     },
     "execution_count": 90,
     "metadata": {},
     "output_type": "execute_result"
    }
   ],
   "source": [
    "x.name"
   ]
  },
  {
   "cell_type": "code",
   "execution_count": 203,
   "id": "0081d611-c995-42b4-a13b-4fd6f7bcb1c5",
   "metadata": {},
   "outputs": [
    {
     "data": {
      "text/plain": [
       "1    10.0\n",
       "2    20.0\n",
       "3    30.0\n",
       "4     4.4\n",
       "Name: tens, dtype: float64"
      ]
     },
     "execution_count": 203,
     "metadata": {},
     "output_type": "execute_result"
    }
   ],
   "source": [
    "x"
   ]
  },
  {
   "cell_type": "markdown",
   "id": "028cc02e-5d76-49b4-af97-a6cfd55a3ab3",
   "metadata": {},
   "source": [
    "If you want to learn more about the Series object and the methods used with Series objects, refer to the following link\n",
    "https://pandas.pydata.org/pandas-docs/stable/reference/api/pandas.Series.html"
   ]
  },
  {
   "cell_type": "markdown",
   "id": "3d7d830b-1120-4364-8c80-fee81878801c",
   "metadata": {},
   "source": [
    "## DataFrames\n",
    "- A DataFrame is an extension of a Series. \n",
    "- It is a two-dimensional data structure for storing data. \n",
    "- While the Series object contains two components - a set of values, and index labels attached to these values \n",
    "- the DataFrame object contains three components - thecolumn object, index object, and a NumPy array object that contains the values.\n",
    "- The index and columns are collectively called the axes. The index forms the axis “0” and the columns form the axis “1”"
   ]
  },
  {
   "cell_type": "markdown",
   "id": "fd918d9c-1247-4819-92a1-ebe744e5db4e",
   "metadata": {},
   "source": [
    "### Different Methods for Creating a DataFrame"
   ]
  },
  {
   "cell_type": "code",
   "execution_count": null,
   "id": "bc3dc07f-1b56-4bf3-a3d0-516c12ab25da",
   "metadata": {},
   "outputs": [],
   "source": [
    "class pandas.DataFrame(data=None, index=None, columns=None, dtype=None, copy=None)"
   ]
  },
  {
   "cell_type": "code",
   "execution_count": 213,
   "id": "2c6ecc01-01d8-4279-9f57-783a74efa96c",
   "metadata": {},
   "outputs": [
    {
     "data": {
      "text/html": [
       "<div>\n",
       "<style scoped>\n",
       "    .dataframe tbody tr th:only-of-type {\n",
       "        vertical-align: middle;\n",
       "    }\n",
       "\n",
       "    .dataframe tbody tr th {\n",
       "        vertical-align: top;\n",
       "    }\n",
       "\n",
       "    .dataframe thead th {\n",
       "        text-align: right;\n",
       "    }\n",
       "</style>\n",
       "<table border=\"1\" class=\"dataframe\">\n",
       "  <thead>\n",
       "    <tr style=\"text-align: right;\">\n",
       "      <th></th>\n",
       "      <th>class 1</th>\n",
       "      <th>class 2</th>\n",
       "      <th>class 3</th>\n",
       "    </tr>\n",
       "  </thead>\n",
       "  <tbody>\n",
       "    <tr>\n",
       "      <th>0</th>\n",
       "      <td>22</td>\n",
       "      <td>24</td>\n",
       "      <td>20</td>\n",
       "    </tr>\n",
       "    <tr>\n",
       "      <th>1</th>\n",
       "      <td>40</td>\n",
       "      <td>50</td>\n",
       "      <td>45</td>\n",
       "    </tr>\n",
       "  </tbody>\n",
       "</table>\n",
       "</div>"
      ],
      "text/plain": [
       "   class 1  class 2  class 3\n",
       "0       22       24       20\n",
       "1       40       50       45"
      ]
     },
     "execution_count": 213,
     "metadata": {},
     "output_type": "execute_result"
    }
   ],
   "source": [
    "#By combining Series objects\n",
    "student_ages=pd.Series([22,24,20]) #series 1\n",
    "teacher_ages=pd.Series([40,50,45])#series 2\n",
    "combined_ages=pd.DataFrame((student_ages,teacher_ages)) #DataFrame\n",
    "combined_ages.columns=['class 1','class 2','class 3']#naming columns\n",
    "combined_ages"
   ]
  },
  {
   "cell_type": "code",
   "execution_count": 215,
   "id": "2731ecb8-f83e-4805-a968-46b70c6c9136",
   "metadata": {},
   "outputs": [
    {
     "data": {
      "text/plain": [
       "pandas.core.frame.DataFrame"
      ]
     },
     "execution_count": 215,
     "metadata": {},
     "output_type": "execute_result"
    }
   ],
   "source": [
    "#From a dictionary CODE:\n",
    "combined_ages=pd.DataFrame({'class 1':[22,40,40],'class2':[24,50,45],'class 3':[20,45,56]})\n",
    "type(combined_ages)"
   ]
  },
  {
   "cell_type": "code",
   "execution_count": 217,
   "id": "a2b7fb01-5a25-436c-8a8b-41941823d8bc",
   "metadata": {},
   "outputs": [
    {
     "data": {
      "text/html": [
       "<div>\n",
       "<style scoped>\n",
       "    .dataframe tbody tr th:only-of-type {\n",
       "        vertical-align: middle;\n",
       "    }\n",
       "\n",
       "    .dataframe tbody tr th {\n",
       "        vertical-align: top;\n",
       "    }\n",
       "\n",
       "    .dataframe thead th {\n",
       "        text-align: right;\n",
       "    }\n",
       "</style>\n",
       "<table border=\"1\" class=\"dataframe\">\n",
       "  <thead>\n",
       "    <tr style=\"text-align: right;\">\n",
       "      <th></th>\n",
       "      <th>a</th>\n",
       "      <th>b</th>\n",
       "      <th>c</th>\n",
       "      <th>d</th>\n",
       "    </tr>\n",
       "  </thead>\n",
       "  <tbody>\n",
       "    <tr>\n",
       "      <th>0</th>\n",
       "      <td>1</td>\n",
       "      <td>2</td>\n",
       "      <td>3</td>\n",
       "      <td>4</td>\n",
       "    </tr>\n",
       "    <tr>\n",
       "      <th>1</th>\n",
       "      <td>5</td>\n",
       "      <td>6</td>\n",
       "      <td>7</td>\n",
       "      <td>8</td>\n",
       "    </tr>\n",
       "  </tbody>\n",
       "</table>\n",
       "</div>"
      ],
      "text/plain": [
       "   a  b  c  d\n",
       "0  1  2  3  4\n",
       "1  5  6  7  8"
      ]
     },
     "execution_count": 217,
     "metadata": {},
     "output_type": "execute_result"
    }
   ],
   "source": [
    "#From a numpy array CODE:\n",
    "numerical_df=pd.DataFrame(np.arange(1,9).reshape(2,4),columns=[\"a\",\"b\",\"c\",\"d\"])\n",
    "#numerical_df.columns=[\"a\",\"b\",\"c\",\"d\"]\n",
    "numerical_df"
   ]
  },
  {
   "cell_type": "code",
   "execution_count": 221,
   "id": "35ddf4bb-078a-4278-9fc6-4142263c4162",
   "metadata": {},
   "outputs": [],
   "source": [
    "df=pd.DataFrame(data,columns=[\"temp\",\"rainfall\",\"hum\"])"
   ]
  },
  {
   "cell_type": "code",
   "execution_count": 228,
   "id": "317329dd-e3c0-4157-bfe2-6e4147318bd5",
   "metadata": {},
   "outputs": [
    {
     "data": {
      "text/html": [
       "<div>\n",
       "<style scoped>\n",
       "    .dataframe tbody tr th:only-of-type {\n",
       "        vertical-align: middle;\n",
       "    }\n",
       "\n",
       "    .dataframe tbody tr th {\n",
       "        vertical-align: top;\n",
       "    }\n",
       "\n",
       "    .dataframe thead th {\n",
       "        text-align: right;\n",
       "    }\n",
       "</style>\n",
       "<table border=\"1\" class=\"dataframe\">\n",
       "  <thead>\n",
       "    <tr style=\"text-align: right;\">\n",
       "      <th></th>\n",
       "      <th>temp</th>\n",
       "      <th>hum</th>\n",
       "    </tr>\n",
       "  </thead>\n",
       "  <tbody>\n",
       "    <tr>\n",
       "      <th>0</th>\n",
       "      <td>25.0</td>\n",
       "      <td>99.0</td>\n",
       "    </tr>\n",
       "    <tr>\n",
       "      <th>1</th>\n",
       "      <td>39.0</td>\n",
       "      <td>70.0</td>\n",
       "    </tr>\n",
       "    <tr>\n",
       "      <th>2</th>\n",
       "      <td>59.0</td>\n",
       "      <td>77.0</td>\n",
       "    </tr>\n",
       "    <tr>\n",
       "      <th>3</th>\n",
       "      <td>84.0</td>\n",
       "      <td>38.0</td>\n",
       "    </tr>\n",
       "    <tr>\n",
       "      <th>4</th>\n",
       "      <td>66.0</td>\n",
       "      <td>52.0</td>\n",
       "    </tr>\n",
       "    <tr>\n",
       "      <th>...</th>\n",
       "      <td>...</td>\n",
       "      <td>...</td>\n",
       "    </tr>\n",
       "    <tr>\n",
       "      <th>9995</th>\n",
       "      <td>80.0</td>\n",
       "      <td>98.0</td>\n",
       "    </tr>\n",
       "    <tr>\n",
       "      <th>9996</th>\n",
       "      <td>27.0</td>\n",
       "      <td>60.0</td>\n",
       "    </tr>\n",
       "    <tr>\n",
       "      <th>9997</th>\n",
       "      <td>99.0</td>\n",
       "      <td>58.0</td>\n",
       "    </tr>\n",
       "    <tr>\n",
       "      <th>9998</th>\n",
       "      <td>70.0</td>\n",
       "      <td>91.0</td>\n",
       "    </tr>\n",
       "    <tr>\n",
       "      <th>9999</th>\n",
       "      <td>92.0</td>\n",
       "      <td>76.0</td>\n",
       "    </tr>\n",
       "  </tbody>\n",
       "</table>\n",
       "<p>10000 rows × 2 columns</p>\n",
       "</div>"
      ],
      "text/plain": [
       "      temp   hum\n",
       "0     25.0  99.0\n",
       "1     39.0  70.0\n",
       "2     59.0  77.0\n",
       "3     84.0  38.0\n",
       "4     66.0  52.0\n",
       "...    ...   ...\n",
       "9995  80.0  98.0\n",
       "9996  27.0  60.0\n",
       "9997  99.0  58.0\n",
       "9998  70.0  91.0\n",
       "9999  92.0  76.0\n",
       "\n",
       "[10000 rows x 2 columns]"
      ]
     },
     "execution_count": 228,
     "metadata": {},
     "output_type": "execute_result"
    }
   ],
   "source": [
    "df[['temp','hum']]"
   ]
  },
  {
   "cell_type": "code",
   "execution_count": 229,
   "id": "0b1d19b4-4210-4cf7-a8a5-98df55327ad7",
   "metadata": {},
   "outputs": [
    {
     "data": {
      "text/html": [
       "<div>\n",
       "<style scoped>\n",
       "    .dataframe tbody tr th:only-of-type {\n",
       "        vertical-align: middle;\n",
       "    }\n",
       "\n",
       "    .dataframe tbody tr th {\n",
       "        vertical-align: top;\n",
       "    }\n",
       "\n",
       "    .dataframe thead th {\n",
       "        text-align: right;\n",
       "    }\n",
       "</style>\n",
       "<table border=\"1\" class=\"dataframe\">\n",
       "  <thead>\n",
       "    <tr style=\"text-align: right;\">\n",
       "      <th></th>\n",
       "      <th>class 1</th>\n",
       "      <th>class 2</th>\n",
       "      <th>class 3</th>\n",
       "    </tr>\n",
       "  </thead>\n",
       "  <tbody>\n",
       "    <tr>\n",
       "      <th>0</th>\n",
       "      <td>22</td>\n",
       "      <td>24</td>\n",
       "      <td>20</td>\n",
       "    </tr>\n",
       "    <tr>\n",
       "      <th>1</th>\n",
       "      <td>40</td>\n",
       "      <td>50</td>\n",
       "      <td>45</td>\n",
       "    </tr>\n",
       "  </tbody>\n",
       "</table>\n",
       "</div>"
      ],
      "text/plain": [
       "   class 1  class 2  class 3\n",
       "0       22       24       20\n",
       "1       40       50       45"
      ]
     },
     "execution_count": 229,
     "metadata": {},
     "output_type": "execute_result"
    }
   ],
   "source": [
    "#Using a set of tuples CODE:\n",
    "combined_ages=pd.DataFrame([(22,24,20),(40,50,45)],columns=['class 1','class 2','class 3'])\n",
    "combined_ages"
   ]
  },
  {
   "cell_type": "markdown",
   "id": "e10d1b71-6282-4b1a-9ea2-da2fa13b6e26",
   "metadata": {},
   "source": [
    "We have re-created the “combined_ages” DataFrame using a set of tuples. Each tuple is equivalent to a row in a DataFrame."
   ]
  },
  {
   "cell_type": "markdown",
   "id": "ff1db3a8-c538-4b1f-af4d-f7a67bd5518b",
   "metadata": {},
   "source": [
    "create a DataFrame using a dictionary, a set of tuples, and by combining Series objects. Each of these methods uses the pd.DataFrame function. Note that the characters “D” and “F” in this method are in uppercase; pd.dataframe does not work."
   ]
  },
  {
   "cell_type": "markdown",
   "id": "856bc993-62ae-4c60-b7fb-f5b097322bee",
   "metadata": {},
   "source": [
    "### Creating DataFrames by importing data from other formats"
   ]
  },
  {
   "cell_type": "markdown",
   "id": "86b58c9f-05f7-4827-9fb7-ec61bde4828b",
   "metadata": {},
   "source": [
    "- Pandas can read data from a wide variety of formats using its reader functions (refer to the complete list of supported formats here: https://pandas.pydata.org/pandas-docs/stable/user_guide/io.html). The following are some of the commonly used formats."
   ]
  },
  {
   "cell_type": "markdown",
   "id": "6704607e-1fcc-4504-899f-0b623d8e65e4",
   "metadata": {},
   "source": [
    "### From a CSV file:\n",
    "- The read_csv function can be used to read data from a CSV file into a DataFrame, as shown in the following"
   ]
  },
  {
   "cell_type": "code",
   "execution_count": 235,
   "id": "f30a8f7e-814a-4492-810c-7d748424ac59",
   "metadata": {},
   "outputs": [],
   "source": [
    "import pandas as pd\n",
    "olympics_data=pd.read_csv(\"https://raw.githubusercontent.com/svkarthik86/Advance-Python-Numpy/123da03bbfbb71ba3264bf8133c86ef632435022/olympics.csv\",skiprows=4)"
   ]
  },
  {
   "cell_type": "code",
   "execution_count": 236,
   "id": "0b8ea21d-f2b4-4970-99e2-3ddd704b6831",
   "metadata": {},
   "outputs": [
    {
     "data": {
      "text/html": [
       "<div>\n",
       "<style scoped>\n",
       "    .dataframe tbody tr th:only-of-type {\n",
       "        vertical-align: middle;\n",
       "    }\n",
       "\n",
       "    .dataframe tbody tr th {\n",
       "        vertical-align: top;\n",
       "    }\n",
       "\n",
       "    .dataframe thead th {\n",
       "        text-align: right;\n",
       "    }\n",
       "</style>\n",
       "<table border=\"1\" class=\"dataframe\">\n",
       "  <thead>\n",
       "    <tr style=\"text-align: right;\">\n",
       "      <th></th>\n",
       "      <th>City</th>\n",
       "      <th>Edition</th>\n",
       "      <th>Sport</th>\n",
       "      <th>Discipline</th>\n",
       "      <th>Athlete</th>\n",
       "      <th>NOC</th>\n",
       "      <th>Gender</th>\n",
       "      <th>Event</th>\n",
       "      <th>Event_gender</th>\n",
       "      <th>Medal</th>\n",
       "    </tr>\n",
       "  </thead>\n",
       "  <tbody>\n",
       "    <tr>\n",
       "      <th>0</th>\n",
       "      <td>Athens</td>\n",
       "      <td>1896</td>\n",
       "      <td>Aquatics</td>\n",
       "      <td>Swimming</td>\n",
       "      <td>HAJOS, Alfred</td>\n",
       "      <td>HUN</td>\n",
       "      <td>Men</td>\n",
       "      <td>100m freestyle</td>\n",
       "      <td>M</td>\n",
       "      <td>Gold</td>\n",
       "    </tr>\n",
       "    <tr>\n",
       "      <th>1</th>\n",
       "      <td>Athens</td>\n",
       "      <td>1896</td>\n",
       "      <td>Aquatics</td>\n",
       "      <td>Swimming</td>\n",
       "      <td>HERSCHMANN, Otto</td>\n",
       "      <td>AUT</td>\n",
       "      <td>Men</td>\n",
       "      <td>100m freestyle</td>\n",
       "      <td>M</td>\n",
       "      <td>Silver</td>\n",
       "    </tr>\n",
       "    <tr>\n",
       "      <th>2</th>\n",
       "      <td>Athens</td>\n",
       "      <td>1896</td>\n",
       "      <td>Aquatics</td>\n",
       "      <td>Swimming</td>\n",
       "      <td>DRIVAS, Dimitrios</td>\n",
       "      <td>GRE</td>\n",
       "      <td>Men</td>\n",
       "      <td>100m freestyle for sailors</td>\n",
       "      <td>M</td>\n",
       "      <td>Bronze</td>\n",
       "    </tr>\n",
       "    <tr>\n",
       "      <th>3</th>\n",
       "      <td>Athens</td>\n",
       "      <td>1896</td>\n",
       "      <td>Aquatics</td>\n",
       "      <td>Swimming</td>\n",
       "      <td>MALOKINIS, Ioannis</td>\n",
       "      <td>GRE</td>\n",
       "      <td>Men</td>\n",
       "      <td>100m freestyle for sailors</td>\n",
       "      <td>M</td>\n",
       "      <td>Gold</td>\n",
       "    </tr>\n",
       "    <tr>\n",
       "      <th>4</th>\n",
       "      <td>Athens</td>\n",
       "      <td>1896</td>\n",
       "      <td>Aquatics</td>\n",
       "      <td>Swimming</td>\n",
       "      <td>CHASAPIS, Spiridon</td>\n",
       "      <td>GRE</td>\n",
       "      <td>Men</td>\n",
       "      <td>100m freestyle for sailors</td>\n",
       "      <td>M</td>\n",
       "      <td>Silver</td>\n",
       "    </tr>\n",
       "    <tr>\n",
       "      <th>...</th>\n",
       "      <td>...</td>\n",
       "      <td>...</td>\n",
       "      <td>...</td>\n",
       "      <td>...</td>\n",
       "      <td>...</td>\n",
       "      <td>...</td>\n",
       "      <td>...</td>\n",
       "      <td>...</td>\n",
       "      <td>...</td>\n",
       "      <td>...</td>\n",
       "    </tr>\n",
       "    <tr>\n",
       "      <th>29211</th>\n",
       "      <td>Beijing</td>\n",
       "      <td>2008</td>\n",
       "      <td>Wrestling</td>\n",
       "      <td>Wrestling Gre-R</td>\n",
       "      <td>ENGLICH, Mirko</td>\n",
       "      <td>GER</td>\n",
       "      <td>Men</td>\n",
       "      <td>84 - 96kg</td>\n",
       "      <td>M</td>\n",
       "      <td>Silver</td>\n",
       "    </tr>\n",
       "    <tr>\n",
       "      <th>29212</th>\n",
       "      <td>Beijing</td>\n",
       "      <td>2008</td>\n",
       "      <td>Wrestling</td>\n",
       "      <td>Wrestling Gre-R</td>\n",
       "      <td>MIZGAITIS, Mindaugas</td>\n",
       "      <td>LTU</td>\n",
       "      <td>Men</td>\n",
       "      <td>96 - 120kg</td>\n",
       "      <td>M</td>\n",
       "      <td>Bronze</td>\n",
       "    </tr>\n",
       "    <tr>\n",
       "      <th>29213</th>\n",
       "      <td>Beijing</td>\n",
       "      <td>2008</td>\n",
       "      <td>Wrestling</td>\n",
       "      <td>Wrestling Gre-R</td>\n",
       "      <td>PATRIKEEV, Yuri</td>\n",
       "      <td>ARM</td>\n",
       "      <td>Men</td>\n",
       "      <td>96 - 120kg</td>\n",
       "      <td>M</td>\n",
       "      <td>Bronze</td>\n",
       "    </tr>\n",
       "    <tr>\n",
       "      <th>29214</th>\n",
       "      <td>Beijing</td>\n",
       "      <td>2008</td>\n",
       "      <td>Wrestling</td>\n",
       "      <td>Wrestling Gre-R</td>\n",
       "      <td>LOPEZ, Mijain</td>\n",
       "      <td>CUB</td>\n",
       "      <td>Men</td>\n",
       "      <td>96 - 120kg</td>\n",
       "      <td>M</td>\n",
       "      <td>Gold</td>\n",
       "    </tr>\n",
       "    <tr>\n",
       "      <th>29215</th>\n",
       "      <td>Beijing</td>\n",
       "      <td>2008</td>\n",
       "      <td>Wrestling</td>\n",
       "      <td>Wrestling Gre-R</td>\n",
       "      <td>BAROEV, Khasan</td>\n",
       "      <td>RUS</td>\n",
       "      <td>Men</td>\n",
       "      <td>96 - 120kg</td>\n",
       "      <td>M</td>\n",
       "      <td>Silver</td>\n",
       "    </tr>\n",
       "  </tbody>\n",
       "</table>\n",
       "<p>29216 rows × 10 columns</p>\n",
       "</div>"
      ],
      "text/plain": [
       "          City  Edition      Sport       Discipline               Athlete  \\\n",
       "0       Athens     1896   Aquatics         Swimming         HAJOS, Alfred   \n",
       "1       Athens     1896   Aquatics         Swimming      HERSCHMANN, Otto   \n",
       "2       Athens     1896   Aquatics         Swimming     DRIVAS, Dimitrios   \n",
       "3       Athens     1896   Aquatics         Swimming    MALOKINIS, Ioannis   \n",
       "4       Athens     1896   Aquatics         Swimming    CHASAPIS, Spiridon   \n",
       "...        ...      ...        ...              ...                   ...   \n",
       "29211  Beijing     2008  Wrestling  Wrestling Gre-R        ENGLICH, Mirko   \n",
       "29212  Beijing     2008  Wrestling  Wrestling Gre-R  MIZGAITIS, Mindaugas   \n",
       "29213  Beijing     2008  Wrestling  Wrestling Gre-R       PATRIKEEV, Yuri   \n",
       "29214  Beijing     2008  Wrestling  Wrestling Gre-R         LOPEZ, Mijain   \n",
       "29215  Beijing     2008  Wrestling  Wrestling Gre-R        BAROEV, Khasan   \n",
       "\n",
       "       NOC Gender                       Event Event_gender   Medal  \n",
       "0      HUN    Men              100m freestyle            M    Gold  \n",
       "1      AUT    Men              100m freestyle            M  Silver  \n",
       "2      GRE    Men  100m freestyle for sailors            M  Bronze  \n",
       "3      GRE    Men  100m freestyle for sailors            M    Gold  \n",
       "4      GRE    Men  100m freestyle for sailors            M  Silver  \n",
       "...    ...    ...                         ...          ...     ...  \n",
       "29211  GER    Men                   84 - 96kg            M  Silver  \n",
       "29212  LTU    Men                  96 - 120kg            M  Bronze  \n",
       "29213  ARM    Men                  96 - 120kg            M  Bronze  \n",
       "29214  CUB    Men                  96 - 120kg            M    Gold  \n",
       "29215  RUS    Men                  96 - 120kg            M  Silver  \n",
       "\n",
       "[29216 rows x 10 columns]"
      ]
     },
     "execution_count": 236,
     "metadata": {},
     "output_type": "execute_result"
    }
   ],
   "source": [
    "olympics_data"
   ]
  },
  {
   "cell_type": "code",
   "execution_count": 237,
   "id": "68f39df6-bc18-4d84-9a94-082c76fa2e4f",
   "metadata": {},
   "outputs": [
    {
     "data": {
      "text/plain": [
       "pandas.core.frame.DataFrame"
      ]
     },
     "execution_count": 237,
     "metadata": {},
     "output_type": "execute_result"
    }
   ],
   "source": [
    "type(olympics_data)"
   ]
  },
  {
   "cell_type": "code",
   "execution_count": 238,
   "id": "dde13086-e170-487e-8374-06d35ef170ad",
   "metadata": {},
   "outputs": [
    {
     "name": "stdout",
     "output_type": "stream",
     "text": [
      "<class 'pandas.core.frame.DataFrame'>\n",
      "RangeIndex: 29216 entries, 0 to 29215\n",
      "Data columns (total 10 columns):\n",
      " #   Column        Non-Null Count  Dtype \n",
      "---  ------        --------------  ----- \n",
      " 0   City          29216 non-null  object\n",
      " 1   Edition       29216 non-null  int64 \n",
      " 2   Sport         29216 non-null  object\n",
      " 3   Discipline    29216 non-null  object\n",
      " 4   Athlete       29216 non-null  object\n",
      " 5   NOC           29216 non-null  object\n",
      " 6   Gender        29216 non-null  object\n",
      " 7   Event         29216 non-null  object\n",
      " 8   Event_gender  29216 non-null  object\n",
      " 9   Medal         29216 non-null  object\n",
      "dtypes: int64(1), object(9)\n",
      "memory usage: 2.2+ MB\n"
     ]
    }
   ],
   "source": [
    "olympics_data.info()"
   ]
  },
  {
   "cell_type": "code",
   "execution_count": 242,
   "id": "748e626a-7108-44b5-b28b-f5e5dd17b074",
   "metadata": {},
   "outputs": [
    {
     "data": {
      "text/plain": [
       "array(['Athens', 'Athens', 'Athens', ..., 'Beijing', 'Beijing', 'Beijing'],\n",
       "      dtype=object)"
      ]
     },
     "execution_count": 242,
     "metadata": {},
     "output_type": "execute_result"
    }
   ],
   "source": [
    "olympics_data['City'].values"
   ]
  },
  {
   "cell_type": "code",
   "execution_count": 249,
   "id": "1c9005a4-9601-446f-8637-8360e09cc8e8",
   "metadata": {},
   "outputs": [
    {
     "data": {
      "text/plain": [
       "Men      21721\n",
       "Women     7495\n",
       "Name: Gender, dtype: int64"
      ]
     },
     "execution_count": 249,
     "metadata": {},
     "output_type": "execute_result"
    }
   ],
   "source": [
    "olympics_data['Gender'].value_counts()"
   ]
  },
  {
   "cell_type": "code",
   "execution_count": null,
   "id": "dd36bc9b-f555-440b-86d3-93f9888e5906",
   "metadata": {},
   "outputs": [],
   "source": []
  },
  {
   "cell_type": "code",
   "execution_count": 2,
   "id": "25936075-9219-4e11-ad27-78ecf73b188c",
   "metadata": {},
   "outputs": [
    {
     "data": {
      "text/html": [
       "<div>\n",
       "<style scoped>\n",
       "    .dataframe tbody tr th:only-of-type {\n",
       "        vertical-align: middle;\n",
       "    }\n",
       "\n",
       "    .dataframe tbody tr th {\n",
       "        vertical-align: top;\n",
       "    }\n",
       "\n",
       "    .dataframe thead th {\n",
       "        text-align: right;\n",
       "    }\n",
       "</style>\n",
       "<table border=\"1\" class=\"dataframe\">\n",
       "  <thead>\n",
       "    <tr style=\"text-align: right;\">\n",
       "      <th></th>\n",
       "      <th>country</th>\n",
       "      <th>continent</th>\n",
       "      <th>date</th>\n",
       "      <th>day</th>\n",
       "      <th>month</th>\n",
       "      <th>year</th>\n",
       "      <th>cases</th>\n",
       "      <th>deaths</th>\n",
       "      <th>country_code</th>\n",
       "      <th>population</th>\n",
       "    </tr>\n",
       "  </thead>\n",
       "  <tbody>\n",
       "    <tr>\n",
       "      <th>0</th>\n",
       "      <td>Afghanistan</td>\n",
       "      <td>Asia</td>\n",
       "      <td>2020-04-12</td>\n",
       "      <td>12</td>\n",
       "      <td>4</td>\n",
       "      <td>2020</td>\n",
       "      <td>34</td>\n",
       "      <td>3</td>\n",
       "      <td>AFG</td>\n",
       "      <td>37172386.0</td>\n",
       "    </tr>\n",
       "    <tr>\n",
       "      <th>1</th>\n",
       "      <td>Albania</td>\n",
       "      <td>Europe</td>\n",
       "      <td>2020-04-12</td>\n",
       "      <td>12</td>\n",
       "      <td>4</td>\n",
       "      <td>2020</td>\n",
       "      <td>17</td>\n",
       "      <td>0</td>\n",
       "      <td>ALB</td>\n",
       "      <td>2866376.0</td>\n",
       "    </tr>\n",
       "    <tr>\n",
       "      <th>2</th>\n",
       "      <td>Algeria</td>\n",
       "      <td>Africa</td>\n",
       "      <td>2020-04-12</td>\n",
       "      <td>12</td>\n",
       "      <td>4</td>\n",
       "      <td>2020</td>\n",
       "      <td>64</td>\n",
       "      <td>19</td>\n",
       "      <td>DZA</td>\n",
       "      <td>42228429.0</td>\n",
       "    </tr>\n",
       "    <tr>\n",
       "      <th>3</th>\n",
       "      <td>Andorra</td>\n",
       "      <td>Europe</td>\n",
       "      <td>2020-04-12</td>\n",
       "      <td>12</td>\n",
       "      <td>4</td>\n",
       "      <td>2020</td>\n",
       "      <td>21</td>\n",
       "      <td>2</td>\n",
       "      <td>AND</td>\n",
       "      <td>77006.0</td>\n",
       "    </tr>\n",
       "    <tr>\n",
       "      <th>4</th>\n",
       "      <td>Angola</td>\n",
       "      <td>Africa</td>\n",
       "      <td>2020-04-12</td>\n",
       "      <td>12</td>\n",
       "      <td>4</td>\n",
       "      <td>2020</td>\n",
       "      <td>0</td>\n",
       "      <td>0</td>\n",
       "      <td>AGO</td>\n",
       "      <td>30809762.0</td>\n",
       "    </tr>\n",
       "    <tr>\n",
       "      <th>...</th>\n",
       "      <td>...</td>\n",
       "      <td>...</td>\n",
       "      <td>...</td>\n",
       "      <td>...</td>\n",
       "      <td>...</td>\n",
       "      <td>...</td>\n",
       "      <td>...</td>\n",
       "      <td>...</td>\n",
       "      <td>...</td>\n",
       "      <td>...</td>\n",
       "    </tr>\n",
       "    <tr>\n",
       "      <th>201</th>\n",
       "      <td>Venezuela</td>\n",
       "      <td>America</td>\n",
       "      <td>2020-04-12</td>\n",
       "      <td>12</td>\n",
       "      <td>4</td>\n",
       "      <td>2020</td>\n",
       "      <td>0</td>\n",
       "      <td>0</td>\n",
       "      <td>VEN</td>\n",
       "      <td>28870195.0</td>\n",
       "    </tr>\n",
       "    <tr>\n",
       "      <th>202</th>\n",
       "      <td>Vietnam</td>\n",
       "      <td>Asia</td>\n",
       "      <td>2020-04-12</td>\n",
       "      <td>12</td>\n",
       "      <td>4</td>\n",
       "      <td>2020</td>\n",
       "      <td>4</td>\n",
       "      <td>0</td>\n",
       "      <td>VNM</td>\n",
       "      <td>95540395.0</td>\n",
       "    </tr>\n",
       "    <tr>\n",
       "      <th>203</th>\n",
       "      <td>Yemen</td>\n",
       "      <td>Asia</td>\n",
       "      <td>2020-04-12</td>\n",
       "      <td>12</td>\n",
       "      <td>4</td>\n",
       "      <td>2020</td>\n",
       "      <td>0</td>\n",
       "      <td>0</td>\n",
       "      <td>YEM</td>\n",
       "      <td>28498687.0</td>\n",
       "    </tr>\n",
       "    <tr>\n",
       "      <th>204</th>\n",
       "      <td>Zambia</td>\n",
       "      <td>Africa</td>\n",
       "      <td>2020-04-12</td>\n",
       "      <td>12</td>\n",
       "      <td>4</td>\n",
       "      <td>2020</td>\n",
       "      <td>0</td>\n",
       "      <td>0</td>\n",
       "      <td>ZMB</td>\n",
       "      <td>17351822.0</td>\n",
       "    </tr>\n",
       "    <tr>\n",
       "      <th>205</th>\n",
       "      <td>Zimbabwe</td>\n",
       "      <td>Africa</td>\n",
       "      <td>2020-04-12</td>\n",
       "      <td>12</td>\n",
       "      <td>4</td>\n",
       "      <td>2020</td>\n",
       "      <td>3</td>\n",
       "      <td>0</td>\n",
       "      <td>ZWE</td>\n",
       "      <td>14439018.0</td>\n",
       "    </tr>\n",
       "  </tbody>\n",
       "</table>\n",
       "<p>206 rows × 10 columns</p>\n",
       "</div>"
      ],
      "text/plain": [
       "         country continent        date  day  month  year  cases  deaths  \\\n",
       "0    Afghanistan      Asia  2020-04-12   12      4  2020     34       3   \n",
       "1        Albania    Europe  2020-04-12   12      4  2020     17       0   \n",
       "2        Algeria    Africa  2020-04-12   12      4  2020     64      19   \n",
       "3        Andorra    Europe  2020-04-12   12      4  2020     21       2   \n",
       "4         Angola    Africa  2020-04-12   12      4  2020      0       0   \n",
       "..           ...       ...         ...  ...    ...   ...    ...     ...   \n",
       "201    Venezuela   America  2020-04-12   12      4  2020      0       0   \n",
       "202      Vietnam      Asia  2020-04-12   12      4  2020      4       0   \n",
       "203        Yemen      Asia  2020-04-12   12      4  2020      0       0   \n",
       "204       Zambia    Africa  2020-04-12   12      4  2020      0       0   \n",
       "205     Zimbabwe    Africa  2020-04-12   12      4  2020      3       0   \n",
       "\n",
       "    country_code  population  \n",
       "0            AFG  37172386.0  \n",
       "1            ALB   2866376.0  \n",
       "2            DZA  42228429.0  \n",
       "3            AND     77006.0  \n",
       "4            AGO  30809762.0  \n",
       "..           ...         ...  \n",
       "201          VEN  28870195.0  \n",
       "202          VNM  95540395.0  \n",
       "203          YEM  28498687.0  \n",
       "204          ZMB  17351822.0  \n",
       "205          ZWE  14439018.0  \n",
       "\n",
       "[206 rows x 10 columns]"
      ]
     },
     "execution_count": 2,
     "metadata": {},
     "output_type": "execute_result"
    }
   ],
   "source": [
    "import pandas as pd\n",
    "src=r\"D:\\Edubridge\\Associate-Data Analytics\\Advancepython\\Data-files-master\\Data-files-master\\subset-covid-data.csv\"\n",
    "covid19_data=pd.read_csv(src)  # read data and converted to DataFrame object\n",
    "covid19_data  # DataFrame object"
   ]
  },
  {
   "cell_type": "code",
   "execution_count": null,
   "id": "ed56ed77-ae06-4404-9fac-3abcd8dd3489",
   "metadata": {},
   "outputs": [],
   "source": []
  },
  {
   "cell_type": "code",
   "execution_count": null,
   "id": "b3b6c278-450f-497b-9574-74fa872bfb9a",
   "metadata": {},
   "outputs": [],
   "source": []
  },
  {
   "cell_type": "code",
   "execution_count": 111,
   "id": "bcb986f5-879d-4d59-9d4d-4936f5ce29f7",
   "metadata": {},
   "outputs": [
    {
     "data": {
      "text/plain": [
       "pandas.core.frame.DataFrame"
      ]
     },
     "execution_count": 111,
     "metadata": {},
     "output_type": "execute_result"
    }
   ],
   "source": [
    "type(covid19_data)"
   ]
  },
  {
   "cell_type": "code",
   "execution_count": 114,
   "id": "cb5937e5-ba0e-46c6-8219-0bdd9d0c24f7",
   "metadata": {},
   "outputs": [
    {
     "data": {
      "text/plain": [
       "pandas.core.frame.DataFrame"
      ]
     },
     "execution_count": 114,
     "metadata": {},
     "output_type": "execute_result"
    }
   ],
   "source": [
    "type(covid19_data[['country_code','country']])"
   ]
  },
  {
   "cell_type": "code",
   "execution_count": 116,
   "id": "007bb588-befa-44ff-829f-f271ab19c08d",
   "metadata": {},
   "outputs": [
    {
     "data": {
      "text/html": [
       "<div>\n",
       "<style scoped>\n",
       "    .dataframe tbody tr th:only-of-type {\n",
       "        vertical-align: middle;\n",
       "    }\n",
       "\n",
       "    .dataframe tbody tr th {\n",
       "        vertical-align: top;\n",
       "    }\n",
       "\n",
       "    .dataframe thead th {\n",
       "        text-align: right;\n",
       "    }\n",
       "</style>\n",
       "<table border=\"1\" class=\"dataframe\">\n",
       "  <thead>\n",
       "    <tr style=\"text-align: right;\">\n",
       "      <th></th>\n",
       "      <th>country_code</th>\n",
       "      <th>country</th>\n",
       "    </tr>\n",
       "  </thead>\n",
       "  <tbody>\n",
       "    <tr>\n",
       "      <th>0</th>\n",
       "      <td>AFG</td>\n",
       "      <td>Afghanistan</td>\n",
       "    </tr>\n",
       "    <tr>\n",
       "      <th>1</th>\n",
       "      <td>ALB</td>\n",
       "      <td>Albania</td>\n",
       "    </tr>\n",
       "    <tr>\n",
       "      <th>2</th>\n",
       "      <td>DZA</td>\n",
       "      <td>Algeria</td>\n",
       "    </tr>\n",
       "    <tr>\n",
       "      <th>3</th>\n",
       "      <td>AND</td>\n",
       "      <td>Andorra</td>\n",
       "    </tr>\n",
       "    <tr>\n",
       "      <th>4</th>\n",
       "      <td>AGO</td>\n",
       "      <td>Angola</td>\n",
       "    </tr>\n",
       "    <tr>\n",
       "      <th>...</th>\n",
       "      <td>...</td>\n",
       "      <td>...</td>\n",
       "    </tr>\n",
       "    <tr>\n",
       "      <th>201</th>\n",
       "      <td>VEN</td>\n",
       "      <td>Venezuela</td>\n",
       "    </tr>\n",
       "    <tr>\n",
       "      <th>202</th>\n",
       "      <td>VNM</td>\n",
       "      <td>Vietnam</td>\n",
       "    </tr>\n",
       "    <tr>\n",
       "      <th>203</th>\n",
       "      <td>YEM</td>\n",
       "      <td>Yemen</td>\n",
       "    </tr>\n",
       "    <tr>\n",
       "      <th>204</th>\n",
       "      <td>ZMB</td>\n",
       "      <td>Zambia</td>\n",
       "    </tr>\n",
       "    <tr>\n",
       "      <th>205</th>\n",
       "      <td>ZWE</td>\n",
       "      <td>Zimbabwe</td>\n",
       "    </tr>\n",
       "  </tbody>\n",
       "</table>\n",
       "<p>206 rows × 2 columns</p>\n",
       "</div>"
      ],
      "text/plain": [
       "    country_code      country\n",
       "0            AFG  Afghanistan\n",
       "1            ALB      Albania\n",
       "2            DZA      Algeria\n",
       "3            AND      Andorra\n",
       "4            AGO       Angola\n",
       "..           ...          ...\n",
       "201          VEN    Venezuela\n",
       "202          VNM      Vietnam\n",
       "203          YEM        Yemen\n",
       "204          ZMB       Zambia\n",
       "205          ZWE     Zimbabwe\n",
       "\n",
       "[206 rows x 2 columns]"
      ]
     },
     "execution_count": 116,
     "metadata": {},
     "output_type": "execute_result"
    }
   ],
   "source": [
    "covid19_data[['country_code','country']]"
   ]
  },
  {
   "cell_type": "code",
   "execution_count": 125,
   "id": "2557a2af-6f79-4d1f-8bc2-7b57814e6641",
   "metadata": {},
   "outputs": [
    {
     "data": {
      "text/html": [
       "<div>\n",
       "<style scoped>\n",
       "    .dataframe tbody tr th:only-of-type {\n",
       "        vertical-align: middle;\n",
       "    }\n",
       "\n",
       "    .dataframe tbody tr th {\n",
       "        vertical-align: top;\n",
       "    }\n",
       "\n",
       "    .dataframe thead th {\n",
       "        text-align: right;\n",
       "    }\n",
       "</style>\n",
       "<table border=\"1\" class=\"dataframe\">\n",
       "  <thead>\n",
       "    <tr style=\"text-align: right;\">\n",
       "      <th></th>\n",
       "      <th>country</th>\n",
       "      <th>continent</th>\n",
       "      <th>date</th>\n",
       "      <th>day</th>\n",
       "      <th>month</th>\n",
       "      <th>year</th>\n",
       "      <th>cases</th>\n",
       "      <th>deaths</th>\n",
       "      <th>country_code</th>\n",
       "      <th>population</th>\n",
       "    </tr>\n",
       "  </thead>\n",
       "  <tbody>\n",
       "    <tr>\n",
       "      <th>0</th>\n",
       "      <td>Afghanistan</td>\n",
       "      <td>Asia</td>\n",
       "      <td>2020-04-12</td>\n",
       "      <td>12</td>\n",
       "      <td>4</td>\n",
       "      <td>2020</td>\n",
       "      <td>34</td>\n",
       "      <td>3</td>\n",
       "      <td>AFG</td>\n",
       "      <td>37172386.0</td>\n",
       "    </tr>\n",
       "    <tr>\n",
       "      <th>1</th>\n",
       "      <td>Albania</td>\n",
       "      <td>Europe</td>\n",
       "      <td>2020-04-12</td>\n",
       "      <td>12</td>\n",
       "      <td>4</td>\n",
       "      <td>2020</td>\n",
       "      <td>17</td>\n",
       "      <td>0</td>\n",
       "      <td>ALB</td>\n",
       "      <td>2866376.0</td>\n",
       "    </tr>\n",
       "    <tr>\n",
       "      <th>2</th>\n",
       "      <td>Algeria</td>\n",
       "      <td>Africa</td>\n",
       "      <td>2020-04-12</td>\n",
       "      <td>12</td>\n",
       "      <td>4</td>\n",
       "      <td>2020</td>\n",
       "      <td>64</td>\n",
       "      <td>19</td>\n",
       "      <td>DZA</td>\n",
       "      <td>42228429.0</td>\n",
       "    </tr>\n",
       "    <tr>\n",
       "      <th>3</th>\n",
       "      <td>Andorra</td>\n",
       "      <td>Europe</td>\n",
       "      <td>2020-04-12</td>\n",
       "      <td>12</td>\n",
       "      <td>4</td>\n",
       "      <td>2020</td>\n",
       "      <td>21</td>\n",
       "      <td>2</td>\n",
       "      <td>AND</td>\n",
       "      <td>77006.0</td>\n",
       "    </tr>\n",
       "    <tr>\n",
       "      <th>4</th>\n",
       "      <td>Angola</td>\n",
       "      <td>Africa</td>\n",
       "      <td>2020-04-12</td>\n",
       "      <td>12</td>\n",
       "      <td>4</td>\n",
       "      <td>2020</td>\n",
       "      <td>0</td>\n",
       "      <td>0</td>\n",
       "      <td>AGO</td>\n",
       "      <td>30809762.0</td>\n",
       "    </tr>\n",
       "    <tr>\n",
       "      <th>5</th>\n",
       "      <td>Anguilla</td>\n",
       "      <td>America</td>\n",
       "      <td>2020-04-12</td>\n",
       "      <td>12</td>\n",
       "      <td>4</td>\n",
       "      <td>2020</td>\n",
       "      <td>0</td>\n",
       "      <td>0</td>\n",
       "      <td>NaN</td>\n",
       "      <td>NaN</td>\n",
       "    </tr>\n",
       "  </tbody>\n",
       "</table>\n",
       "</div>"
      ],
      "text/plain": [
       "       country continent        date  day  month  year  cases  deaths  \\\n",
       "0  Afghanistan      Asia  2020-04-12   12      4  2020     34       3   \n",
       "1      Albania    Europe  2020-04-12   12      4  2020     17       0   \n",
       "2      Algeria    Africa  2020-04-12   12      4  2020     64      19   \n",
       "3      Andorra    Europe  2020-04-12   12      4  2020     21       2   \n",
       "4       Angola    Africa  2020-04-12   12      4  2020      0       0   \n",
       "5     Anguilla   America  2020-04-12   12      4  2020      0       0   \n",
       "\n",
       "  country_code  population  \n",
       "0          AFG  37172386.0  \n",
       "1          ALB   2866376.0  \n",
       "2          DZA  42228429.0  \n",
       "3          AND     77006.0  \n",
       "4          AGO  30809762.0  \n",
       "5          NaN         NaN  "
      ]
     },
     "execution_count": 125,
     "metadata": {},
     "output_type": "execute_result"
    }
   ],
   "source": [
    "covid19_data.loc[:5]"
   ]
  },
  {
   "cell_type": "markdown",
   "id": "ac28eb08-1381-4b26-9657-d6c5be5d1959",
   "metadata": {},
   "source": [
    "Reading data from CSV files is one of the most common ways to create a DataFrame. CSV files are comma-separated files for storing and retrieving values, where each line is equivalent to a row. \n",
    "Remember to upload the CSV file in Jupyter using the upload button on the Jupyter home page , before calling the “read_csv” function."
   ]
  },
  {
   "cell_type": "code",
   "execution_count": null,
   "id": "36efb142-07cc-4a94-b28a-bcc2f6fde0f2",
   "metadata": {},
   "outputs": [],
   "source": []
  },
  {
   "cell_type": "markdown",
   "id": "52f189f8-2ba4-4a54-92f4-4ea1bab9b092",
   "metadata": {},
   "source": [
    "### From an Excel file:\n",
    "- Pandas provides support for importing data from both xls and xlsx file formats using the pd.read_excel function.\n"
   ]
  },
  {
   "cell_type": "markdown",
   "id": "8cd64059-a6fd-47b3-942b-719204724254",
   "metadata": {},
   "source": [
    "import pandas as pd\n",
    " src=r\"D:\\Edubridge\\Associate-Data Analytics\\Advancepython\\Data-files-master\\Data-files-master\\COVID-19.xlsx\"\n",
    "Covid19_excel=pd.read_excel(src)"
   ]
  },
  {
   "cell_type": "code",
   "execution_count": 257,
   "id": "a74bc154-7d42-4b74-9c03-961aeef8a17b",
   "metadata": {},
   "outputs": [
    {
     "data": {
      "text/html": [
       "<div>\n",
       "<style scoped>\n",
       "    .dataframe tbody tr th:only-of-type {\n",
       "        vertical-align: middle;\n",
       "    }\n",
       "\n",
       "    .dataframe tbody tr th {\n",
       "        vertical-align: top;\n",
       "    }\n",
       "\n",
       "    .dataframe thead th {\n",
       "        text-align: right;\n",
       "    }\n",
       "</style>\n",
       "<table border=\"1\" class=\"dataframe\">\n",
       "  <thead>\n",
       "    <tr style=\"text-align: right;\">\n",
       "      <th></th>\n",
       "      <th>dateRep</th>\n",
       "      <th>day</th>\n",
       "      <th>month</th>\n",
       "      <th>year</th>\n",
       "      <th>cases</th>\n",
       "      <th>deaths</th>\n",
       "      <th>countriesAndTerritories</th>\n",
       "      <th>geoId</th>\n",
       "      <th>countryterritoryCode</th>\n",
       "      <th>popData2019</th>\n",
       "      <th>continentExp</th>\n",
       "    </tr>\n",
       "  </thead>\n",
       "  <tbody>\n",
       "    <tr>\n",
       "      <th>0</th>\n",
       "      <td>2020-06-29</td>\n",
       "      <td>29</td>\n",
       "      <td>6</td>\n",
       "      <td>2020</td>\n",
       "      <td>351</td>\n",
       "      <td>18</td>\n",
       "      <td>Afghanistan</td>\n",
       "      <td>AF</td>\n",
       "      <td>AFG</td>\n",
       "      <td>38041757.0</td>\n",
       "      <td>Asia</td>\n",
       "    </tr>\n",
       "    <tr>\n",
       "      <th>1</th>\n",
       "      <td>2020-06-28</td>\n",
       "      <td>28</td>\n",
       "      <td>6</td>\n",
       "      <td>2020</td>\n",
       "      <td>165</td>\n",
       "      <td>20</td>\n",
       "      <td>Afghanistan</td>\n",
       "      <td>AF</td>\n",
       "      <td>AFG</td>\n",
       "      <td>38041757.0</td>\n",
       "      <td>Asia</td>\n",
       "    </tr>\n",
       "    <tr>\n",
       "      <th>2</th>\n",
       "      <td>2020-06-27</td>\n",
       "      <td>27</td>\n",
       "      <td>6</td>\n",
       "      <td>2020</td>\n",
       "      <td>276</td>\n",
       "      <td>8</td>\n",
       "      <td>Afghanistan</td>\n",
       "      <td>AF</td>\n",
       "      <td>AFG</td>\n",
       "      <td>38041757.0</td>\n",
       "      <td>Asia</td>\n",
       "    </tr>\n",
       "    <tr>\n",
       "      <th>3</th>\n",
       "      <td>2020-06-26</td>\n",
       "      <td>26</td>\n",
       "      <td>6</td>\n",
       "      <td>2020</td>\n",
       "      <td>460</td>\n",
       "      <td>36</td>\n",
       "      <td>Afghanistan</td>\n",
       "      <td>AF</td>\n",
       "      <td>AFG</td>\n",
       "      <td>38041757.0</td>\n",
       "      <td>Asia</td>\n",
       "    </tr>\n",
       "    <tr>\n",
       "      <th>4</th>\n",
       "      <td>2020-06-25</td>\n",
       "      <td>25</td>\n",
       "      <td>6</td>\n",
       "      <td>2020</td>\n",
       "      <td>234</td>\n",
       "      <td>21</td>\n",
       "      <td>Afghanistan</td>\n",
       "      <td>AF</td>\n",
       "      <td>AFG</td>\n",
       "      <td>38041757.0</td>\n",
       "      <td>Asia</td>\n",
       "    </tr>\n",
       "    <tr>\n",
       "      <th>...</th>\n",
       "      <td>...</td>\n",
       "      <td>...</td>\n",
       "      <td>...</td>\n",
       "      <td>...</td>\n",
       "      <td>...</td>\n",
       "      <td>...</td>\n",
       "      <td>...</td>\n",
       "      <td>...</td>\n",
       "      <td>...</td>\n",
       "      <td>...</td>\n",
       "      <td>...</td>\n",
       "    </tr>\n",
       "    <tr>\n",
       "      <th>26557</th>\n",
       "      <td>2020-03-25</td>\n",
       "      <td>25</td>\n",
       "      <td>3</td>\n",
       "      <td>2020</td>\n",
       "      <td>0</td>\n",
       "      <td>0</td>\n",
       "      <td>Zimbabwe</td>\n",
       "      <td>ZW</td>\n",
       "      <td>ZWE</td>\n",
       "      <td>14645473.0</td>\n",
       "      <td>Africa</td>\n",
       "    </tr>\n",
       "    <tr>\n",
       "      <th>26558</th>\n",
       "      <td>2020-03-24</td>\n",
       "      <td>24</td>\n",
       "      <td>3</td>\n",
       "      <td>2020</td>\n",
       "      <td>0</td>\n",
       "      <td>1</td>\n",
       "      <td>Zimbabwe</td>\n",
       "      <td>ZW</td>\n",
       "      <td>ZWE</td>\n",
       "      <td>14645473.0</td>\n",
       "      <td>Africa</td>\n",
       "    </tr>\n",
       "    <tr>\n",
       "      <th>26559</th>\n",
       "      <td>2020-03-23</td>\n",
       "      <td>23</td>\n",
       "      <td>3</td>\n",
       "      <td>2020</td>\n",
       "      <td>0</td>\n",
       "      <td>0</td>\n",
       "      <td>Zimbabwe</td>\n",
       "      <td>ZW</td>\n",
       "      <td>ZWE</td>\n",
       "      <td>14645473.0</td>\n",
       "      <td>Africa</td>\n",
       "    </tr>\n",
       "    <tr>\n",
       "      <th>26560</th>\n",
       "      <td>2020-03-22</td>\n",
       "      <td>22</td>\n",
       "      <td>3</td>\n",
       "      <td>2020</td>\n",
       "      <td>1</td>\n",
       "      <td>0</td>\n",
       "      <td>Zimbabwe</td>\n",
       "      <td>ZW</td>\n",
       "      <td>ZWE</td>\n",
       "      <td>14645473.0</td>\n",
       "      <td>Africa</td>\n",
       "    </tr>\n",
       "    <tr>\n",
       "      <th>26561</th>\n",
       "      <td>2020-03-21</td>\n",
       "      <td>21</td>\n",
       "      <td>3</td>\n",
       "      <td>2020</td>\n",
       "      <td>1</td>\n",
       "      <td>0</td>\n",
       "      <td>Zimbabwe</td>\n",
       "      <td>ZW</td>\n",
       "      <td>ZWE</td>\n",
       "      <td>14645473.0</td>\n",
       "      <td>Africa</td>\n",
       "    </tr>\n",
       "  </tbody>\n",
       "</table>\n",
       "<p>26562 rows × 11 columns</p>\n",
       "</div>"
      ],
      "text/plain": [
       "         dateRep  day  month  year  cases  deaths countriesAndTerritories  \\\n",
       "0     2020-06-29   29      6  2020    351      18             Afghanistan   \n",
       "1     2020-06-28   28      6  2020    165      20             Afghanistan   \n",
       "2     2020-06-27   27      6  2020    276       8             Afghanistan   \n",
       "3     2020-06-26   26      6  2020    460      36             Afghanistan   \n",
       "4     2020-06-25   25      6  2020    234      21             Afghanistan   \n",
       "...          ...  ...    ...   ...    ...     ...                     ...   \n",
       "26557 2020-03-25   25      3  2020      0       0                Zimbabwe   \n",
       "26558 2020-03-24   24      3  2020      0       1                Zimbabwe   \n",
       "26559 2020-03-23   23      3  2020      0       0                Zimbabwe   \n",
       "26560 2020-03-22   22      3  2020      1       0                Zimbabwe   \n",
       "26561 2020-03-21   21      3  2020      1       0                Zimbabwe   \n",
       "\n",
       "      geoId countryterritoryCode  popData2019 continentExp  \n",
       "0        AF                  AFG   38041757.0         Asia  \n",
       "1        AF                  AFG   38041757.0         Asia  \n",
       "2        AF                  AFG   38041757.0         Asia  \n",
       "3        AF                  AFG   38041757.0         Asia  \n",
       "4        AF                  AFG   38041757.0         Asia  \n",
       "...     ...                  ...          ...          ...  \n",
       "26557    ZW                  ZWE   14645473.0       Africa  \n",
       "26558    ZW                  ZWE   14645473.0       Africa  \n",
       "26559    ZW                  ZWE   14645473.0       Africa  \n",
       "26560    ZW                  ZWE   14645473.0       Africa  \n",
       "26561    ZW                  ZWE   14645473.0       Africa  \n",
       "\n",
       "[26562 rows x 11 columns]"
      ]
     },
     "execution_count": 257,
     "metadata": {},
     "output_type": "execute_result"
    }
   ],
   "source": [
    "import pandas as pd \n",
    "src=r\"D:\\Edubridge\\Associate-Data Analytics\\Advancepython\\Data-files-master\\Data-files-master\\COVID-19.xlsx\"\n",
    "covid19_excel=pd.read_excel(src)\n",
    "covid19_excel"
   ]
  },
  {
   "cell_type": "code",
   "execution_count": 252,
   "id": "855ae216-67cb-44f9-8682-5b0dabfebc9b",
   "metadata": {},
   "outputs": [
    {
     "data": {
      "text/plain": [
       "pandas.core.frame.DataFrame"
      ]
     },
     "execution_count": 252,
     "metadata": {},
     "output_type": "execute_result"
    }
   ],
   "source": [
    "type(covid19_excel)"
   ]
  },
  {
   "cell_type": "markdown",
   "id": "081a2ba9-46ed-48dc-9e87-71ef3ff3959a",
   "metadata": {},
   "source": [
    "### From a JSON file:\n",
    "- JSON stands for JavaScript Object Notation and is a cross-platform file format for transmitting and exchanging data between the client and server. Pandas provides the function read_json to read data from a JSON file."
   ]
  },
  {
   "cell_type": "code",
   "execution_count": 259,
   "id": "d6b60323-771f-4f32-8175-08374c112ba9",
   "metadata": {},
   "outputs": [
    {
     "data": {
      "text/html": [
       "<div>\n",
       "<style scoped>\n",
       "    .dataframe tbody tr th:only-of-type {\n",
       "        vertical-align: middle;\n",
       "    }\n",
       "\n",
       "    .dataframe tbody tr th {\n",
       "        vertical-align: top;\n",
       "    }\n",
       "\n",
       "    .dataframe thead th {\n",
       "        text-align: right;\n",
       "    }\n",
       "</style>\n",
       "<table border=\"1\" class=\"dataframe\">\n",
       "  <thead>\n",
       "    <tr style=\"text-align: right;\">\n",
       "      <th></th>\n",
       "      <th>id</th>\n",
       "      <th>name</th>\n",
       "      <th>iso3</th>\n",
       "      <th>iso2</th>\n",
       "      <th>numeric_code</th>\n",
       "      <th>phone_code</th>\n",
       "      <th>capital</th>\n",
       "      <th>currency</th>\n",
       "      <th>currency_name</th>\n",
       "      <th>currency_symbol</th>\n",
       "      <th>tld</th>\n",
       "      <th>native</th>\n",
       "      <th>region</th>\n",
       "      <th>subregion</th>\n",
       "      <th>timezones</th>\n",
       "      <th>translations</th>\n",
       "      <th>latitude</th>\n",
       "      <th>longitude</th>\n",
       "      <th>emoji</th>\n",
       "      <th>emojiU</th>\n",
       "    </tr>\n",
       "  </thead>\n",
       "  <tbody>\n",
       "    <tr>\n",
       "      <th>0</th>\n",
       "      <td>1</td>\n",
       "      <td>Afghanistan</td>\n",
       "      <td>AFG</td>\n",
       "      <td>AF</td>\n",
       "      <td>4</td>\n",
       "      <td>93</td>\n",
       "      <td>Kabul</td>\n",
       "      <td>AFN</td>\n",
       "      <td>Afghan afghani</td>\n",
       "      <td>؋</td>\n",
       "      <td>.af</td>\n",
       "      <td>افغانستان</td>\n",
       "      <td>Asia</td>\n",
       "      <td>Southern Asia</td>\n",
       "      <td>[{'zoneName': 'Asia/Kabul', 'gmtOffset': 16200...</td>\n",
       "      <td>{'kr': '아프가니스탄', 'br': 'Afeganistão', 'pt': 'A...</td>\n",
       "      <td>33.000000</td>\n",
       "      <td>65.0</td>\n",
       "      <td>🇦🇫</td>\n",
       "      <td>U+1F1E6 U+1F1EB</td>\n",
       "    </tr>\n",
       "    <tr>\n",
       "      <th>1</th>\n",
       "      <td>2</td>\n",
       "      <td>Aland Islands</td>\n",
       "      <td>ALA</td>\n",
       "      <td>AX</td>\n",
       "      <td>248</td>\n",
       "      <td>+358-18</td>\n",
       "      <td>Mariehamn</td>\n",
       "      <td>EUR</td>\n",
       "      <td>Euro</td>\n",
       "      <td>€</td>\n",
       "      <td>.ax</td>\n",
       "      <td>Åland</td>\n",
       "      <td>Europe</td>\n",
       "      <td>Northern Europe</td>\n",
       "      <td>[{'zoneName': 'Europe/Mariehamn', 'gmtOffset':...</td>\n",
       "      <td>{'kr': '올란드 제도', 'br': 'Ilhas de Aland', 'pt':...</td>\n",
       "      <td>60.116667</td>\n",
       "      <td>19.9</td>\n",
       "      <td>🇦🇽</td>\n",
       "      <td>U+1F1E6 U+1F1FD</td>\n",
       "    </tr>\n",
       "    <tr>\n",
       "      <th>2</th>\n",
       "      <td>3</td>\n",
       "      <td>Albania</td>\n",
       "      <td>ALB</td>\n",
       "      <td>AL</td>\n",
       "      <td>8</td>\n",
       "      <td>355</td>\n",
       "      <td>Tirana</td>\n",
       "      <td>ALL</td>\n",
       "      <td>Albanian lek</td>\n",
       "      <td>Lek</td>\n",
       "      <td>.al</td>\n",
       "      <td>Shqipëria</td>\n",
       "      <td>Europe</td>\n",
       "      <td>Southern Europe</td>\n",
       "      <td>[{'zoneName': 'Europe/Tirane', 'gmtOffset': 36...</td>\n",
       "      <td>{'kr': '알바니아', 'br': 'Albânia', 'pt': 'Albânia...</td>\n",
       "      <td>41.000000</td>\n",
       "      <td>20.0</td>\n",
       "      <td>🇦🇱</td>\n",
       "      <td>U+1F1E6 U+1F1F1</td>\n",
       "    </tr>\n",
       "    <tr>\n",
       "      <th>3</th>\n",
       "      <td>4</td>\n",
       "      <td>Algeria</td>\n",
       "      <td>DZA</td>\n",
       "      <td>DZ</td>\n",
       "      <td>12</td>\n",
       "      <td>213</td>\n",
       "      <td>Algiers</td>\n",
       "      <td>DZD</td>\n",
       "      <td>Algerian dinar</td>\n",
       "      <td>دج</td>\n",
       "      <td>.dz</td>\n",
       "      <td>الجزائر</td>\n",
       "      <td>Africa</td>\n",
       "      <td>Northern Africa</td>\n",
       "      <td>[{'zoneName': 'Africa/Algiers', 'gmtOffset': 3...</td>\n",
       "      <td>{'kr': '알제리', 'br': 'Argélia', 'pt': 'Argélia'...</td>\n",
       "      <td>28.000000</td>\n",
       "      <td>3.0</td>\n",
       "      <td>🇩🇿</td>\n",
       "      <td>U+1F1E9 U+1F1FF</td>\n",
       "    </tr>\n",
       "    <tr>\n",
       "      <th>4</th>\n",
       "      <td>5</td>\n",
       "      <td>American Samoa</td>\n",
       "      <td>ASM</td>\n",
       "      <td>AS</td>\n",
       "      <td>16</td>\n",
       "      <td>+1-684</td>\n",
       "      <td>Pago Pago</td>\n",
       "      <td>USD</td>\n",
       "      <td>US Dollar</td>\n",
       "      <td>$</td>\n",
       "      <td>.as</td>\n",
       "      <td>American Samoa</td>\n",
       "      <td>Oceania</td>\n",
       "      <td>Polynesia</td>\n",
       "      <td>[{'zoneName': 'Pacific/Pago_Pago', 'gmtOffset'...</td>\n",
       "      <td>{'kr': '아메리칸사모아', 'br': 'Samoa Americana', 'pt...</td>\n",
       "      <td>-14.333333</td>\n",
       "      <td>-170.0</td>\n",
       "      <td>🇦🇸</td>\n",
       "      <td>U+1F1E6 U+1F1F8</td>\n",
       "    </tr>\n",
       "    <tr>\n",
       "      <th>...</th>\n",
       "      <td>...</td>\n",
       "      <td>...</td>\n",
       "      <td>...</td>\n",
       "      <td>...</td>\n",
       "      <td>...</td>\n",
       "      <td>...</td>\n",
       "      <td>...</td>\n",
       "      <td>...</td>\n",
       "      <td>...</td>\n",
       "      <td>...</td>\n",
       "      <td>...</td>\n",
       "      <td>...</td>\n",
       "      <td>...</td>\n",
       "      <td>...</td>\n",
       "      <td>...</td>\n",
       "      <td>...</td>\n",
       "      <td>...</td>\n",
       "      <td>...</td>\n",
       "      <td>...</td>\n",
       "      <td>...</td>\n",
       "    </tr>\n",
       "    <tr>\n",
       "      <th>245</th>\n",
       "      <td>243</td>\n",
       "      <td>Wallis And Futuna Islands</td>\n",
       "      <td>WLF</td>\n",
       "      <td>WF</td>\n",
       "      <td>876</td>\n",
       "      <td>681</td>\n",
       "      <td>Mata Utu</td>\n",
       "      <td>XPF</td>\n",
       "      <td>CFP franc</td>\n",
       "      <td>₣</td>\n",
       "      <td>.wf</td>\n",
       "      <td>Wallis et Futuna</td>\n",
       "      <td>Oceania</td>\n",
       "      <td>Polynesia</td>\n",
       "      <td>[{'zoneName': 'Pacific/Wallis', 'gmtOffset': 4...</td>\n",
       "      <td>{'kr': '왈리스 푸투나', 'br': 'Wallis e Futuna', 'pt...</td>\n",
       "      <td>-13.300000</td>\n",
       "      <td>-176.2</td>\n",
       "      <td>🇼🇫</td>\n",
       "      <td>U+1F1FC U+1F1EB</td>\n",
       "    </tr>\n",
       "    <tr>\n",
       "      <th>246</th>\n",
       "      <td>244</td>\n",
       "      <td>Western Sahara</td>\n",
       "      <td>ESH</td>\n",
       "      <td>EH</td>\n",
       "      <td>732</td>\n",
       "      <td>212</td>\n",
       "      <td>El-Aaiun</td>\n",
       "      <td>MAD</td>\n",
       "      <td>Moroccan Dirham</td>\n",
       "      <td>MAD</td>\n",
       "      <td>.eh</td>\n",
       "      <td>الصحراء الغربية</td>\n",
       "      <td>Africa</td>\n",
       "      <td>Northern Africa</td>\n",
       "      <td>[{'zoneName': 'Africa/El_Aaiun', 'gmtOffset': ...</td>\n",
       "      <td>{'kr': '서사하라', 'br': 'Saara Ocidental', 'pt': ...</td>\n",
       "      <td>24.500000</td>\n",
       "      <td>-13.0</td>\n",
       "      <td>🇪🇭</td>\n",
       "      <td>U+1F1EA U+1F1ED</td>\n",
       "    </tr>\n",
       "    <tr>\n",
       "      <th>247</th>\n",
       "      <td>245</td>\n",
       "      <td>Yemen</td>\n",
       "      <td>YEM</td>\n",
       "      <td>YE</td>\n",
       "      <td>887</td>\n",
       "      <td>967</td>\n",
       "      <td>Sanaa</td>\n",
       "      <td>YER</td>\n",
       "      <td>Yemeni rial</td>\n",
       "      <td>﷼</td>\n",
       "      <td>.ye</td>\n",
       "      <td>اليَمَن</td>\n",
       "      <td>Asia</td>\n",
       "      <td>Western Asia</td>\n",
       "      <td>[{'zoneName': 'Asia/Aden', 'gmtOffset': 10800,...</td>\n",
       "      <td>{'kr': '예멘', 'br': 'Iêmen', 'pt': 'Iémen', 'nl...</td>\n",
       "      <td>15.000000</td>\n",
       "      <td>48.0</td>\n",
       "      <td>🇾🇪</td>\n",
       "      <td>U+1F1FE U+1F1EA</td>\n",
       "    </tr>\n",
       "    <tr>\n",
       "      <th>248</th>\n",
       "      <td>246</td>\n",
       "      <td>Zambia</td>\n",
       "      <td>ZMB</td>\n",
       "      <td>ZM</td>\n",
       "      <td>894</td>\n",
       "      <td>260</td>\n",
       "      <td>Lusaka</td>\n",
       "      <td>ZMW</td>\n",
       "      <td>Zambian kwacha</td>\n",
       "      <td>ZK</td>\n",
       "      <td>.zm</td>\n",
       "      <td>Zambia</td>\n",
       "      <td>Africa</td>\n",
       "      <td>Eastern Africa</td>\n",
       "      <td>[{'zoneName': 'Africa/Lusaka', 'gmtOffset': 72...</td>\n",
       "      <td>{'kr': '잠비아', 'br': 'Zâmbia', 'pt': 'Zâmbia', ...</td>\n",
       "      <td>-15.000000</td>\n",
       "      <td>30.0</td>\n",
       "      <td>🇿🇲</td>\n",
       "      <td>U+1F1FF U+1F1F2</td>\n",
       "    </tr>\n",
       "    <tr>\n",
       "      <th>249</th>\n",
       "      <td>247</td>\n",
       "      <td>Zimbabwe</td>\n",
       "      <td>ZWE</td>\n",
       "      <td>ZW</td>\n",
       "      <td>716</td>\n",
       "      <td>263</td>\n",
       "      <td>Harare</td>\n",
       "      <td>ZWL</td>\n",
       "      <td>Zimbabwe Dollar</td>\n",
       "      <td>$</td>\n",
       "      <td>.zw</td>\n",
       "      <td>Zimbabwe</td>\n",
       "      <td>Africa</td>\n",
       "      <td>Eastern Africa</td>\n",
       "      <td>[{'zoneName': 'Africa/Harare', 'gmtOffset': 72...</td>\n",
       "      <td>{'kr': '짐바브웨', 'br': 'Zimbabwe', 'pt': 'Zimbab...</td>\n",
       "      <td>-20.000000</td>\n",
       "      <td>30.0</td>\n",
       "      <td>🇿🇼</td>\n",
       "      <td>U+1F1FF U+1F1FC</td>\n",
       "    </tr>\n",
       "  </tbody>\n",
       "</table>\n",
       "<p>250 rows × 20 columns</p>\n",
       "</div>"
      ],
      "text/plain": [
       "      id                       name iso3 iso2  numeric_code phone_code  \\\n",
       "0      1                Afghanistan  AFG   AF             4         93   \n",
       "1      2              Aland Islands  ALA   AX           248    +358-18   \n",
       "2      3                    Albania  ALB   AL             8        355   \n",
       "3      4                    Algeria  DZA   DZ            12        213   \n",
       "4      5             American Samoa  ASM   AS            16     +1-684   \n",
       "..   ...                        ...  ...  ...           ...        ...   \n",
       "245  243  Wallis And Futuna Islands  WLF   WF           876        681   \n",
       "246  244             Western Sahara  ESH   EH           732        212   \n",
       "247  245                      Yemen  YEM   YE           887        967   \n",
       "248  246                     Zambia  ZMB   ZM           894        260   \n",
       "249  247                   Zimbabwe  ZWE   ZW           716        263   \n",
       "\n",
       "       capital currency    currency_name currency_symbol  tld  \\\n",
       "0        Kabul      AFN   Afghan afghani               ؋  .af   \n",
       "1    Mariehamn      EUR             Euro               €  .ax   \n",
       "2       Tirana      ALL     Albanian lek             Lek  .al   \n",
       "3      Algiers      DZD   Algerian dinar              دج  .dz   \n",
       "4    Pago Pago      USD        US Dollar               $  .as   \n",
       "..         ...      ...              ...             ...  ...   \n",
       "245   Mata Utu      XPF        CFP franc               ₣  .wf   \n",
       "246   El-Aaiun      MAD  Moroccan Dirham             MAD  .eh   \n",
       "247      Sanaa      YER      Yemeni rial               ﷼  .ye   \n",
       "248     Lusaka      ZMW   Zambian kwacha              ZK  .zm   \n",
       "249     Harare      ZWL  Zimbabwe Dollar               $  .zw   \n",
       "\n",
       "               native   region        subregion  \\\n",
       "0           افغانستان     Asia    Southern Asia   \n",
       "1               Åland   Europe  Northern Europe   \n",
       "2           Shqipëria   Europe  Southern Europe   \n",
       "3             الجزائر   Africa  Northern Africa   \n",
       "4      American Samoa  Oceania        Polynesia   \n",
       "..                ...      ...              ...   \n",
       "245  Wallis et Futuna  Oceania        Polynesia   \n",
       "246   الصحراء الغربية   Africa  Northern Africa   \n",
       "247           اليَمَن     Asia     Western Asia   \n",
       "248            Zambia   Africa   Eastern Africa   \n",
       "249          Zimbabwe   Africa   Eastern Africa   \n",
       "\n",
       "                                             timezones  \\\n",
       "0    [{'zoneName': 'Asia/Kabul', 'gmtOffset': 16200...   \n",
       "1    [{'zoneName': 'Europe/Mariehamn', 'gmtOffset':...   \n",
       "2    [{'zoneName': 'Europe/Tirane', 'gmtOffset': 36...   \n",
       "3    [{'zoneName': 'Africa/Algiers', 'gmtOffset': 3...   \n",
       "4    [{'zoneName': 'Pacific/Pago_Pago', 'gmtOffset'...   \n",
       "..                                                 ...   \n",
       "245  [{'zoneName': 'Pacific/Wallis', 'gmtOffset': 4...   \n",
       "246  [{'zoneName': 'Africa/El_Aaiun', 'gmtOffset': ...   \n",
       "247  [{'zoneName': 'Asia/Aden', 'gmtOffset': 10800,...   \n",
       "248  [{'zoneName': 'Africa/Lusaka', 'gmtOffset': 72...   \n",
       "249  [{'zoneName': 'Africa/Harare', 'gmtOffset': 72...   \n",
       "\n",
       "                                          translations   latitude  longitude  \\\n",
       "0    {'kr': '아프가니스탄', 'br': 'Afeganistão', 'pt': 'A...  33.000000       65.0   \n",
       "1    {'kr': '올란드 제도', 'br': 'Ilhas de Aland', 'pt':...  60.116667       19.9   \n",
       "2    {'kr': '알바니아', 'br': 'Albânia', 'pt': 'Albânia...  41.000000       20.0   \n",
       "3    {'kr': '알제리', 'br': 'Argélia', 'pt': 'Argélia'...  28.000000        3.0   \n",
       "4    {'kr': '아메리칸사모아', 'br': 'Samoa Americana', 'pt... -14.333333     -170.0   \n",
       "..                                                 ...        ...        ...   \n",
       "245  {'kr': '왈리스 푸투나', 'br': 'Wallis e Futuna', 'pt... -13.300000     -176.2   \n",
       "246  {'kr': '서사하라', 'br': 'Saara Ocidental', 'pt': ...  24.500000      -13.0   \n",
       "247  {'kr': '예멘', 'br': 'Iêmen', 'pt': 'Iémen', 'nl...  15.000000       48.0   \n",
       "248  {'kr': '잠비아', 'br': 'Zâmbia', 'pt': 'Zâmbia', ... -15.000000       30.0   \n",
       "249  {'kr': '짐바브웨', 'br': 'Zimbabwe', 'pt': 'Zimbab... -20.000000       30.0   \n",
       "\n",
       "    emoji           emojiU  \n",
       "0      🇦🇫  U+1F1E6 U+1F1EB  \n",
       "1      🇦🇽  U+1F1E6 U+1F1FD  \n",
       "2      🇦🇱  U+1F1E6 U+1F1F1  \n",
       "3      🇩🇿  U+1F1E9 U+1F1FF  \n",
       "4      🇦🇸  U+1F1E6 U+1F1F8  \n",
       "..    ...              ...  \n",
       "245    🇼🇫  U+1F1FC U+1F1EB  \n",
       "246    🇪🇭  U+1F1EA U+1F1ED  \n",
       "247    🇾🇪  U+1F1FE U+1F1EA  \n",
       "248    🇿🇲  U+1F1FF U+1F1F2  \n",
       "249    🇿🇼  U+1F1FF U+1F1FC  \n",
       "\n",
       "[250 rows x 20 columns]"
      ]
     },
     "execution_count": 259,
     "metadata": {},
     "output_type": "execute_result"
    }
   ],
   "source": [
    "json_data=pd.read_json('https://raw.githubusercontent.com/svkarthik86/Advance-Python-Numpy/main/countries.json')\n",
    "json_data"
   ]
  },
  {
   "cell_type": "code",
   "execution_count": 260,
   "id": "0316b3d9-c568-4dc7-97e8-f46668eed44f",
   "metadata": {},
   "outputs": [
    {
     "name": "stdout",
     "output_type": "stream",
     "text": [
      "<class 'pandas.core.frame.DataFrame'>\n",
      "RangeIndex: 250 entries, 0 to 249\n",
      "Data columns (total 20 columns):\n",
      " #   Column           Non-Null Count  Dtype  \n",
      "---  ------           --------------  -----  \n",
      " 0   id               250 non-null    int64  \n",
      " 1   name             250 non-null    object \n",
      " 2   iso3             250 non-null    object \n",
      " 3   iso2             250 non-null    object \n",
      " 4   numeric_code     250 non-null    int64  \n",
      " 5   phone_code       250 non-null    object \n",
      " 6   capital          250 non-null    object \n",
      " 7   currency         250 non-null    object \n",
      " 8   currency_name    250 non-null    object \n",
      " 9   currency_symbol  250 non-null    object \n",
      " 10  tld              250 non-null    object \n",
      " 11  native           249 non-null    object \n",
      " 12  region           250 non-null    object \n",
      " 13  subregion        250 non-null    object \n",
      " 14  timezones        250 non-null    object \n",
      " 15  translations     250 non-null    object \n",
      " 16  latitude         250 non-null    float64\n",
      " 17  longitude        250 non-null    float64\n",
      " 18  emoji            250 non-null    object \n",
      " 19  emojiU           250 non-null    object \n",
      "dtypes: float64(2), int64(2), object(16)\n",
      "memory usage: 39.2+ KB\n"
     ]
    }
   ],
   "source": [
    "json_data.info()"
   ]
  },
  {
   "cell_type": "markdown",
   "id": "7f5c4001-a53c-456c-85a3-67701231b22b",
   "metadata": {},
   "source": [
    "### From an HTML file:\n",
    "- We can also import data from a web page using the pd.read_html function.\n",
    "- this function parses the tables on the web page into DataFrame objects. \n",
    "- This function returns a list of DataFrame objects which correspond to the tables on the web page. \n",
    "- In the following example, table[0] corresponds to the first table on the mentioned URL.\n"
   ]
  },
  {
   "cell_type": "code",
   "execution_count": 27,
   "id": "b1a9ae54-3fd8-4deb-af37-af77541543be",
   "metadata": {},
   "outputs": [],
   "source": [
    "# url=\"https://www.w3schools.com/sql/sql_create_table.asp\"\n",
    "# table=pd.read_html(url)\n",
    "# table[0]"
   ]
  },
  {
   "cell_type": "code",
   "execution_count": 43,
   "id": "0d99b67e-709b-4cc1-a7d8-863033446dba",
   "metadata": {},
   "outputs": [
    {
     "data": {
      "text/plain": [
       "[   Unnamed: 0  name  physics  chemistry  algebra\n",
       " 0           0  Somu       68         84       78\n",
       " 1           1  Kiku       74         56       88\n",
       " 2           2  Amol       77         73       82\n",
       " 3           3  Lini       78         69       87]"
      ]
     },
     "execution_count": 43,
     "metadata": {},
     "output_type": "execute_result"
    }
   ],
   "source": [
    "import pandas as pd\n",
    "html_data=pd.read_html(\"test.html\",flavor=\"html5lib\")\n",
    "html_data"
   ]
  },
  {
   "cell_type": "markdown",
   "id": "2f87ce9a-ba46-4f6c-8cf9-e0a2e22400fa",
   "metadata": {},
   "source": [
    "Further reading: See the complete list of supported formats in Pandas and the functions\n",
    "for reading data from such formats:\n",
    "https://pandas.pydata.org/pandas-docs/stable/reference/io.html"
   ]
  },
  {
   "cell_type": "markdown",
   "id": "3b4c7558-a004-462b-b6d9-621700c3f6cb",
   "metadata": {
    "tags": []
   },
   "source": [
    "### Accessing attributes in a DataFrame\n",
    "- to access the attributes in a DataFrame object.\n",
    "- SYNTAX\n",
    "```\n",
    "<DataFrameObject>. <attribute_name> ```\n"
   ]
  },
  {
   "attachments": {
    "71625f29-ccd1-42fe-8a5c-eec5b514c3fc.png": {
     "image/png": "[encoded data removed]"
    }
   },
   "cell_type": "markdown",
   "id": "579fe0c2-9246-414d-8631-f5777a3cb294",
   "metadata": {},
   "source": [
    "![image.png](attachment:71625f29-ccd1-42fe-8a5c-eec5b514c3fc.png)"
   ]
  },
  {
   "cell_type": "code",
   "execution_count": 3,
   "id": "996d41c4-d9c4-4d25-9854-e50ec77386cf",
   "metadata": {},
   "outputs": [
    {
     "data": {
      "text/html": [
       "<div>\n",
       "<style scoped>\n",
       "    .dataframe tbody tr th:only-of-type {\n",
       "        vertical-align: middle;\n",
       "    }\n",
       "\n",
       "    .dataframe tbody tr th {\n",
       "        vertical-align: top;\n",
       "    }\n",
       "\n",
       "    .dataframe thead th {\n",
       "        text-align: right;\n",
       "    }\n",
       "</style>\n",
       "<table border=\"1\" class=\"dataframe\">\n",
       "  <thead>\n",
       "    <tr style=\"text-align: right;\">\n",
       "      <th></th>\n",
       "      <th>class 1</th>\n",
       "      <th>class 2</th>\n",
       "      <th>class 3</th>\n",
       "    </tr>\n",
       "  </thead>\n",
       "  <tbody>\n",
       "    <tr>\n",
       "      <th>a</th>\n",
       "      <td>22</td>\n",
       "      <td>24</td>\n",
       "      <td>20</td>\n",
       "    </tr>\n",
       "    <tr>\n",
       "      <th>b</th>\n",
       "      <td>40</td>\n",
       "      <td>50</td>\n",
       "      <td>45</td>\n",
       "    </tr>\n",
       "  </tbody>\n",
       "</table>\n",
       "</div>"
      ],
      "text/plain": [
       "   class 1  class 2  class 3\n",
       "a       22       24       20\n",
       "b       40       50       45"
      ]
     },
     "execution_count": 3,
     "metadata": {},
     "output_type": "execute_result"
    }
   ],
   "source": [
    "import pandas as pd\n",
    "combined_ages=pd.DataFrame({'class 1':[22,40],'class 2':[24,50],'class 3':[20,45]},index=('a','b'))\n",
    "combined_ages"
   ]
  },
  {
   "cell_type": "code",
   "execution_count": 8,
   "id": "f97b8d74-7841-4ef9-9708-6acf24c6a9ca",
   "metadata": {},
   "outputs": [],
   "source": [
    "x=pd.DataFrame(np.arange(10).reshape(-1,2))"
   ]
  },
  {
   "cell_type": "code",
   "execution_count": 10,
   "id": "1e3ecc51-9565-4e59-955a-538a2653197d",
   "metadata": {},
   "outputs": [
    {
     "data": {
      "text/plain": [
       "RangeIndex(start=0, stop=2, step=1)"
      ]
     },
     "execution_count": 10,
     "metadata": {},
     "output_type": "execute_result"
    }
   ],
   "source": [
    "x.columns"
   ]
  },
  {
   "cell_type": "markdown",
   "id": "9a50da74-ef17-4a51-aa44-2f21168b0566",
   "metadata": {},
   "source": [
    "### index"
   ]
  },
  {
   "cell_type": "code",
   "execution_count": 6,
   "id": "597df97b-6ccb-4270-a06c-15a1271d826e",
   "metadata": {},
   "outputs": [
    {
     "data": {
      "text/plain": [
       "Index(['class 1', 'class 2', 'class 3'], dtype='object')"
      ]
     },
     "execution_count": 6,
     "metadata": {},
     "output_type": "execute_result"
    }
   ],
   "source": [
    "combined_ages.columns"
   ]
  },
  {
   "cell_type": "code",
   "execution_count": 13,
   "id": "1861f674-5674-40c9-a989-971d5fbede09",
   "metadata": {},
   "outputs": [
    {
     "data": {
      "text/plain": [
       "Index(['country', 'continent', 'date', 'day', 'month', 'year', 'cases',\n",
       "       'deaths', 'country_code', 'population'],\n",
       "      dtype='object')"
      ]
     },
     "execution_count": 13,
     "metadata": {},
     "output_type": "execute_result"
    }
   ],
   "source": [
    "covid19_data.columns"
   ]
  },
  {
   "cell_type": "markdown",
   "id": "3484f64b-9334-4293-9cbb-8a2e829e9916",
   "metadata": {},
   "source": [
    "### columns"
   ]
  },
  {
   "cell_type": "code",
   "execution_count": 52,
   "id": "007cd7cd-91bc-4565-9ed4-692391c6fe0a",
   "metadata": {},
   "outputs": [
    {
     "data": {
      "text/plain": [
       "Index(['class 1', 'class 2', 'class 3'], dtype='object')"
      ]
     },
     "execution_count": 52,
     "metadata": {},
     "output_type": "execute_result"
    }
   ],
   "source": [
    "#The columns attribute gives you information about the columns (their names and data type).\n",
    "\n",
    "combined_ages.columns"
   ]
  },
  {
   "cell_type": "code",
   "execution_count": 53,
   "id": "766c0743-3e87-41c0-beda-32addac0d7d6",
   "metadata": {},
   "outputs": [
    {
     "data": {
      "text/plain": [
       "Index(['country', 'continent', 'date', 'day', 'month', 'year', 'cases',\n",
       "       'deaths', 'country_code', 'population'],\n",
       "      dtype='object')"
      ]
     },
     "execution_count": 53,
     "metadata": {},
     "output_type": "execute_result"
    }
   ],
   "source": [
    "covid19_data.columns"
   ]
  },
  {
   "cell_type": "markdown",
   "id": "24cadf66-7af6-402e-a6d5-bd68c099e87e",
   "metadata": {},
   "source": [
    "- The index object and column object are both types of index objects.\n",
    "- While the index object has a type RangeIndex, \n",
    "- the columns object has a type “Index”. \n",
    "- The values of the index object act as row labels, while those of the column object act as column labels."
   ]
  },
  {
   "cell_type": "markdown",
   "id": "5a38b9f9-82e5-4fbc-97ff-d6bdbc251bce",
   "metadata": {},
   "source": [
    "### Accessing the values in the DataFrame\n",
    "- Using the values attribute, you can obtain the data stored in the DataFrame. \n",
    "\n"
   ]
  },
  {
   "cell_type": "code",
   "execution_count": 14,
   "id": "ce501272-a0f5-4dd4-a9d4-5073896b99d6",
   "metadata": {},
   "outputs": [
    {
     "data": {
      "text/plain": [
       "array([[22, 24, 20],\n",
       "       [40, 50, 45]], dtype=int64)"
      ]
     },
     "execution_count": 14,
     "metadata": {},
     "output_type": "execute_result"
    }
   ],
   "source": [
    "combined_ages.values\n"
   ]
  },
  {
   "cell_type": "code",
   "execution_count": 8,
   "id": "5dfaa8af-3f7c-4c47-a8f4-e7ddccc78a63",
   "metadata": {},
   "outputs": [
    {
     "data": {
      "text/plain": [
       "array([['Afghanistan', 'Asia', '2020-04-12', ..., 3, 'AFG', 37172386.0],\n",
       "       ['Albania', 'Europe', '2020-04-12', ..., 0, 'ALB', 2866376.0],\n",
       "       ['Algeria', 'Africa', '2020-04-12', ..., 19, 'DZA', 42228429.0],\n",
       "       ...,\n",
       "       ['Yemen', 'Asia', '2020-04-12', ..., 0, 'YEM', 28498687.0],\n",
       "       ['Zambia', 'Africa', '2020-04-12', ..., 0, 'ZMB', 17351822.0],\n",
       "       ['Zimbabwe', 'Africa', '2020-04-12', ..., 0, 'ZWE', 14439018.0]],\n",
       "      dtype=object)"
      ]
     },
     "execution_count": 8,
     "metadata": {},
     "output_type": "execute_result"
    }
   ],
   "source": [
    "covid19_data.values"
   ]
  },
  {
   "cell_type": "code",
   "execution_count": 9,
   "id": "13305cbd-66c8-46b4-9a35-ba18ee941d79",
   "metadata": {},
   "outputs": [
    {
     "data": {
      "text/html": [
       "<div>\n",
       "<style scoped>\n",
       "    .dataframe tbody tr th:only-of-type {\n",
       "        vertical-align: middle;\n",
       "    }\n",
       "\n",
       "    .dataframe tbody tr th {\n",
       "        vertical-align: top;\n",
       "    }\n",
       "\n",
       "    .dataframe thead th {\n",
       "        text-align: right;\n",
       "    }\n",
       "</style>\n",
       "<table border=\"1\" class=\"dataframe\">\n",
       "  <thead>\n",
       "    <tr style=\"text-align: right;\">\n",
       "      <th></th>\n",
       "      <th>class 1</th>\n",
       "      <th>class 2</th>\n",
       "      <th>class 3</th>\n",
       "    </tr>\n",
       "  </thead>\n",
       "  <tbody>\n",
       "    <tr>\n",
       "      <th>a</th>\n",
       "      <td>22</td>\n",
       "      <td>24</td>\n",
       "      <td>20</td>\n",
       "    </tr>\n",
       "    <tr>\n",
       "      <th>b</th>\n",
       "      <td>40</td>\n",
       "      <td>50</td>\n",
       "      <td>45</td>\n",
       "    </tr>\n",
       "  </tbody>\n",
       "</table>\n",
       "</div>"
      ],
      "text/plain": [
       "   class 1  class 2  class 3\n",
       "a       22       24       20\n",
       "b       40       50       45"
      ]
     },
     "execution_count": 9,
     "metadata": {},
     "output_type": "execute_result"
    }
   ],
   "source": [
    "combined_ages"
   ]
  },
  {
   "cell_type": "code",
   "execution_count": 10,
   "id": "f73b53eb-35c8-4200-a1aa-d69e98a180d9",
   "metadata": {},
   "outputs": [
    {
     "data": {
      "text/plain": [
       "class 1  class 2  class 3\n",
       "22       24       20         1\n",
       "40       50       45         1\n",
       "dtype: int64"
      ]
     },
     "execution_count": 10,
     "metadata": {},
     "output_type": "execute_result"
    }
   ],
   "source": [
    "combined_ages.value_counts()"
   ]
  },
  {
   "cell_type": "code",
   "execution_count": 12,
   "id": "146b004e-0378-48da-8715-28fcee91683e",
   "metadata": {},
   "outputs": [
    {
     "data": {
      "text/plain": [
       "Europe     54\n",
       "Africa     52\n",
       "America    49\n",
       "Asia       42\n",
       "Oceania     8\n",
       "Other       1\n",
       "Name: continent, dtype: int64"
      ]
     },
     "execution_count": 12,
     "metadata": {},
     "output_type": "execute_result"
    }
   ],
   "source": [
    "covid19_data['continent'].value_counts()"
   ]
  },
  {
   "cell_type": "markdown",
   "id": "36400d0e-da68-4467-b02d-8fe16615cc84",
   "metadata": {},
   "source": [
    "### AXES\n",
    " \n",
    "- This attribute is used to fetch both index and column names.\n",
    " \n",
    "- SYNTAX\n",
    " ```\n",
    "<DataFrameObject>. <axes>  ```"
   ]
  },
  {
   "cell_type": "code",
   "execution_count": 60,
   "id": "2946ca99-2b86-4a26-9d02-bdfbb39fea68",
   "metadata": {},
   "outputs": [
    {
     "data": {
      "text/plain": [
       "[RangeIndex(start=0, stop=2, step=1),\n",
       " Index(['class 1', 'class 2', 'class 3'], dtype='object')]"
      ]
     },
     "execution_count": 60,
     "metadata": {},
     "output_type": "execute_result"
    }
   ],
   "source": [
    "combined_ages.axes"
   ]
  },
  {
   "cell_type": "code",
   "execution_count": 13,
   "id": "32a76d3a-2029-4d74-9466-fe6e67936a37",
   "metadata": {},
   "outputs": [
    {
     "data": {
      "text/plain": [
       "[RangeIndex(start=0, stop=206, step=1),\n",
       " Index(['country', 'continent', 'date', 'day', 'month', 'year', 'cases',\n",
       "        'deaths', 'country_code', 'population'],\n",
       "       dtype='object')]"
      ]
     },
     "execution_count": 13,
     "metadata": {},
     "output_type": "execute_result"
    }
   ],
   "source": [
    "covid19_data.axes"
   ]
  },
  {
   "cell_type": "markdown",
   "id": "a0cab1ed-f3ed-4dcf-804d-95c8dc3188ac",
   "metadata": {},
   "source": [
    "### DTYPES\n",
    " \n",
    "- This attribute is used to fetch the data type values of the items in the DataFrame.\n",
    " \n",
    "- SYNTAX\n",
    "```\n",
    "<DataFrameObject>. <dtypes>```"
   ]
  },
  {
   "cell_type": "code",
   "execution_count": 14,
   "id": "b76f5020-0136-4a2c-93e2-2a602cf3e477",
   "metadata": {},
   "outputs": [
    {
     "data": {
      "text/plain": [
       "class 1    int64\n",
       "class 2    int64\n",
       "class 3    int64\n",
       "dtype: object"
      ]
     },
     "execution_count": 14,
     "metadata": {},
     "output_type": "execute_result"
    }
   ],
   "source": [
    "combined_ages.dtypes"
   ]
  },
  {
   "cell_type": "code",
   "execution_count": 15,
   "id": "296c9a7c-4ca1-4e8b-a94c-20063b0b939c",
   "metadata": {},
   "outputs": [
    {
     "data": {
      "text/plain": [
       "country          object\n",
       "continent        object\n",
       "date             object\n",
       "day               int64\n",
       "month             int64\n",
       "year              int64\n",
       "cases             int64\n",
       "deaths            int64\n",
       "country_code     object\n",
       "population      float64\n",
       "dtype: object"
      ]
     },
     "execution_count": 15,
     "metadata": {},
     "output_type": "execute_result"
    }
   ],
   "source": [
    "covid19_data.dtypes"
   ]
  },
  {
   "cell_type": "markdown",
   "id": "ad11d734-b38e-4b63-9c6f-a802c471bf5f",
   "metadata": {},
   "source": [
    "### SIZE\n",
    " \n",
    "- This attribute is used to fetch the size of the DataFrame, which is the product of the number of rows and columns.\n",
    "- SYNTAX\n",
    "```\n",
    "<DataFrameObject>. <size>```"
   ]
  },
  {
   "cell_type": "code",
   "execution_count": 64,
   "id": "267dbd52-3ca0-4a53-944e-e85299365118",
   "metadata": {},
   "outputs": [
    {
     "data": {
      "text/plain": [
       "6"
      ]
     },
     "execution_count": 64,
     "metadata": {},
     "output_type": "execute_result"
    }
   ],
   "source": [
    "combined_ages.size"
   ]
  },
  {
   "cell_type": "code",
   "execution_count": 18,
   "id": "fc2a27a7-19e1-4f14-bc6b-8b66d918cdd6",
   "metadata": {},
   "outputs": [
    {
     "data": {
      "text/plain": [
       "2060"
      ]
     },
     "execution_count": 18,
     "metadata": {},
     "output_type": "execute_result"
    }
   ],
   "source": [
    "covid19_data.size"
   ]
  },
  {
   "cell_type": "markdown",
   "id": "870d04bc-961f-40d7-85a0-865389e00487",
   "metadata": {},
   "source": [
    "### SHAPE\n",
    "- This attribute also gives you the size but it also mentions its shape, i.e. the number of rows and number of columns\n",
    "- SYNTAX\n",
    " ```\n",
    "<DataFrameObject>. <shape> ```"
   ]
  },
  {
   "cell_type": "code",
   "execution_count": 20,
   "id": "64a69fac-a9c0-4864-a25c-bed916fad035",
   "metadata": {},
   "outputs": [
    {
     "data": {
      "text/plain": [
       "3"
      ]
     },
     "execution_count": 20,
     "metadata": {},
     "output_type": "execute_result"
    }
   ],
   "source": [
    "combined_ages.shape"
   ]
  },
  {
   "cell_type": "code",
   "execution_count": 31,
   "id": "f6057028-06ad-453d-9e9f-4f6747af9429",
   "metadata": {},
   "outputs": [
    {
     "data": {
      "text/html": [
       "<div>\n",
       "<style scoped>\n",
       "    .dataframe tbody tr th:only-of-type {\n",
       "        vertical-align: middle;\n",
       "    }\n",
       "\n",
       "    .dataframe tbody tr th {\n",
       "        vertical-align: top;\n",
       "    }\n",
       "\n",
       "    .dataframe thead th {\n",
       "        text-align: right;\n",
       "    }\n",
       "</style>\n",
       "<table border=\"1\" class=\"dataframe\">\n",
       "  <thead>\n",
       "    <tr style=\"text-align: right;\">\n",
       "      <th></th>\n",
       "      <th>country</th>\n",
       "      <th>continent</th>\n",
       "      <th>date</th>\n",
       "      <th>day</th>\n",
       "      <th>month</th>\n",
       "      <th>year</th>\n",
       "      <th>cases</th>\n",
       "      <th>deaths</th>\n",
       "      <th>country_code</th>\n",
       "      <th>population</th>\n",
       "    </tr>\n",
       "  </thead>\n",
       "  <tbody>\n",
       "    <tr>\n",
       "      <th>0</th>\n",
       "      <td>Afghanistan</td>\n",
       "      <td>Asia</td>\n",
       "      <td>2020-04-12</td>\n",
       "      <td>12</td>\n",
       "      <td>4</td>\n",
       "      <td>2020</td>\n",
       "      <td>34</td>\n",
       "      <td>3</td>\n",
       "      <td>AFG</td>\n",
       "      <td>37172386.0</td>\n",
       "    </tr>\n",
       "    <tr>\n",
       "      <th>1</th>\n",
       "      <td>Albania</td>\n",
       "      <td>Europe</td>\n",
       "      <td>2020-04-12</td>\n",
       "      <td>12</td>\n",
       "      <td>4</td>\n",
       "      <td>2020</td>\n",
       "      <td>17</td>\n",
       "      <td>0</td>\n",
       "      <td>ALB</td>\n",
       "      <td>2866376.0</td>\n",
       "    </tr>\n",
       "    <tr>\n",
       "      <th>2</th>\n",
       "      <td>Algeria</td>\n",
       "      <td>Africa</td>\n",
       "      <td>2020-04-12</td>\n",
       "      <td>12</td>\n",
       "      <td>4</td>\n",
       "      <td>2020</td>\n",
       "      <td>64</td>\n",
       "      <td>19</td>\n",
       "      <td>DZA</td>\n",
       "      <td>42228429.0</td>\n",
       "    </tr>\n",
       "    <tr>\n",
       "      <th>3</th>\n",
       "      <td>Andorra</td>\n",
       "      <td>Europe</td>\n",
       "      <td>2020-04-12</td>\n",
       "      <td>12</td>\n",
       "      <td>4</td>\n",
       "      <td>2020</td>\n",
       "      <td>21</td>\n",
       "      <td>2</td>\n",
       "      <td>AND</td>\n",
       "      <td>77006.0</td>\n",
       "    </tr>\n",
       "    <tr>\n",
       "      <th>4</th>\n",
       "      <td>Angola</td>\n",
       "      <td>Africa</td>\n",
       "      <td>2020-04-12</td>\n",
       "      <td>12</td>\n",
       "      <td>4</td>\n",
       "      <td>2020</td>\n",
       "      <td>0</td>\n",
       "      <td>0</td>\n",
       "      <td>AGO</td>\n",
       "      <td>30809762.0</td>\n",
       "    </tr>\n",
       "    <tr>\n",
       "      <th>...</th>\n",
       "      <td>...</td>\n",
       "      <td>...</td>\n",
       "      <td>...</td>\n",
       "      <td>...</td>\n",
       "      <td>...</td>\n",
       "      <td>...</td>\n",
       "      <td>...</td>\n",
       "      <td>...</td>\n",
       "      <td>...</td>\n",
       "      <td>...</td>\n",
       "    </tr>\n",
       "    <tr>\n",
       "      <th>201</th>\n",
       "      <td>Venezuela</td>\n",
       "      <td>America</td>\n",
       "      <td>2020-04-12</td>\n",
       "      <td>12</td>\n",
       "      <td>4</td>\n",
       "      <td>2020</td>\n",
       "      <td>0</td>\n",
       "      <td>0</td>\n",
       "      <td>VEN</td>\n",
       "      <td>28870195.0</td>\n",
       "    </tr>\n",
       "    <tr>\n",
       "      <th>202</th>\n",
       "      <td>Vietnam</td>\n",
       "      <td>Asia</td>\n",
       "      <td>2020-04-12</td>\n",
       "      <td>12</td>\n",
       "      <td>4</td>\n",
       "      <td>2020</td>\n",
       "      <td>4</td>\n",
       "      <td>0</td>\n",
       "      <td>VNM</td>\n",
       "      <td>95540395.0</td>\n",
       "    </tr>\n",
       "    <tr>\n",
       "      <th>203</th>\n",
       "      <td>Yemen</td>\n",
       "      <td>Asia</td>\n",
       "      <td>2020-04-12</td>\n",
       "      <td>12</td>\n",
       "      <td>4</td>\n",
       "      <td>2020</td>\n",
       "      <td>0</td>\n",
       "      <td>0</td>\n",
       "      <td>YEM</td>\n",
       "      <td>28498687.0</td>\n",
       "    </tr>\n",
       "    <tr>\n",
       "      <th>204</th>\n",
       "      <td>Zambia</td>\n",
       "      <td>Africa</td>\n",
       "      <td>2020-04-12</td>\n",
       "      <td>12</td>\n",
       "      <td>4</td>\n",
       "      <td>2020</td>\n",
       "      <td>0</td>\n",
       "      <td>0</td>\n",
       "      <td>ZMB</td>\n",
       "      <td>17351822.0</td>\n",
       "    </tr>\n",
       "    <tr>\n",
       "      <th>205</th>\n",
       "      <td>Zimbabwe</td>\n",
       "      <td>Africa</td>\n",
       "      <td>2020-04-12</td>\n",
       "      <td>12</td>\n",
       "      <td>4</td>\n",
       "      <td>2020</td>\n",
       "      <td>3</td>\n",
       "      <td>0</td>\n",
       "      <td>ZWE</td>\n",
       "      <td>14439018.0</td>\n",
       "    </tr>\n",
       "  </tbody>\n",
       "</table>\n",
       "<p>206 rows × 10 columns</p>\n",
       "</div>"
      ],
      "text/plain": [
       "         country continent        date  day  month  year  cases  deaths  \\\n",
       "0    Afghanistan      Asia  2020-04-12   12      4  2020     34       3   \n",
       "1        Albania    Europe  2020-04-12   12      4  2020     17       0   \n",
       "2        Algeria    Africa  2020-04-12   12      4  2020     64      19   \n",
       "3        Andorra    Europe  2020-04-12   12      4  2020     21       2   \n",
       "4         Angola    Africa  2020-04-12   12      4  2020      0       0   \n",
       "..           ...       ...         ...  ...    ...   ...    ...     ...   \n",
       "201    Venezuela   America  2020-04-12   12      4  2020      0       0   \n",
       "202      Vietnam      Asia  2020-04-12   12      4  2020      4       0   \n",
       "203        Yemen      Asia  2020-04-12   12      4  2020      0       0   \n",
       "204       Zambia    Africa  2020-04-12   12      4  2020      0       0   \n",
       "205     Zimbabwe    Africa  2020-04-12   12      4  2020      3       0   \n",
       "\n",
       "    country_code  population  \n",
       "0            AFG  37172386.0  \n",
       "1            ALB   2866376.0  \n",
       "2            DZA  42228429.0  \n",
       "3            AND     77006.0  \n",
       "4            AGO  30809762.0  \n",
       "..           ...         ...  \n",
       "201          VEN  28870195.0  \n",
       "202          VNM  95540395.0  \n",
       "203          YEM  28498687.0  \n",
       "204          ZMB  17351822.0  \n",
       "205          ZWE  14439018.0  \n",
       "\n",
       "[206 rows x 10 columns]"
      ]
     },
     "execution_count": 31,
     "metadata": {},
     "output_type": "execute_result"
    }
   ],
   "source": [
    "covid19_data"
   ]
  },
  {
   "cell_type": "markdown",
   "id": "3b93f7d8-3356-4cd8-a28b-c05303abec4b",
   "metadata": {},
   "source": [
    "### NDIM\n",
    "- This attribute is used to fetch the dimension of the given DataFrame. Like if it is 1-D, 2-D, or 3-D.\n",
    " \n",
    "-SYNTAX\n",
    " ```\n",
    "<DataFrameObject>. <ndim>```"
   ]
  },
  {
   "cell_type": "code",
   "execution_count": 21,
   "id": "5667e9ae-bdf4-44e7-9f8b-dc470d28bc18",
   "metadata": {},
   "outputs": [
    {
     "data": {
      "text/plain": [
       "2"
      ]
     },
     "execution_count": 21,
     "metadata": {},
     "output_type": "execute_result"
    }
   ],
   "source": [
    "combined_ages.ndim"
   ]
  },
  {
   "cell_type": "code",
   "execution_count": 22,
   "id": "ce47c2d8-3f14-433a-aea2-f5cd65c68586",
   "metadata": {},
   "outputs": [
    {
     "data": {
      "text/plain": [
       "2"
      ]
     },
     "execution_count": 22,
     "metadata": {},
     "output_type": "execute_result"
    }
   ],
   "source": [
    "covid19_data.ndim"
   ]
  },
  {
   "cell_type": "code",
   "execution_count": 75,
   "id": "1b5e2435-ffd2-4e7a-872d-8f885a095421",
   "metadata": {},
   "outputs": [
    {
     "data": {
      "text/html": [
       "<div>\n",
       "<style scoped>\n",
       "    .dataframe tbody tr th:only-of-type {\n",
       "        vertical-align: middle;\n",
       "    }\n",
       "\n",
       "    .dataframe tbody tr th {\n",
       "        vertical-align: top;\n",
       "    }\n",
       "\n",
       "    .dataframe thead th {\n",
       "        text-align: right;\n",
       "    }\n",
       "</style>\n",
       "<table border=\"1\" class=\"dataframe\">\n",
       "  <thead>\n",
       "    <tr style=\"text-align: right;\">\n",
       "      <th></th>\n",
       "      <th>class 1</th>\n",
       "      <th>class 2</th>\n",
       "      <th>class 3</th>\n",
       "    </tr>\n",
       "  </thead>\n",
       "  <tbody>\n",
       "    <tr>\n",
       "      <th>0</th>\n",
       "      <td>22</td>\n",
       "      <td>24</td>\n",
       "      <td>20</td>\n",
       "    </tr>\n",
       "    <tr>\n",
       "      <th>1</th>\n",
       "      <td>40</td>\n",
       "      <td>50</td>\n",
       "      <td>45</td>\n",
       "    </tr>\n",
       "  </tbody>\n",
       "</table>\n",
       "</div>"
      ],
      "text/plain": [
       "   class 1  class 2  class 3\n",
       "0       22       24       20\n",
       "1       40       50       45"
      ]
     },
     "execution_count": 75,
     "metadata": {},
     "output_type": "execute_result"
    }
   ],
   "source": [
    "combined_ages"
   ]
  },
  {
   "cell_type": "markdown",
   "id": "3c16e47f-644b-4d44-bcca-8023c03c13d5",
   "metadata": {},
   "source": [
    "### EMPTY\n",
    "- This attribute gives you a Boolean output in the form of true or false, by which we can find if there any emptiness of the DataFrame.\n",
    "-SYNTAX\n",
    "```<DataFrameObject>. <empty>```\n",
    " \n",
    "- We have another attribute that can check the presence of NANs (Not a Number).\n",
    " \n",
    "- SYNTAX\n",
    "```\n",
    "<DataFrameObject>. <isna()>```"
   ]
  },
  {
   "cell_type": "code",
   "execution_count": 23,
   "id": "93a54a5d-2f5b-4fd7-af5b-2045841d290f",
   "metadata": {},
   "outputs": [
    {
     "data": {
      "text/plain": [
       "False"
      ]
     },
     "execution_count": 23,
     "metadata": {},
     "output_type": "execute_result"
    }
   ],
   "source": [
    "combined_ages.empty"
   ]
  },
  {
   "cell_type": "code",
   "execution_count": 24,
   "id": "62478d9b-203f-468c-af52-7b1f0cdcc3eb",
   "metadata": {},
   "outputs": [],
   "source": [
    "covid19_data_na=pd.read_csv(\"subset-covid-data.csv\")"
   ]
  },
  {
   "cell_type": "code",
   "execution_count": 25,
   "id": "72aa2eed-ea24-4e4b-ad6a-94ad46f5d66e",
   "metadata": {},
   "outputs": [
    {
     "data": {
      "text/plain": [
       "False"
      ]
     },
     "execution_count": 25,
     "metadata": {},
     "output_type": "execute_result"
    }
   ],
   "source": [
    "covid19_data_na.empty"
   ]
  },
  {
   "cell_type": "code",
   "execution_count": 47,
   "id": "8796b6e2-d8e0-433d-9de0-343e3b65ff75",
   "metadata": {},
   "outputs": [],
   "source": [
    "df_empty = pd.DataFrame({'A' : [],'B' : []})"
   ]
  },
  {
   "cell_type": "code",
   "execution_count": 48,
   "id": "a43f516f-00ad-4d6e-baf9-37ae2aa4aadf",
   "metadata": {},
   "outputs": [
    {
     "data": {
      "text/html": [
       "<div>\n",
       "<style scoped>\n",
       "    .dataframe tbody tr th:only-of-type {\n",
       "        vertical-align: middle;\n",
       "    }\n",
       "\n",
       "    .dataframe tbody tr th {\n",
       "        vertical-align: top;\n",
       "    }\n",
       "\n",
       "    .dataframe thead th {\n",
       "        text-align: right;\n",
       "    }\n",
       "</style>\n",
       "<table border=\"1\" class=\"dataframe\">\n",
       "  <thead>\n",
       "    <tr style=\"text-align: right;\">\n",
       "      <th></th>\n",
       "      <th>A</th>\n",
       "      <th>B</th>\n",
       "    </tr>\n",
       "  </thead>\n",
       "  <tbody>\n",
       "  </tbody>\n",
       "</table>\n",
       "</div>"
      ],
      "text/plain": [
       "Empty DataFrame\n",
       "Columns: [A, B]\n",
       "Index: []"
      ]
     },
     "execution_count": 48,
     "metadata": {},
     "output_type": "execute_result"
    }
   ],
   "source": [
    "df_empty"
   ]
  },
  {
   "cell_type": "code",
   "execution_count": 49,
   "id": "c4f13210-4c1a-4f5b-b757-9d344017f985",
   "metadata": {},
   "outputs": [
    {
     "data": {
      "text/plain": [
       "True"
      ]
     },
     "execution_count": 49,
     "metadata": {},
     "output_type": "execute_result"
    }
   ],
   "source": [
    "df_empty.empty"
   ]
  },
  {
   "cell_type": "code",
   "execution_count": 38,
   "id": "21d71aa9-f296-4e69-86c8-cc539a451ad6",
   "metadata": {},
   "outputs": [
    {
     "name": "stderr",
     "output_type": "stream",
     "text": [
      "C:\\Users\\karthik\\AppData\\Local\\Temp\\ipykernel_7076\\4159682073.py:1: FutureWarning: The frame.append method is deprecated and will be removed from pandas in a future version. Use pandas.concat instead.\n",
      "  combined_ages=combined_ages.append({'class 1':35,'class 2':33,'class 3':21,'class 4':20},ignore_index=True)\n"
     ]
    },
    {
     "data": {
      "text/html": [
       "<div>\n",
       "<style scoped>\n",
       "    .dataframe tbody tr th:only-of-type {\n",
       "        vertical-align: middle;\n",
       "    }\n",
       "\n",
       "    .dataframe tbody tr th {\n",
       "        vertical-align: top;\n",
       "    }\n",
       "\n",
       "    .dataframe thead th {\n",
       "        text-align: right;\n",
       "    }\n",
       "</style>\n",
       "<table border=\"1\" class=\"dataframe\">\n",
       "  <thead>\n",
       "    <tr style=\"text-align: right;\">\n",
       "      <th></th>\n",
       "      <th>class 1</th>\n",
       "      <th>class 2</th>\n",
       "      <th>class 3</th>\n",
       "      <th>class 4</th>\n",
       "    </tr>\n",
       "  </thead>\n",
       "  <tbody>\n",
       "    <tr>\n",
       "      <th>0</th>\n",
       "      <td>22</td>\n",
       "      <td>24</td>\n",
       "      <td>20</td>\n",
       "      <td>NaN</td>\n",
       "    </tr>\n",
       "    <tr>\n",
       "      <th>1</th>\n",
       "      <td>40</td>\n",
       "      <td>50</td>\n",
       "      <td>45</td>\n",
       "      <td>NaN</td>\n",
       "    </tr>\n",
       "    <tr>\n",
       "      <th>2</th>\n",
       "      <td>35</td>\n",
       "      <td>33</td>\n",
       "      <td>21</td>\n",
       "      <td>20.0</td>\n",
       "    </tr>\n",
       "    <tr>\n",
       "      <th>3</th>\n",
       "      <td>35</td>\n",
       "      <td>33</td>\n",
       "      <td>21</td>\n",
       "      <td>20.0</td>\n",
       "    </tr>\n",
       "  </tbody>\n",
       "</table>\n",
       "</div>"
      ],
      "text/plain": [
       "   class 1  class 2  class 3  class 4\n",
       "0       22       24       20      NaN\n",
       "1       40       50       45      NaN\n",
       "2       35       33       21     20.0\n",
       "3       35       33       21     20.0"
      ]
     },
     "execution_count": 38,
     "metadata": {},
     "output_type": "execute_result"
    }
   ],
   "source": [
    "combined_ages=combined_ages.append({'class 1':35,'class 2':33,'class 3':21,'class 4':20},ignore_index=True)\n",
    "combined_ages"
   ]
  },
  {
   "cell_type": "code",
   "execution_count": 50,
   "id": "40207a87-161d-4565-bf30-163fd0c8a017",
   "metadata": {},
   "outputs": [
    {
     "data": {
      "text/html": [
       "<div>\n",
       "<style scoped>\n",
       "    .dataframe tbody tr th:only-of-type {\n",
       "        vertical-align: middle;\n",
       "    }\n",
       "\n",
       "    .dataframe tbody tr th {\n",
       "        vertical-align: top;\n",
       "    }\n",
       "\n",
       "    .dataframe thead th {\n",
       "        text-align: right;\n",
       "    }\n",
       "</style>\n",
       "<table border=\"1\" class=\"dataframe\">\n",
       "  <thead>\n",
       "    <tr style=\"text-align: right;\">\n",
       "      <th></th>\n",
       "      <th>class 1</th>\n",
       "      <th>class 2</th>\n",
       "      <th>class 3</th>\n",
       "      <th>class 4</th>\n",
       "    </tr>\n",
       "  </thead>\n",
       "  <tbody>\n",
       "    <tr>\n",
       "      <th>0</th>\n",
       "      <td>False</td>\n",
       "      <td>False</td>\n",
       "      <td>False</td>\n",
       "      <td>True</td>\n",
       "    </tr>\n",
       "    <tr>\n",
       "      <th>1</th>\n",
       "      <td>False</td>\n",
       "      <td>False</td>\n",
       "      <td>False</td>\n",
       "      <td>True</td>\n",
       "    </tr>\n",
       "    <tr>\n",
       "      <th>2</th>\n",
       "      <td>False</td>\n",
       "      <td>False</td>\n",
       "      <td>False</td>\n",
       "      <td>False</td>\n",
       "    </tr>\n",
       "    <tr>\n",
       "      <th>3</th>\n",
       "      <td>False</td>\n",
       "      <td>False</td>\n",
       "      <td>False</td>\n",
       "      <td>False</td>\n",
       "    </tr>\n",
       "  </tbody>\n",
       "</table>\n",
       "</div>"
      ],
      "text/plain": [
       "   class 1  class 2  class 3  class 4\n",
       "0    False    False    False     True\n",
       "1    False    False    False     True\n",
       "2    False    False    False    False\n",
       "3    False    False    False    False"
      ]
     },
     "execution_count": 50,
     "metadata": {},
     "output_type": "execute_result"
    }
   ],
   "source": [
    "combined_ages.isna()"
   ]
  },
  {
   "cell_type": "code",
   "execution_count": 51,
   "id": "cb8dd324-f9eb-44b8-b8f8-b26a82ce3760",
   "metadata": {},
   "outputs": [
    {
     "name": "stderr",
     "output_type": "stream",
     "text": [
      "C:\\Users\\karthik\\AppData\\Local\\Temp\\ipykernel_7076\\2300970272.py:1: FutureWarning: The frame.append method is deprecated and will be removed from pandas in a future version. Use pandas.concat instead.\n",
      "  combined_ages=combined_ages.append({'class 1':23,'class 2':345,'class 3':51,'class 4':22,'class 5':[12,23,34,5],0:23},ignore_index=True)\n"
     ]
    },
    {
     "data": {
      "text/html": [
       "<div>\n",
       "<style scoped>\n",
       "    .dataframe tbody tr th:only-of-type {\n",
       "        vertical-align: middle;\n",
       "    }\n",
       "\n",
       "    .dataframe tbody tr th {\n",
       "        vertical-align: top;\n",
       "    }\n",
       "\n",
       "    .dataframe thead th {\n",
       "        text-align: right;\n",
       "    }\n",
       "</style>\n",
       "<table border=\"1\" class=\"dataframe\">\n",
       "  <thead>\n",
       "    <tr style=\"text-align: right;\">\n",
       "      <th></th>\n",
       "      <th>class 1</th>\n",
       "      <th>class 2</th>\n",
       "      <th>class 3</th>\n",
       "      <th>class 4</th>\n",
       "      <th>0</th>\n",
       "      <th>class 5</th>\n",
       "    </tr>\n",
       "  </thead>\n",
       "  <tbody>\n",
       "    <tr>\n",
       "      <th>0</th>\n",
       "      <td>22</td>\n",
       "      <td>24</td>\n",
       "      <td>20</td>\n",
       "      <td>NaN</td>\n",
       "      <td>NaN</td>\n",
       "      <td>NaN</td>\n",
       "    </tr>\n",
       "    <tr>\n",
       "      <th>1</th>\n",
       "      <td>40</td>\n",
       "      <td>50</td>\n",
       "      <td>45</td>\n",
       "      <td>NaN</td>\n",
       "      <td>NaN</td>\n",
       "      <td>NaN</td>\n",
       "    </tr>\n",
       "    <tr>\n",
       "      <th>2</th>\n",
       "      <td>35</td>\n",
       "      <td>33</td>\n",
       "      <td>21</td>\n",
       "      <td>20.0</td>\n",
       "      <td>NaN</td>\n",
       "      <td>NaN</td>\n",
       "    </tr>\n",
       "    <tr>\n",
       "      <th>3</th>\n",
       "      <td>35</td>\n",
       "      <td>33</td>\n",
       "      <td>21</td>\n",
       "      <td>20.0</td>\n",
       "      <td>NaN</td>\n",
       "      <td>NaN</td>\n",
       "    </tr>\n",
       "    <tr>\n",
       "      <th>4</th>\n",
       "      <td>23</td>\n",
       "      <td>345</td>\n",
       "      <td>51</td>\n",
       "      <td>22.0</td>\n",
       "      <td>23.0</td>\n",
       "      <td>[12, 23, 34, 5]</td>\n",
       "    </tr>\n",
       "  </tbody>\n",
       "</table>\n",
       "</div>"
      ],
      "text/plain": [
       "   class 1  class 2  class 3  class 4     0          class 5\n",
       "0       22       24       20      NaN   NaN              NaN\n",
       "1       40       50       45      NaN   NaN              NaN\n",
       "2       35       33       21     20.0   NaN              NaN\n",
       "3       35       33       21     20.0   NaN              NaN\n",
       "4       23      345       51     22.0  23.0  [12, 23, 34, 5]"
      ]
     },
     "execution_count": 51,
     "metadata": {},
     "output_type": "execute_result"
    }
   ],
   "source": [
    "combined_ages=combined_ages.append({'class 1':23,'class 2':345,'class 3':51,'class 4':22,'class 5':[12,23,34,5],0:23},ignore_index=True)\n",
    "combined_ages"
   ]
  },
  {
   "cell_type": "code",
   "execution_count": 54,
   "id": "0f4e58d2-7084-4b67-8f1a-7912cc0a31e3",
   "metadata": {},
   "outputs": [
    {
     "data": {
      "text/html": [
       "<div>\n",
       "<style scoped>\n",
       "    .dataframe tbody tr th:only-of-type {\n",
       "        vertical-align: middle;\n",
       "    }\n",
       "\n",
       "    .dataframe tbody tr th {\n",
       "        vertical-align: top;\n",
       "    }\n",
       "\n",
       "    .dataframe thead th {\n",
       "        text-align: right;\n",
       "    }\n",
       "</style>\n",
       "<table border=\"1\" class=\"dataframe\">\n",
       "  <thead>\n",
       "    <tr style=\"text-align: right;\">\n",
       "      <th></th>\n",
       "      <th>class 1</th>\n",
       "      <th>class 2</th>\n",
       "      <th>class 3</th>\n",
       "    </tr>\n",
       "  </thead>\n",
       "  <tbody>\n",
       "    <tr>\n",
       "      <th>0</th>\n",
       "      <td>22</td>\n",
       "      <td>24</td>\n",
       "      <td>20</td>\n",
       "    </tr>\n",
       "    <tr>\n",
       "      <th>1</th>\n",
       "      <td>40</td>\n",
       "      <td>50</td>\n",
       "      <td>45</td>\n",
       "    </tr>\n",
       "    <tr>\n",
       "      <th>2</th>\n",
       "      <td>35</td>\n",
       "      <td>33</td>\n",
       "      <td>21</td>\n",
       "    </tr>\n",
       "    <tr>\n",
       "      <th>3</th>\n",
       "      <td>35</td>\n",
       "      <td>33</td>\n",
       "      <td>21</td>\n",
       "    </tr>\n",
       "    <tr>\n",
       "      <th>4</th>\n",
       "      <td>23</td>\n",
       "      <td>345</td>\n",
       "      <td>51</td>\n",
       "    </tr>\n",
       "  </tbody>\n",
       "</table>\n",
       "</div>"
      ],
      "text/plain": [
       "   class 1  class 2  class 3\n",
       "0       22       24       20\n",
       "1       40       50       45\n",
       "2       35       33       21\n",
       "3       35       33       21\n",
       "4       23      345       51"
      ]
     },
     "execution_count": 54,
     "metadata": {},
     "output_type": "execute_result"
    }
   ],
   "source": [
    "combined_ages.dropna(axis=1)"
   ]
  },
  {
   "cell_type": "code",
   "execution_count": 100,
   "id": "14767afc-0e76-4132-a63c-8002f5649c05",
   "metadata": {},
   "outputs": [
    {
     "data": {
      "text/html": [
       "<div>\n",
       "<style scoped>\n",
       "    .dataframe tbody tr th:only-of-type {\n",
       "        vertical-align: middle;\n",
       "    }\n",
       "\n",
       "    .dataframe tbody tr th {\n",
       "        vertical-align: top;\n",
       "    }\n",
       "\n",
       "    .dataframe thead th {\n",
       "        text-align: right;\n",
       "    }\n",
       "</style>\n",
       "<table border=\"1\" class=\"dataframe\">\n",
       "  <thead>\n",
       "    <tr style=\"text-align: right;\">\n",
       "      <th></th>\n",
       "      <th>date</th>\n",
       "      <th>day</th>\n",
       "      <th>month</th>\n",
       "      <th>year</th>\n",
       "      <th>cases</th>\n",
       "      <th>deaths</th>\n",
       "    </tr>\n",
       "  </thead>\n",
       "  <tbody>\n",
       "    <tr>\n",
       "      <th>0</th>\n",
       "      <td>2020-04-12</td>\n",
       "      <td>12</td>\n",
       "      <td>4</td>\n",
       "      <td>2020</td>\n",
       "      <td>34</td>\n",
       "      <td>3</td>\n",
       "    </tr>\n",
       "    <tr>\n",
       "      <th>1</th>\n",
       "      <td>2020-04-12</td>\n",
       "      <td>12</td>\n",
       "      <td>4</td>\n",
       "      <td>2020</td>\n",
       "      <td>17</td>\n",
       "      <td>0</td>\n",
       "    </tr>\n",
       "    <tr>\n",
       "      <th>2</th>\n",
       "      <td>2020-04-12</td>\n",
       "      <td>12</td>\n",
       "      <td>4</td>\n",
       "      <td>2020</td>\n",
       "      <td>64</td>\n",
       "      <td>19</td>\n",
       "    </tr>\n",
       "    <tr>\n",
       "      <th>3</th>\n",
       "      <td>2020-04-12</td>\n",
       "      <td>12</td>\n",
       "      <td>4</td>\n",
       "      <td>2020</td>\n",
       "      <td>21</td>\n",
       "      <td>2</td>\n",
       "    </tr>\n",
       "    <tr>\n",
       "      <th>4</th>\n",
       "      <td>2020-04-12</td>\n",
       "      <td>12</td>\n",
       "      <td>4</td>\n",
       "      <td>2020</td>\n",
       "      <td>0</td>\n",
       "      <td>0</td>\n",
       "    </tr>\n",
       "    <tr>\n",
       "      <th>...</th>\n",
       "      <td>...</td>\n",
       "      <td>...</td>\n",
       "      <td>...</td>\n",
       "      <td>...</td>\n",
       "      <td>...</td>\n",
       "      <td>...</td>\n",
       "    </tr>\n",
       "    <tr>\n",
       "      <th>201</th>\n",
       "      <td>2020-04-12</td>\n",
       "      <td>12</td>\n",
       "      <td>4</td>\n",
       "      <td>2020</td>\n",
       "      <td>0</td>\n",
       "      <td>0</td>\n",
       "    </tr>\n",
       "    <tr>\n",
       "      <th>202</th>\n",
       "      <td>2020-04-12</td>\n",
       "      <td>12</td>\n",
       "      <td>4</td>\n",
       "      <td>2020</td>\n",
       "      <td>4</td>\n",
       "      <td>0</td>\n",
       "    </tr>\n",
       "    <tr>\n",
       "      <th>203</th>\n",
       "      <td>2020-04-12</td>\n",
       "      <td>12</td>\n",
       "      <td>4</td>\n",
       "      <td>2020</td>\n",
       "      <td>0</td>\n",
       "      <td>0</td>\n",
       "    </tr>\n",
       "    <tr>\n",
       "      <th>204</th>\n",
       "      <td>2020-04-12</td>\n",
       "      <td>12</td>\n",
       "      <td>4</td>\n",
       "      <td>2020</td>\n",
       "      <td>0</td>\n",
       "      <td>0</td>\n",
       "    </tr>\n",
       "    <tr>\n",
       "      <th>205</th>\n",
       "      <td>2020-04-12</td>\n",
       "      <td>12</td>\n",
       "      <td>4</td>\n",
       "      <td>2020</td>\n",
       "      <td>3</td>\n",
       "      <td>0</td>\n",
       "    </tr>\n",
       "  </tbody>\n",
       "</table>\n",
       "<p>206 rows × 6 columns</p>\n",
       "</div>"
      ],
      "text/plain": [
       "           date  day  month  year  cases  deaths\n",
       "0    2020-04-12   12      4  2020     34       3\n",
       "1    2020-04-12   12      4  2020     17       0\n",
       "2    2020-04-12   12      4  2020     64      19\n",
       "3    2020-04-12   12      4  2020     21       2\n",
       "4    2020-04-12   12      4  2020      0       0\n",
       "..          ...  ...    ...   ...    ...     ...\n",
       "201  2020-04-12   12      4  2020      0       0\n",
       "202  2020-04-12   12      4  2020      4       0\n",
       "203  2020-04-12   12      4  2020      0       0\n",
       "204  2020-04-12   12      4  2020      0       0\n",
       "205  2020-04-12   12      4  2020      3       0\n",
       "\n",
       "[206 rows x 6 columns]"
      ]
     },
     "execution_count": 100,
     "metadata": {},
     "output_type": "execute_result"
    }
   ],
   "source": [
    "covid19_data_na.dropna(axia=1)"
   ]
  },
  {
   "cell_type": "code",
   "execution_count": 101,
   "id": "8fc6ea64-2db7-4e44-a61f-6dafc4a1fa57",
   "metadata": {},
   "outputs": [
    {
     "data": {
      "text/html": [
       "<div>\n",
       "<style scoped>\n",
       "    .dataframe tbody tr th:only-of-type {\n",
       "        vertical-align: middle;\n",
       "    }\n",
       "\n",
       "    .dataframe tbody tr th {\n",
       "        vertical-align: top;\n",
       "    }\n",
       "\n",
       "    .dataframe thead th {\n",
       "        text-align: right;\n",
       "    }\n",
       "</style>\n",
       "<table border=\"1\" class=\"dataframe\">\n",
       "  <thead>\n",
       "    <tr style=\"text-align: right;\">\n",
       "      <th></th>\n",
       "      <th>country</th>\n",
       "      <th>continent</th>\n",
       "      <th>date</th>\n",
       "      <th>day</th>\n",
       "      <th>month</th>\n",
       "      <th>year</th>\n",
       "      <th>cases</th>\n",
       "      <th>deaths</th>\n",
       "      <th>country_code</th>\n",
       "      <th>population</th>\n",
       "    </tr>\n",
       "  </thead>\n",
       "  <tbody>\n",
       "    <tr>\n",
       "      <th>0</th>\n",
       "      <td>Afghanistan</td>\n",
       "      <td>NaN</td>\n",
       "      <td>2020-04-12</td>\n",
       "      <td>12</td>\n",
       "      <td>4</td>\n",
       "      <td>2020</td>\n",
       "      <td>34</td>\n",
       "      <td>3</td>\n",
       "      <td>AFG</td>\n",
       "      <td>37172386.0</td>\n",
       "    </tr>\n",
       "    <tr>\n",
       "      <th>1</th>\n",
       "      <td>Albania</td>\n",
       "      <td>Europe</td>\n",
       "      <td>2020-04-12</td>\n",
       "      <td>12</td>\n",
       "      <td>4</td>\n",
       "      <td>2020</td>\n",
       "      <td>17</td>\n",
       "      <td>0</td>\n",
       "      <td>ALB</td>\n",
       "      <td>2866376.0</td>\n",
       "    </tr>\n",
       "    <tr>\n",
       "      <th>2</th>\n",
       "      <td>NaN</td>\n",
       "      <td>Africa</td>\n",
       "      <td>2020-04-12</td>\n",
       "      <td>12</td>\n",
       "      <td>4</td>\n",
       "      <td>2020</td>\n",
       "      <td>64</td>\n",
       "      <td>19</td>\n",
       "      <td>DZA</td>\n",
       "      <td>42228429.0</td>\n",
       "    </tr>\n",
       "    <tr>\n",
       "      <th>3</th>\n",
       "      <td>Andorra</td>\n",
       "      <td>Europe</td>\n",
       "      <td>2020-04-12</td>\n",
       "      <td>12</td>\n",
       "      <td>4</td>\n",
       "      <td>2020</td>\n",
       "      <td>21</td>\n",
       "      <td>2</td>\n",
       "      <td>AND</td>\n",
       "      <td>77006.0</td>\n",
       "    </tr>\n",
       "    <tr>\n",
       "      <th>4</th>\n",
       "      <td>Angola</td>\n",
       "      <td>Africa</td>\n",
       "      <td>2020-04-12</td>\n",
       "      <td>12</td>\n",
       "      <td>4</td>\n",
       "      <td>2020</td>\n",
       "      <td>0</td>\n",
       "      <td>0</td>\n",
       "      <td>AGO</td>\n",
       "      <td>30809762.0</td>\n",
       "    </tr>\n",
       "    <tr>\n",
       "      <th>...</th>\n",
       "      <td>...</td>\n",
       "      <td>...</td>\n",
       "      <td>...</td>\n",
       "      <td>...</td>\n",
       "      <td>...</td>\n",
       "      <td>...</td>\n",
       "      <td>...</td>\n",
       "      <td>...</td>\n",
       "      <td>...</td>\n",
       "      <td>...</td>\n",
       "    </tr>\n",
       "    <tr>\n",
       "      <th>201</th>\n",
       "      <td>Venezuela</td>\n",
       "      <td>America</td>\n",
       "      <td>2020-04-12</td>\n",
       "      <td>12</td>\n",
       "      <td>4</td>\n",
       "      <td>2020</td>\n",
       "      <td>0</td>\n",
       "      <td>0</td>\n",
       "      <td>VEN</td>\n",
       "      <td>28870195.0</td>\n",
       "    </tr>\n",
       "    <tr>\n",
       "      <th>202</th>\n",
       "      <td>Vietnam</td>\n",
       "      <td>Asia</td>\n",
       "      <td>2020-04-12</td>\n",
       "      <td>12</td>\n",
       "      <td>4</td>\n",
       "      <td>2020</td>\n",
       "      <td>4</td>\n",
       "      <td>0</td>\n",
       "      <td>VNM</td>\n",
       "      <td>95540395.0</td>\n",
       "    </tr>\n",
       "    <tr>\n",
       "      <th>203</th>\n",
       "      <td>Yemen</td>\n",
       "      <td>Asia</td>\n",
       "      <td>2020-04-12</td>\n",
       "      <td>12</td>\n",
       "      <td>4</td>\n",
       "      <td>2020</td>\n",
       "      <td>0</td>\n",
       "      <td>0</td>\n",
       "      <td>YEM</td>\n",
       "      <td>28498687.0</td>\n",
       "    </tr>\n",
       "    <tr>\n",
       "      <th>204</th>\n",
       "      <td>Zambia</td>\n",
       "      <td>Africa</td>\n",
       "      <td>2020-04-12</td>\n",
       "      <td>12</td>\n",
       "      <td>4</td>\n",
       "      <td>2020</td>\n",
       "      <td>0</td>\n",
       "      <td>0</td>\n",
       "      <td>ZMB</td>\n",
       "      <td>17351822.0</td>\n",
       "    </tr>\n",
       "    <tr>\n",
       "      <th>205</th>\n",
       "      <td>Zimbabwe</td>\n",
       "      <td>Africa</td>\n",
       "      <td>2020-04-12</td>\n",
       "      <td>12</td>\n",
       "      <td>4</td>\n",
       "      <td>2020</td>\n",
       "      <td>3</td>\n",
       "      <td>0</td>\n",
       "      <td>ZWE</td>\n",
       "      <td>14439018.0</td>\n",
       "    </tr>\n",
       "  </tbody>\n",
       "</table>\n",
       "<p>206 rows × 10 columns</p>\n",
       "</div>"
      ],
      "text/plain": [
       "         country continent        date  day  month  year  cases  deaths  \\\n",
       "0    Afghanistan       NaN  2020-04-12   12      4  2020     34       3   \n",
       "1        Albania    Europe  2020-04-12   12      4  2020     17       0   \n",
       "2            NaN    Africa  2020-04-12   12      4  2020     64      19   \n",
       "3        Andorra    Europe  2020-04-12   12      4  2020     21       2   \n",
       "4         Angola    Africa  2020-04-12   12      4  2020      0       0   \n",
       "..           ...       ...         ...  ...    ...   ...    ...     ...   \n",
       "201    Venezuela   America  2020-04-12   12      4  2020      0       0   \n",
       "202      Vietnam      Asia  2020-04-12   12      4  2020      4       0   \n",
       "203        Yemen      Asia  2020-04-12   12      4  2020      0       0   \n",
       "204       Zambia    Africa  2020-04-12   12      4  2020      0       0   \n",
       "205     Zimbabwe    Africa  2020-04-12   12      4  2020      3       0   \n",
       "\n",
       "    country_code  population  \n",
       "0            AFG  37172386.0  \n",
       "1            ALB   2866376.0  \n",
       "2            DZA  42228429.0  \n",
       "3            AND     77006.0  \n",
       "4            AGO  30809762.0  \n",
       "..           ...         ...  \n",
       "201          VEN  28870195.0  \n",
       "202          VNM  95540395.0  \n",
       "203          YEM  28498687.0  \n",
       "204          ZMB  17351822.0  \n",
       "205          ZWE  14439018.0  \n",
       "\n",
       "[206 rows x 10 columns]"
      ]
     },
     "execution_count": 101,
     "metadata": {},
     "output_type": "execute_result"
    }
   ],
   "source": [
    "covid19_data_na"
   ]
  },
  {
   "cell_type": "code",
   "execution_count": 90,
   "id": "3a53c594-d51d-4eda-a892-a92789f148c8",
   "metadata": {},
   "outputs": [
    {
     "data": {
      "text/html": [
       "<div>\n",
       "<style scoped>\n",
       "    .dataframe tbody tr th:only-of-type {\n",
       "        vertical-align: middle;\n",
       "    }\n",
       "\n",
       "    .dataframe tbody tr th {\n",
       "        vertical-align: top;\n",
       "    }\n",
       "\n",
       "    .dataframe thead th {\n",
       "        text-align: right;\n",
       "    }\n",
       "</style>\n",
       "<table border=\"1\" class=\"dataframe\">\n",
       "  <thead>\n",
       "    <tr style=\"text-align: right;\">\n",
       "      <th></th>\n",
       "      <th>class 1</th>\n",
       "      <th>class 2</th>\n",
       "      <th>class 3</th>\n",
       "    </tr>\n",
       "  </thead>\n",
       "  <tbody>\n",
       "    <tr>\n",
       "      <th>0</th>\n",
       "      <td>False</td>\n",
       "      <td>False</td>\n",
       "      <td>False</td>\n",
       "    </tr>\n",
       "    <tr>\n",
       "      <th>1</th>\n",
       "      <td>False</td>\n",
       "      <td>False</td>\n",
       "      <td>False</td>\n",
       "    </tr>\n",
       "  </tbody>\n",
       "</table>\n",
       "</div>"
      ],
      "text/plain": [
       "   class 1  class 2  class 3\n",
       "0    False    False    False\n",
       "1    False    False    False"
      ]
     },
     "execution_count": 90,
     "metadata": {},
     "output_type": "execute_result"
    }
   ],
   "source": [
    "combined_ages.isna()"
   ]
  },
  {
   "cell_type": "markdown",
   "id": "35a9fcf3-8ab2-4e00-9513-1b2f78eddba6",
   "metadata": {},
   "source": [
    "### COUNT\n",
    "- This attribute gives the count of the items in the DataFrame. By default, it gives the count of the rows.\n",
    " \n",
    "- We can set count (0) or count (1), 0 is for displaying the count of rows (this is by default) and 1 is for displaying the count of columns.\n",
    " \n",
    "- Instead, we can use axis='index' or axis=’columns’\n",
    " \n",
    "SYNTAX\n",
    "```\n",
    "<DataFrameObject>. <count ()>```"
   ]
  },
  {
   "cell_type": "code",
   "execution_count": 55,
   "id": "3164b054-f101-4785-99dd-8d0f81d7dbcb",
   "metadata": {},
   "outputs": [
    {
     "data": {
      "text/html": [
       "<div>\n",
       "<style scoped>\n",
       "    .dataframe tbody tr th:only-of-type {\n",
       "        vertical-align: middle;\n",
       "    }\n",
       "\n",
       "    .dataframe tbody tr th {\n",
       "        vertical-align: top;\n",
       "    }\n",
       "\n",
       "    .dataframe thead th {\n",
       "        text-align: right;\n",
       "    }\n",
       "</style>\n",
       "<table border=\"1\" class=\"dataframe\">\n",
       "  <thead>\n",
       "    <tr style=\"text-align: right;\">\n",
       "      <th></th>\n",
       "      <th>class 1</th>\n",
       "      <th>class 2</th>\n",
       "      <th>class 3</th>\n",
       "      <th>class 4</th>\n",
       "      <th>0</th>\n",
       "      <th>class 5</th>\n",
       "    </tr>\n",
       "  </thead>\n",
       "  <tbody>\n",
       "    <tr>\n",
       "      <th>0</th>\n",
       "      <td>22</td>\n",
       "      <td>24</td>\n",
       "      <td>20</td>\n",
       "      <td>NaN</td>\n",
       "      <td>NaN</td>\n",
       "      <td>NaN</td>\n",
       "    </tr>\n",
       "    <tr>\n",
       "      <th>1</th>\n",
       "      <td>40</td>\n",
       "      <td>50</td>\n",
       "      <td>45</td>\n",
       "      <td>NaN</td>\n",
       "      <td>NaN</td>\n",
       "      <td>NaN</td>\n",
       "    </tr>\n",
       "    <tr>\n",
       "      <th>2</th>\n",
       "      <td>35</td>\n",
       "      <td>33</td>\n",
       "      <td>21</td>\n",
       "      <td>20.0</td>\n",
       "      <td>NaN</td>\n",
       "      <td>NaN</td>\n",
       "    </tr>\n",
       "    <tr>\n",
       "      <th>3</th>\n",
       "      <td>35</td>\n",
       "      <td>33</td>\n",
       "      <td>21</td>\n",
       "      <td>20.0</td>\n",
       "      <td>NaN</td>\n",
       "      <td>NaN</td>\n",
       "    </tr>\n",
       "    <tr>\n",
       "      <th>4</th>\n",
       "      <td>23</td>\n",
       "      <td>345</td>\n",
       "      <td>51</td>\n",
       "      <td>22.0</td>\n",
       "      <td>23.0</td>\n",
       "      <td>[12, 23, 34, 5]</td>\n",
       "    </tr>\n",
       "  </tbody>\n",
       "</table>\n",
       "</div>"
      ],
      "text/plain": [
       "   class 1  class 2  class 3  class 4     0          class 5\n",
       "0       22       24       20      NaN   NaN              NaN\n",
       "1       40       50       45      NaN   NaN              NaN\n",
       "2       35       33       21     20.0   NaN              NaN\n",
       "3       35       33       21     20.0   NaN              NaN\n",
       "4       23      345       51     22.0  23.0  [12, 23, 34, 5]"
      ]
     },
     "execution_count": 55,
     "metadata": {},
     "output_type": "execute_result"
    }
   ],
   "source": [
    "combined_ages"
   ]
  },
  {
   "cell_type": "code",
   "execution_count": 59,
   "id": "e8c2aea9-c5c0-41d5-9366-f50fa2968dc9",
   "metadata": {},
   "outputs": [
    {
     "data": {
      "text/plain": [
       "2"
      ]
     },
     "execution_count": 59,
     "metadata": {},
     "output_type": "execute_result"
    }
   ],
   "source": [
    "True+True+False"
   ]
  },
  {
   "cell_type": "code",
   "execution_count": 57,
   "id": "5682095e-f710-4e15-9b1d-688785f6be62",
   "metadata": {},
   "outputs": [
    {
     "data": {
      "text/plain": [
       "0    3\n",
       "1    3\n",
       "2    4\n",
       "3    4\n",
       "4    6\n",
       "dtype: int64"
      ]
     },
     "execution_count": 57,
     "metadata": {},
     "output_type": "execute_result"
    }
   ],
   "source": [
    "combined_ages.count(1)"
   ]
  },
  {
   "cell_type": "code",
   "execution_count": 60,
   "id": "9098aeac-a4a8-4b25-a698-12db8f80be8d",
   "metadata": {},
   "outputs": [
    {
     "data": {
      "text/html": [
       "<div>\n",
       "<style scoped>\n",
       "    .dataframe tbody tr th:only-of-type {\n",
       "        vertical-align: middle;\n",
       "    }\n",
       "\n",
       "    .dataframe tbody tr th {\n",
       "        vertical-align: top;\n",
       "    }\n",
       "\n",
       "    .dataframe thead th {\n",
       "        text-align: right;\n",
       "    }\n",
       "</style>\n",
       "<table border=\"1\" class=\"dataframe\">\n",
       "  <thead>\n",
       "    <tr style=\"text-align: right;\">\n",
       "      <th></th>\n",
       "      <th>class 1</th>\n",
       "      <th>class 2</th>\n",
       "      <th>class 3</th>\n",
       "      <th>class 4</th>\n",
       "      <th>0</th>\n",
       "      <th>class 5</th>\n",
       "    </tr>\n",
       "  </thead>\n",
       "  <tbody>\n",
       "    <tr>\n",
       "      <th>0</th>\n",
       "      <td>22</td>\n",
       "      <td>24</td>\n",
       "      <td>20</td>\n",
       "      <td>NaN</td>\n",
       "      <td>NaN</td>\n",
       "      <td>NaN</td>\n",
       "    </tr>\n",
       "    <tr>\n",
       "      <th>1</th>\n",
       "      <td>40</td>\n",
       "      <td>50</td>\n",
       "      <td>45</td>\n",
       "      <td>NaN</td>\n",
       "      <td>NaN</td>\n",
       "      <td>NaN</td>\n",
       "    </tr>\n",
       "    <tr>\n",
       "      <th>2</th>\n",
       "      <td>35</td>\n",
       "      <td>33</td>\n",
       "      <td>21</td>\n",
       "      <td>20.0</td>\n",
       "      <td>NaN</td>\n",
       "      <td>NaN</td>\n",
       "    </tr>\n",
       "    <tr>\n",
       "      <th>3</th>\n",
       "      <td>35</td>\n",
       "      <td>33</td>\n",
       "      <td>21</td>\n",
       "      <td>20.0</td>\n",
       "      <td>NaN</td>\n",
       "      <td>NaN</td>\n",
       "    </tr>\n",
       "    <tr>\n",
       "      <th>4</th>\n",
       "      <td>23</td>\n",
       "      <td>345</td>\n",
       "      <td>51</td>\n",
       "      <td>22.0</td>\n",
       "      <td>23.0</td>\n",
       "      <td>[12, 23, 34, 5]</td>\n",
       "    </tr>\n",
       "  </tbody>\n",
       "</table>\n",
       "</div>"
      ],
      "text/plain": [
       "   class 1  class 2  class 3  class 4     0          class 5\n",
       "0       22       24       20      NaN   NaN              NaN\n",
       "1       40       50       45      NaN   NaN              NaN\n",
       "2       35       33       21     20.0   NaN              NaN\n",
       "3       35       33       21     20.0   NaN              NaN\n",
       "4       23      345       51     22.0  23.0  [12, 23, 34, 5]"
      ]
     },
     "execution_count": 60,
     "metadata": {},
     "output_type": "execute_result"
    }
   ],
   "source": [
    "combined_ages"
   ]
  },
  {
   "cell_type": "code",
   "execution_count": 14,
   "id": "437ef6bf-2759-4827-853a-def812d47cb6",
   "metadata": {},
   "outputs": [
    {
     "data": {
      "text/plain": [
       "0    3\n",
       "1    3\n",
       "dtype: int64"
      ]
     },
     "execution_count": 14,
     "metadata": {},
     "output_type": "execute_result"
    }
   ],
   "source": [
    "combined_ages.count(1) #count of columns."
   ]
  },
  {
   "cell_type": "code",
   "execution_count": 16,
   "id": "d7635f1e-f61b-457e-a29d-bf0a1346cb0d",
   "metadata": {},
   "outputs": [
    {
     "data": {
      "text/plain": [
       "0    3\n",
       "1    3\n",
       "dtype: int64"
      ]
     },
     "execution_count": 16,
     "metadata": {},
     "output_type": "execute_result"
    }
   ],
   "source": [
    "combined_ages.count(axis='columns')"
   ]
  },
  {
   "cell_type": "markdown",
   "id": "507da323-17ec-433f-a21b-eaca3022f32a",
   "metadata": {},
   "source": [
    "### T\n",
    " \n",
    "- This attribute is used to transpose the DataFrame; i.e., rows becomes columns and columns become rows.\n",
    " \n",
    "- SYNTAX\n",
    "``` \n",
    "<DataFrameObject>. <T>```"
   ]
  },
  {
   "cell_type": "code",
   "execution_count": 61,
   "id": "41fa67ae-3c21-4787-baa6-20fce0d6c525",
   "metadata": {},
   "outputs": [
    {
     "data": {
      "text/html": [
       "<div>\n",
       "<style scoped>\n",
       "    .dataframe tbody tr th:only-of-type {\n",
       "        vertical-align: middle;\n",
       "    }\n",
       "\n",
       "    .dataframe tbody tr th {\n",
       "        vertical-align: top;\n",
       "    }\n",
       "\n",
       "    .dataframe thead th {\n",
       "        text-align: right;\n",
       "    }\n",
       "</style>\n",
       "<table border=\"1\" class=\"dataframe\">\n",
       "  <thead>\n",
       "    <tr style=\"text-align: right;\">\n",
       "      <th></th>\n",
       "      <th>0</th>\n",
       "      <th>1</th>\n",
       "      <th>2</th>\n",
       "      <th>3</th>\n",
       "      <th>4</th>\n",
       "    </tr>\n",
       "  </thead>\n",
       "  <tbody>\n",
       "    <tr>\n",
       "      <th>class 1</th>\n",
       "      <td>22</td>\n",
       "      <td>40</td>\n",
       "      <td>35</td>\n",
       "      <td>35</td>\n",
       "      <td>23</td>\n",
       "    </tr>\n",
       "    <tr>\n",
       "      <th>class 2</th>\n",
       "      <td>24</td>\n",
       "      <td>50</td>\n",
       "      <td>33</td>\n",
       "      <td>33</td>\n",
       "      <td>345</td>\n",
       "    </tr>\n",
       "    <tr>\n",
       "      <th>class 3</th>\n",
       "      <td>20</td>\n",
       "      <td>45</td>\n",
       "      <td>21</td>\n",
       "      <td>21</td>\n",
       "      <td>51</td>\n",
       "    </tr>\n",
       "    <tr>\n",
       "      <th>class 4</th>\n",
       "      <td>NaN</td>\n",
       "      <td>NaN</td>\n",
       "      <td>20.0</td>\n",
       "      <td>20.0</td>\n",
       "      <td>22.0</td>\n",
       "    </tr>\n",
       "    <tr>\n",
       "      <th>0</th>\n",
       "      <td>NaN</td>\n",
       "      <td>NaN</td>\n",
       "      <td>NaN</td>\n",
       "      <td>NaN</td>\n",
       "      <td>23.0</td>\n",
       "    </tr>\n",
       "    <tr>\n",
       "      <th>class 5</th>\n",
       "      <td>NaN</td>\n",
       "      <td>NaN</td>\n",
       "      <td>NaN</td>\n",
       "      <td>NaN</td>\n",
       "      <td>[12, 23, 34, 5]</td>\n",
       "    </tr>\n",
       "  </tbody>\n",
       "</table>\n",
       "</div>"
      ],
      "text/plain": [
       "           0    1     2     3                4\n",
       "class 1   22   40    35    35               23\n",
       "class 2   24   50    33    33              345\n",
       "class 3   20   45    21    21               51\n",
       "class 4  NaN  NaN  20.0  20.0             22.0\n",
       "0        NaN  NaN   NaN   NaN             23.0\n",
       "class 5  NaN  NaN   NaN   NaN  [12, 23, 34, 5]"
      ]
     },
     "execution_count": 61,
     "metadata": {},
     "output_type": "execute_result"
    }
   ],
   "source": [
    "combined_ages.T"
   ]
  },
  {
   "cell_type": "code",
   "execution_count": 115,
   "id": "ce8715f5-c904-45a9-9984-f2b6ec05fc42",
   "metadata": {},
   "outputs": [
    {
     "data": {
      "text/html": [
       "<div>\n",
       "<style scoped>\n",
       "    .dataframe tbody tr th:only-of-type {\n",
       "        vertical-align: middle;\n",
       "    }\n",
       "\n",
       "    .dataframe tbody tr th {\n",
       "        vertical-align: top;\n",
       "    }\n",
       "\n",
       "    .dataframe thead th {\n",
       "        text-align: right;\n",
       "    }\n",
       "</style>\n",
       "<table border=\"1\" class=\"dataframe\">\n",
       "  <thead>\n",
       "    <tr style=\"text-align: right;\">\n",
       "      <th></th>\n",
       "      <th>class 1</th>\n",
       "      <th>class 2</th>\n",
       "      <th>class 3</th>\n",
       "      <th>0</th>\n",
       "      <th>class 4</th>\n",
       "      <th>class 5</th>\n",
       "    </tr>\n",
       "  </thead>\n",
       "  <tbody>\n",
       "    <tr>\n",
       "      <th>0</th>\n",
       "      <td>22</td>\n",
       "      <td>24</td>\n",
       "      <td>20</td>\n",
       "      <td>31.0</td>\n",
       "      <td>NaN</td>\n",
       "      <td>NaN</td>\n",
       "    </tr>\n",
       "    <tr>\n",
       "      <th>1</th>\n",
       "      <td>40</td>\n",
       "      <td>50</td>\n",
       "      <td>45</td>\n",
       "      <td>48.0</td>\n",
       "      <td>NaN</td>\n",
       "      <td>NaN</td>\n",
       "    </tr>\n",
       "    <tr>\n",
       "      <th>2</th>\n",
       "      <td>35</td>\n",
       "      <td>33</td>\n",
       "      <td>21</td>\n",
       "      <td>NaN</td>\n",
       "      <td>20.0</td>\n",
       "      <td>NaN</td>\n",
       "    </tr>\n",
       "    <tr>\n",
       "      <th>3</th>\n",
       "      <td>23</td>\n",
       "      <td>345</td>\n",
       "      <td>51</td>\n",
       "      <td>NaN</td>\n",
       "      <td>22.0</td>\n",
       "      <td>23.0</td>\n",
       "    </tr>\n",
       "    <tr>\n",
       "      <th>4</th>\n",
       "      <td>23</td>\n",
       "      <td>345</td>\n",
       "      <td>51</td>\n",
       "      <td>NaN</td>\n",
       "      <td>22.0</td>\n",
       "      <td>[12, 23, 34, 5]</td>\n",
       "    </tr>\n",
       "    <tr>\n",
       "      <th>5</th>\n",
       "      <td>23</td>\n",
       "      <td>345</td>\n",
       "      <td>51</td>\n",
       "      <td>23.0</td>\n",
       "      <td>22.0</td>\n",
       "      <td>[12, 23, 34, 5]</td>\n",
       "    </tr>\n",
       "  </tbody>\n",
       "</table>\n",
       "</div>"
      ],
      "text/plain": [
       "   class 1  class 2  class 3     0  class 4          class 5\n",
       "0       22       24       20  31.0      NaN              NaN\n",
       "1       40       50       45  48.0      NaN              NaN\n",
       "2       35       33       21   NaN     20.0              NaN\n",
       "3       23      345       51   NaN     22.0             23.0\n",
       "4       23      345       51   NaN     22.0  [12, 23, 34, 5]\n",
       "5       23      345       51  23.0     22.0  [12, 23, 34, 5]"
      ]
     },
     "execution_count": 115,
     "metadata": {},
     "output_type": "execute_result"
    }
   ],
   "source": [
    "combined_ages"
   ]
  },
  {
   "attachments": {
    "0e91ce48-c979-46f7-a3f7-07edd290bc9c.png": {
     "image/png": "[encoded data removed]"
    }
   },
   "cell_type": "markdown",
   "id": "30db3c19-5e38-4ed5-ac06-3913fccf7c9a",
   "metadata": {},
   "source": [
    "![image.png](attachment:0e91ce48-c979-46f7-a3f7-07edd290bc9c.png)"
   ]
  },
  {
   "cell_type": "code",
   "execution_count": 64,
   "id": "8cc4e0ec-3b47-4172-b7b3-bde22f806392",
   "metadata": {},
   "outputs": [],
   "source": [
    "import pandas as pd\n",
    "olympic_data=pd.read_csv(\"https://raw.githubusercontent.com/svkarthik86/Advance-Python-Numpy/main/olympics.csv\",skiprows=4)"
   ]
  },
  {
   "cell_type": "code",
   "execution_count": 65,
   "id": "83a90941-9911-4d98-b736-17f8b925fc1c",
   "metadata": {},
   "outputs": [
    {
     "data": {
      "text/html": [
       "<div>\n",
       "<style scoped>\n",
       "    .dataframe tbody tr th:only-of-type {\n",
       "        vertical-align: middle;\n",
       "    }\n",
       "\n",
       "    .dataframe tbody tr th {\n",
       "        vertical-align: top;\n",
       "    }\n",
       "\n",
       "    .dataframe thead th {\n",
       "        text-align: right;\n",
       "    }\n",
       "</style>\n",
       "<table border=\"1\" class=\"dataframe\">\n",
       "  <thead>\n",
       "    <tr style=\"text-align: right;\">\n",
       "      <th></th>\n",
       "      <th>City</th>\n",
       "      <th>Edition</th>\n",
       "      <th>Sport</th>\n",
       "      <th>Discipline</th>\n",
       "      <th>Athlete</th>\n",
       "      <th>NOC</th>\n",
       "      <th>Gender</th>\n",
       "      <th>Event</th>\n",
       "      <th>Event_gender</th>\n",
       "      <th>Medal</th>\n",
       "    </tr>\n",
       "  </thead>\n",
       "  <tbody>\n",
       "    <tr>\n",
       "      <th>0</th>\n",
       "      <td>Athens</td>\n",
       "      <td>1896</td>\n",
       "      <td>Aquatics</td>\n",
       "      <td>Swimming</td>\n",
       "      <td>HAJOS, Alfred</td>\n",
       "      <td>HUN</td>\n",
       "      <td>Men</td>\n",
       "      <td>100m freestyle</td>\n",
       "      <td>M</td>\n",
       "      <td>Gold</td>\n",
       "    </tr>\n",
       "    <tr>\n",
       "      <th>1</th>\n",
       "      <td>Athens</td>\n",
       "      <td>1896</td>\n",
       "      <td>Aquatics</td>\n",
       "      <td>Swimming</td>\n",
       "      <td>HERSCHMANN, Otto</td>\n",
       "      <td>AUT</td>\n",
       "      <td>Men</td>\n",
       "      <td>100m freestyle</td>\n",
       "      <td>M</td>\n",
       "      <td>Silver</td>\n",
       "    </tr>\n",
       "    <tr>\n",
       "      <th>2</th>\n",
       "      <td>Athens</td>\n",
       "      <td>1896</td>\n",
       "      <td>Aquatics</td>\n",
       "      <td>Swimming</td>\n",
       "      <td>DRIVAS, Dimitrios</td>\n",
       "      <td>GRE</td>\n",
       "      <td>Men</td>\n",
       "      <td>100m freestyle for sailors</td>\n",
       "      <td>M</td>\n",
       "      <td>Bronze</td>\n",
       "    </tr>\n",
       "    <tr>\n",
       "      <th>3</th>\n",
       "      <td>Athens</td>\n",
       "      <td>1896</td>\n",
       "      <td>Aquatics</td>\n",
       "      <td>Swimming</td>\n",
       "      <td>MALOKINIS, Ioannis</td>\n",
       "      <td>GRE</td>\n",
       "      <td>Men</td>\n",
       "      <td>100m freestyle for sailors</td>\n",
       "      <td>M</td>\n",
       "      <td>Gold</td>\n",
       "    </tr>\n",
       "    <tr>\n",
       "      <th>4</th>\n",
       "      <td>Athens</td>\n",
       "      <td>1896</td>\n",
       "      <td>Aquatics</td>\n",
       "      <td>Swimming</td>\n",
       "      <td>CHASAPIS, Spiridon</td>\n",
       "      <td>GRE</td>\n",
       "      <td>Men</td>\n",
       "      <td>100m freestyle for sailors</td>\n",
       "      <td>M</td>\n",
       "      <td>Silver</td>\n",
       "    </tr>\n",
       "    <tr>\n",
       "      <th>...</th>\n",
       "      <td>...</td>\n",
       "      <td>...</td>\n",
       "      <td>...</td>\n",
       "      <td>...</td>\n",
       "      <td>...</td>\n",
       "      <td>...</td>\n",
       "      <td>...</td>\n",
       "      <td>...</td>\n",
       "      <td>...</td>\n",
       "      <td>...</td>\n",
       "    </tr>\n",
       "    <tr>\n",
       "      <th>29211</th>\n",
       "      <td>Beijing</td>\n",
       "      <td>2008</td>\n",
       "      <td>Wrestling</td>\n",
       "      <td>Wrestling Gre-R</td>\n",
       "      <td>ENGLICH, Mirko</td>\n",
       "      <td>GER</td>\n",
       "      <td>Men</td>\n",
       "      <td>84 - 96kg</td>\n",
       "      <td>M</td>\n",
       "      <td>Silver</td>\n",
       "    </tr>\n",
       "    <tr>\n",
       "      <th>29212</th>\n",
       "      <td>Beijing</td>\n",
       "      <td>2008</td>\n",
       "      <td>Wrestling</td>\n",
       "      <td>Wrestling Gre-R</td>\n",
       "      <td>MIZGAITIS, Mindaugas</td>\n",
       "      <td>LTU</td>\n",
       "      <td>Men</td>\n",
       "      <td>96 - 120kg</td>\n",
       "      <td>M</td>\n",
       "      <td>Bronze</td>\n",
       "    </tr>\n",
       "    <tr>\n",
       "      <th>29213</th>\n",
       "      <td>Beijing</td>\n",
       "      <td>2008</td>\n",
       "      <td>Wrestling</td>\n",
       "      <td>Wrestling Gre-R</td>\n",
       "      <td>PATRIKEEV, Yuri</td>\n",
       "      <td>ARM</td>\n",
       "      <td>Men</td>\n",
       "      <td>96 - 120kg</td>\n",
       "      <td>M</td>\n",
       "      <td>Bronze</td>\n",
       "    </tr>\n",
       "    <tr>\n",
       "      <th>29214</th>\n",
       "      <td>Beijing</td>\n",
       "      <td>2008</td>\n",
       "      <td>Wrestling</td>\n",
       "      <td>Wrestling Gre-R</td>\n",
       "      <td>LOPEZ, Mijain</td>\n",
       "      <td>CUB</td>\n",
       "      <td>Men</td>\n",
       "      <td>96 - 120kg</td>\n",
       "      <td>M</td>\n",
       "      <td>Gold</td>\n",
       "    </tr>\n",
       "    <tr>\n",
       "      <th>29215</th>\n",
       "      <td>Beijing</td>\n",
       "      <td>2008</td>\n",
       "      <td>Wrestling</td>\n",
       "      <td>Wrestling Gre-R</td>\n",
       "      <td>BAROEV, Khasan</td>\n",
       "      <td>RUS</td>\n",
       "      <td>Men</td>\n",
       "      <td>96 - 120kg</td>\n",
       "      <td>M</td>\n",
       "      <td>Silver</td>\n",
       "    </tr>\n",
       "  </tbody>\n",
       "</table>\n",
       "<p>29216 rows × 10 columns</p>\n",
       "</div>"
      ],
      "text/plain": [
       "          City  Edition      Sport       Discipline               Athlete  \\\n",
       "0       Athens     1896   Aquatics         Swimming         HAJOS, Alfred   \n",
       "1       Athens     1896   Aquatics         Swimming      HERSCHMANN, Otto   \n",
       "2       Athens     1896   Aquatics         Swimming     DRIVAS, Dimitrios   \n",
       "3       Athens     1896   Aquatics         Swimming    MALOKINIS, Ioannis   \n",
       "4       Athens     1896   Aquatics         Swimming    CHASAPIS, Spiridon   \n",
       "...        ...      ...        ...              ...                   ...   \n",
       "29211  Beijing     2008  Wrestling  Wrestling Gre-R        ENGLICH, Mirko   \n",
       "29212  Beijing     2008  Wrestling  Wrestling Gre-R  MIZGAITIS, Mindaugas   \n",
       "29213  Beijing     2008  Wrestling  Wrestling Gre-R       PATRIKEEV, Yuri   \n",
       "29214  Beijing     2008  Wrestling  Wrestling Gre-R         LOPEZ, Mijain   \n",
       "29215  Beijing     2008  Wrestling  Wrestling Gre-R        BAROEV, Khasan   \n",
       "\n",
       "       NOC Gender                       Event Event_gender   Medal  \n",
       "0      HUN    Men              100m freestyle            M    Gold  \n",
       "1      AUT    Men              100m freestyle            M  Silver  \n",
       "2      GRE    Men  100m freestyle for sailors            M  Bronze  \n",
       "3      GRE    Men  100m freestyle for sailors            M    Gold  \n",
       "4      GRE    Men  100m freestyle for sailors            M  Silver  \n",
       "...    ...    ...                         ...          ...     ...  \n",
       "29211  GER    Men                   84 - 96kg            M  Silver  \n",
       "29212  LTU    Men                  96 - 120kg            M  Bronze  \n",
       "29213  ARM    Men                  96 - 120kg            M  Bronze  \n",
       "29214  CUB    Men                  96 - 120kg            M    Gold  \n",
       "29215  RUS    Men                  96 - 120kg            M  Silver  \n",
       "\n",
       "[29216 rows x 10 columns]"
      ]
     },
     "execution_count": 65,
     "metadata": {},
     "output_type": "execute_result"
    }
   ],
   "source": [
    "olympic_data"
   ]
  },
  {
   "cell_type": "code",
   "execution_count": 66,
   "id": "dd7ad795-06a9-4cc1-8514-f4a88f809456",
   "metadata": {},
   "outputs": [
    {
     "data": {
      "text/plain": [
       "0        HUN\n",
       "1        AUT\n",
       "2        GRE\n",
       "3        GRE\n",
       "4        GRE\n",
       "        ... \n",
       "29211    GER\n",
       "29212    LTU\n",
       "29213    ARM\n",
       "29214    CUB\n",
       "29215    RUS\n",
       "Name: NOC, Length: 29216, dtype: object"
      ]
     },
     "execution_count": 66,
     "metadata": {},
     "output_type": "execute_result"
    }
   ],
   "source": [
    "olympic_data[\"NOC\"]"
   ]
  },
  {
   "cell_type": "code",
   "execution_count": 67,
   "id": "6d63b0b8-2de0-4f1f-87eb-c3e7b6946fb8",
   "metadata": {},
   "outputs": [
    {
     "data": {
      "text/plain": [
       "0        HUN\n",
       "1        AUT\n",
       "2        GRE\n",
       "3        GRE\n",
       "4        GRE\n",
       "        ... \n",
       "29211    GER\n",
       "29212    LTU\n",
       "29213    ARM\n",
       "29214    CUB\n",
       "29215    RUS\n",
       "Name: NOC, Length: 29216, dtype: object"
      ]
     },
     "execution_count": 67,
     "metadata": {},
     "output_type": "execute_result"
    }
   ],
   "source": [
    "olympic_data.NOC"
   ]
  },
  {
   "cell_type": "code",
   "execution_count": 69,
   "id": "c139092f-f953-40ec-8d6c-f21029484a34",
   "metadata": {},
   "outputs": [
    {
     "data": {
      "text/html": [
       "<div>\n",
       "<style scoped>\n",
       "    .dataframe tbody tr th:only-of-type {\n",
       "        vertical-align: middle;\n",
       "    }\n",
       "\n",
       "    .dataframe tbody tr th {\n",
       "        vertical-align: top;\n",
       "    }\n",
       "\n",
       "    .dataframe thead th {\n",
       "        text-align: right;\n",
       "    }\n",
       "</style>\n",
       "<table border=\"1\" class=\"dataframe\">\n",
       "  <thead>\n",
       "    <tr style=\"text-align: right;\">\n",
       "      <th></th>\n",
       "      <th>City</th>\n",
       "      <th>Edition</th>\n",
       "      <th>Athlete</th>\n",
       "      <th>Event</th>\n",
       "      <th>Medal</th>\n",
       "    </tr>\n",
       "  </thead>\n",
       "  <tbody>\n",
       "    <tr>\n",
       "      <th>0</th>\n",
       "      <td>Athens</td>\n",
       "      <td>1896</td>\n",
       "      <td>HAJOS, Alfred</td>\n",
       "      <td>100m freestyle</td>\n",
       "      <td>Gold</td>\n",
       "    </tr>\n",
       "    <tr>\n",
       "      <th>1</th>\n",
       "      <td>Athens</td>\n",
       "      <td>1896</td>\n",
       "      <td>HERSCHMANN, Otto</td>\n",
       "      <td>100m freestyle</td>\n",
       "      <td>Silver</td>\n",
       "    </tr>\n",
       "    <tr>\n",
       "      <th>2</th>\n",
       "      <td>Athens</td>\n",
       "      <td>1896</td>\n",
       "      <td>DRIVAS, Dimitrios</td>\n",
       "      <td>100m freestyle for sailors</td>\n",
       "      <td>Bronze</td>\n",
       "    </tr>\n",
       "    <tr>\n",
       "      <th>3</th>\n",
       "      <td>Athens</td>\n",
       "      <td>1896</td>\n",
       "      <td>MALOKINIS, Ioannis</td>\n",
       "      <td>100m freestyle for sailors</td>\n",
       "      <td>Gold</td>\n",
       "    </tr>\n",
       "    <tr>\n",
       "      <th>4</th>\n",
       "      <td>Athens</td>\n",
       "      <td>1896</td>\n",
       "      <td>CHASAPIS, Spiridon</td>\n",
       "      <td>100m freestyle for sailors</td>\n",
       "      <td>Silver</td>\n",
       "    </tr>\n",
       "    <tr>\n",
       "      <th>...</th>\n",
       "      <td>...</td>\n",
       "      <td>...</td>\n",
       "      <td>...</td>\n",
       "      <td>...</td>\n",
       "      <td>...</td>\n",
       "    </tr>\n",
       "    <tr>\n",
       "      <th>29211</th>\n",
       "      <td>Beijing</td>\n",
       "      <td>2008</td>\n",
       "      <td>ENGLICH, Mirko</td>\n",
       "      <td>84 - 96kg</td>\n",
       "      <td>Silver</td>\n",
       "    </tr>\n",
       "    <tr>\n",
       "      <th>29212</th>\n",
       "      <td>Beijing</td>\n",
       "      <td>2008</td>\n",
       "      <td>MIZGAITIS, Mindaugas</td>\n",
       "      <td>96 - 120kg</td>\n",
       "      <td>Bronze</td>\n",
       "    </tr>\n",
       "    <tr>\n",
       "      <th>29213</th>\n",
       "      <td>Beijing</td>\n",
       "      <td>2008</td>\n",
       "      <td>PATRIKEEV, Yuri</td>\n",
       "      <td>96 - 120kg</td>\n",
       "      <td>Bronze</td>\n",
       "    </tr>\n",
       "    <tr>\n",
       "      <th>29214</th>\n",
       "      <td>Beijing</td>\n",
       "      <td>2008</td>\n",
       "      <td>LOPEZ, Mijain</td>\n",
       "      <td>96 - 120kg</td>\n",
       "      <td>Gold</td>\n",
       "    </tr>\n",
       "    <tr>\n",
       "      <th>29215</th>\n",
       "      <td>Beijing</td>\n",
       "      <td>2008</td>\n",
       "      <td>BAROEV, Khasan</td>\n",
       "      <td>96 - 120kg</td>\n",
       "      <td>Silver</td>\n",
       "    </tr>\n",
       "  </tbody>\n",
       "</table>\n",
       "<p>29216 rows × 5 columns</p>\n",
       "</div>"
      ],
      "text/plain": [
       "          City  Edition               Athlete                       Event  \\\n",
       "0       Athens     1896         HAJOS, Alfred              100m freestyle   \n",
       "1       Athens     1896      HERSCHMANN, Otto              100m freestyle   \n",
       "2       Athens     1896     DRIVAS, Dimitrios  100m freestyle for sailors   \n",
       "3       Athens     1896    MALOKINIS, Ioannis  100m freestyle for sailors   \n",
       "4       Athens     1896    CHASAPIS, Spiridon  100m freestyle for sailors   \n",
       "...        ...      ...                   ...                         ...   \n",
       "29211  Beijing     2008        ENGLICH, Mirko                   84 - 96kg   \n",
       "29212  Beijing     2008  MIZGAITIS, Mindaugas                  96 - 120kg   \n",
       "29213  Beijing     2008       PATRIKEEV, Yuri                  96 - 120kg   \n",
       "29214  Beijing     2008         LOPEZ, Mijain                  96 - 120kg   \n",
       "29215  Beijing     2008        BAROEV, Khasan                  96 - 120kg   \n",
       "\n",
       "        Medal  \n",
       "0        Gold  \n",
       "1      Silver  \n",
       "2      Bronze  \n",
       "3        Gold  \n",
       "4      Silver  \n",
       "...       ...  \n",
       "29211  Silver  \n",
       "29212  Bronze  \n",
       "29213  Bronze  \n",
       "29214    Gold  \n",
       "29215  Silver  \n",
       "\n",
       "[29216 rows x 5 columns]"
      ]
     },
     "execution_count": 69,
     "metadata": {},
     "output_type": "execute_result"
    }
   ],
   "source": [
    "olympic_data[['City', 'Edition', 'Athlete','Event', 'Medal']]"
   ]
  },
  {
   "cell_type": "code",
   "execution_count": 68,
   "id": "151cf478-07f1-4f44-9bc7-e9a2c3191e93",
   "metadata": {},
   "outputs": [
    {
     "data": {
      "text/plain": [
       "Index(['City', 'Edition', 'Sport', 'Discipline', 'Athlete', 'NOC', 'Gender',\n",
       "       'Event', 'Event_gender', 'Medal'],\n",
       "      dtype='object')"
      ]
     },
     "execution_count": 68,
     "metadata": {},
     "output_type": "execute_result"
    }
   ],
   "source": [
    "olympic_data.columns"
   ]
  },
  {
   "cell_type": "markdown",
   "id": "ab99708d-c364-42b5-aad3-b9587a296a21",
   "metadata": {},
   "source": [
    "## Modifying DataFrame objects\n",
    "-  to change the names of columns and add and delete columns and rows."
   ]
  },
  {
   "cell_type": "code",
   "execution_count": null,
   "id": "650d9afa-ad52-4209-95b4-53f6f8507d72",
   "metadata": {},
   "outputs": [],
   "source": []
  },
  {
   "cell_type": "markdown",
   "id": "1ddf5d1e-ec4e-4fff-84b2-7bbf022f0649",
   "metadata": {},
   "source": [
    "### Renaming columns\n",
    "- The names of the columns can be changed using the rename method.\n",
    "- A dictionary is passed as an argument to this method. \n",
    "- The keys for this dictionary are the old column names, and the values are the new column names.\n"
   ]
  },
  {
   "cell_type": "code",
   "execution_count": 70,
   "id": "238bf313-f3e0-49d7-a7af-e43e82333a19",
   "metadata": {},
   "outputs": [
    {
     "data": {
      "text/html": [
       "<div>\n",
       "<style scoped>\n",
       "    .dataframe tbody tr th:only-of-type {\n",
       "        vertical-align: middle;\n",
       "    }\n",
       "\n",
       "    .dataframe tbody tr th {\n",
       "        vertical-align: top;\n",
       "    }\n",
       "\n",
       "    .dataframe thead th {\n",
       "        text-align: right;\n",
       "    }\n",
       "</style>\n",
       "<table border=\"1\" class=\"dataframe\">\n",
       "  <thead>\n",
       "    <tr style=\"text-align: right;\">\n",
       "      <th></th>\n",
       "      <th>class 1</th>\n",
       "      <th>class 2</th>\n",
       "      <th>class 3</th>\n",
       "      <th>class 4</th>\n",
       "      <th>0</th>\n",
       "      <th>class 5</th>\n",
       "    </tr>\n",
       "  </thead>\n",
       "  <tbody>\n",
       "    <tr>\n",
       "      <th>0</th>\n",
       "      <td>22</td>\n",
       "      <td>24</td>\n",
       "      <td>20</td>\n",
       "      <td>NaN</td>\n",
       "      <td>NaN</td>\n",
       "      <td>NaN</td>\n",
       "    </tr>\n",
       "    <tr>\n",
       "      <th>1</th>\n",
       "      <td>40</td>\n",
       "      <td>50</td>\n",
       "      <td>45</td>\n",
       "      <td>NaN</td>\n",
       "      <td>NaN</td>\n",
       "      <td>NaN</td>\n",
       "    </tr>\n",
       "    <tr>\n",
       "      <th>2</th>\n",
       "      <td>35</td>\n",
       "      <td>33</td>\n",
       "      <td>21</td>\n",
       "      <td>20.0</td>\n",
       "      <td>NaN</td>\n",
       "      <td>NaN</td>\n",
       "    </tr>\n",
       "    <tr>\n",
       "      <th>3</th>\n",
       "      <td>35</td>\n",
       "      <td>33</td>\n",
       "      <td>21</td>\n",
       "      <td>20.0</td>\n",
       "      <td>NaN</td>\n",
       "      <td>NaN</td>\n",
       "    </tr>\n",
       "    <tr>\n",
       "      <th>4</th>\n",
       "      <td>23</td>\n",
       "      <td>345</td>\n",
       "      <td>51</td>\n",
       "      <td>22.0</td>\n",
       "      <td>23.0</td>\n",
       "      <td>[12, 23, 34, 5]</td>\n",
       "    </tr>\n",
       "  </tbody>\n",
       "</table>\n",
       "</div>"
      ],
      "text/plain": [
       "   class 1  class 2  class 3  class 4     0          class 5\n",
       "0       22       24       20      NaN   NaN              NaN\n",
       "1       40       50       45      NaN   NaN              NaN\n",
       "2       35       33       21     20.0   NaN              NaN\n",
       "3       35       33       21     20.0   NaN              NaN\n",
       "4       23      345       51     22.0  23.0  [12, 23, 34, 5]"
      ]
     },
     "execution_count": 70,
     "metadata": {},
     "output_type": "execute_result"
    }
   ],
   "source": [
    "combined_ages"
   ]
  },
  {
   "cell_type": "code",
   "execution_count": 82,
   "id": "085740d4-be23-423e-b344-82acad2c7881",
   "metadata": {},
   "outputs": [],
   "source": [
    "\n",
    "combined_ages.rename(columns={'class 6':'class 5','class 5':'class6',''},inplace=True)"
   ]
  },
  {
   "cell_type": "code",
   "execution_count": 86,
   "id": "17dd75a7-177b-40fc-90d6-d5ebcb3c093a",
   "metadata": {},
   "outputs": [],
   "source": [
    "\n",
    "combined_ages.rename(columns={\"class\":\"123\"},inplace=True) # if key is not matched , ignore"
   ]
  },
  {
   "cell_type": "code",
   "execution_count": 83,
   "id": "9a5428bd-8fe0-4167-b92b-aa8206d9664c",
   "metadata": {},
   "outputs": [
    {
     "data": {
      "text/html": [
       "<div>\n",
       "<style scoped>\n",
       "    .dataframe tbody tr th:only-of-type {\n",
       "        vertical-align: middle;\n",
       "    }\n",
       "\n",
       "    .dataframe tbody tr th {\n",
       "        vertical-align: top;\n",
       "    }\n",
       "\n",
       "    .dataframe thead th {\n",
       "        text-align: right;\n",
       "    }\n",
       "</style>\n",
       "<table border=\"1\" class=\"dataframe\">\n",
       "  <thead>\n",
       "    <tr style=\"text-align: right;\">\n",
       "      <th></th>\n",
       "      <th>class 1</th>\n",
       "      <th>class 2</th>\n",
       "      <th>class 3</th>\n",
       "      <th>class 4</th>\n",
       "      <th>class 5</th>\n",
       "      <th>class6</th>\n",
       "    </tr>\n",
       "  </thead>\n",
       "  <tbody>\n",
       "    <tr>\n",
       "      <th>0</th>\n",
       "      <td>22</td>\n",
       "      <td>24</td>\n",
       "      <td>20</td>\n",
       "      <td>NaN</td>\n",
       "      <td>NaN</td>\n",
       "      <td>NaN</td>\n",
       "    </tr>\n",
       "    <tr>\n",
       "      <th>1</th>\n",
       "      <td>40</td>\n",
       "      <td>50</td>\n",
       "      <td>45</td>\n",
       "      <td>NaN</td>\n",
       "      <td>NaN</td>\n",
       "      <td>NaN</td>\n",
       "    </tr>\n",
       "    <tr>\n",
       "      <th>2</th>\n",
       "      <td>35</td>\n",
       "      <td>33</td>\n",
       "      <td>21</td>\n",
       "      <td>20.0</td>\n",
       "      <td>NaN</td>\n",
       "      <td>NaN</td>\n",
       "    </tr>\n",
       "    <tr>\n",
       "      <th>3</th>\n",
       "      <td>35</td>\n",
       "      <td>33</td>\n",
       "      <td>21</td>\n",
       "      <td>20.0</td>\n",
       "      <td>NaN</td>\n",
       "      <td>NaN</td>\n",
       "    </tr>\n",
       "    <tr>\n",
       "      <th>4</th>\n",
       "      <td>23</td>\n",
       "      <td>345</td>\n",
       "      <td>51</td>\n",
       "      <td>22.0</td>\n",
       "      <td>23.0</td>\n",
       "      <td>[12, 23, 34, 5]</td>\n",
       "    </tr>\n",
       "  </tbody>\n",
       "</table>\n",
       "</div>"
      ],
      "text/plain": [
       "   class 1  class 2  class 3  class 4  class 5           class6\n",
       "0       22       24       20      NaN      NaN              NaN\n",
       "1       40       50       45      NaN      NaN              NaN\n",
       "2       35       33       21     20.0      NaN              NaN\n",
       "3       35       33       21     20.0      NaN              NaN\n",
       "4       23      345       51     22.0     23.0  [12, 23, 34, 5]"
      ]
     },
     "execution_count": 83,
     "metadata": {},
     "output_type": "execute_result"
    }
   ],
   "source": [
    "combined_ages"
   ]
  },
  {
   "cell_type": "markdown",
   "id": "5fae8f6a-3c39-4218-ba27-b5a1238f500c",
   "metadata": {},
   "source": [
    "- The reason we use the inplace parameter so that the changes are made in the actual DataFrame object\n"
   ]
  },
  {
   "cell_type": "markdown",
   "id": "b259af31-3224-494d-ba58-ca945ee791a2",
   "metadata": {},
   "source": [
    "- Renaming can also be done by accessing the columns attribute directly and mentioning the new column names in an array\n",
    "\n"
   ]
  },
  {
   "cell_type": "code",
   "execution_count": 89,
   "id": "8ebb5d46-168c-49bf-9e83-1f4b2fcc8719",
   "metadata": {},
   "outputs": [],
   "source": [
    "combined_ages.columns=['batch 1','batch 2','batch 3','batch 4','batch 5','batch 6']"
   ]
  },
  {
   "cell_type": "code",
   "execution_count": 90,
   "id": "bda9124e-1ae8-438d-88fb-61cc200e148f",
   "metadata": {},
   "outputs": [
    {
     "data": {
      "text/html": [
       "<div>\n",
       "<style scoped>\n",
       "    .dataframe tbody tr th:only-of-type {\n",
       "        vertical-align: middle;\n",
       "    }\n",
       "\n",
       "    .dataframe tbody tr th {\n",
       "        vertical-align: top;\n",
       "    }\n",
       "\n",
       "    .dataframe thead th {\n",
       "        text-align: right;\n",
       "    }\n",
       "</style>\n",
       "<table border=\"1\" class=\"dataframe\">\n",
       "  <thead>\n",
       "    <tr style=\"text-align: right;\">\n",
       "      <th></th>\n",
       "      <th>batch 1</th>\n",
       "      <th>batch 2</th>\n",
       "      <th>batch 3</th>\n",
       "      <th>batch 4</th>\n",
       "      <th>batch 5</th>\n",
       "      <th>batch 6</th>\n",
       "    </tr>\n",
       "  </thead>\n",
       "  <tbody>\n",
       "    <tr>\n",
       "      <th>0</th>\n",
       "      <td>22</td>\n",
       "      <td>24</td>\n",
       "      <td>20</td>\n",
       "      <td>NaN</td>\n",
       "      <td>NaN</td>\n",
       "      <td>NaN</td>\n",
       "    </tr>\n",
       "    <tr>\n",
       "      <th>1</th>\n",
       "      <td>40</td>\n",
       "      <td>50</td>\n",
       "      <td>45</td>\n",
       "      <td>NaN</td>\n",
       "      <td>NaN</td>\n",
       "      <td>NaN</td>\n",
       "    </tr>\n",
       "    <tr>\n",
       "      <th>2</th>\n",
       "      <td>35</td>\n",
       "      <td>33</td>\n",
       "      <td>21</td>\n",
       "      <td>20.0</td>\n",
       "      <td>NaN</td>\n",
       "      <td>NaN</td>\n",
       "    </tr>\n",
       "    <tr>\n",
       "      <th>3</th>\n",
       "      <td>35</td>\n",
       "      <td>33</td>\n",
       "      <td>21</td>\n",
       "      <td>20.0</td>\n",
       "      <td>NaN</td>\n",
       "      <td>NaN</td>\n",
       "    </tr>\n",
       "    <tr>\n",
       "      <th>4</th>\n",
       "      <td>23</td>\n",
       "      <td>345</td>\n",
       "      <td>51</td>\n",
       "      <td>22.0</td>\n",
       "      <td>23.0</td>\n",
       "      <td>[12, 23, 34, 5]</td>\n",
       "    </tr>\n",
       "  </tbody>\n",
       "</table>\n",
       "</div>"
      ],
      "text/plain": [
       "   batch 1  batch 2  batch 3  batch 4  batch 5          batch 6\n",
       "0       22       24       20      NaN      NaN              NaN\n",
       "1       40       50       45      NaN      NaN              NaN\n",
       "2       35       33       21     20.0      NaN              NaN\n",
       "3       35       33       21     20.0      NaN              NaN\n",
       "4       23      345       51     22.0     23.0  [12, 23, 34, 5]"
      ]
     },
     "execution_count": 90,
     "metadata": {},
     "output_type": "execute_result"
    }
   ],
   "source": [
    "combined_ages"
   ]
  },
  {
   "cell_type": "markdown",
   "id": "cff7cfef-831e-468c-991e-468e790a9871",
   "metadata": {},
   "source": [
    "- Renaming using the dictionary format is a more straightforward method for renaming columns, and the changes are made to the original DataFrame object. \n",
    "- The disadvantage with this method is that one needs to remember the order of the columns in the DataFrame. \n",
    "- When we used the rename method, we used a dictionary where we knew which column names we were changing."
   ]
  },
  {
   "cell_type": "code",
   "execution_count": 91,
   "id": "24a258ea-c595-4f2f-886e-08c5f4c25026",
   "metadata": {},
   "outputs": [
    {
     "data": {
      "text/html": [
       "<div>\n",
       "<style scoped>\n",
       "    .dataframe tbody tr th:only-of-type {\n",
       "        vertical-align: middle;\n",
       "    }\n",
       "\n",
       "    .dataframe tbody tr th {\n",
       "        vertical-align: top;\n",
       "    }\n",
       "\n",
       "    .dataframe thead th {\n",
       "        text-align: right;\n",
       "    }\n",
       "</style>\n",
       "<table border=\"1\" class=\"dataframe\">\n",
       "  <thead>\n",
       "    <tr style=\"text-align: right;\">\n",
       "      <th></th>\n",
       "      <th>City</th>\n",
       "      <th>Edition</th>\n",
       "      <th>Sport</th>\n",
       "      <th>Games</th>\n",
       "      <th>Athlete</th>\n",
       "      <th>NOC</th>\n",
       "      <th>Gender</th>\n",
       "      <th>Event</th>\n",
       "      <th>Event_gender</th>\n",
       "      <th>Medal</th>\n",
       "    </tr>\n",
       "  </thead>\n",
       "  <tbody>\n",
       "    <tr>\n",
       "      <th>0</th>\n",
       "      <td>Athens</td>\n",
       "      <td>1896</td>\n",
       "      <td>Aquatics</td>\n",
       "      <td>Swimming</td>\n",
       "      <td>HAJOS, Alfred</td>\n",
       "      <td>HUN</td>\n",
       "      <td>Men</td>\n",
       "      <td>100m freestyle</td>\n",
       "      <td>M</td>\n",
       "      <td>Gold</td>\n",
       "    </tr>\n",
       "    <tr>\n",
       "      <th>1</th>\n",
       "      <td>Athens</td>\n",
       "      <td>1896</td>\n",
       "      <td>Aquatics</td>\n",
       "      <td>Swimming</td>\n",
       "      <td>HERSCHMANN, Otto</td>\n",
       "      <td>AUT</td>\n",
       "      <td>Men</td>\n",
       "      <td>100m freestyle</td>\n",
       "      <td>M</td>\n",
       "      <td>Silver</td>\n",
       "    </tr>\n",
       "    <tr>\n",
       "      <th>2</th>\n",
       "      <td>Athens</td>\n",
       "      <td>1896</td>\n",
       "      <td>Aquatics</td>\n",
       "      <td>Swimming</td>\n",
       "      <td>DRIVAS, Dimitrios</td>\n",
       "      <td>GRE</td>\n",
       "      <td>Men</td>\n",
       "      <td>100m freestyle for sailors</td>\n",
       "      <td>M</td>\n",
       "      <td>Bronze</td>\n",
       "    </tr>\n",
       "    <tr>\n",
       "      <th>3</th>\n",
       "      <td>Athens</td>\n",
       "      <td>1896</td>\n",
       "      <td>Aquatics</td>\n",
       "      <td>Swimming</td>\n",
       "      <td>MALOKINIS, Ioannis</td>\n",
       "      <td>GRE</td>\n",
       "      <td>Men</td>\n",
       "      <td>100m freestyle for sailors</td>\n",
       "      <td>M</td>\n",
       "      <td>Gold</td>\n",
       "    </tr>\n",
       "    <tr>\n",
       "      <th>4</th>\n",
       "      <td>Athens</td>\n",
       "      <td>1896</td>\n",
       "      <td>Aquatics</td>\n",
       "      <td>Swimming</td>\n",
       "      <td>CHASAPIS, Spiridon</td>\n",
       "      <td>GRE</td>\n",
       "      <td>Men</td>\n",
       "      <td>100m freestyle for sailors</td>\n",
       "      <td>M</td>\n",
       "      <td>Silver</td>\n",
       "    </tr>\n",
       "    <tr>\n",
       "      <th>...</th>\n",
       "      <td>...</td>\n",
       "      <td>...</td>\n",
       "      <td>...</td>\n",
       "      <td>...</td>\n",
       "      <td>...</td>\n",
       "      <td>...</td>\n",
       "      <td>...</td>\n",
       "      <td>...</td>\n",
       "      <td>...</td>\n",
       "      <td>...</td>\n",
       "    </tr>\n",
       "    <tr>\n",
       "      <th>29211</th>\n",
       "      <td>Beijing</td>\n",
       "      <td>2008</td>\n",
       "      <td>Wrestling</td>\n",
       "      <td>Wrestling Gre-R</td>\n",
       "      <td>ENGLICH, Mirko</td>\n",
       "      <td>GER</td>\n",
       "      <td>Men</td>\n",
       "      <td>84 - 96kg</td>\n",
       "      <td>M</td>\n",
       "      <td>Silver</td>\n",
       "    </tr>\n",
       "    <tr>\n",
       "      <th>29212</th>\n",
       "      <td>Beijing</td>\n",
       "      <td>2008</td>\n",
       "      <td>Wrestling</td>\n",
       "      <td>Wrestling Gre-R</td>\n",
       "      <td>MIZGAITIS, Mindaugas</td>\n",
       "      <td>LTU</td>\n",
       "      <td>Men</td>\n",
       "      <td>96 - 120kg</td>\n",
       "      <td>M</td>\n",
       "      <td>Bronze</td>\n",
       "    </tr>\n",
       "    <tr>\n",
       "      <th>29213</th>\n",
       "      <td>Beijing</td>\n",
       "      <td>2008</td>\n",
       "      <td>Wrestling</td>\n",
       "      <td>Wrestling Gre-R</td>\n",
       "      <td>PATRIKEEV, Yuri</td>\n",
       "      <td>ARM</td>\n",
       "      <td>Men</td>\n",
       "      <td>96 - 120kg</td>\n",
       "      <td>M</td>\n",
       "      <td>Bronze</td>\n",
       "    </tr>\n",
       "    <tr>\n",
       "      <th>29214</th>\n",
       "      <td>Beijing</td>\n",
       "      <td>2008</td>\n",
       "      <td>Wrestling</td>\n",
       "      <td>Wrestling Gre-R</td>\n",
       "      <td>LOPEZ, Mijain</td>\n",
       "      <td>CUB</td>\n",
       "      <td>Men</td>\n",
       "      <td>96 - 120kg</td>\n",
       "      <td>M</td>\n",
       "      <td>Gold</td>\n",
       "    </tr>\n",
       "    <tr>\n",
       "      <th>29215</th>\n",
       "      <td>Beijing</td>\n",
       "      <td>2008</td>\n",
       "      <td>Wrestling</td>\n",
       "      <td>Wrestling Gre-R</td>\n",
       "      <td>BAROEV, Khasan</td>\n",
       "      <td>RUS</td>\n",
       "      <td>Men</td>\n",
       "      <td>96 - 120kg</td>\n",
       "      <td>M</td>\n",
       "      <td>Silver</td>\n",
       "    </tr>\n",
       "  </tbody>\n",
       "</table>\n",
       "<p>29216 rows × 10 columns</p>\n",
       "</div>"
      ],
      "text/plain": [
       "          City  Edition      Sport            Games               Athlete  \\\n",
       "0       Athens     1896   Aquatics         Swimming         HAJOS, Alfred   \n",
       "1       Athens     1896   Aquatics         Swimming      HERSCHMANN, Otto   \n",
       "2       Athens     1896   Aquatics         Swimming     DRIVAS, Dimitrios   \n",
       "3       Athens     1896   Aquatics         Swimming    MALOKINIS, Ioannis   \n",
       "4       Athens     1896   Aquatics         Swimming    CHASAPIS, Spiridon   \n",
       "...        ...      ...        ...              ...                   ...   \n",
       "29211  Beijing     2008  Wrestling  Wrestling Gre-R        ENGLICH, Mirko   \n",
       "29212  Beijing     2008  Wrestling  Wrestling Gre-R  MIZGAITIS, Mindaugas   \n",
       "29213  Beijing     2008  Wrestling  Wrestling Gre-R       PATRIKEEV, Yuri   \n",
       "29214  Beijing     2008  Wrestling  Wrestling Gre-R         LOPEZ, Mijain   \n",
       "29215  Beijing     2008  Wrestling  Wrestling Gre-R        BAROEV, Khasan   \n",
       "\n",
       "       NOC Gender                       Event Event_gender   Medal  \n",
       "0      HUN    Men              100m freestyle            M    Gold  \n",
       "1      AUT    Men              100m freestyle            M  Silver  \n",
       "2      GRE    Men  100m freestyle for sailors            M  Bronze  \n",
       "3      GRE    Men  100m freestyle for sailors            M    Gold  \n",
       "4      GRE    Men  100m freestyle for sailors            M  Silver  \n",
       "...    ...    ...                         ...          ...     ...  \n",
       "29211  GER    Men                   84 - 96kg            M  Silver  \n",
       "29212  LTU    Men                  96 - 120kg            M  Bronze  \n",
       "29213  ARM    Men                  96 - 120kg            M  Bronze  \n",
       "29214  CUB    Men                  96 - 120kg            M    Gold  \n",
       "29215  RUS    Men                  96 - 120kg            M  Silver  \n",
       "\n",
       "[29216 rows x 10 columns]"
      ]
     },
     "execution_count": 91,
     "metadata": {},
     "output_type": "execute_result"
    }
   ],
   "source": [
    "olympic_data.rename(columns={'Discipline':\"Games\"}) # column name chenged from'Discipline' to \"Games\""
   ]
  },
  {
   "cell_type": "markdown",
   "id": "149ebdfd-8955-4f0a-917b-2bc8518ebb5d",
   "metadata": {},
   "source": [
    "### Replacing values or observations in a DataFrame\n",
    "- The replace method can be used to replace values in a DataFrame. \n",
    "- We can again use the dictionary format, with the key/value pair representing the old and new values. Here, we replace the value 22 with the value 33."
   ]
  },
  {
   "cell_type": "code",
   "execution_count": 92,
   "id": "4ded4729-ef33-499e-b388-3925c133e2b0",
   "metadata": {},
   "outputs": [
    {
     "data": {
      "text/html": [
       "<div>\n",
       "<style scoped>\n",
       "    .dataframe tbody tr th:only-of-type {\n",
       "        vertical-align: middle;\n",
       "    }\n",
       "\n",
       "    .dataframe tbody tr th {\n",
       "        vertical-align: top;\n",
       "    }\n",
       "\n",
       "    .dataframe thead th {\n",
       "        text-align: right;\n",
       "    }\n",
       "</style>\n",
       "<table border=\"1\" class=\"dataframe\">\n",
       "  <thead>\n",
       "    <tr style=\"text-align: right;\">\n",
       "      <th></th>\n",
       "      <th>batch 1</th>\n",
       "      <th>batch 2</th>\n",
       "      <th>batch 3</th>\n",
       "      <th>batch 4</th>\n",
       "      <th>batch 5</th>\n",
       "      <th>batch 6</th>\n",
       "    </tr>\n",
       "  </thead>\n",
       "  <tbody>\n",
       "    <tr>\n",
       "      <th>0</th>\n",
       "      <td>22</td>\n",
       "      <td>24</td>\n",
       "      <td>20</td>\n",
       "      <td>NaN</td>\n",
       "      <td>NaN</td>\n",
       "      <td>NaN</td>\n",
       "    </tr>\n",
       "    <tr>\n",
       "      <th>1</th>\n",
       "      <td>40</td>\n",
       "      <td>50</td>\n",
       "      <td>45</td>\n",
       "      <td>NaN</td>\n",
       "      <td>NaN</td>\n",
       "      <td>NaN</td>\n",
       "    </tr>\n",
       "    <tr>\n",
       "      <th>2</th>\n",
       "      <td>35</td>\n",
       "      <td>33</td>\n",
       "      <td>21</td>\n",
       "      <td>20.0</td>\n",
       "      <td>NaN</td>\n",
       "      <td>NaN</td>\n",
       "    </tr>\n",
       "    <tr>\n",
       "      <th>3</th>\n",
       "      <td>35</td>\n",
       "      <td>33</td>\n",
       "      <td>21</td>\n",
       "      <td>20.0</td>\n",
       "      <td>NaN</td>\n",
       "      <td>NaN</td>\n",
       "    </tr>\n",
       "    <tr>\n",
       "      <th>4</th>\n",
       "      <td>23</td>\n",
       "      <td>345</td>\n",
       "      <td>51</td>\n",
       "      <td>22.0</td>\n",
       "      <td>23.0</td>\n",
       "      <td>[12, 23, 34, 5]</td>\n",
       "    </tr>\n",
       "  </tbody>\n",
       "</table>\n",
       "</div>"
      ],
      "text/plain": [
       "   batch 1  batch 2  batch 3  batch 4  batch 5          batch 6\n",
       "0       22       24       20      NaN      NaN              NaN\n",
       "1       40       50       45      NaN      NaN              NaN\n",
       "2       35       33       21     20.0      NaN              NaN\n",
       "3       35       33       21     20.0      NaN              NaN\n",
       "4       23      345       51     22.0     23.0  [12, 23, 34, 5]"
      ]
     },
     "execution_count": 92,
     "metadata": {},
     "output_type": "execute_result"
    }
   ],
   "source": [
    "combined_ages"
   ]
  },
  {
   "cell_type": "code",
   "execution_count": 95,
   "id": "b2c7b012-ce7b-4837-93fc-8252623de510",
   "metadata": {},
   "outputs": [
    {
     "data": {
      "text/html": [
       "<div>\n",
       "<style scoped>\n",
       "    .dataframe tbody tr th:only-of-type {\n",
       "        vertical-align: middle;\n",
       "    }\n",
       "\n",
       "    .dataframe tbody tr th {\n",
       "        vertical-align: top;\n",
       "    }\n",
       "\n",
       "    .dataframe thead th {\n",
       "        text-align: right;\n",
       "    }\n",
       "</style>\n",
       "<table border=\"1\" class=\"dataframe\">\n",
       "  <thead>\n",
       "    <tr style=\"text-align: right;\">\n",
       "      <th></th>\n",
       "      <th>batch 1</th>\n",
       "      <th>batch 2</th>\n",
       "      <th>batch 3</th>\n",
       "      <th>batch 4</th>\n",
       "      <th>batch 5</th>\n",
       "      <th>batch 6</th>\n",
       "    </tr>\n",
       "  </thead>\n",
       "  <tbody>\n",
       "    <tr>\n",
       "      <th>0</th>\n",
       "      <td>22</td>\n",
       "      <td>24</td>\n",
       "      <td>20</td>\n",
       "      <td>NaN</td>\n",
       "      <td>NaN</td>\n",
       "      <td>NaN</td>\n",
       "    </tr>\n",
       "    <tr>\n",
       "      <th>1</th>\n",
       "      <td>40</td>\n",
       "      <td>50</td>\n",
       "      <td>45</td>\n",
       "      <td>NaN</td>\n",
       "      <td>NaN</td>\n",
       "      <td>NaN</td>\n",
       "    </tr>\n",
       "    <tr>\n",
       "      <th>2</th>\n",
       "      <td>35</td>\n",
       "      <td>300</td>\n",
       "      <td>21</td>\n",
       "      <td>20.0</td>\n",
       "      <td>NaN</td>\n",
       "      <td>NaN</td>\n",
       "    </tr>\n",
       "    <tr>\n",
       "      <th>3</th>\n",
       "      <td>35</td>\n",
       "      <td>300</td>\n",
       "      <td>21</td>\n",
       "      <td>20.0</td>\n",
       "      <td>NaN</td>\n",
       "      <td>NaN</td>\n",
       "    </tr>\n",
       "    <tr>\n",
       "      <th>4</th>\n",
       "      <td>23</td>\n",
       "      <td>345</td>\n",
       "      <td>51</td>\n",
       "      <td>22.0</td>\n",
       "      <td>23.0</td>\n",
       "      <td>[12, 23, 34, 5]</td>\n",
       "    </tr>\n",
       "  </tbody>\n",
       "</table>\n",
       "</div>"
      ],
      "text/plain": [
       "   batch 1  batch 2  batch 3  batch 4  batch 5          batch 6\n",
       "0       22       24       20      NaN      NaN              NaN\n",
       "1       40       50       45      NaN      NaN              NaN\n",
       "2       35      300       21     20.0      NaN              NaN\n",
       "3       35      300       21     20.0      NaN              NaN\n",
       "4       23      345       51     22.0     23.0  [12, 23, 34, 5]"
      ]
     },
     "execution_count": 95,
     "metadata": {},
     "output_type": "execute_result"
    }
   ],
   "source": [
    "combined_ages.replace({33:300})"
   ]
  },
  {
   "cell_type": "markdown",
   "id": "d7a3b157-b3a4-4f1d-ab10-35631332c417",
   "metadata": {},
   "source": [
    "### Adding a new column to a DataFrame\n",
    "There are four ways to insert a new column in a DataFrame\n"
   ]
  },
  {
   "cell_type": "markdown",
   "id": "8a82bfc3-3a72-466c-8ed2-e5553cf5382e",
   "metadata": {},
   "source": [
    "### 1.With the indexing operator, [ ]\n"
   ]
  },
  {
   "cell_type": "code",
   "execution_count": 100,
   "id": "c51ae41e-eeb6-438f-a03d-61dd13620aaf",
   "metadata": {},
   "outputs": [
    {
     "data": {
      "text/html": [
       "<div>\n",
       "<style scoped>\n",
       "    .dataframe tbody tr th:only-of-type {\n",
       "        vertical-align: middle;\n",
       "    }\n",
       "\n",
       "    .dataframe tbody tr th {\n",
       "        vertical-align: top;\n",
       "    }\n",
       "\n",
       "    .dataframe thead th {\n",
       "        text-align: right;\n",
       "    }\n",
       "</style>\n",
       "<table border=\"1\" class=\"dataframe\">\n",
       "  <thead>\n",
       "    <tr style=\"text-align: right;\">\n",
       "      <th></th>\n",
       "      <th>batch 1</th>\n",
       "      <th>batch 2</th>\n",
       "      <th>batch 3</th>\n",
       "      <th>batch 4</th>\n",
       "      <th>batch 5</th>\n",
       "      <th>batch 6</th>\n",
       "      <th>batch 7</th>\n",
       "    </tr>\n",
       "  </thead>\n",
       "  <tbody>\n",
       "    <tr>\n",
       "      <th>0</th>\n",
       "      <td>22</td>\n",
       "      <td>24</td>\n",
       "      <td>20</td>\n",
       "      <td>NaN</td>\n",
       "      <td>NaN</td>\n",
       "      <td>NaN</td>\n",
       "      <td>18</td>\n",
       "    </tr>\n",
       "    <tr>\n",
       "      <th>1</th>\n",
       "      <td>40</td>\n",
       "      <td>50</td>\n",
       "      <td>45</td>\n",
       "      <td>NaN</td>\n",
       "      <td>NaN</td>\n",
       "      <td>NaN</td>\n",
       "      <td>40</td>\n",
       "    </tr>\n",
       "    <tr>\n",
       "      <th>2</th>\n",
       "      <td>35</td>\n",
       "      <td>33</td>\n",
       "      <td>21</td>\n",
       "      <td>20.0</td>\n",
       "      <td>NaN</td>\n",
       "      <td>NaN</td>\n",
       "      <td>30</td>\n",
       "    </tr>\n",
       "    <tr>\n",
       "      <th>3</th>\n",
       "      <td>35</td>\n",
       "      <td>33</td>\n",
       "      <td>21</td>\n",
       "      <td>20.0</td>\n",
       "      <td>NaN</td>\n",
       "      <td>NaN</td>\n",
       "      <td>34</td>\n",
       "    </tr>\n",
       "    <tr>\n",
       "      <th>4</th>\n",
       "      <td>23</td>\n",
       "      <td>345</td>\n",
       "      <td>51</td>\n",
       "      <td>22.0</td>\n",
       "      <td>23.0</td>\n",
       "      <td>[12, 23, 34, 5]</td>\n",
       "      <td>4</td>\n",
       "    </tr>\n",
       "  </tbody>\n",
       "</table>\n",
       "</div>"
      ],
      "text/plain": [
       "   batch 1  batch 2  batch 3  batch 4  batch 5          batch 6  batch 7\n",
       "0       22       24       20      NaN      NaN              NaN       18\n",
       "1       40       50       45      NaN      NaN              NaN       40\n",
       "2       35       33       21     20.0      NaN              NaN       30\n",
       "3       35       33       21     20.0      NaN              NaN       34\n",
       "4       23      345       51     22.0     23.0  [12, 23, 34, 5]        4"
      ]
     },
     "execution_count": 100,
     "metadata": {},
     "output_type": "execute_result"
    }
   ],
   "source": [
    "combined_ages['batch 7']=[18,40,30,34,4] # if column name is already exist overwrite else create new coloumn\n",
    "combined_ages"
   ]
  },
  {
   "cell_type": "code",
   "execution_count": 101,
   "id": "23532f9d-04ec-471e-9860-b6ecd2fd60f2",
   "metadata": {},
   "outputs": [
    {
     "data": {
      "text/html": [
       "<div>\n",
       "<style scoped>\n",
       "    .dataframe tbody tr th:only-of-type {\n",
       "        vertical-align: middle;\n",
       "    }\n",
       "\n",
       "    .dataframe tbody tr th {\n",
       "        vertical-align: top;\n",
       "    }\n",
       "\n",
       "    .dataframe thead th {\n",
       "        text-align: right;\n",
       "    }\n",
       "</style>\n",
       "<table border=\"1\" class=\"dataframe\">\n",
       "  <thead>\n",
       "    <tr style=\"text-align: right;\">\n",
       "      <th></th>\n",
       "      <th>batch 1</th>\n",
       "      <th>batch 2</th>\n",
       "      <th>batch 3</th>\n",
       "      <th>batch 4</th>\n",
       "      <th>batch 5</th>\n",
       "      <th>batch 6</th>\n",
       "      <th>batch 7</th>\n",
       "    </tr>\n",
       "  </thead>\n",
       "  <tbody>\n",
       "    <tr>\n",
       "      <th>0</th>\n",
       "      <td>22</td>\n",
       "      <td>24</td>\n",
       "      <td>20</td>\n",
       "      <td>NaN</td>\n",
       "      <td>NaN</td>\n",
       "      <td>NaN</td>\n",
       "      <td>18</td>\n",
       "    </tr>\n",
       "    <tr>\n",
       "      <th>1</th>\n",
       "      <td>40</td>\n",
       "      <td>50</td>\n",
       "      <td>45</td>\n",
       "      <td>NaN</td>\n",
       "      <td>NaN</td>\n",
       "      <td>NaN</td>\n",
       "      <td>40</td>\n",
       "    </tr>\n",
       "    <tr>\n",
       "      <th>2</th>\n",
       "      <td>35</td>\n",
       "      <td>33</td>\n",
       "      <td>21</td>\n",
       "      <td>20.0</td>\n",
       "      <td>NaN</td>\n",
       "      <td>NaN</td>\n",
       "      <td>30</td>\n",
       "    </tr>\n",
       "    <tr>\n",
       "      <th>3</th>\n",
       "      <td>35</td>\n",
       "      <td>33</td>\n",
       "      <td>21</td>\n",
       "      <td>20.0</td>\n",
       "      <td>NaN</td>\n",
       "      <td>NaN</td>\n",
       "      <td>34</td>\n",
       "    </tr>\n",
       "    <tr>\n",
       "      <th>4</th>\n",
       "      <td>23</td>\n",
       "      <td>345</td>\n",
       "      <td>51</td>\n",
       "      <td>22.0</td>\n",
       "      <td>23.0</td>\n",
       "      <td>[12, 23, 34, 5]</td>\n",
       "      <td>4</td>\n",
       "    </tr>\n",
       "  </tbody>\n",
       "</table>\n",
       "</div>"
      ],
      "text/plain": [
       "   batch 1  batch 2  batch 3  batch 4  batch 5          batch 6  batch 7\n",
       "0       22       24       20      NaN      NaN              NaN       18\n",
       "1       40       50       45      NaN      NaN              NaN       40\n",
       "2       35       33       21     20.0      NaN              NaN       30\n",
       "3       35       33       21     20.0      NaN              NaN       34\n",
       "4       23      345       51     22.0     23.0  [12, 23, 34, 5]        4"
      ]
     },
     "execution_count": 101,
     "metadata": {},
     "output_type": "execute_result"
    }
   ],
   "source": [
    "combined_ages"
   ]
  },
  {
   "cell_type": "markdown",
   "id": "b51c021b-be9a-4eac-ac20-979330d4d631",
   "metadata": {},
   "source": [
    "By mentioning the column name as a string within the indexing operator and assigning it values, we can add a column."
   ]
  },
  {
   "cell_type": "markdown",
   "id": "d76e1e33-3929-4a23-a124-98f52660ce19",
   "metadata": {},
   "source": [
    "### 2.Using the insert method\n"
   ]
  },
  {
   "cell_type": "code",
   "execution_count": 103,
   "id": "4c8d8f7e-bfa2-495e-9c5d-47b7e6b08953",
   "metadata": {},
   "outputs": [
    {
     "data": {
      "text/html": [
       "<div>\n",
       "<style scoped>\n",
       "    .dataframe tbody tr th:only-of-type {\n",
       "        vertical-align: middle;\n",
       "    }\n",
       "\n",
       "    .dataframe tbody tr th {\n",
       "        vertical-align: top;\n",
       "    }\n",
       "\n",
       "    .dataframe thead th {\n",
       "        text-align: right;\n",
       "    }\n",
       "</style>\n",
       "<table border=\"1\" class=\"dataframe\">\n",
       "  <thead>\n",
       "    <tr style=\"text-align: right;\">\n",
       "      <th></th>\n",
       "      <th>batch 1</th>\n",
       "      <th>batch 2</th>\n",
       "      <th>batch x</th>\n",
       "      <th>batch 3</th>\n",
       "      <th>batch 4</th>\n",
       "      <th>batch 5</th>\n",
       "      <th>batch 6</th>\n",
       "      <th>batch 7</th>\n",
       "    </tr>\n",
       "  </thead>\n",
       "  <tbody>\n",
       "    <tr>\n",
       "      <th>0</th>\n",
       "      <td>22</td>\n",
       "      <td>24</td>\n",
       "      <td>10</td>\n",
       "      <td>20</td>\n",
       "      <td>NaN</td>\n",
       "      <td>NaN</td>\n",
       "      <td>NaN</td>\n",
       "      <td>18</td>\n",
       "    </tr>\n",
       "    <tr>\n",
       "      <th>1</th>\n",
       "      <td>40</td>\n",
       "      <td>50</td>\n",
       "      <td>11</td>\n",
       "      <td>45</td>\n",
       "      <td>NaN</td>\n",
       "      <td>NaN</td>\n",
       "      <td>NaN</td>\n",
       "      <td>40</td>\n",
       "    </tr>\n",
       "    <tr>\n",
       "      <th>2</th>\n",
       "      <td>35</td>\n",
       "      <td>33</td>\n",
       "      <td>12</td>\n",
       "      <td>21</td>\n",
       "      <td>20.0</td>\n",
       "      <td>NaN</td>\n",
       "      <td>NaN</td>\n",
       "      <td>30</td>\n",
       "    </tr>\n",
       "    <tr>\n",
       "      <th>3</th>\n",
       "      <td>35</td>\n",
       "      <td>33</td>\n",
       "      <td>13</td>\n",
       "      <td>21</td>\n",
       "      <td>20.0</td>\n",
       "      <td>NaN</td>\n",
       "      <td>NaN</td>\n",
       "      <td>34</td>\n",
       "    </tr>\n",
       "    <tr>\n",
       "      <th>4</th>\n",
       "      <td>23</td>\n",
       "      <td>345</td>\n",
       "      <td>14</td>\n",
       "      <td>51</td>\n",
       "      <td>22.0</td>\n",
       "      <td>23.0</td>\n",
       "      <td>[12, 23, 34, 5]</td>\n",
       "      <td>4</td>\n",
       "    </tr>\n",
       "  </tbody>\n",
       "</table>\n",
       "</div>"
      ],
      "text/plain": [
       "   batch 1  batch 2  batch x  batch 3  batch 4  batch 5          batch 6  \\\n",
       "0       22       24       10       20      NaN      NaN              NaN   \n",
       "1       40       50       11       45      NaN      NaN              NaN   \n",
       "2       35       33       12       21     20.0      NaN              NaN   \n",
       "3       35       33       13       21     20.0      NaN              NaN   \n",
       "4       23      345       14       51     22.0     23.0  [12, 23, 34, 5]   \n",
       "\n",
       "   batch 7  \n",
       "0       18  \n",
       "1       40  \n",
       "2       30  \n",
       "3       34  \n",
       "4        4  "
      ]
     },
     "execution_count": 103,
     "metadata": {},
     "output_type": "execute_result"
    }
   ],
   "source": [
    "combined_ages.insert(2,'batch x',range(10,15))  # if column name is already exist will throw error\n",
    "combined_ages"
   ]
  },
  {
   "cell_type": "code",
   "execution_count": 104,
   "id": "a289f4fd-1306-4e23-850e-e8a217221e04",
   "metadata": {},
   "outputs": [],
   "source": [
    "olympic_data.insert(1,\"Test\",np.arange(29220-4))"
   ]
  },
  {
   "cell_type": "code",
   "execution_count": null,
   "id": "01f6fe98-00fe-4f96-803f-f16a69f8ded0",
   "metadata": {},
   "outputs": [],
   "source": [
    "olympic_data.insert(1,\"Test2\",olympic_data.Medal)"
   ]
  },
  {
   "cell_type": "code",
   "execution_count": 108,
   "id": "7f2483c6-d4d8-4815-890b-4dd746847c00",
   "metadata": {},
   "outputs": [
    {
     "data": {
      "text/html": [
       "<div>\n",
       "<style scoped>\n",
       "    .dataframe tbody tr th:only-of-type {\n",
       "        vertical-align: middle;\n",
       "    }\n",
       "\n",
       "    .dataframe tbody tr th {\n",
       "        vertical-align: top;\n",
       "    }\n",
       "\n",
       "    .dataframe thead th {\n",
       "        text-align: right;\n",
       "    }\n",
       "</style>\n",
       "<table border=\"1\" class=\"dataframe\">\n",
       "  <thead>\n",
       "    <tr style=\"text-align: right;\">\n",
       "      <th></th>\n",
       "      <th>City</th>\n",
       "      <th>Test2</th>\n",
       "      <th>Test</th>\n",
       "      <th>Edition</th>\n",
       "      <th>Sport</th>\n",
       "      <th>Discipline</th>\n",
       "      <th>Athlete</th>\n",
       "      <th>NOC</th>\n",
       "      <th>Gender</th>\n",
       "      <th>Event</th>\n",
       "      <th>Event_gender</th>\n",
       "      <th>Medal</th>\n",
       "    </tr>\n",
       "  </thead>\n",
       "  <tbody>\n",
       "    <tr>\n",
       "      <th>0</th>\n",
       "      <td>Athens</td>\n",
       "      <td>Gold</td>\n",
       "      <td>0</td>\n",
       "      <td>1896</td>\n",
       "      <td>Aquatics</td>\n",
       "      <td>Swimming</td>\n",
       "      <td>HAJOS, Alfred</td>\n",
       "      <td>HUN</td>\n",
       "      <td>Men</td>\n",
       "      <td>100m freestyle</td>\n",
       "      <td>M</td>\n",
       "      <td>Gold</td>\n",
       "    </tr>\n",
       "    <tr>\n",
       "      <th>1</th>\n",
       "      <td>Athens</td>\n",
       "      <td>Silver</td>\n",
       "      <td>1</td>\n",
       "      <td>1896</td>\n",
       "      <td>Aquatics</td>\n",
       "      <td>Swimming</td>\n",
       "      <td>HERSCHMANN, Otto</td>\n",
       "      <td>AUT</td>\n",
       "      <td>Men</td>\n",
       "      <td>100m freestyle</td>\n",
       "      <td>M</td>\n",
       "      <td>Silver</td>\n",
       "    </tr>\n",
       "    <tr>\n",
       "      <th>2</th>\n",
       "      <td>Athens</td>\n",
       "      <td>Bronze</td>\n",
       "      <td>2</td>\n",
       "      <td>1896</td>\n",
       "      <td>Aquatics</td>\n",
       "      <td>Swimming</td>\n",
       "      <td>DRIVAS, Dimitrios</td>\n",
       "      <td>GRE</td>\n",
       "      <td>Men</td>\n",
       "      <td>100m freestyle for sailors</td>\n",
       "      <td>M</td>\n",
       "      <td>Bronze</td>\n",
       "    </tr>\n",
       "    <tr>\n",
       "      <th>3</th>\n",
       "      <td>Athens</td>\n",
       "      <td>Gold</td>\n",
       "      <td>3</td>\n",
       "      <td>1896</td>\n",
       "      <td>Aquatics</td>\n",
       "      <td>Swimming</td>\n",
       "      <td>MALOKINIS, Ioannis</td>\n",
       "      <td>GRE</td>\n",
       "      <td>Men</td>\n",
       "      <td>100m freestyle for sailors</td>\n",
       "      <td>M</td>\n",
       "      <td>Gold</td>\n",
       "    </tr>\n",
       "    <tr>\n",
       "      <th>4</th>\n",
       "      <td>Athens</td>\n",
       "      <td>Silver</td>\n",
       "      <td>4</td>\n",
       "      <td>1896</td>\n",
       "      <td>Aquatics</td>\n",
       "      <td>Swimming</td>\n",
       "      <td>CHASAPIS, Spiridon</td>\n",
       "      <td>GRE</td>\n",
       "      <td>Men</td>\n",
       "      <td>100m freestyle for sailors</td>\n",
       "      <td>M</td>\n",
       "      <td>Silver</td>\n",
       "    </tr>\n",
       "    <tr>\n",
       "      <th>...</th>\n",
       "      <td>...</td>\n",
       "      <td>...</td>\n",
       "      <td>...</td>\n",
       "      <td>...</td>\n",
       "      <td>...</td>\n",
       "      <td>...</td>\n",
       "      <td>...</td>\n",
       "      <td>...</td>\n",
       "      <td>...</td>\n",
       "      <td>...</td>\n",
       "      <td>...</td>\n",
       "      <td>...</td>\n",
       "    </tr>\n",
       "    <tr>\n",
       "      <th>29211</th>\n",
       "      <td>Beijing</td>\n",
       "      <td>Silver</td>\n",
       "      <td>29211</td>\n",
       "      <td>2008</td>\n",
       "      <td>Wrestling</td>\n",
       "      <td>Wrestling Gre-R</td>\n",
       "      <td>ENGLICH, Mirko</td>\n",
       "      <td>GER</td>\n",
       "      <td>Men</td>\n",
       "      <td>84 - 96kg</td>\n",
       "      <td>M</td>\n",
       "      <td>Silver</td>\n",
       "    </tr>\n",
       "    <tr>\n",
       "      <th>29212</th>\n",
       "      <td>Beijing</td>\n",
       "      <td>Bronze</td>\n",
       "      <td>29212</td>\n",
       "      <td>2008</td>\n",
       "      <td>Wrestling</td>\n",
       "      <td>Wrestling Gre-R</td>\n",
       "      <td>MIZGAITIS, Mindaugas</td>\n",
       "      <td>LTU</td>\n",
       "      <td>Men</td>\n",
       "      <td>96 - 120kg</td>\n",
       "      <td>M</td>\n",
       "      <td>Bronze</td>\n",
       "    </tr>\n",
       "    <tr>\n",
       "      <th>29213</th>\n",
       "      <td>Beijing</td>\n",
       "      <td>Bronze</td>\n",
       "      <td>29213</td>\n",
       "      <td>2008</td>\n",
       "      <td>Wrestling</td>\n",
       "      <td>Wrestling Gre-R</td>\n",
       "      <td>PATRIKEEV, Yuri</td>\n",
       "      <td>ARM</td>\n",
       "      <td>Men</td>\n",
       "      <td>96 - 120kg</td>\n",
       "      <td>M</td>\n",
       "      <td>Bronze</td>\n",
       "    </tr>\n",
       "    <tr>\n",
       "      <th>29214</th>\n",
       "      <td>Beijing</td>\n",
       "      <td>Gold</td>\n",
       "      <td>29214</td>\n",
       "      <td>2008</td>\n",
       "      <td>Wrestling</td>\n",
       "      <td>Wrestling Gre-R</td>\n",
       "      <td>LOPEZ, Mijain</td>\n",
       "      <td>CUB</td>\n",
       "      <td>Men</td>\n",
       "      <td>96 - 120kg</td>\n",
       "      <td>M</td>\n",
       "      <td>Gold</td>\n",
       "    </tr>\n",
       "    <tr>\n",
       "      <th>29215</th>\n",
       "      <td>Beijing</td>\n",
       "      <td>Silver</td>\n",
       "      <td>29215</td>\n",
       "      <td>2008</td>\n",
       "      <td>Wrestling</td>\n",
       "      <td>Wrestling Gre-R</td>\n",
       "      <td>BAROEV, Khasan</td>\n",
       "      <td>RUS</td>\n",
       "      <td>Men</td>\n",
       "      <td>96 - 120kg</td>\n",
       "      <td>M</td>\n",
       "      <td>Silver</td>\n",
       "    </tr>\n",
       "  </tbody>\n",
       "</table>\n",
       "<p>29216 rows × 12 columns</p>\n",
       "</div>"
      ],
      "text/plain": [
       "          City   Test2   Test  Edition      Sport       Discipline  \\\n",
       "0       Athens    Gold      0     1896   Aquatics         Swimming   \n",
       "1       Athens  Silver      1     1896   Aquatics         Swimming   \n",
       "2       Athens  Bronze      2     1896   Aquatics         Swimming   \n",
       "3       Athens    Gold      3     1896   Aquatics         Swimming   \n",
       "4       Athens  Silver      4     1896   Aquatics         Swimming   \n",
       "...        ...     ...    ...      ...        ...              ...   \n",
       "29211  Beijing  Silver  29211     2008  Wrestling  Wrestling Gre-R   \n",
       "29212  Beijing  Bronze  29212     2008  Wrestling  Wrestling Gre-R   \n",
       "29213  Beijing  Bronze  29213     2008  Wrestling  Wrestling Gre-R   \n",
       "29214  Beijing    Gold  29214     2008  Wrestling  Wrestling Gre-R   \n",
       "29215  Beijing  Silver  29215     2008  Wrestling  Wrestling Gre-R   \n",
       "\n",
       "                    Athlete  NOC Gender                       Event  \\\n",
       "0             HAJOS, Alfred  HUN    Men              100m freestyle   \n",
       "1          HERSCHMANN, Otto  AUT    Men              100m freestyle   \n",
       "2         DRIVAS, Dimitrios  GRE    Men  100m freestyle for sailors   \n",
       "3        MALOKINIS, Ioannis  GRE    Men  100m freestyle for sailors   \n",
       "4        CHASAPIS, Spiridon  GRE    Men  100m freestyle for sailors   \n",
       "...                     ...  ...    ...                         ...   \n",
       "29211        ENGLICH, Mirko  GER    Men                   84 - 96kg   \n",
       "29212  MIZGAITIS, Mindaugas  LTU    Men                  96 - 120kg   \n",
       "29213       PATRIKEEV, Yuri  ARM    Men                  96 - 120kg   \n",
       "29214         LOPEZ, Mijain  CUB    Men                  96 - 120kg   \n",
       "29215        BAROEV, Khasan  RUS    Men                  96 - 120kg   \n",
       "\n",
       "      Event_gender   Medal  \n",
       "0                M    Gold  \n",
       "1                M  Silver  \n",
       "2                M  Bronze  \n",
       "3                M    Gold  \n",
       "4                M  Silver  \n",
       "...            ...     ...  \n",
       "29211            M  Silver  \n",
       "29212            M  Bronze  \n",
       "29213            M  Bronze  \n",
       "29214            M    Gold  \n",
       "29215            M  Silver  \n",
       "\n",
       "[29216 rows x 12 columns]"
      ]
     },
     "execution_count": 108,
     "metadata": {},
     "output_type": "execute_result"
    }
   ],
   "source": [
    "olympic_data"
   ]
  },
  {
   "cell_type": "markdown",
   "id": "8b0fc9f9-39bd-4978-9901-219c5d2e525e",
   "metadata": {},
   "source": [
    "The insert method can be used for adding a column. Three arguments need to be passed to this method, mentioned in the following.\n",
    "The first argument is the index where you want to insert the new column.\n",
    "The second argument is the name of the new column you want to insert \n",
    "The third argument is the list containing the values of the new column (18 and 35 in this case)\n",
    "All the three parameters are mandatory for the insert method to be able to add a column successfully."
   ]
  },
  {
   "cell_type": "code",
   "execution_count": 112,
   "id": "0ee96f44-24db-4b7e-a3bb-d35f984d3022",
   "metadata": {},
   "outputs": [
    {
     "data": {
      "text/html": [
       "<div>\n",
       "<style scoped>\n",
       "    .dataframe tbody tr th:only-of-type {\n",
       "        vertical-align: middle;\n",
       "    }\n",
       "\n",
       "    .dataframe tbody tr th {\n",
       "        vertical-align: top;\n",
       "    }\n",
       "\n",
       "    .dataframe thead th {\n",
       "        text-align: right;\n",
       "    }\n",
       "</style>\n",
       "<table border=\"1\" class=\"dataframe\">\n",
       "  <thead>\n",
       "    <tr style=\"text-align: right;\">\n",
       "      <th></th>\n",
       "      <th>batch 1</th>\n",
       "      <th>batch 2</th>\n",
       "      <th>batch x</th>\n",
       "      <th>batch 3</th>\n",
       "      <th>batch 4</th>\n",
       "      <th>batch 5</th>\n",
       "      <th>batch 6</th>\n",
       "      <th>batch 7</th>\n",
       "    </tr>\n",
       "  </thead>\n",
       "  <tbody>\n",
       "    <tr>\n",
       "      <th>0</th>\n",
       "      <td>22</td>\n",
       "      <td>24</td>\n",
       "      <td>10</td>\n",
       "      <td>20</td>\n",
       "      <td>NaN</td>\n",
       "      <td>NaN</td>\n",
       "      <td>NaN</td>\n",
       "      <td>18</td>\n",
       "    </tr>\n",
       "    <tr>\n",
       "      <th>1</th>\n",
       "      <td>40</td>\n",
       "      <td>50</td>\n",
       "      <td>11</td>\n",
       "      <td>45</td>\n",
       "      <td>NaN</td>\n",
       "      <td>NaN</td>\n",
       "      <td>NaN</td>\n",
       "      <td>40</td>\n",
       "    </tr>\n",
       "    <tr>\n",
       "      <th>2</th>\n",
       "      <td>35</td>\n",
       "      <td>33</td>\n",
       "      <td>12</td>\n",
       "      <td>21</td>\n",
       "      <td>20.0</td>\n",
       "      <td>NaN</td>\n",
       "      <td>NaN</td>\n",
       "      <td>30</td>\n",
       "    </tr>\n",
       "    <tr>\n",
       "      <th>3</th>\n",
       "      <td>35</td>\n",
       "      <td>33</td>\n",
       "      <td>13</td>\n",
       "      <td>21</td>\n",
       "      <td>20.0</td>\n",
       "      <td>NaN</td>\n",
       "      <td>NaN</td>\n",
       "      <td>34</td>\n",
       "    </tr>\n",
       "    <tr>\n",
       "      <th>4</th>\n",
       "      <td>23</td>\n",
       "      <td>345</td>\n",
       "      <td>14</td>\n",
       "      <td>51</td>\n",
       "      <td>22.0</td>\n",
       "      <td>23.0</td>\n",
       "      <td>[12, 23, 34, 5]</td>\n",
       "      <td>4</td>\n",
       "    </tr>\n",
       "  </tbody>\n",
       "</table>\n",
       "</div>"
      ],
      "text/plain": [
       "   batch 1  batch 2  batch x  batch 3  batch 4  batch 5          batch 6  \\\n",
       "0       22       24       10       20      NaN      NaN              NaN   \n",
       "1       40       50       11       45      NaN      NaN              NaN   \n",
       "2       35       33       12       21     20.0      NaN              NaN   \n",
       "3       35       33       13       21     20.0      NaN              NaN   \n",
       "4       23      345       14       51     22.0     23.0  [12, 23, 34, 5]   \n",
       "\n",
       "   batch 7  \n",
       "0       18  \n",
       "1       40  \n",
       "2       30  \n",
       "3       34  \n",
       "4        4  "
      ]
     },
     "execution_count": 112,
     "metadata": {},
     "output_type": "execute_result"
    }
   ],
   "source": [
    "combined_ages"
   ]
  },
  {
   "cell_type": "markdown",
   "id": "851a64a3-0adc-4bbc-a7b5-5c04e47cf024",
   "metadata": {},
   "source": [
    "### 3.Using the loc indexer \n"
   ]
  },
  {
   "cell_type": "code",
   "execution_count": 114,
   "id": "833bceb3-3963-4639-872e-587d4f4253c9",
   "metadata": {},
   "outputs": [
    {
     "data": {
      "text/html": [
       "<div>\n",
       "<style scoped>\n",
       "    .dataframe tbody tr th:only-of-type {\n",
       "        vertical-align: middle;\n",
       "    }\n",
       "\n",
       "    .dataframe tbody tr th {\n",
       "        vertical-align: top;\n",
       "    }\n",
       "\n",
       "    .dataframe thead th {\n",
       "        text-align: right;\n",
       "    }\n",
       "</style>\n",
       "<table border=\"1\" class=\"dataframe\">\n",
       "  <thead>\n",
       "    <tr style=\"text-align: right;\">\n",
       "      <th></th>\n",
       "      <th>batch 1</th>\n",
       "      <th>batch 2</th>\n",
       "      <th>batch x</th>\n",
       "      <th>batch 3</th>\n",
       "      <th>batch 4</th>\n",
       "      <th>batch 5</th>\n",
       "      <th>batch 6</th>\n",
       "      <th>batch 7</th>\n",
       "      <th>batch y</th>\n",
       "    </tr>\n",
       "  </thead>\n",
       "  <tbody>\n",
       "    <tr>\n",
       "      <th>0</th>\n",
       "      <td>10</td>\n",
       "      <td>24</td>\n",
       "      <td>10</td>\n",
       "      <td>20</td>\n",
       "      <td>NaN</td>\n",
       "      <td>NaN</td>\n",
       "      <td>NaN</td>\n",
       "      <td>18</td>\n",
       "      <td>10</td>\n",
       "    </tr>\n",
       "    <tr>\n",
       "      <th>1</th>\n",
       "      <td>11</td>\n",
       "      <td>50</td>\n",
       "      <td>11</td>\n",
       "      <td>45</td>\n",
       "      <td>NaN</td>\n",
       "      <td>NaN</td>\n",
       "      <td>NaN</td>\n",
       "      <td>40</td>\n",
       "      <td>11</td>\n",
       "    </tr>\n",
       "    <tr>\n",
       "      <th>2</th>\n",
       "      <td>12</td>\n",
       "      <td>33</td>\n",
       "      <td>12</td>\n",
       "      <td>21</td>\n",
       "      <td>20.0</td>\n",
       "      <td>NaN</td>\n",
       "      <td>NaN</td>\n",
       "      <td>30</td>\n",
       "      <td>12</td>\n",
       "    </tr>\n",
       "    <tr>\n",
       "      <th>3</th>\n",
       "      <td>13</td>\n",
       "      <td>33</td>\n",
       "      <td>13</td>\n",
       "      <td>21</td>\n",
       "      <td>20.0</td>\n",
       "      <td>NaN</td>\n",
       "      <td>NaN</td>\n",
       "      <td>34</td>\n",
       "      <td>13</td>\n",
       "    </tr>\n",
       "    <tr>\n",
       "      <th>4</th>\n",
       "      <td>14</td>\n",
       "      <td>345</td>\n",
       "      <td>14</td>\n",
       "      <td>51</td>\n",
       "      <td>22.0</td>\n",
       "      <td>23.0</td>\n",
       "      <td>[12, 23, 34, 5]</td>\n",
       "      <td>4</td>\n",
       "      <td>14</td>\n",
       "    </tr>\n",
       "  </tbody>\n",
       "</table>\n",
       "</div>"
      ],
      "text/plain": [
       "   batch 1  batch 2  batch x  batch 3  batch 4  batch 5          batch 6  \\\n",
       "0       10       24       10       20      NaN      NaN              NaN   \n",
       "1       11       50       11       45      NaN      NaN              NaN   \n",
       "2       12       33       12       21     20.0      NaN              NaN   \n",
       "3       13       33       13       21     20.0      NaN              NaN   \n",
       "4       14      345       14       51     22.0     23.0  [12, 23, 34, 5]   \n",
       "\n",
       "   batch 7  batch y  \n",
       "0       18       10  \n",
       "1       40       11  \n",
       "2       30       12  \n",
       "3       34       13  \n",
       "4        4       14  "
      ]
     },
     "execution_count": 114,
     "metadata": {},
     "output_type": "execute_result"
    }
   ],
   "source": [
    "import numpy as np\n",
    "combined_ages.loc[:,'batch y']=np.arange(10,15) # if Column is exist it will overwrite the data else create new column\n",
    "combined_ages"
   ]
  },
  {
   "cell_type": "code",
   "execution_count": null,
   "id": "2d5a43ec-b441-49e5-a7fe-02bbb1a36f5b",
   "metadata": {},
   "outputs": [],
   "source": []
  },
  {
   "cell_type": "code",
   "execution_count": 167,
   "id": "85370511-33e0-4028-96bf-6fbfb3fd9ad5",
   "metadata": {},
   "outputs": [
    {
     "data": {
      "text/plain": [
       "batch 1                   6\n",
       "batch 3                  23\n",
       "batch 2                 345\n",
       "batch 3                  51\n",
       "batch z                  16\n",
       "batch y                  16\n",
       "batch 4                22.0\n",
       "batch x                   6\n",
       "batch 5     [12, 23, 34, 5]\n",
       "batch 6                 NaN\n",
       "batch 7                23.0\n",
       "batch 8                  37\n",
       "batch 12                  6\n",
       "Name: 6, dtype: object"
      ]
     },
     "execution_count": 167,
     "metadata": {},
     "output_type": "execute_result"
    }
   ],
   "source": []
  },
  {
   "cell_type": "markdown",
   "id": "be83c7ad-e87c-42fb-ab35-6308b5a51210",
   "metadata": {},
   "source": [
    "The loc indexer is generally used for retrieval of values in from Series and DataFrames, but it can also be used for inserting a column. In the preceding statement, all the rows are selected using the : operator. This operator is followed by the name of the column to be inserted. The values for this column are enclosed within a list."
   ]
  },
  {
   "cell_type": "code",
   "execution_count": 115,
   "id": "0b00f3d2-7a69-4a99-9bc4-4d7ee1f762b4",
   "metadata": {},
   "outputs": [
    {
     "data": {
      "text/html": [
       "<div>\n",
       "<style scoped>\n",
       "    .dataframe tbody tr th:only-of-type {\n",
       "        vertical-align: middle;\n",
       "    }\n",
       "\n",
       "    .dataframe tbody tr th {\n",
       "        vertical-align: top;\n",
       "    }\n",
       "\n",
       "    .dataframe thead th {\n",
       "        text-align: right;\n",
       "    }\n",
       "</style>\n",
       "<table border=\"1\" class=\"dataframe\">\n",
       "  <thead>\n",
       "    <tr style=\"text-align: right;\">\n",
       "      <th></th>\n",
       "      <th>batch 1</th>\n",
       "      <th>batch 2</th>\n",
       "      <th>batch x</th>\n",
       "      <th>batch 3</th>\n",
       "      <th>batch 4</th>\n",
       "      <th>batch 5</th>\n",
       "      <th>batch 6</th>\n",
       "      <th>batch 7</th>\n",
       "      <th>batch y</th>\n",
       "    </tr>\n",
       "  </thead>\n",
       "  <tbody>\n",
       "    <tr>\n",
       "      <th>0</th>\n",
       "      <td>10</td>\n",
       "      <td>24</td>\n",
       "      <td>10</td>\n",
       "      <td>20</td>\n",
       "      <td>NaN</td>\n",
       "      <td>NaN</td>\n",
       "      <td>NaN</td>\n",
       "      <td>18</td>\n",
       "      <td>10</td>\n",
       "    </tr>\n",
       "    <tr>\n",
       "      <th>1</th>\n",
       "      <td>11</td>\n",
       "      <td>50</td>\n",
       "      <td>11</td>\n",
       "      <td>45</td>\n",
       "      <td>NaN</td>\n",
       "      <td>NaN</td>\n",
       "      <td>NaN</td>\n",
       "      <td>40</td>\n",
       "      <td>11</td>\n",
       "    </tr>\n",
       "    <tr>\n",
       "      <th>2</th>\n",
       "      <td>12</td>\n",
       "      <td>33</td>\n",
       "      <td>12</td>\n",
       "      <td>21</td>\n",
       "      <td>20.0</td>\n",
       "      <td>NaN</td>\n",
       "      <td>NaN</td>\n",
       "      <td>30</td>\n",
       "      <td>12</td>\n",
       "    </tr>\n",
       "    <tr>\n",
       "      <th>3</th>\n",
       "      <td>13</td>\n",
       "      <td>33</td>\n",
       "      <td>13</td>\n",
       "      <td>21</td>\n",
       "      <td>20.0</td>\n",
       "      <td>NaN</td>\n",
       "      <td>NaN</td>\n",
       "      <td>34</td>\n",
       "      <td>13</td>\n",
       "    </tr>\n",
       "    <tr>\n",
       "      <th>4</th>\n",
       "      <td>14</td>\n",
       "      <td>345</td>\n",
       "      <td>14</td>\n",
       "      <td>51</td>\n",
       "      <td>22.0</td>\n",
       "      <td>23.0</td>\n",
       "      <td>[12, 23, 34, 5]</td>\n",
       "      <td>4</td>\n",
       "      <td>14</td>\n",
       "    </tr>\n",
       "  </tbody>\n",
       "</table>\n",
       "</div>"
      ],
      "text/plain": [
       "   batch 1  batch 2  batch x  batch 3  batch 4  batch 5          batch 6  \\\n",
       "0       10       24       10       20      NaN      NaN              NaN   \n",
       "1       11       50       11       45      NaN      NaN              NaN   \n",
       "2       12       33       12       21     20.0      NaN              NaN   \n",
       "3       13       33       13       21     20.0      NaN              NaN   \n",
       "4       14      345       14       51     22.0     23.0  [12, 23, 34, 5]   \n",
       "\n",
       "   batch 7  batch y  \n",
       "0       18       10  \n",
       "1       40       11  \n",
       "2       30       12  \n",
       "3       34       13  \n",
       "4        4       14  "
      ]
     },
     "execution_count": 115,
     "metadata": {},
     "output_type": "execute_result"
    }
   ],
   "source": [
    "combined_ages"
   ]
  },
  {
   "cell_type": "markdown",
   "id": "a41b2c8c-c284-4d78-8486-2b06bb22ebde",
   "metadata": {},
   "source": [
    "### 4.Using the concat function\n"
   ]
  },
  {
   "cell_type": "code",
   "execution_count": 117,
   "id": "3908a004-59f6-48fd-8256-34d1acde0978",
   "metadata": {},
   "outputs": [
    {
     "data": {
      "text/html": [
       "<div>\n",
       "<style scoped>\n",
       "    .dataframe tbody tr th:only-of-type {\n",
       "        vertical-align: middle;\n",
       "    }\n",
       "\n",
       "    .dataframe tbody tr th {\n",
       "        vertical-align: top;\n",
       "    }\n",
       "\n",
       "    .dataframe thead th {\n",
       "        text-align: right;\n",
       "    }\n",
       "</style>\n",
       "<table border=\"1\" class=\"dataframe\">\n",
       "  <thead>\n",
       "    <tr style=\"text-align: right;\">\n",
       "      <th></th>\n",
       "      <th>0</th>\n",
       "      <th>1</th>\n",
       "      <th>2</th>\n",
       "      <th>3</th>\n",
       "      <th>4</th>\n",
       "      <th>5</th>\n",
       "      <th>6</th>\n",
       "      <th>7</th>\n",
       "      <th>8</th>\n",
       "      <th>9</th>\n",
       "      <th>10</th>\n",
       "    </tr>\n",
       "  </thead>\n",
       "  <tbody>\n",
       "    <tr>\n",
       "      <th>0</th>\n",
       "      <td>10</td>\n",
       "      <td>24</td>\n",
       "      <td>10</td>\n",
       "      <td>20</td>\n",
       "      <td>NaN</td>\n",
       "      <td>NaN</td>\n",
       "      <td>NaN</td>\n",
       "      <td>18</td>\n",
       "      <td>10</td>\n",
       "      <td>0</td>\n",
       "      <td>0</td>\n",
       "    </tr>\n",
       "    <tr>\n",
       "      <th>1</th>\n",
       "      <td>11</td>\n",
       "      <td>50</td>\n",
       "      <td>11</td>\n",
       "      <td>45</td>\n",
       "      <td>NaN</td>\n",
       "      <td>NaN</td>\n",
       "      <td>NaN</td>\n",
       "      <td>40</td>\n",
       "      <td>11</td>\n",
       "      <td>1</td>\n",
       "      <td>1</td>\n",
       "    </tr>\n",
       "    <tr>\n",
       "      <th>2</th>\n",
       "      <td>12</td>\n",
       "      <td>33</td>\n",
       "      <td>12</td>\n",
       "      <td>21</td>\n",
       "      <td>20.0</td>\n",
       "      <td>NaN</td>\n",
       "      <td>NaN</td>\n",
       "      <td>30</td>\n",
       "      <td>12</td>\n",
       "      <td>2</td>\n",
       "      <td>2</td>\n",
       "    </tr>\n",
       "    <tr>\n",
       "      <th>3</th>\n",
       "      <td>13</td>\n",
       "      <td>33</td>\n",
       "      <td>13</td>\n",
       "      <td>21</td>\n",
       "      <td>20.0</td>\n",
       "      <td>NaN</td>\n",
       "      <td>NaN</td>\n",
       "      <td>34</td>\n",
       "      <td>13</td>\n",
       "      <td>3</td>\n",
       "      <td>3</td>\n",
       "    </tr>\n",
       "    <tr>\n",
       "      <th>4</th>\n",
       "      <td>14</td>\n",
       "      <td>345</td>\n",
       "      <td>14</td>\n",
       "      <td>51</td>\n",
       "      <td>22.0</td>\n",
       "      <td>23.0</td>\n",
       "      <td>[12, 23, 34, 5]</td>\n",
       "      <td>4</td>\n",
       "      <td>14</td>\n",
       "      <td>4</td>\n",
       "      <td>4</td>\n",
       "    </tr>\n",
       "  </tbody>\n",
       "</table>\n",
       "</div>"
      ],
      "text/plain": [
       "   0    1   2   3     4     5                6   7   8   9   10\n",
       "0  10   24  10  20   NaN   NaN              NaN  18  10   0   0\n",
       "1  11   50  11  45   NaN   NaN              NaN  40  11   1   1\n",
       "2  12   33  12  21  20.0   NaN              NaN  30  12   2   2\n",
       "3  13   33  13  21  20.0   NaN              NaN  34  13   3   3\n",
       "4  14  345  14  51  22.0  23.0  [12, 23, 34, 5]   4  14   4   4"
      ]
     },
     "execution_count": 117,
     "metadata": {},
     "output_type": "execute_result"
    }
   ],
   "source": [
    "batchz=pd.Series(np.arange(5))\n",
    "combined_ages=pd.concat([combined_ages,batchz],axis=1,ignore_index=True)\n",
    "combined_ages"
   ]
  },
  {
   "cell_type": "code",
   "execution_count": 120,
   "id": "168e6b2a-d4e3-43ab-a3a0-396c13e203dd",
   "metadata": {},
   "outputs": [
    {
     "data": {
      "text/plain": [
       "[RangeIndex(start=0, stop=5, step=1), RangeIndex(start=0, stop=11, step=1)]"
      ]
     },
     "execution_count": 120,
     "metadata": {},
     "output_type": "execute_result"
    }
   ],
   "source": [
    "combined_ages.axes"
   ]
  },
  {
   "cell_type": "code",
   "execution_count": 177,
   "id": "ca49cb3d-e8d8-435c-b5c3-9d58dd08ba20",
   "metadata": {},
   "outputs": [],
   "source": [
    "covid19_data['Test']=np.linspace(1,100,206)"
   ]
  },
  {
   "cell_type": "code",
   "execution_count": 178,
   "id": "2cac614f-c6a6-4d10-bd5e-df0690cdcab5",
   "metadata": {},
   "outputs": [
    {
     "data": {
      "text/html": [
       "<div>\n",
       "<style scoped>\n",
       "    .dataframe tbody tr th:only-of-type {\n",
       "        vertical-align: middle;\n",
       "    }\n",
       "\n",
       "    .dataframe tbody tr th {\n",
       "        vertical-align: top;\n",
       "    }\n",
       "\n",
       "    .dataframe thead th {\n",
       "        text-align: right;\n",
       "    }\n",
       "</style>\n",
       "<table border=\"1\" class=\"dataframe\">\n",
       "  <thead>\n",
       "    <tr style=\"text-align: right;\">\n",
       "      <th></th>\n",
       "      <th>country</th>\n",
       "      <th>continent</th>\n",
       "      <th>date</th>\n",
       "      <th>day</th>\n",
       "      <th>month</th>\n",
       "      <th>year</th>\n",
       "      <th>cases</th>\n",
       "      <th>deaths</th>\n",
       "      <th>country_code</th>\n",
       "      <th>population</th>\n",
       "      <th>Test</th>\n",
       "    </tr>\n",
       "  </thead>\n",
       "  <tbody>\n",
       "    <tr>\n",
       "      <th>0</th>\n",
       "      <td>Afghanistan</td>\n",
       "      <td>Asia</td>\n",
       "      <td>2020-04-12</td>\n",
       "      <td>12</td>\n",
       "      <td>4</td>\n",
       "      <td>2020</td>\n",
       "      <td>34</td>\n",
       "      <td>3</td>\n",
       "      <td>AFG</td>\n",
       "      <td>37172386.0</td>\n",
       "      <td>1.000000</td>\n",
       "    </tr>\n",
       "    <tr>\n",
       "      <th>1</th>\n",
       "      <td>Albania</td>\n",
       "      <td>Europe</td>\n",
       "      <td>2020-04-12</td>\n",
       "      <td>12</td>\n",
       "      <td>4</td>\n",
       "      <td>2020</td>\n",
       "      <td>17</td>\n",
       "      <td>0</td>\n",
       "      <td>ALB</td>\n",
       "      <td>2866376.0</td>\n",
       "      <td>1.482927</td>\n",
       "    </tr>\n",
       "    <tr>\n",
       "      <th>2</th>\n",
       "      <td>Algeria</td>\n",
       "      <td>Africa</td>\n",
       "      <td>2020-04-12</td>\n",
       "      <td>12</td>\n",
       "      <td>4</td>\n",
       "      <td>2020</td>\n",
       "      <td>64</td>\n",
       "      <td>19</td>\n",
       "      <td>DZA</td>\n",
       "      <td>42228429.0</td>\n",
       "      <td>1.965854</td>\n",
       "    </tr>\n",
       "    <tr>\n",
       "      <th>3</th>\n",
       "      <td>Andorra</td>\n",
       "      <td>Europe</td>\n",
       "      <td>2020-04-12</td>\n",
       "      <td>12</td>\n",
       "      <td>4</td>\n",
       "      <td>2020</td>\n",
       "      <td>21</td>\n",
       "      <td>2</td>\n",
       "      <td>AND</td>\n",
       "      <td>77006.0</td>\n",
       "      <td>2.448780</td>\n",
       "    </tr>\n",
       "    <tr>\n",
       "      <th>4</th>\n",
       "      <td>Angola</td>\n",
       "      <td>Africa</td>\n",
       "      <td>2020-04-12</td>\n",
       "      <td>12</td>\n",
       "      <td>4</td>\n",
       "      <td>2020</td>\n",
       "      <td>0</td>\n",
       "      <td>0</td>\n",
       "      <td>AGO</td>\n",
       "      <td>30809762.0</td>\n",
       "      <td>2.931707</td>\n",
       "    </tr>\n",
       "    <tr>\n",
       "      <th>...</th>\n",
       "      <td>...</td>\n",
       "      <td>...</td>\n",
       "      <td>...</td>\n",
       "      <td>...</td>\n",
       "      <td>...</td>\n",
       "      <td>...</td>\n",
       "      <td>...</td>\n",
       "      <td>...</td>\n",
       "      <td>...</td>\n",
       "      <td>...</td>\n",
       "      <td>...</td>\n",
       "    </tr>\n",
       "    <tr>\n",
       "      <th>201</th>\n",
       "      <td>Venezuela</td>\n",
       "      <td>America</td>\n",
       "      <td>2020-04-12</td>\n",
       "      <td>12</td>\n",
       "      <td>4</td>\n",
       "      <td>2020</td>\n",
       "      <td>0</td>\n",
       "      <td>0</td>\n",
       "      <td>VEN</td>\n",
       "      <td>28870195.0</td>\n",
       "      <td>98.068293</td>\n",
       "    </tr>\n",
       "    <tr>\n",
       "      <th>202</th>\n",
       "      <td>Vietnam</td>\n",
       "      <td>Asia</td>\n",
       "      <td>2020-04-12</td>\n",
       "      <td>12</td>\n",
       "      <td>4</td>\n",
       "      <td>2020</td>\n",
       "      <td>4</td>\n",
       "      <td>0</td>\n",
       "      <td>VNM</td>\n",
       "      <td>95540395.0</td>\n",
       "      <td>98.551220</td>\n",
       "    </tr>\n",
       "    <tr>\n",
       "      <th>203</th>\n",
       "      <td>Yemen</td>\n",
       "      <td>Asia</td>\n",
       "      <td>2020-04-12</td>\n",
       "      <td>12</td>\n",
       "      <td>4</td>\n",
       "      <td>2020</td>\n",
       "      <td>0</td>\n",
       "      <td>0</td>\n",
       "      <td>YEM</td>\n",
       "      <td>28498687.0</td>\n",
       "      <td>99.034146</td>\n",
       "    </tr>\n",
       "    <tr>\n",
       "      <th>204</th>\n",
       "      <td>Zambia</td>\n",
       "      <td>Africa</td>\n",
       "      <td>2020-04-12</td>\n",
       "      <td>12</td>\n",
       "      <td>4</td>\n",
       "      <td>2020</td>\n",
       "      <td>0</td>\n",
       "      <td>0</td>\n",
       "      <td>ZMB</td>\n",
       "      <td>17351822.0</td>\n",
       "      <td>99.517073</td>\n",
       "    </tr>\n",
       "    <tr>\n",
       "      <th>205</th>\n",
       "      <td>Zimbabwe</td>\n",
       "      <td>Africa</td>\n",
       "      <td>2020-04-12</td>\n",
       "      <td>12</td>\n",
       "      <td>4</td>\n",
       "      <td>2020</td>\n",
       "      <td>3</td>\n",
       "      <td>0</td>\n",
       "      <td>ZWE</td>\n",
       "      <td>14439018.0</td>\n",
       "      <td>100.000000</td>\n",
       "    </tr>\n",
       "  </tbody>\n",
       "</table>\n",
       "<p>206 rows × 11 columns</p>\n",
       "</div>"
      ],
      "text/plain": [
       "         country continent        date  day  month  year  cases  deaths  \\\n",
       "0    Afghanistan      Asia  2020-04-12   12      4  2020     34       3   \n",
       "1        Albania    Europe  2020-04-12   12      4  2020     17       0   \n",
       "2        Algeria    Africa  2020-04-12   12      4  2020     64      19   \n",
       "3        Andorra    Europe  2020-04-12   12      4  2020     21       2   \n",
       "4         Angola    Africa  2020-04-12   12      4  2020      0       0   \n",
       "..           ...       ...         ...  ...    ...   ...    ...     ...   \n",
       "201    Venezuela   America  2020-04-12   12      4  2020      0       0   \n",
       "202      Vietnam      Asia  2020-04-12   12      4  2020      4       0   \n",
       "203        Yemen      Asia  2020-04-12   12      4  2020      0       0   \n",
       "204       Zambia    Africa  2020-04-12   12      4  2020      0       0   \n",
       "205     Zimbabwe    Africa  2020-04-12   12      4  2020      3       0   \n",
       "\n",
       "    country_code  population        Test  \n",
       "0            AFG  37172386.0    1.000000  \n",
       "1            ALB   2866376.0    1.482927  \n",
       "2            DZA  42228429.0    1.965854  \n",
       "3            AND     77006.0    2.448780  \n",
       "4            AGO  30809762.0    2.931707  \n",
       "..           ...         ...         ...  \n",
       "201          VEN  28870195.0   98.068293  \n",
       "202          VNM  95540395.0   98.551220  \n",
       "203          YEM  28498687.0   99.034146  \n",
       "204          ZMB  17351822.0   99.517073  \n",
       "205          ZWE  14439018.0  100.000000  \n",
       "\n",
       "[206 rows x 11 columns]"
      ]
     },
     "execution_count": 178,
     "metadata": {},
     "output_type": "execute_result"
    }
   ],
   "source": [
    "covid19_data"
   ]
  },
  {
   "cell_type": "markdown",
   "id": "181f935b-da9d-49f1-9bf3-1708039821a4",
   "metadata": {},
   "source": [
    "First, the column to be added (“class5” in this case) is defined as a Series object. It is then addeFalsethe DataFrame object using the pd.concat function. The axis needs to be mentioned as “1” since the new data is being added along the column axis."
   ]
  },
  {
   "cell_type": "markdown",
   "id": "1e1a0a7e-d7b6-4ced-a810-133dd5f92cd6",
   "metadata": {},
   "source": [
    "- In summary, we can add a column to a DataFrame using the indexing operator, loc indexer, insert method, or concat function. The most straightforward and commonly used method for adding a column is by using the indexing operator []."
   ]
  },
  {
   "cell_type": "markdown",
   "id": "1c84b6a2-a634-4a23-a885-d8768723b06f",
   "metadata": {},
   "source": [
    "## Inserting rows in a DataFrame\n",
    "- There are two methods for adding rows in a DataFrame, either by using the append method or with the concat function."
   ]
  },
  {
   "cell_type": "markdown",
   "id": "db00d33d-f63d-4f5a-97b4-c614108c7123",
   "metadata": {},
   "source": [
    "### 1.Using the append method\n",
    "\n"
   ]
  },
  {
   "cell_type": "code",
   "execution_count": 33,
   "id": "1a48715a-e460-4bfb-ae26-e2b5886785b7",
   "metadata": {},
   "outputs": [
    {
     "name": "stderr",
     "output_type": "stream",
     "text": [
      "C:\\Users\\karthik\\AppData\\Local\\Temp\\ipykernel_20508\\321750320.py:1: FutureWarning: The frame.append method is deprecated and will be removed from pandas in a future version. Use pandas.concat instead.\n",
      "  combined_ages=combined_ages.append({'class 1':35,'class 2':33,'class 3':21},ignore_index=True)\n"
     ]
    },
    {
     "data": {
      "text/html": [
       "<div>\n",
       "<style scoped>\n",
       "    .dataframe tbody tr th:only-of-type {\n",
       "        vertical-align: middle;\n",
       "    }\n",
       "\n",
       "    .dataframe tbody tr th {\n",
       "        vertical-align: top;\n",
       "    }\n",
       "\n",
       "    .dataframe thead th {\n",
       "        text-align: right;\n",
       "    }\n",
       "</style>\n",
       "<table border=\"1\" class=\"dataframe\">\n",
       "  <thead>\n",
       "    <tr style=\"text-align: right;\">\n",
       "      <th></th>\n",
       "      <th>batch 1</th>\n",
       "      <th>batch 2</th>\n",
       "      <th>class 0</th>\n",
       "      <th>batch 3</th>\n",
       "      <th>class 4</th>\n",
       "      <th>0</th>\n",
       "      <th>class 1</th>\n",
       "      <th>class 2</th>\n",
       "      <th>class 3</th>\n",
       "    </tr>\n",
       "  </thead>\n",
       "  <tbody>\n",
       "    <tr>\n",
       "      <th>0</th>\n",
       "      <td>22.0</td>\n",
       "      <td>24.0</td>\n",
       "      <td>18.0</td>\n",
       "      <td>20.0</td>\n",
       "      <td>20.0</td>\n",
       "      <td>31.0</td>\n",
       "      <td>NaN</td>\n",
       "      <td>NaN</td>\n",
       "      <td>NaN</td>\n",
       "    </tr>\n",
       "    <tr>\n",
       "      <th>1</th>\n",
       "      <td>40.0</td>\n",
       "      <td>50.0</td>\n",
       "      <td>35.0</td>\n",
       "      <td>45.0</td>\n",
       "      <td>40.0</td>\n",
       "      <td>48.0</td>\n",
       "      <td>NaN</td>\n",
       "      <td>NaN</td>\n",
       "      <td>NaN</td>\n",
       "    </tr>\n",
       "    <tr>\n",
       "      <th>2</th>\n",
       "      <td>35.0</td>\n",
       "      <td>33.0</td>\n",
       "      <td>46.0</td>\n",
       "      <td>21.0</td>\n",
       "      <td>30.0</td>\n",
       "      <td>NaN</td>\n",
       "      <td>NaN</td>\n",
       "      <td>NaN</td>\n",
       "      <td>NaN</td>\n",
       "    </tr>\n",
       "    <tr>\n",
       "      <th>3</th>\n",
       "      <td>NaN</td>\n",
       "      <td>NaN</td>\n",
       "      <td>NaN</td>\n",
       "      <td>NaN</td>\n",
       "      <td>NaN</td>\n",
       "      <td>NaN</td>\n",
       "      <td>35.0</td>\n",
       "      <td>33.0</td>\n",
       "      <td>21.0</td>\n",
       "    </tr>\n",
       "  </tbody>\n",
       "</table>\n",
       "</div>"
      ],
      "text/plain": [
       "   batch 1  batch 2  class 0  batch 3  class 4     0  class 1  class 2  \\\n",
       "0     22.0     24.0     18.0     20.0     20.0  31.0      NaN      NaN   \n",
       "1     40.0     50.0     35.0     45.0     40.0  48.0      NaN      NaN   \n",
       "2     35.0     33.0     46.0     21.0     30.0   NaN      NaN      NaN   \n",
       "3      NaN      NaN      NaN      NaN      NaN   NaN     35.0     33.0   \n",
       "\n",
       "   class 3  \n",
       "0      NaN  \n",
       "1      NaN  \n",
       "2      NaN  \n",
       "3     21.0  "
      ]
     },
     "execution_count": 33,
     "metadata": {},
     "output_type": "execute_result"
    }
   ],
   "source": [
    "combined_ages=combined_ages.append({'class 1':35,'class 2':33,'class 3':21},ignore_index=True)\n",
    "combined_ages"
   ]
  },
  {
   "cell_type": "markdown",
   "id": "d5e789dd-2196-4cd0-a5c0-7cde6b90d0d5",
   "metadata": {},
   "source": [
    "The argument to the append method- the data that needs to be added - is defined as a dictionary. This dictionary is then passed as an argument to the append method. Setting the ignore_index=True parameter prevents an error from being thrown. \n",
    "This parameter resets the index. While using the append method, we need to ensure that we either use the ignore_index parameter\n",
    "or give a name to a Series before appending it to a DataFrame.\n",
    "Note that the append method does not have an inplace parameter that would ensure that the changes reflect in the original object; hence we need to set the original object to point to the new object created using append, as shown in the preceding code"
   ]
  },
  {
   "cell_type": "markdown",
   "id": "4711fa46-6356-4f70-9fe6-6ad05e802003",
   "metadata": {},
   "source": [
    "### 2.Using the pd.concat function\n"
   ]
  },
  {
   "cell_type": "code",
   "execution_count": 34,
   "id": "1f4cc1e5-becf-42e0-97c4-9b39589b151b",
   "metadata": {},
   "outputs": [
    {
     "data": {
      "text/html": [
       "<div>\n",
       "<style scoped>\n",
       "    .dataframe tbody tr th:only-of-type {\n",
       "        vertical-align: middle;\n",
       "    }\n",
       "\n",
       "    .dataframe tbody tr th {\n",
       "        vertical-align: top;\n",
       "    }\n",
       "\n",
       "    .dataframe thead th {\n",
       "        text-align: right;\n",
       "    }\n",
       "</style>\n",
       "<table border=\"1\" class=\"dataframe\">\n",
       "  <thead>\n",
       "    <tr style=\"text-align: right;\">\n",
       "      <th></th>\n",
       "      <th>batch 1</th>\n",
       "      <th>batch 2</th>\n",
       "      <th>class 0</th>\n",
       "      <th>batch 3</th>\n",
       "      <th>class 4</th>\n",
       "      <th>0</th>\n",
       "      <th>class 1</th>\n",
       "      <th>class 2</th>\n",
       "      <th>class 3</th>\n",
       "    </tr>\n",
       "  </thead>\n",
       "  <tbody>\n",
       "    <tr>\n",
       "      <th>0</th>\n",
       "      <td>22.0</td>\n",
       "      <td>24.0</td>\n",
       "      <td>18.0</td>\n",
       "      <td>20.0</td>\n",
       "      <td>20.0</td>\n",
       "      <td>31.0</td>\n",
       "      <td>NaN</td>\n",
       "      <td>NaN</td>\n",
       "      <td>NaN</td>\n",
       "    </tr>\n",
       "    <tr>\n",
       "      <th>1</th>\n",
       "      <td>40.0</td>\n",
       "      <td>50.0</td>\n",
       "      <td>35.0</td>\n",
       "      <td>45.0</td>\n",
       "      <td>40.0</td>\n",
       "      <td>48.0</td>\n",
       "      <td>NaN</td>\n",
       "      <td>NaN</td>\n",
       "      <td>NaN</td>\n",
       "    </tr>\n",
       "    <tr>\n",
       "      <th>2</th>\n",
       "      <td>35.0</td>\n",
       "      <td>33.0</td>\n",
       "      <td>46.0</td>\n",
       "      <td>21.0</td>\n",
       "      <td>30.0</td>\n",
       "      <td>NaN</td>\n",
       "      <td>NaN</td>\n",
       "      <td>NaN</td>\n",
       "      <td>NaN</td>\n",
       "    </tr>\n",
       "    <tr>\n",
       "      <th>3</th>\n",
       "      <td>NaN</td>\n",
       "      <td>NaN</td>\n",
       "      <td>NaN</td>\n",
       "      <td>NaN</td>\n",
       "      <td>NaN</td>\n",
       "      <td>NaN</td>\n",
       "      <td>35.0</td>\n",
       "      <td>33.0</td>\n",
       "      <td>21.0</td>\n",
       "    </tr>\n",
       "    <tr>\n",
       "      <th>0</th>\n",
       "      <td>NaN</td>\n",
       "      <td>NaN</td>\n",
       "      <td>NaN</td>\n",
       "      <td>NaN</td>\n",
       "      <td>NaN</td>\n",
       "      <td>NaN</td>\n",
       "      <td>32.0</td>\n",
       "      <td>37.0</td>\n",
       "      <td>41.0</td>\n",
       "    </tr>\n",
       "  </tbody>\n",
       "</table>\n",
       "</div>"
      ],
      "text/plain": [
       "   batch 1  batch 2  class 0  batch 3  class 4     0  class 1  class 2  \\\n",
       "0     22.0     24.0     18.0     20.0     20.0  31.0      NaN      NaN   \n",
       "1     40.0     50.0     35.0     45.0     40.0  48.0      NaN      NaN   \n",
       "2     35.0     33.0     46.0     21.0     30.0   NaN      NaN      NaN   \n",
       "3      NaN      NaN      NaN      NaN      NaN   NaN     35.0     33.0   \n",
       "0      NaN      NaN      NaN      NaN      NaN   NaN     32.0     37.0   \n",
       "\n",
       "   class 3  \n",
       "0      NaN  \n",
       "1      NaN  \n",
       "2      NaN  \n",
       "3     21.0  \n",
       "0     41.0  "
      ]
     },
     "execution_count": 34,
     "metadata": {},
     "output_type": "execute_result"
    }
   ],
   "source": [
    "new_row=pd.DataFrame([{'class 1':32,'class 2':37,'class 3':41}])\n",
    "pd.concat([combined_ages,new_row])"
   ]
  },
  {
   "cell_type": "markdown",
   "id": "8c29d2ea-87d1-4f9d-b1be-53e4c1ec1e05",
   "metadata": {},
   "source": [
    "The pd.concat function is used to add new rows as shown in the preceding syntax. The new row to be added is defined as a DataFrame object. Then the pd.concat function is called and the names of the two DataFrames (the original DataFrame and the new row defined as a DataFrame) are passed as arguments."
   ]
  },
  {
   "cell_type": "markdown",
   "id": "c4eeec05-f193-4621-a37b-7ba356bba5e8",
   "metadata": {},
   "source": [
    "- In summary, we can use either the append method or concat function for adding rows to a DataFrame."
   ]
  },
  {
   "cell_type": "markdown",
   "id": "94771d70-9ee1-4c51-91fb-299d39e9ea48",
   "metadata": {},
   "source": [
    "## Deleting columns from a DataFrame\n",
    "- Three methods can be used to delete a column from a DataFrame"
   ]
  },
  {
   "cell_type": "markdown",
   "id": "72d57a12-842e-4df0-9448-9fd9f8479465",
   "metadata": {},
   "source": [
    "### 1.del function \n"
   ]
  },
  {
   "cell_type": "code",
   "execution_count": 35,
   "id": "32be2e04-036d-4aae-a921-5152323bccc6",
   "metadata": {},
   "outputs": [
    {
     "data": {
      "text/html": [
       "<div>\n",
       "<style scoped>\n",
       "    .dataframe tbody tr th:only-of-type {\n",
       "        vertical-align: middle;\n",
       "    }\n",
       "\n",
       "    .dataframe tbody tr th {\n",
       "        vertical-align: top;\n",
       "    }\n",
       "\n",
       "    .dataframe thead th {\n",
       "        text-align: right;\n",
       "    }\n",
       "</style>\n",
       "<table border=\"1\" class=\"dataframe\">\n",
       "  <thead>\n",
       "    <tr style=\"text-align: right;\">\n",
       "      <th></th>\n",
       "      <th>batch 1</th>\n",
       "      <th>batch 2</th>\n",
       "      <th>class 0</th>\n",
       "      <th>batch 3</th>\n",
       "      <th>class 4</th>\n",
       "      <th>0</th>\n",
       "      <th>class 1</th>\n",
       "      <th>class 2</th>\n",
       "    </tr>\n",
       "  </thead>\n",
       "  <tbody>\n",
       "    <tr>\n",
       "      <th>0</th>\n",
       "      <td>22.0</td>\n",
       "      <td>24.0</td>\n",
       "      <td>18.0</td>\n",
       "      <td>20.0</td>\n",
       "      <td>20.0</td>\n",
       "      <td>31.0</td>\n",
       "      <td>NaN</td>\n",
       "      <td>NaN</td>\n",
       "    </tr>\n",
       "    <tr>\n",
       "      <th>1</th>\n",
       "      <td>40.0</td>\n",
       "      <td>50.0</td>\n",
       "      <td>35.0</td>\n",
       "      <td>45.0</td>\n",
       "      <td>40.0</td>\n",
       "      <td>48.0</td>\n",
       "      <td>NaN</td>\n",
       "      <td>NaN</td>\n",
       "    </tr>\n",
       "    <tr>\n",
       "      <th>2</th>\n",
       "      <td>35.0</td>\n",
       "      <td>33.0</td>\n",
       "      <td>46.0</td>\n",
       "      <td>21.0</td>\n",
       "      <td>30.0</td>\n",
       "      <td>NaN</td>\n",
       "      <td>NaN</td>\n",
       "      <td>NaN</td>\n",
       "    </tr>\n",
       "    <tr>\n",
       "      <th>3</th>\n",
       "      <td>NaN</td>\n",
       "      <td>NaN</td>\n",
       "      <td>NaN</td>\n",
       "      <td>NaN</td>\n",
       "      <td>NaN</td>\n",
       "      <td>NaN</td>\n",
       "      <td>35.0</td>\n",
       "      <td>33.0</td>\n",
       "    </tr>\n",
       "  </tbody>\n",
       "</table>\n",
       "</div>"
      ],
      "text/plain": [
       "   batch 1  batch 2  class 0  batch 3  class 4     0  class 1  class 2\n",
       "0     22.0     24.0     18.0     20.0     20.0  31.0      NaN      NaN\n",
       "1     40.0     50.0     35.0     45.0     40.0  48.0      NaN      NaN\n",
       "2     35.0     33.0     46.0     21.0     30.0   NaN      NaN      NaN\n",
       "3      NaN      NaN      NaN      NaN      NaN   NaN     35.0     33.0"
      ]
     },
     "execution_count": 35,
     "metadata": {},
     "output_type": "execute_result"
    }
   ],
   "source": [
    "del combined_ages['class 3']\n",
    "combined_ages"
   ]
  },
  {
   "cell_type": "markdown",
   "id": "ad8c36b3-7757-44f4-bf3a-e065f9682bd6",
   "metadata": {},
   "source": [
    "The preceding statement deletes the last column (with the name,“class 3”).\n",
    "Note that the deletion occurs inplace, that is, in the original DataFrame itself."
   ]
  },
  {
   "cell_type": "markdown",
   "id": "fbe1b2fd-0b29-4372-aa92-4d896910b2c6",
   "metadata": {},
   "source": [
    "### 2.Using the pop method CODE:\n"
   ]
  },
  {
   "cell_type": "code",
   "execution_count": 36,
   "id": "d7ce388e-8c90-4029-9350-74e0569171a4",
   "metadata": {},
   "outputs": [
    {
     "data": {
      "text/plain": [
       "0     NaN\n",
       "1     NaN\n",
       "2     NaN\n",
       "3    33.0\n",
       "Name: class 2, dtype: float64"
      ]
     },
     "execution_count": 36,
     "metadata": {},
     "output_type": "execute_result"
    }
   ],
   "source": [
    "combined_ages.pop('class 2')"
   ]
  },
  {
   "cell_type": "markdown",
   "id": "77a8d15f-2d21-4ac1-b2da-3bd71c6197ac",
   "metadata": {},
   "source": [
    "The pop method deletes a column inplace and returns the deleted column as a Series object"
   ]
  },
  {
   "cell_type": "markdown",
   "id": "33a4453c-7fa1-40f9-992e-9fdf807d939e",
   "metadata": {},
   "source": [
    "### 3.Using the drop method CODE:\n"
   ]
  },
  {
   "cell_type": "code",
   "execution_count": 37,
   "id": "1c63c981-58b7-49b5-9908-ae2217bec40f",
   "metadata": {},
   "outputs": [
    {
     "data": {
      "text/html": [
       "<div>\n",
       "<style scoped>\n",
       "    .dataframe tbody tr th:only-of-type {\n",
       "        vertical-align: middle;\n",
       "    }\n",
       "\n",
       "    .dataframe tbody tr th {\n",
       "        vertical-align: top;\n",
       "    }\n",
       "\n",
       "    .dataframe thead th {\n",
       "        text-align: right;\n",
       "    }\n",
       "</style>\n",
       "<table border=\"1\" class=\"dataframe\">\n",
       "  <thead>\n",
       "    <tr style=\"text-align: right;\">\n",
       "      <th></th>\n",
       "      <th>batch 1</th>\n",
       "      <th>batch 2</th>\n",
       "      <th>class 0</th>\n",
       "      <th>batch 3</th>\n",
       "      <th>class 4</th>\n",
       "      <th>0</th>\n",
       "    </tr>\n",
       "  </thead>\n",
       "  <tbody>\n",
       "    <tr>\n",
       "      <th>0</th>\n",
       "      <td>22.0</td>\n",
       "      <td>24.0</td>\n",
       "      <td>18.0</td>\n",
       "      <td>20.0</td>\n",
       "      <td>20.0</td>\n",
       "      <td>31.0</td>\n",
       "    </tr>\n",
       "    <tr>\n",
       "      <th>1</th>\n",
       "      <td>40.0</td>\n",
       "      <td>50.0</td>\n",
       "      <td>35.0</td>\n",
       "      <td>45.0</td>\n",
       "      <td>40.0</td>\n",
       "      <td>48.0</td>\n",
       "    </tr>\n",
       "    <tr>\n",
       "      <th>2</th>\n",
       "      <td>35.0</td>\n",
       "      <td>33.0</td>\n",
       "      <td>46.0</td>\n",
       "      <td>21.0</td>\n",
       "      <td>30.0</td>\n",
       "      <td>NaN</td>\n",
       "    </tr>\n",
       "    <tr>\n",
       "      <th>3</th>\n",
       "      <td>NaN</td>\n",
       "      <td>NaN</td>\n",
       "      <td>NaN</td>\n",
       "      <td>NaN</td>\n",
       "      <td>NaN</td>\n",
       "      <td>NaN</td>\n",
       "    </tr>\n",
       "  </tbody>\n",
       "</table>\n",
       "</div>"
      ],
      "text/plain": [
       "   batch 1  batch 2  class 0  batch 3  class 4     0\n",
       "0     22.0     24.0     18.0     20.0     20.0  31.0\n",
       "1     40.0     50.0     35.0     45.0     40.0  48.0\n",
       "2     35.0     33.0     46.0     21.0     30.0   NaN\n",
       "3      NaN      NaN      NaN      NaN      NaN   NaN"
      ]
     },
     "execution_count": 37,
     "metadata": {},
     "output_type": "execute_result"
    }
   ],
   "source": [
    "combined_ages.drop(['class 1'],axis=1,inplace=True)\n",
    "combined_ages"
   ]
  },
  {
   "cell_type": "markdown",
   "id": "93a05278-3a52-433e-9a90-71f5fb45c4b6",
   "metadata": {},
   "source": [
    "The column(s) that needs to be dropped is mentioned as a string within a list, which is then passed as an argument to the drop\n",
    "method. Since the drop method removes rows (axis=0) by default, we need to specify the axis value as “1” if we want to remove a\n",
    "column.\n",
    "Unlike the del function and pop method, the deletion using the drop method does not occur in the original DataFrame object, and\n",
    "therefore, we need to add the inplace parameter."
   ]
  },
  {
   "cell_type": "markdown",
   "id": "eeec401c-a756-4261-abc4-9afb634a5025",
   "metadata": {},
   "source": [
    "- To sum up, we can use the del function, pop method, or drop method to delete a column from a DataFrame"
   ]
  },
  {
   "cell_type": "markdown",
   "id": "09875cbf-dff9-4b64-9a4c-2e3d62bcaa8c",
   "metadata": {},
   "source": [
    "### Deleting a row from a DataFrame\n",
    "- There are two methods for removing rows from a DataFrame – either by using a Boolean selection or by using the drop method"
   ]
  },
  {
   "cell_type": "markdown",
   "id": "23d7d0a6-0e9f-439c-ae2d-bee41bb5d9cb",
   "metadata": {},
   "source": [
    "### Using a Boolean selection\n"
   ]
  },
  {
   "cell_type": "code",
   "execution_count": 38,
   "id": "6ab58c22-84bb-4d3c-891f-71f5a177e121",
   "metadata": {},
   "outputs": [
    {
     "data": {
      "text/html": [
       "<div>\n",
       "<style scoped>\n",
       "    .dataframe tbody tr th:only-of-type {\n",
       "        vertical-align: middle;\n",
       "    }\n",
       "\n",
       "    .dataframe tbody tr th {\n",
       "        vertical-align: top;\n",
       "    }\n",
       "\n",
       "    .dataframe thead th {\n",
       "        text-align: right;\n",
       "    }\n",
       "</style>\n",
       "<table border=\"1\" class=\"dataframe\">\n",
       "  <thead>\n",
       "    <tr style=\"text-align: right;\">\n",
       "      <th></th>\n",
       "      <th>batch 1</th>\n",
       "      <th>batch 2</th>\n",
       "      <th>class 0</th>\n",
       "      <th>batch 3</th>\n",
       "      <th>class 4</th>\n",
       "      <th>0</th>\n",
       "    </tr>\n",
       "  </thead>\n",
       "  <tbody>\n",
       "    <tr>\n",
       "      <th>1</th>\n",
       "      <td>40.0</td>\n",
       "      <td>50.0</td>\n",
       "      <td>35.0</td>\n",
       "      <td>45.0</td>\n",
       "      <td>40.0</td>\n",
       "      <td>48.0</td>\n",
       "    </tr>\n",
       "    <tr>\n",
       "      <th>2</th>\n",
       "      <td>35.0</td>\n",
       "      <td>33.0</td>\n",
       "      <td>46.0</td>\n",
       "      <td>21.0</td>\n",
       "      <td>30.0</td>\n",
       "      <td>NaN</td>\n",
       "    </tr>\n",
       "    <tr>\n",
       "      <th>3</th>\n",
       "      <td>NaN</td>\n",
       "      <td>NaN</td>\n",
       "      <td>NaN</td>\n",
       "      <td>NaN</td>\n",
       "      <td>NaN</td>\n",
       "      <td>NaN</td>\n",
       "    </tr>\n",
       "    <tr>\n",
       "      <th>3</th>\n",
       "      <td>NaN</td>\n",
       "      <td>NaN</td>\n",
       "      <td>NaN</td>\n",
       "      <td>NaN</td>\n",
       "      <td>NaN</td>\n",
       "      <td>NaN</td>\n",
       "    </tr>\n",
       "    <tr>\n",
       "      <th>3</th>\n",
       "      <td>NaN</td>\n",
       "      <td>NaN</td>\n",
       "      <td>NaN</td>\n",
       "      <td>NaN</td>\n",
       "      <td>NaN</td>\n",
       "      <td>NaN</td>\n",
       "    </tr>\n",
       "    <tr>\n",
       "      <th>3</th>\n",
       "      <td>NaN</td>\n",
       "      <td>NaN</td>\n",
       "      <td>NaN</td>\n",
       "      <td>NaN</td>\n",
       "      <td>NaN</td>\n",
       "      <td>NaN</td>\n",
       "    </tr>\n",
       "    <tr>\n",
       "      <th>3</th>\n",
       "      <td>NaN</td>\n",
       "      <td>NaN</td>\n",
       "      <td>NaN</td>\n",
       "      <td>NaN</td>\n",
       "      <td>NaN</td>\n",
       "      <td>NaN</td>\n",
       "    </tr>\n",
       "    <tr>\n",
       "      <th>3</th>\n",
       "      <td>NaN</td>\n",
       "      <td>NaN</td>\n",
       "      <td>NaN</td>\n",
       "      <td>NaN</td>\n",
       "      <td>NaN</td>\n",
       "      <td>NaN</td>\n",
       "    </tr>\n",
       "  </tbody>\n",
       "</table>\n",
       "</div>"
      ],
      "text/plain": [
       "   batch 1  batch 2  class 0  batch 3  class 4     0\n",
       "1     40.0     50.0     35.0     45.0     40.0  48.0\n",
       "2     35.0     33.0     46.0     21.0     30.0   NaN\n",
       "3      NaN      NaN      NaN      NaN      NaN   NaN\n",
       "3      NaN      NaN      NaN      NaN      NaN   NaN\n",
       "3      NaN      NaN      NaN      NaN      NaN   NaN\n",
       "3      NaN      NaN      NaN      NaN      NaN   NaN\n",
       "3      NaN      NaN      NaN      NaN      NaN   NaN\n",
       "3      NaN      NaN      NaN      NaN      NaN   NaN"
      ]
     },
     "execution_count": 38,
     "metadata": {},
     "output_type": "execute_result"
    }
   ],
   "source": [
    "\n",
    "combined_ages[~(combined_ages.values<50)]"
   ]
  },
  {
   "cell_type": "markdown",
   "id": "daa8847b-215f-413a-a1bc-d2ad74a7fc05",
   "metadata": {},
   "source": [
    "We use the NOT operator (~) to remove the rows that we do not want. Here, we remove all values in the DataFrame that are less than 50."
   ]
  },
  {
   "cell_type": "markdown",
   "id": "0438eb9c-26ef-478a-a8fc-9e6b6b1f3854",
   "metadata": {},
   "source": [
    "### Using the drop method\n"
   ]
  },
  {
   "cell_type": "code",
   "execution_count": 40,
   "id": "28624e2e-5667-4cbe-b57e-28fdf7d60c09",
   "metadata": {},
   "outputs": [
    {
     "data": {
      "text/html": [
       "<div>\n",
       "<style scoped>\n",
       "    .dataframe tbody tr th:only-of-type {\n",
       "        vertical-align: middle;\n",
       "    }\n",
       "\n",
       "    .dataframe tbody tr th {\n",
       "        vertical-align: top;\n",
       "    }\n",
       "\n",
       "    .dataframe thead th {\n",
       "        text-align: right;\n",
       "    }\n",
       "</style>\n",
       "<table border=\"1\" class=\"dataframe\">\n",
       "  <thead>\n",
       "    <tr style=\"text-align: right;\">\n",
       "      <th></th>\n",
       "      <th>batch 1</th>\n",
       "      <th>batch 2</th>\n",
       "      <th>class 0</th>\n",
       "      <th>batch 3</th>\n",
       "      <th>class 4</th>\n",
       "      <th>0</th>\n",
       "    </tr>\n",
       "  </thead>\n",
       "  <tbody>\n",
       "    <tr>\n",
       "      <th>0</th>\n",
       "      <td>22.0</td>\n",
       "      <td>24.0</td>\n",
       "      <td>18.0</td>\n",
       "      <td>20.0</td>\n",
       "      <td>20.0</td>\n",
       "      <td>31.0</td>\n",
       "    </tr>\n",
       "    <tr>\n",
       "      <th>2</th>\n",
       "      <td>35.0</td>\n",
       "      <td>33.0</td>\n",
       "      <td>46.0</td>\n",
       "      <td>21.0</td>\n",
       "      <td>30.0</td>\n",
       "      <td>NaN</td>\n",
       "    </tr>\n",
       "    <tr>\n",
       "      <th>3</th>\n",
       "      <td>NaN</td>\n",
       "      <td>NaN</td>\n",
       "      <td>NaN</td>\n",
       "      <td>NaN</td>\n",
       "      <td>NaN</td>\n",
       "      <td>NaN</td>\n",
       "    </tr>\n",
       "  </tbody>\n",
       "</table>\n",
       "</div>"
      ],
      "text/plain": [
       "   batch 1  batch 2  class 0  batch 3  class 4     0\n",
       "0     22.0     24.0     18.0     20.0     20.0  31.0\n",
       "2     35.0     33.0     46.0     21.0     30.0   NaN\n",
       "3      NaN      NaN      NaN      NaN      NaN   NaN"
      ]
     },
     "execution_count": 40,
     "metadata": {},
     "output_type": "execute_result"
    }
   ],
   "source": [
    "combined_ages.drop(1) #remove the second row, which has a row index of 1"
   ]
  },
  {
   "cell_type": "markdown",
   "id": "dc336d5f-012f-4f4e-aaf5-44000292909d",
   "metadata": {},
   "source": [
    "Here, we remove the second row, which has a row index of 1. If there is more than one row to be removed, we need to specify the indexes of the rows in a list."
   ]
  },
  {
   "cell_type": "markdown",
   "id": "c9a85f5f-0e3e-4bb9-8db1-fb942258bdaa",
   "metadata": {},
   "source": [
    "Thus, we can use either a Boolean selection or the drop method to remove rows from a DataFrame.Since the drop method works with the removal of both rows and columns, it can be used uniformly.Remember to add the required parameters to the drop method.\n",
    "For removing columns, the axis (=1) parameter needs to be added. For changes to reflect in the original DataFrame, the inplace (=True) parameter needs to be included."
   ]
  },
  {
   "cell_type": "markdown",
   "id": "bebf6682-094e-4565-8cef-66a66192590e",
   "metadata": {},
   "source": [
    "## Indexing\n",
    "- Indexing is fundamental to Pandas and is what makes retrieval and access to data much faster compared to other tools.\n",
    "- It is crucial to set an appropriate index to optimize performance.\n",
    "- An index is implemented in NumPy as an immutable (cannot be modified)\n",
    "- array and contains hashable objects. A hashable object is one that can be converted to an integer value based on its contents (similar to mapping in a dictionary). Objects with different values will have different hash values.\n",
    "- Pandas has two types of indexes - a row index (vertical) with labels attached to rows, and a column index with labels (column names) for every column.\n",
    "- Let us now explore index objects – their data types, their properties, and how they speed up access to data."
   ]
  },
  {
   "cell_type": "markdown",
   "id": "9cd0fd3c-3469-4f4c-beb9-e1516de200e0",
   "metadata": {},
   "source": [
    "### Type of an index object\n",
    "- An index object has a data type, some of which are listed here.\n",
    "- • Index: This is a generic index type; the column index has this type.\n",
    "- • RangeIndex: Default index type in Pandas (used when an index is not defined separately), implemented as a range of increasing integers. This index type helps with saving memory.\n",
    "- • Int64Index: An index type containing integers as labels. For this index type, the index labels need not be equally spaced, whereas this is required for an index of type RangeIndex.\n",
    "- • Float64Index: Contains floating-point numbers (numbers with a decimal point) as index labels.\n",
    "- • IntervalIndex: Contains intervals (for instance, the interval between two integers) as labels.\n",
    "- • CategoricalIndex: A limited and finite set of values.\n",
    "- • DateTimeIndex: Used to represent date and time, like in time-series data.\n",
    "- • PeriodIndex: Represents periods like quarters, months, or years.\n",
    "- • TimedeltaIndex: Represents duration between two periods of time or two dates.\n",
    "- • MultiIndex: Hierarchical index with multiple levels."
   ]
  },
  {
   "cell_type": "markdown",
   "id": "3e8c0b00-e73e-43d1-a33c-82c648024d52",
   "metadata": {},
   "source": [
    "Learn more about types of indexes here: https://pandas.pydata.org/pandas-docs/\n",
    "stable/reference/api/pandas.Index.html"
   ]
  },
  {
   "cell_type": "markdown",
   "id": "354df16c-584c-4c60-ace5-950440c95095",
   "metadata": {},
   "source": [
    "## Creating a custom index and using columns as indexes\n",
    "- When a Pandas object is created, a default index is created of the type RangeIndex\n",
    "- An index of this type has the first label value as 0 and the second label as 1, following an arithmetic progression with a spacing of one integer.\n",
    "- We can set a customized index, using either the index parameter or attribute. \n",
    "- In the Series and DataFrame objects in the absence of labels for the index object, the default index (of type RangeIndex) was used.\n",
    "- We can use the index parameter when we define a Series or DataFrame to give custom values to the index labels."
   ]
  },
  {
   "cell_type": "code",
   "execution_count": 41,
   "id": "15470a2e-cec8-4156-af26-278a6769c767",
   "metadata": {},
   "outputs": [],
   "source": [
    "periodic_table=pd.DataFrame({'Element':['Hydrogen','Helium','Lithium','Beryllium','Boron']},index=['H','He','Li','Be','B'])"
   ]
  },
  {
   "cell_type": "code",
   "execution_count": null,
   "id": "43272274-4b3c-4201-815f-a0deb196a24f",
   "metadata": {},
   "outputs": [],
   "source": []
  }
 ],
 "metadata": {
  "kernelspec": {
   "display_name": "Python 3 (ipykernel)",
   "language": "python",
   "name": "python3"
  },
  "language_info": {
   "codemirror_mode": {
    "name": "ipython",
    "version": 3
   },
   "file_extension": ".py",
   "mimetype": "text/x-python",
   "name": "python",
   "nbconvert_exporter": "python",
   "pygments_lexer": "ipython3",
   "version": "3.10.2"
  }
 },
 "nbformat": 4,
 "nbformat_minor": 5
}
