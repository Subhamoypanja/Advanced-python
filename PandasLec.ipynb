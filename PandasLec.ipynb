{
 "cells": [
  {
   "attachments": {
    "c37e6409-4849-454c-bcc5-b2217b4d210c.png": {
     "image/png": "[encoded data removed]"
    }
   },
   "cell_type": "markdown",
   "id": "2a4dd66f-df8f-4240-8de4-34d4a2befae0",
   "metadata": {
    "tags": []
   },
   "source": [
    "### Prepping Your Data with Pandas\n",
    "![image.png](attachment:c37e6409-4849-454c-bcc5-b2217b4d210c.png)"
   ]
  },
  {
   "cell_type": "markdown",
   "id": "190abba4-983c-48dd-a98e-d231fa6df121",
   "metadata": {},
   "source": [
    "- learn objective:\n",
    "-  the building blocks of the Pandas \n",
    "        - Series, \n",
    "        - DataFrames,and\n",
    "        - Indexes, \n",
    " - Understand the various functions in this library that are used to tidy,cleanse, merge, and aggregate data in Pandas. \n",
    " - develop the skills necessary for preparing your data."
   ]
  },
  {
   "cell_type": "code",
   "execution_count": 1,
   "id": "34382958-28ec-49f1-bf77-7f2be7e3320c",
   "metadata": {},
   "outputs": [
    {
     "data": {
      "text/plain": [
       "'1.4.0'"
      ]
     },
     "execution_count": 1,
     "metadata": {},
     "output_type": "execute_result"
    }
   ],
   "source": [
    "import pandas as pd \n",
    "pd.__version__"
   ]
  },
  {
   "cell_type": "code",
   "execution_count": 139,
   "id": "17ebe100-3d5e-4359-b340-0cc6ee647415",
   "metadata": {},
   "outputs": [],
   "source": [
    "# import pandas as pd\n",
    "# print(dir(pd),end=\" \")"
   ]
  },
  {
   "cell_type": "code",
   "execution_count": null,
   "id": "b4ff76fb-4773-4e4b-a81d-fcca8c0d8add",
   "metadata": {},
   "outputs": [],
   "source": []
  },
  {
   "cell_type": "code",
   "execution_count": 138,
   "id": "feb1d9c8-784d-47d9-bb77-7fcdd4cd3578",
   "metadata": {},
   "outputs": [],
   "source": [
    "import pandas as pd\n",
    "data=pd.read_csv(\"https://raw.githubusercontent.com/DataRepo2019/Data-files/master/subset-covid-data.csv\")\n",
    "data.head()"
   ]
  },
  {
   "cell_type": "code",
   "execution_count": 34,
   "id": "4dc8313f-8163-4b98-81c1-9d78680b040d",
   "metadata": {},
   "outputs": [
    {
     "data": {
      "text/html": [
       "<div>\n",
       "<style scoped>\n",
       "    .dataframe tbody tr th:only-of-type {\n",
       "        vertical-align: middle;\n",
       "    }\n",
       "\n",
       "    .dataframe tbody tr th {\n",
       "        vertical-align: top;\n",
       "    }\n",
       "\n",
       "    .dataframe thead th {\n",
       "        text-align: right;\n",
       "    }\n",
       "</style>\n",
       "<table border=\"1\" class=\"dataframe\">\n",
       "  <thead>\n",
       "    <tr style=\"text-align: right;\">\n",
       "      <th></th>\n",
       "      <th>country</th>\n",
       "      <th>continent</th>\n",
       "      <th>date</th>\n",
       "      <th>day</th>\n",
       "      <th>month</th>\n",
       "      <th>year</th>\n",
       "      <th>cases</th>\n",
       "      <th>deaths</th>\n",
       "      <th>country_code</th>\n",
       "      <th>population</th>\n",
       "    </tr>\n",
       "  </thead>\n",
       "  <tbody>\n",
       "    <tr>\n",
       "      <th>201</th>\n",
       "      <td>Venezuela</td>\n",
       "      <td>America</td>\n",
       "      <td>2020-04-12</td>\n",
       "      <td>12</td>\n",
       "      <td>4</td>\n",
       "      <td>2020</td>\n",
       "      <td>0</td>\n",
       "      <td>0</td>\n",
       "      <td>VEN</td>\n",
       "      <td>28870195.0</td>\n",
       "    </tr>\n",
       "    <tr>\n",
       "      <th>202</th>\n",
       "      <td>Vietnam</td>\n",
       "      <td>Asia</td>\n",
       "      <td>2020-04-12</td>\n",
       "      <td>12</td>\n",
       "      <td>4</td>\n",
       "      <td>2020</td>\n",
       "      <td>4</td>\n",
       "      <td>0</td>\n",
       "      <td>VNM</td>\n",
       "      <td>95540395.0</td>\n",
       "    </tr>\n",
       "    <tr>\n",
       "      <th>203</th>\n",
       "      <td>Yemen</td>\n",
       "      <td>Asia</td>\n",
       "      <td>2020-04-12</td>\n",
       "      <td>12</td>\n",
       "      <td>4</td>\n",
       "      <td>2020</td>\n",
       "      <td>0</td>\n",
       "      <td>0</td>\n",
       "      <td>YEM</td>\n",
       "      <td>28498687.0</td>\n",
       "    </tr>\n",
       "    <tr>\n",
       "      <th>204</th>\n",
       "      <td>Zambia</td>\n",
       "      <td>Africa</td>\n",
       "      <td>2020-04-12</td>\n",
       "      <td>12</td>\n",
       "      <td>4</td>\n",
       "      <td>2020</td>\n",
       "      <td>0</td>\n",
       "      <td>0</td>\n",
       "      <td>ZMB</td>\n",
       "      <td>17351822.0</td>\n",
       "    </tr>\n",
       "    <tr>\n",
       "      <th>205</th>\n",
       "      <td>Zimbabwe</td>\n",
       "      <td>Africa</td>\n",
       "      <td>2020-04-12</td>\n",
       "      <td>12</td>\n",
       "      <td>4</td>\n",
       "      <td>2020</td>\n",
       "      <td>3</td>\n",
       "      <td>0</td>\n",
       "      <td>ZWE</td>\n",
       "      <td>14439018.0</td>\n",
       "    </tr>\n",
       "  </tbody>\n",
       "</table>\n",
       "</div>"
      ],
      "text/plain": [
       "       country continent        date  day  month  year  cases  deaths  \\\n",
       "201  Venezuela   America  2020-04-12   12      4  2020      0       0   \n",
       "202    Vietnam      Asia  2020-04-12   12      4  2020      4       0   \n",
       "203      Yemen      Asia  2020-04-12   12      4  2020      0       0   \n",
       "204     Zambia    Africa  2020-04-12   12      4  2020      0       0   \n",
       "205   Zimbabwe    Africa  2020-04-12   12      4  2020      3       0   \n",
       "\n",
       "    country_code  population  \n",
       "201          VEN  28870195.0  \n",
       "202          VNM  95540395.0  \n",
       "203          YEM  28498687.0  \n",
       "204          ZMB  17351822.0  \n",
       "205          ZWE  14439018.0  "
      ]
     },
     "execution_count": 34,
     "metadata": {},
     "output_type": "execute_result"
    }
   ],
   "source": [
    "data.tail()"
   ]
  },
  {
   "cell_type": "code",
   "execution_count": 36,
   "id": "b586d006-78e9-418a-b4cf-5a50cd1a0c55",
   "metadata": {},
   "outputs": [
    {
     "data": {
      "text/plain": [
       "pandas.core.series.Series"
      ]
     },
     "execution_count": 36,
     "metadata": {},
     "output_type": "execute_result"
    }
   ],
   "source": [
    "type(data['country'])"
   ]
  },
  {
   "cell_type": "code",
   "execution_count": 37,
   "id": "9d35a5dc-20eb-4f80-b898-290cdfe67c53",
   "metadata": {},
   "outputs": [
    {
     "data": {
      "text/plain": [
       "pandas.core.frame.DataFrame"
      ]
     },
     "execution_count": 37,
     "metadata": {},
     "output_type": "execute_result"
    }
   ],
   "source": [
    "import pandas as pd\n",
    "type(pd.DataFrame())\n"
   ]
  },
  {
   "cell_type": "code",
   "execution_count": 38,
   "id": "6c679016-65d2-4485-b11d-72dc45097c84",
   "metadata": {},
   "outputs": [
    {
     "name": "stderr",
     "output_type": "stream",
     "text": [
      "C:\\Users\\karthik\\AppData\\Local\\Temp\\ipykernel_15740\\2002654213.py:1: FutureWarning: The default dtype for empty Series will be 'object' instead of 'float64' in a future version. Specify a dtype explicitly to silence this warning.\n",
      "  type(pd.Series())\n"
     ]
    },
    {
     "data": {
      "text/plain": [
       "pandas.core.series.Series"
      ]
     },
     "execution_count": 38,
     "metadata": {},
     "output_type": "execute_result"
    }
   ],
   "source": [
    "type(pd.Series())"
   ]
  },
  {
   "cell_type": "markdown",
   "id": "55815d25-4078-4899-b700-1ceb5977da04",
   "metadata": {},
   "source": [
    "### Pandas at a glance"
   ]
  },
  {
   "cell_type": "markdown",
   "id": "04ba8577-7c5c-4183-83b4-57368fd48a51",
   "metadata": {},
   "source": [
    "- Wes McKinney developed the Pandas library in 2008.\n",
    "- The name (Pandas) comes from the term “Panel Data” used in econometrics for analyzing time-series data.\n"
   ]
  },
  {
   "cell_type": "markdown",
   "id": "3f897085-9af7-43d9-9edc-bbe2ac2d859d",
   "metadata": {},
   "source": [
    "### Pandas features:"
   ]
  },
  {
   "cell_type": "markdown",
   "id": "46354a8a-c457-4ea3-9883-28cab26dd59f",
   "metadata": {},
   "source": [
    "1. Pandas provides features for labeling of data or indexing, which speeds up the retrieval of data."
   ]
  },
  {
   "cell_type": "markdown",
   "id": "3e3e62d4-aa83-4a48-9f59-a675756a7b4b",
   "metadata": {},
   "source": [
    "2. Input and output support: Pandas provides options to read data from different file formats like \n",
    "    - JSON (JavaScript Object Notation),\n",
    "    - CSV (Comma-Separated Values), \n",
    "    - Excel, and \n",
    "    - HDF5 (Hierarchical Data Format Version 5). \n",
    "    - It can also be used to write data into databases, web services, and so on."
   ]
  },
  {
   "cell_type": "markdown",
   "id": "783809ea-8fa9-4d4d-b193-4f3708f5f201",
   "metadata": {},
   "source": [
    "3. Most of the data that is needed for analysis is not contained in a single source, and we often need to combine datasets to consolidate the data that we need for analysis. Again, Pandas comes to the rescue with tailor-made functions to combine data."
   ]
  },
  {
   "cell_type": "markdown",
   "id": "fc418a97-5f58-48a8-b3df-c669350add0c",
   "metadata": {},
   "source": [
    " 4. Speed and enhanced performance: \n",
    "    - The Pandas library is based on Cython, which combines the convenience and ease of use of Python with the speed of the C language. Cython helps to optimize performance and reduce overheads."
   ]
  },
  {
   "cell_type": "markdown",
   "id": "35423d75-d3b4-49ea-8cf1-dce4c3b4c881",
   "metadata": {},
   "source": [
    "5. Data visualization: \n",
    "    - To derive insights from the data and make it presentable to the audience, viewing data using visual means is crucial, and Pandas provides a lot of built-in visualization tools using Matplotlib as the base library."
   ]
  },
  {
   "cell_type": "markdown",
   "id": "9af360a3-67b7-4a8f-b73e-91c97d191b6b",
   "metadata": {},
   "source": [
    "6. Support for other libraries: \n",
    "    - Pandas integrates smoothly with other libraries like Numpy, Matplotlib, Scipy, and Scikit-learn.Thus we can perform other tasks like numerical computations, visualizations, statistical analysis, and machine learning in conjunction with data manipulation."
   ]
  },
  {
   "cell_type": "markdown",
   "id": "e4b285d1-1c0c-4f65-befc-2c10d7ab8144",
   "metadata": {},
   "source": [
    "7. Grouping: \n",
    "    - Pandas provides support for the split-apply-combine methodology, whereby we can group our data into categories, apply separate functions on them, and combine the results."
   ]
  },
  {
   "cell_type": "markdown",
   "id": "369a50ea-f721-4657-98f9-a3e5fe0b0aef",
   "metadata": {},
   "source": [
    "8. Handling missing data, duplicates, and filler characters: \n",
    "    - Data often has missing values, duplicates, blank spaces, special characters (like $, &), and so on that may need to be removed or replaced. With the functions provided in Pandas, you can handle such anomalies with ease."
   ]
  },
  {
   "cell_type": "markdown",
   "id": "175f9a9f-ec9c-4895-8d17-51587894549e",
   "metadata": {},
   "source": [
    "9. Mathematical operations:\n",
    "    - Many numerical operations and computations can be performed in Pandas, with NumPy being used at the back end for this purpose."
   ]
  },
  {
   "cell_type": "markdown",
   "id": "e26e706a-3031-4008-ac67-6ecdb48b15fe",
   "metadata": {},
   "source": [
    "### Technical requirements\n",
    "\n",
    "- If you have not already installed Pandas, go to the Anaconda Prompt/Terminal  and enter the following command.\n",
    "- ``` >>>pip install pandas```\n",
    "\n",
    "- import pandas as pd\n",
    "- Here, pd is a shorthand name or alias that is a standard for Pandas.\n"
   ]
  },
  {
   "cell_type": "code",
   "execution_count": 145,
   "id": "3c294092-d638-49b3-83f4-47689fc5a083",
   "metadata": {},
   "outputs": [
    {
     "name": "stdout",
     "output_type": "stream",
     "text": [
      "['BooleanDtype', 'Categorical', 'CategoricalDtype', 'CategoricalIndex', 'DataFrame', 'DateOffset', 'DatetimeIndex', 'DatetimeTZDtype', 'ExcelFile', 'ExcelWriter', 'Flags', 'Float32Dtype', 'Float64Dtype', 'Float64Index', 'Grouper', 'HDFStore', 'Index', 'IndexSlice', 'Int16Dtype', 'Int32Dtype', 'Int64Dtype', 'Int64Index', 'Int8Dtype', 'Interval', 'IntervalDtype', 'IntervalIndex', 'MultiIndex', 'NA', 'NaT', 'NamedAgg', 'Period', 'PeriodDtype', 'PeriodIndex', 'RangeIndex', 'Series', 'SparseDtype', 'StringDtype', 'Timedelta', 'TimedeltaIndex', 'Timestamp', 'UInt16Dtype', 'UInt32Dtype', 'UInt64Dtype', 'UInt64Index', 'UInt8Dtype', '__all__', '__builtins__', '__cached__', '__deprecated_num_index_names', '__dir__', '__doc__', '__docformat__', '__file__', '__getattr__', '__git_version__', '__loader__', '__name__', '__package__', '__path__', '__spec__', '__version__', '_config', '_is_numpy_dev', '_libs', '_testing', '_typing', '_version', 'api', 'array', 'arrays', 'bdate_range', 'compat', 'concat', 'core', 'crosstab', 'cut', 'date_range', 'describe_option', 'errors', 'eval', 'factorize', 'get_dummies', 'get_option', 'infer_freq', 'interval_range', 'io', 'isna', 'isnull', 'json_normalize', 'lreshape', 'melt', 'merge', 'merge_asof', 'merge_ordered', 'notna', 'notnull', 'offsets', 'option_context', 'options', 'pandas', 'period_range', 'pivot', 'pivot_table', 'plotting', 'qcut', 'read_clipboard', 'read_csv', 'read_excel', 'read_feather', 'read_fwf', 'read_gbq', 'read_hdf', 'read_html', 'read_json', 'read_orc', 'read_parquet', 'read_pickle', 'read_sas', 'read_spss', 'read_sql', 'read_sql_query', 'read_sql_table', 'read_stata', 'read_table', 'read_xml', 'reset_option', 'set_eng_float_format', 'set_option', 'show_versions', 'test', 'testing', 'timedelta_range', 'to_datetime', 'to_numeric', 'to_pickle', 'to_timedelta', 'tseries', 'unique', 'util', 'value_counts', 'wide_to_long']"
     ]
    }
   ],
   "source": [
    "import pandas as pd\n",
    "print(dir(pd),end=\"\")"
   ]
  },
  {
   "cell_type": "code",
   "execution_count": null,
   "id": "4078bac1-ac87-440b-bbe3-99d8267fdec1",
   "metadata": {},
   "outputs": [],
   "source": []
  },
  {
   "cell_type": "markdown",
   "id": "b629b78e-10b9-44d6-a915-16bb473d2804",
   "metadata": {},
   "source": [
    "### Building blocks of Pandas\n",
    "- The Series and DataFrame class  objects are the underlying data structures in Pandas. \n",
    "- In a nutshell, a Series is like a column (has only one dimension),\n",
    "- and a DataFrame (has two dimensions ) is like a table or a spreadsheet with rows and columns. \n",
    "- Each value stored in a Series or a DataFrame has a label or an index attached to it, which speeds up retrieval and access to data. "
   ]
  },
  {
   "cell_type": "markdown",
   "id": "d4124e23-6fc5-4127-87c8-4ca19237d831",
   "metadata": {},
   "source": [
    "### Creating a Series object\n",
    "- The Series is a one-dimensional object, with a set of values and their associated indexes."
   ]
  },
  {
   "cell_type": "markdown",
   "id": "39a82401-587c-425e-bf4f-d902499ccbcf",
   "metadata": {
    "tags": []
   },
   "source": [
    "### Using a scalar value\n"
   ]
  },
  {
   "cell_type": "code",
   "execution_count": 146,
   "id": "4c05e251-a874-43df-8145-bc9e77a69015",
   "metadata": {},
   "outputs": [
    {
     "name": "stdout",
     "output_type": "stream",
     "text": [
      "0    4\n",
      "dtype: int64\n",
      "<class 'pandas.core.series.Series'>\n"
     ]
    }
   ],
   "source": [
    "#creating a Series using a scalar value:\n",
    "import pandas as pd\n",
    "x=pd.Series(4)\n",
    "print(x)\n",
    "print(type(x))\n",
    "#Creating a simple series with just one value. Here, 0 is the index label, and 2 is the value the Series object contains."
   ]
  },
  {
   "cell_type": "code",
   "execution_count": 148,
   "id": "30101692-168c-4e37-ae00-3c9963f2a156",
   "metadata": {},
   "outputs": [
    {
     "name": "stdout",
     "output_type": "stream",
     "text": [
      "<class 'int'>\n"
     ]
    }
   ],
   "source": [
    "a=10\n",
    "print(type(a))"
   ]
  },
  {
   "cell_type": "code",
   "execution_count": 157,
   "id": "f3c0bd4f-72a9-4254-a365-64269e5b4419",
   "metadata": {},
   "outputs": [
    {
     "name": "stdout",
     "output_type": "stream",
     "text": [
      "0      2\n",
      "1      3\n",
      "2      1\n",
      "3      2\n",
      "4    566\n",
      "5     76\n",
      "dtype: int64\n",
      "<class 'pandas.core.series.Series'>\n"
     ]
    }
   ],
   "source": [
    "# Using a list\n",
    "ls=pd.Series([2,3,1,2,566,76])\n",
    "#Creating a series by enclosing a single value (2) in a list and replicating it 5 times. 0,1,2,3,4 are the\n",
    "#autogenerated index labels.\n",
    "print(ls)\n",
    "print(type(ls))"
   ]
  },
  {
   "cell_type": "code",
   "execution_count": 152,
   "id": "d47e7bbf-e49a-4fe9-9614-def78c33fd38",
   "metadata": {},
   "outputs": [
    {
     "data": {
      "text/plain": [
       "a    h\n",
       "b    e\n",
       "c    l\n",
       "d    l\n",
       "e    o\n",
       "dtype: object"
      ]
     },
     "execution_count": 152,
     "metadata": {},
     "output_type": "execute_result"
    }
   ],
   "source": [
    "#Using characters in a string\n",
    "pd.Series(list('hello'),index =[\"a\",\"b\",\"c\",\"d\",\"e\"])\n",
    "#Creating a series by using each character in the string \"hello\" as a separate value in the Series."
   ]
  },
  {
   "cell_type": "code",
   "execution_count": 166,
   "id": "871d6af4-1120-4f9f-898c-6e5ac59a7e22",
   "metadata": {},
   "outputs": [
    {
     "data": {
      "text/plain": [
       "1        India\n",
       "2        Japan\n",
       "3    Singapore\n",
       "dtype: object"
      ]
     },
     "execution_count": 166,
     "metadata": {},
     "output_type": "execute_result"
    }
   ],
   "source": [
    "#Using a dictionary\n",
    "pd.Series({1:'India',2:'Japan',3:'Singapore'})\n",
    "#The key/value pairs correspond to the index labels and values in the Series object."
   ]
  },
  {
   "cell_type": "code",
   "execution_count": 167,
   "id": "bef13650-9dcb-41f6-85f3-b3354e4c70f3",
   "metadata": {},
   "outputs": [
    {
     "data": {
      "text/plain": [
       "0    1\n",
       "1    2\n",
       "2    3\n",
       "3    4\n",
       "dtype: int32"
      ]
     },
     "execution_count": 167,
     "metadata": {},
     "output_type": "execute_result"
    }
   ],
   "source": [
    "#Using a range\n",
    "import numpy as np\n",
    "pd.Series(np.arange(1,5))\n",
    "#Using the NumPy asciiarrange function to create a series from a range of 4 numbers (1-4), ensure that the\n",
    "#NumPy library is also imported"
   ]
  },
  {
   "cell_type": "code",
   "execution_count": 177,
   "id": "0c92f1bf-2891-4201-b44b-e2136d5983e9",
   "metadata": {},
   "outputs": [
    {
     "data": {
      "text/plain": [
       "(10000, 3)"
      ]
     },
     "execution_count": 177,
     "metadata": {},
     "output_type": "execute_result"
    }
   ],
   "source": [
    "import numpy as np\n",
    "data=np.genfromtxt(\"climate.txt\",delimiter=',',skip_header=1)\n",
    "data.shape"
   ]
  },
  {
   "cell_type": "code",
   "execution_count": 170,
   "id": "0f8f9412-0405-4c9a-8a31-6578ffcced90",
   "metadata": {},
   "outputs": [
    {
     "data": {
      "text/plain": [
       "array([25., 39., 59., ..., 99., 70., 92.])"
      ]
     },
     "execution_count": 170,
     "metadata": {},
     "output_type": "execute_result"
    }
   ],
   "source": [
    "data[:,0]"
   ]
  },
  {
   "cell_type": "code",
   "execution_count": 176,
   "id": "a48f8969-33a3-4c93-9564-2bd2917f2f25",
   "metadata": {},
   "outputs": [
    {
     "ename": "ValueError",
     "evalue": "Data must be 1-dimensional",
     "output_type": "error",
     "traceback": [
      "\u001b[1;31m---------------------------------------------------------------------------\u001b[0m",
      "\u001b[1;31mValueError\u001b[0m                                Traceback (most recent call last)",
      "Input \u001b[1;32mIn [176]\u001b[0m, in \u001b[0;36m<module>\u001b[1;34m\u001b[0m\n\u001b[0;32m      1\u001b[0m \u001b[38;5;28;01mimport\u001b[39;00m \u001b[38;5;21;01mnumpy\u001b[39;00m \u001b[38;5;28;01mas\u001b[39;00m \u001b[38;5;21;01mnp\u001b[39;00m\n\u001b[1;32m----> 2\u001b[0m temp_data\u001b[38;5;241m=\u001b[39m\u001b[43mpd\u001b[49m\u001b[38;5;241;43m.\u001b[39;49m\u001b[43mSeries\u001b[49m\u001b[43m(\u001b[49m\u001b[43mdata\u001b[49m\u001b[43m)\u001b[49m\n\u001b[0;32m      3\u001b[0m \u001b[38;5;28mtype\u001b[39m(temp_data)\n",
      "File \u001b[1;32m~\\AppData\\Local\\Programs\\Python\\Python310\\lib\\site-packages\\pandas\\core\\series.py:452\u001b[0m, in \u001b[0;36mSeries.__init__\u001b[1;34m(self, data, index, dtype, name, copy, fastpath)\u001b[0m\n\u001b[0;32m    450\u001b[0m         data \u001b[38;5;241m=\u001b[39m data\u001b[38;5;241m.\u001b[39mcopy()\n\u001b[0;32m    451\u001b[0m \u001b[38;5;28;01melse\u001b[39;00m:\n\u001b[1;32m--> 452\u001b[0m     data \u001b[38;5;241m=\u001b[39m \u001b[43msanitize_array\u001b[49m\u001b[43m(\u001b[49m\u001b[43mdata\u001b[49m\u001b[43m,\u001b[49m\u001b[43m \u001b[49m\u001b[43mindex\u001b[49m\u001b[43m,\u001b[49m\u001b[43m \u001b[49m\u001b[43mdtype\u001b[49m\u001b[43m,\u001b[49m\u001b[43m \u001b[49m\u001b[43mcopy\u001b[49m\u001b[43m)\u001b[49m\n\u001b[0;32m    454\u001b[0m     manager \u001b[38;5;241m=\u001b[39m get_option(\u001b[38;5;124m\"\u001b[39m\u001b[38;5;124mmode.data_manager\u001b[39m\u001b[38;5;124m\"\u001b[39m)\n\u001b[0;32m    455\u001b[0m     \u001b[38;5;28;01mif\u001b[39;00m manager \u001b[38;5;241m==\u001b[39m \u001b[38;5;124m\"\u001b[39m\u001b[38;5;124mblock\u001b[39m\u001b[38;5;124m\"\u001b[39m:\n",
      "File \u001b[1;32m~\\AppData\\Local\\Programs\\Python\\Python310\\lib\\site-packages\\pandas\\core\\construction.py:598\u001b[0m, in \u001b[0;36msanitize_array\u001b[1;34m(data, index, dtype, copy, raise_cast_failure, allow_2d)\u001b[0m\n\u001b[0;32m    595\u001b[0m             subarr \u001b[38;5;241m=\u001b[39m cast(np\u001b[38;5;241m.\u001b[39mndarray, subarr)\n\u001b[0;32m    596\u001b[0m             subarr \u001b[38;5;241m=\u001b[39m maybe_infer_to_datetimelike(subarr)\n\u001b[1;32m--> 598\u001b[0m subarr \u001b[38;5;241m=\u001b[39m \u001b[43m_sanitize_ndim\u001b[49m\u001b[43m(\u001b[49m\u001b[43msubarr\u001b[49m\u001b[43m,\u001b[49m\u001b[43m \u001b[49m\u001b[43mdata\u001b[49m\u001b[43m,\u001b[49m\u001b[43m \u001b[49m\u001b[43mdtype\u001b[49m\u001b[43m,\u001b[49m\u001b[43m \u001b[49m\u001b[43mindex\u001b[49m\u001b[43m,\u001b[49m\u001b[43m \u001b[49m\u001b[43mallow_2d\u001b[49m\u001b[38;5;241;43m=\u001b[39;49m\u001b[43mallow_2d\u001b[49m\u001b[43m)\u001b[49m\n\u001b[0;32m    600\u001b[0m \u001b[38;5;28;01mif\u001b[39;00m \u001b[38;5;28misinstance\u001b[39m(subarr, np\u001b[38;5;241m.\u001b[39mndarray):\n\u001b[0;32m    601\u001b[0m     \u001b[38;5;66;03m# at this point we should have dtype be None or subarr.dtype == dtype\u001b[39;00m\n\u001b[0;32m    602\u001b[0m     dtype \u001b[38;5;241m=\u001b[39m cast(np\u001b[38;5;241m.\u001b[39mdtype, dtype)\n",
      "File \u001b[1;32m~\\AppData\\Local\\Programs\\Python\\Python310\\lib\\site-packages\\pandas\\core\\construction.py:649\u001b[0m, in \u001b[0;36m_sanitize_ndim\u001b[1;34m(result, data, dtype, index, allow_2d)\u001b[0m\n\u001b[0;32m    647\u001b[0m     \u001b[38;5;28;01mif\u001b[39;00m allow_2d:\n\u001b[0;32m    648\u001b[0m         \u001b[38;5;28;01mreturn\u001b[39;00m result\n\u001b[1;32m--> 649\u001b[0m     \u001b[38;5;28;01mraise\u001b[39;00m \u001b[38;5;167;01mValueError\u001b[39;00m(\u001b[38;5;124m\"\u001b[39m\u001b[38;5;124mData must be 1-dimensional\u001b[39m\u001b[38;5;124m\"\u001b[39m)\n\u001b[0;32m    650\u001b[0m \u001b[38;5;28;01mif\u001b[39;00m is_object_dtype(dtype) \u001b[38;5;129;01mand\u001b[39;00m \u001b[38;5;28misinstance\u001b[39m(dtype, ExtensionDtype):\n\u001b[0;32m    651\u001b[0m     \u001b[38;5;66;03m# i.e. PandasDtype(\"O\")\u001b[39;00m\n\u001b[0;32m    653\u001b[0m     result \u001b[38;5;241m=\u001b[39m com\u001b[38;5;241m.\u001b[39masarray_tuplesafe(data, dtype\u001b[38;5;241m=\u001b[39mnp\u001b[38;5;241m.\u001b[39mdtype(\u001b[38;5;124m\"\u001b[39m\u001b[38;5;124mobject\u001b[39m\u001b[38;5;124m\"\u001b[39m))\n",
      "\u001b[1;31mValueError\u001b[0m: Data must be 1-dimensional"
     ]
    }
   ],
   "source": [
    "import numpy as np\n",
    "temp_data=pd.Series(data)\n",
    "type(temp_data)"
   ]
  },
  {
   "cell_type": "code",
   "execution_count": 174,
   "id": "6c020257-715e-40d1-a09d-ec4073d8e536",
   "metadata": {},
   "outputs": [
    {
     "data": {
      "text/plain": [
       "0    0.664566\n",
       "1   -0.196134\n",
       "2    1.451272\n",
       "3   -1.753180\n",
       "4    1.983111\n",
       "dtype: float64"
      ]
     },
     "execution_count": 174,
     "metadata": {},
     "output_type": "execute_result"
    }
   ],
   "source": [
    "#Using random numbers\n",
    "pd.Series(np.random.normal(size=5))\n",
    "#Creating a set of 4 random numbers using the np.random.normal function"
   ]
  },
  {
   "cell_type": "code",
   "execution_count": null,
   "id": "df4942ac-00c5-459e-857e-91f123716267",
   "metadata": {},
   "outputs": [],
   "source": []
  },
  {
   "cell_type": "code",
   "execution_count": 175,
   "id": "251620ab-3ca6-41c6-9a49-8c340b04b7aa",
   "metadata": {},
   "outputs": [
    {
     "data": {
      "text/plain": [
       "a    2\n",
       "b    0\n",
       "c    1\n",
       "d    6\n",
       "dtype: int64"
      ]
     },
     "execution_count": 175,
     "metadata": {},
     "output_type": "execute_result"
    }
   ],
   "source": [
    "#Creating a series with customized index labels\n",
    "pd.Series([2,0,1,6],index=['a','b','c','d'])\n",
    "#The list [2,0,1,6] specifies the values in the series, and the list for the index['a','b','c','d'] specifies the index labels"
   ]
  },
  {
   "cell_type": "markdown",
   "id": "dc09c29a-3f48-4f26-9b0e-a0371af93449",
   "metadata": {},
   "source": [
    "create a Series object from a single (scalar) value, list, dictionary, a set of random numbers, or a range of numbers. The pd.Series function creates a Series\n",
    "object (note that the letter “S” in “Series” is in uppercase; pd.series will not work). Use the index parameter if you want to customize the index."
   ]
  },
  {
   "cell_type": "markdown",
   "id": "3e79924b-e161-4559-a10a-4f80e6001b4a",
   "metadata": {},
   "source": [
    "### Examining the properties of a Series\n",
    "- a Series object like the number of elements, its values, and unique elements."
   ]
  },
  {
   "cell_type": "markdown",
   "id": "36d48149-b65d-4c56-bef0-b8caed985c06",
   "metadata": {
    "tags": []
   },
   "source": [
    "### Finding out the number of elements in a Series\n",
    "- There are three ways of finding the number of elements a Series contains: \n",
    "     - using the size parameter, the len function, or the shape parameter\n"
   ]
  },
  {
   "cell_type": "code",
   "execution_count": 179,
   "id": "c78446a3-a01a-45c8-9b47-9ea60d72c1f4",
   "metadata": {},
   "outputs": [
    {
     "name": "stdout",
     "output_type": "stream",
     "text": [
      "0    1\n",
      "1    2\n",
      "2    3\n",
      "3    4\n",
      "4    5\n",
      "5    6\n",
      "6    7\n",
      "7    8\n",
      "8    9\n",
      "dtype: int32\n"
     ]
    },
    {
     "data": {
      "text/plain": [
       "9"
      ]
     },
     "execution_count": 179,
     "metadata": {},
     "output_type": "execute_result"
    }
   ],
   "source": [
    "#series definition\n",
    "x=pd.Series(np.arange(1,10))\n",
    "#using the size attribute\n",
    "print(x)\n",
    "x.size"
   ]
  },
  {
   "cell_type": "code",
   "execution_count": 64,
   "id": "8acf4371-fa46-430f-842f-acbc8e01c5f5",
   "metadata": {},
   "outputs": [
    {
     "data": {
      "text/plain": [
       "9"
      ]
     },
     "execution_count": 64,
     "metadata": {},
     "output_type": "execute_result"
    }
   ],
   "source": [
    "#builtin function \n",
    "len(x)"
   ]
  },
  {
   "cell_type": "code",
   "execution_count": 49,
   "id": "1d1c90bd-6fe8-40df-b89c-349a356de677",
   "metadata": {},
   "outputs": [
    {
     "data": {
      "text/plain": [
       "(9,)"
      ]
     },
     "execution_count": 49,
     "metadata": {},
     "output_type": "execute_result"
    }
   ],
   "source": [
    "#The shape attribute returns a tuple with the number of rows and columns\n",
    "x.shape"
   ]
  },
  {
   "cell_type": "markdown",
   "id": "89134c70-dd52-43bd-9029-60ec0c459e82",
   "metadata": {},
   "source": [
    "### Listing the values of the individual elements in a Series\n",
    "- The values attribute returns a NumPy array containing the values of each item in the Series."
   ]
  },
  {
   "cell_type": "code",
   "execution_count": 50,
   "id": "c777eea0-b918-46a8-bb21-0720199c3c1e",
   "metadata": {},
   "outputs": [
    {
     "data": {
      "text/plain": [
       "array([1, 2, 3, 4, 5, 6, 7, 8, 9])"
      ]
     },
     "execution_count": 50,
     "metadata": {},
     "output_type": "execute_result"
    }
   ],
   "source": [
    "x.values"
   ]
  },
  {
   "cell_type": "code",
   "execution_count": 184,
   "id": "f52a9d46-b4f5-4a28-8680-a482600d3495",
   "metadata": {},
   "outputs": [
    {
     "data": {
      "text/plain": [
       "RangeIndex(start=0, stop=9, step=1)"
      ]
     },
     "execution_count": 184,
     "metadata": {},
     "output_type": "execute_result"
    }
   ],
   "source": [
    "x.index"
   ]
  },
  {
   "cell_type": "code",
   "execution_count": 183,
   "id": "0e9168a6-e0db-4c18-a963-50c0f5584fb2",
   "metadata": {},
   "outputs": [
    {
     "data": {
      "text/plain": [
       "40.0    151\n",
       "37.0    148\n",
       "72.0    146\n",
       "35.0    145\n",
       "80.0    144\n",
       "       ... \n",
       "63.0    103\n",
       "83.0    101\n",
       "25.0    101\n",
       "47.0    100\n",
       "34.0     98\n",
       "Length: 81, dtype: int64"
      ]
     },
     "execution_count": 183,
     "metadata": {},
     "output_type": "execute_result"
    }
   ],
   "source": [
    "temp_data.value_counts()  # distinict element "
   ]
  },
  {
   "cell_type": "code",
   "execution_count": 72,
   "id": "5233bef6-0914-4665-9907-bbad74d50606",
   "metadata": {},
   "outputs": [],
   "source": [
    "ixs=pd.Series([2,0,1,6],index=['a','b','c','d'])"
   ]
  },
  {
   "cell_type": "code",
   "execution_count": 185,
   "id": "81e86673-8b18-4ce2-a415-c84121ffcc51",
   "metadata": {},
   "outputs": [
    {
     "data": {
      "text/plain": [
       "RangeIndex(start=0, stop=10000, step=1)"
      ]
     },
     "execution_count": 185,
     "metadata": {},
     "output_type": "execute_result"
    }
   ],
   "source": [
    "temp_data.index"
   ]
  },
  {
   "cell_type": "code",
   "execution_count": 186,
   "id": "396a1c0a-f3e6-4eda-9016-a868c13da36a",
   "metadata": {},
   "outputs": [
    {
     "data": {
      "text/plain": [
       "Index(['a', 'b', 'c', 'd'], dtype='object')"
      ]
     },
     "execution_count": 186,
     "metadata": {},
     "output_type": "execute_result"
    }
   ],
   "source": [
    "ixs.index"
   ]
  },
  {
   "cell_type": "markdown",
   "id": "a4099ab3-c4a7-490f-a5a3-e6e75300579f",
   "metadata": {},
   "source": [
    "### Accessing the index of a Series\n",
    "- The index of the Series can be accessed through the index attribute. \n",
    "- An index is an object with a data type and a set of values. \n",
    "- The default type for an index object is RangeIndex.\n"
   ]
  },
  {
   "cell_type": "code",
   "execution_count": 70,
   "id": "370392aa-98c9-43e8-bcdf-1248c018c4c1",
   "metadata": {},
   "outputs": [
    {
     "data": {
      "text/plain": [
       "RangeIndex(start=0, stop=9, step=1)"
      ]
     },
     "execution_count": 70,
     "metadata": {},
     "output_type": "execute_result"
    }
   ],
   "source": [
    "x.index"
   ]
  },
  {
   "cell_type": "code",
   "execution_count": 71,
   "id": "d60844b2-c04a-47a9-9785-1f988bf55729",
   "metadata": {},
   "outputs": [
    {
     "data": {
      "text/plain": [
       "RangeIndex(start=0, stop=10000, step=1)"
      ]
     },
     "execution_count": 71,
     "metadata": {},
     "output_type": "execute_result"
    }
   ],
   "source": [
    "temp_data.index"
   ]
  },
  {
   "cell_type": "markdown",
   "id": "20078cbe-c5b5-46c8-9b6d-3a692556da2d",
   "metadata": {},
   "source": [
    "### Obtaining the unique values in a Series and their count\n",
    "- The value_counts() method is an important method. \n",
    "- When used with a Series object, it displays the unique values contained in this object and the count of each of these unique values. It is a common practice to use this method with a categorical variable, to get an idea of the distinct values it contains.\n"
   ]
  },
  {
   "cell_type": "code",
   "execution_count": 74,
   "id": "5a6d625b-c5f4-458c-a516-8503755d80cd",
   "metadata": {},
   "outputs": [
    {
     "data": {
      "text/plain": [
       "a    2\n",
       "b    2\n",
       "c    1\n",
       "d    1\n",
       "dtype: int64"
      ]
     },
     "execution_count": 74,
     "metadata": {},
     "output_type": "execute_result"
    }
   ],
   "source": [
    "\n",
    "z=pd.Series(['a','b','a','c','d','b'])\n",
    "z.value_counts()"
   ]
  },
  {
   "cell_type": "markdown",
   "id": "6cef8f31-43ca-4c59-9f31-775e3b77474c",
   "metadata": {},
   "source": [
    "### Method chaining for a Series\n",
    "- We can apply multiple methods to a series and apply them successively. \n",
    "- This is called method chaining and can be applied for both Series and DataFrame objects.\n",
    "- Example:\n",
    "    - Suppose we want to find out the number of times the values “a” and “b” occur for the series “z” defined in the following. We can combine the value_counts method and the head method by chaining them."
   ]
  },
  {
   "cell_type": "code",
   "execution_count": 188,
   "id": "445d310b-d079-46a6-9a73-2794893617c4",
   "metadata": {},
   "outputs": [
    {
     "data": {
      "text/plain": [
       "a    2\n",
       "b    2\n",
       "dtype: int64"
      ]
     },
     "execution_count": 188,
     "metadata": {},
     "output_type": "execute_result"
    }
   ],
   "source": [
    "z=pd.Series(['a','b','a','c','d','b'])\n",
    "z.value_counts().head(2) # defaul is 5  , n=5  # int "
   ]
  },
  {
   "cell_type": "markdown",
   "id": "c23a56bd-afab-40b6-bb0b-cea9c9001c38",
   "metadata": {},
   "source": [
    "- If multiple methods need to be changed together and applied on a Series object, it is better to mention each method on a separate line, with each line ending with a backslash. \n",
    "- It would make the code more readable, as shown in the following.\n"
   ]
  },
  {
   "cell_type": "code",
   "execution_count": 192,
   "id": "899fa3bc-99d5-49f8-b572-0b3f130d1e70",
   "metadata": {},
   "outputs": [
    {
     "data": {
      "text/plain": [
       "array([2, 2, 1], dtype=int64)"
      ]
     },
     "execution_count": 192,
     "metadata": {},
     "output_type": "execute_result"
    }
   ],
   "source": [
    "z.value_counts()\\\n",
    ".head(3)\\\n",
    ".values"
   ]
  },
  {
   "cell_type": "code",
   "execution_count": 202,
   "id": "330f4b34-e285-493a-9775-a5b230d5466d",
   "metadata": {},
   "outputs": [],
   "source": [
    "x=pd.Series([10,20,30,4.4], index=np.arange(1,5), name=\"tens\", copy=False, fastpath=False)"
   ]
  },
  {
   "cell_type": "code",
   "execution_count": 90,
   "id": "eda6e630-a4bf-4ec7-a350-27955553d4d2",
   "metadata": {},
   "outputs": [
    {
     "data": {
      "text/plain": [
       "'tens'"
      ]
     },
     "execution_count": 90,
     "metadata": {},
     "output_type": "execute_result"
    }
   ],
   "source": [
    "x.name"
   ]
  },
  {
   "cell_type": "code",
   "execution_count": 203,
   "id": "0081d611-c995-42b4-a13b-4fd6f7bcb1c5",
   "metadata": {},
   "outputs": [
    {
     "data": {
      "text/plain": [
       "1    10.0\n",
       "2    20.0\n",
       "3    30.0\n",
       "4     4.4\n",
       "Name: tens, dtype: float64"
      ]
     },
     "execution_count": 203,
     "metadata": {},
     "output_type": "execute_result"
    }
   ],
   "source": [
    "x"
   ]
  },
  {
   "cell_type": "markdown",
   "id": "028cc02e-5d76-49b4-af97-a6cfd55a3ab3",
   "metadata": {},
   "source": [
    "If you want to learn more about the Series object and the methods used with Series objects, refer to the following link\n",
    "https://pandas.pydata.org/pandas-docs/stable/reference/api/pandas.Series.html"
   ]
  },
  {
   "cell_type": "markdown",
   "id": "3d7d830b-1120-4364-8c80-fee81878801c",
   "metadata": {},
   "source": [
    "## DataFrames\n",
    "- A DataFrame is an extension of a Series. \n",
    "- It is a two-dimensional data structure for storing data. \n",
    "- While the Series object contains two components - a set of values, and index labels attached to these values \n",
    "- the DataFrame object contains three components - thecolumn object, index object, and a NumPy array object that contains the values.\n",
    "- The index and columns are collectively called the axes. The index forms the axis “0” and the columns form the axis “1”"
   ]
  },
  {
   "cell_type": "markdown",
   "id": "fd918d9c-1247-4819-92a1-ebe744e5db4e",
   "metadata": {},
   "source": [
    "### Different Methods for Creating a DataFrame"
   ]
  },
  {
   "cell_type": "code",
   "execution_count": null,
   "id": "bc3dc07f-1b56-4bf3-a3d0-516c12ab25da",
   "metadata": {},
   "outputs": [],
   "source": [
    "class pandas.DataFrame(data=None, index=None, columns=None, dtype=None, copy=None)"
   ]
  },
  {
   "cell_type": "code",
   "execution_count": 213,
   "id": "2c6ecc01-01d8-4279-9f57-783a74efa96c",
   "metadata": {},
   "outputs": [
    {
     "data": {
      "text/html": [
       "<div>\n",
       "<style scoped>\n",
       "    .dataframe tbody tr th:only-of-type {\n",
       "        vertical-align: middle;\n",
       "    }\n",
       "\n",
       "    .dataframe tbody tr th {\n",
       "        vertical-align: top;\n",
       "    }\n",
       "\n",
       "    .dataframe thead th {\n",
       "        text-align: right;\n",
       "    }\n",
       "</style>\n",
       "<table border=\"1\" class=\"dataframe\">\n",
       "  <thead>\n",
       "    <tr style=\"text-align: right;\">\n",
       "      <th></th>\n",
       "      <th>class 1</th>\n",
       "      <th>class 2</th>\n",
       "      <th>class 3</th>\n",
       "    </tr>\n",
       "  </thead>\n",
       "  <tbody>\n",
       "    <tr>\n",
       "      <th>0</th>\n",
       "      <td>22</td>\n",
       "      <td>24</td>\n",
       "      <td>20</td>\n",
       "    </tr>\n",
       "    <tr>\n",
       "      <th>1</th>\n",
       "      <td>40</td>\n",
       "      <td>50</td>\n",
       "      <td>45</td>\n",
       "    </tr>\n",
       "  </tbody>\n",
       "</table>\n",
       "</div>"
      ],
      "text/plain": [
       "   class 1  class 2  class 3\n",
       "0       22       24       20\n",
       "1       40       50       45"
      ]
     },
     "execution_count": 213,
     "metadata": {},
     "output_type": "execute_result"
    }
   ],
   "source": [
    "#By combining Series objects\n",
    "student_ages=pd.Series([22,24,20]) #series 1\n",
    "teacher_ages=pd.Series([40,50,45])#series 2\n",
    "combined_ages=pd.DataFrame((student_ages,teacher_ages)) #DataFrame\n",
    "combined_ages.columns=['class 1','class 2','class 3']#naming columns\n",
    "combined_ages"
   ]
  },
  {
   "cell_type": "code",
   "execution_count": 215,
   "id": "2731ecb8-f83e-4805-a968-46b70c6c9136",
   "metadata": {},
   "outputs": [
    {
     "data": {
      "text/plain": [
       "pandas.core.frame.DataFrame"
      ]
     },
     "execution_count": 215,
     "metadata": {},
     "output_type": "execute_result"
    }
   ],
   "source": [
    "#From a dictionary CODE:\n",
    "combined_ages=pd.DataFrame({'class 1':[22,40,40],'class2':[24,50,45],'class 3':[20,45,56]})\n",
    "type(combined_ages)"
   ]
  },
  {
   "cell_type": "code",
   "execution_count": 217,
   "id": "a2b7fb01-5a25-436c-8a8b-41941823d8bc",
   "metadata": {},
   "outputs": [
    {
     "data": {
      "text/html": [
       "<div>\n",
       "<style scoped>\n",
       "    .dataframe tbody tr th:only-of-type {\n",
       "        vertical-align: middle;\n",
       "    }\n",
       "\n",
       "    .dataframe tbody tr th {\n",
       "        vertical-align: top;\n",
       "    }\n",
       "\n",
       "    .dataframe thead th {\n",
       "        text-align: right;\n",
       "    }\n",
       "</style>\n",
       "<table border=\"1\" class=\"dataframe\">\n",
       "  <thead>\n",
       "    <tr style=\"text-align: right;\">\n",
       "      <th></th>\n",
       "      <th>a</th>\n",
       "      <th>b</th>\n",
       "      <th>c</th>\n",
       "      <th>d</th>\n",
       "    </tr>\n",
       "  </thead>\n",
       "  <tbody>\n",
       "    <tr>\n",
       "      <th>0</th>\n",
       "      <td>1</td>\n",
       "      <td>2</td>\n",
       "      <td>3</td>\n",
       "      <td>4</td>\n",
       "    </tr>\n",
       "    <tr>\n",
       "      <th>1</th>\n",
       "      <td>5</td>\n",
       "      <td>6</td>\n",
       "      <td>7</td>\n",
       "      <td>8</td>\n",
       "    </tr>\n",
       "  </tbody>\n",
       "</table>\n",
       "</div>"
      ],
      "text/plain": [
       "   a  b  c  d\n",
       "0  1  2  3  4\n",
       "1  5  6  7  8"
      ]
     },
     "execution_count": 217,
     "metadata": {},
     "output_type": "execute_result"
    }
   ],
   "source": [
    "#From a numpy array CODE:\n",
    "numerical_df=pd.DataFrame(np.arange(1,9).reshape(2,4),columns=[\"a\",\"b\",\"c\",\"d\"])\n",
    "#numerical_df.columns=[\"a\",\"b\",\"c\",\"d\"]\n",
    "numerical_df"
   ]
  },
  {
   "cell_type": "code",
   "execution_count": 221,
   "id": "35ddf4bb-078a-4278-9fc6-4142263c4162",
   "metadata": {},
   "outputs": [],
   "source": [
    "df=pd.DataFrame(data,columns=[\"temp\",\"rainfall\",\"hum\"])"
   ]
  },
  {
   "cell_type": "code",
   "execution_count": 228,
   "id": "317329dd-e3c0-4157-bfe2-6e4147318bd5",
   "metadata": {},
   "outputs": [
    {
     "data": {
      "text/html": [
       "<div>\n",
       "<style scoped>\n",
       "    .dataframe tbody tr th:only-of-type {\n",
       "        vertical-align: middle;\n",
       "    }\n",
       "\n",
       "    .dataframe tbody tr th {\n",
       "        vertical-align: top;\n",
       "    }\n",
       "\n",
       "    .dataframe thead th {\n",
       "        text-align: right;\n",
       "    }\n",
       "</style>\n",
       "<table border=\"1\" class=\"dataframe\">\n",
       "  <thead>\n",
       "    <tr style=\"text-align: right;\">\n",
       "      <th></th>\n",
       "      <th>temp</th>\n",
       "      <th>hum</th>\n",
       "    </tr>\n",
       "  </thead>\n",
       "  <tbody>\n",
       "    <tr>\n",
       "      <th>0</th>\n",
       "      <td>25.0</td>\n",
       "      <td>99.0</td>\n",
       "    </tr>\n",
       "    <tr>\n",
       "      <th>1</th>\n",
       "      <td>39.0</td>\n",
       "      <td>70.0</td>\n",
       "    </tr>\n",
       "    <tr>\n",
       "      <th>2</th>\n",
       "      <td>59.0</td>\n",
       "      <td>77.0</td>\n",
       "    </tr>\n",
       "    <tr>\n",
       "      <th>3</th>\n",
       "      <td>84.0</td>\n",
       "      <td>38.0</td>\n",
       "    </tr>\n",
       "    <tr>\n",
       "      <th>4</th>\n",
       "      <td>66.0</td>\n",
       "      <td>52.0</td>\n",
       "    </tr>\n",
       "    <tr>\n",
       "      <th>...</th>\n",
       "      <td>...</td>\n",
       "      <td>...</td>\n",
       "    </tr>\n",
       "    <tr>\n",
       "      <th>9995</th>\n",
       "      <td>80.0</td>\n",
       "      <td>98.0</td>\n",
       "    </tr>\n",
       "    <tr>\n",
       "      <th>9996</th>\n",
       "      <td>27.0</td>\n",
       "      <td>60.0</td>\n",
       "    </tr>\n",
       "    <tr>\n",
       "      <th>9997</th>\n",
       "      <td>99.0</td>\n",
       "      <td>58.0</td>\n",
       "    </tr>\n",
       "    <tr>\n",
       "      <th>9998</th>\n",
       "      <td>70.0</td>\n",
       "      <td>91.0</td>\n",
       "    </tr>\n",
       "    <tr>\n",
       "      <th>9999</th>\n",
       "      <td>92.0</td>\n",
       "      <td>76.0</td>\n",
       "    </tr>\n",
       "  </tbody>\n",
       "</table>\n",
       "<p>10000 rows × 2 columns</p>\n",
       "</div>"
      ],
      "text/plain": [
       "      temp   hum\n",
       "0     25.0  99.0\n",
       "1     39.0  70.0\n",
       "2     59.0  77.0\n",
       "3     84.0  38.0\n",
       "4     66.0  52.0\n",
       "...    ...   ...\n",
       "9995  80.0  98.0\n",
       "9996  27.0  60.0\n",
       "9997  99.0  58.0\n",
       "9998  70.0  91.0\n",
       "9999  92.0  76.0\n",
       "\n",
       "[10000 rows x 2 columns]"
      ]
     },
     "execution_count": 228,
     "metadata": {},
     "output_type": "execute_result"
    }
   ],
   "source": [
    "df[['temp','hum']]"
   ]
  },
  {
   "cell_type": "code",
   "execution_count": 229,
   "id": "0b1d19b4-4210-4cf7-a8a5-98df55327ad7",
   "metadata": {},
   "outputs": [
    {
     "data": {
      "text/html": [
       "<div>\n",
       "<style scoped>\n",
       "    .dataframe tbody tr th:only-of-type {\n",
       "        vertical-align: middle;\n",
       "    }\n",
       "\n",
       "    .dataframe tbody tr th {\n",
       "        vertical-align: top;\n",
       "    }\n",
       "\n",
       "    .dataframe thead th {\n",
       "        text-align: right;\n",
       "    }\n",
       "</style>\n",
       "<table border=\"1\" class=\"dataframe\">\n",
       "  <thead>\n",
       "    <tr style=\"text-align: right;\">\n",
       "      <th></th>\n",
       "      <th>class 1</th>\n",
       "      <th>class 2</th>\n",
       "      <th>class 3</th>\n",
       "    </tr>\n",
       "  </thead>\n",
       "  <tbody>\n",
       "    <tr>\n",
       "      <th>0</th>\n",
       "      <td>22</td>\n",
       "      <td>24</td>\n",
       "      <td>20</td>\n",
       "    </tr>\n",
       "    <tr>\n",
       "      <th>1</th>\n",
       "      <td>40</td>\n",
       "      <td>50</td>\n",
       "      <td>45</td>\n",
       "    </tr>\n",
       "  </tbody>\n",
       "</table>\n",
       "</div>"
      ],
      "text/plain": [
       "   class 1  class 2  class 3\n",
       "0       22       24       20\n",
       "1       40       50       45"
      ]
     },
     "execution_count": 229,
     "metadata": {},
     "output_type": "execute_result"
    }
   ],
   "source": [
    "#Using a set of tuples CODE:\n",
    "combined_ages=pd.DataFrame([(22,24,20),(40,50,45)],columns=['class 1','class 2','class 3'])\n",
    "combined_ages"
   ]
  },
  {
   "cell_type": "markdown",
   "id": "e10d1b71-6282-4b1a-9ea2-da2fa13b6e26",
   "metadata": {},
   "source": [
    "We have re-created the “combined_ages” DataFrame using a set of tuples. Each tuple is equivalent to a row in a DataFrame."
   ]
  },
  {
   "cell_type": "markdown",
   "id": "ff1db3a8-c538-4b1f-af4d-f7a67bd5518b",
   "metadata": {},
   "source": [
    "create a DataFrame using a dictionary, a set of tuples, and by combining Series objects. Each of these methods uses the pd.DataFrame function. Note that the characters “D” and “F” in this method are in uppercase; pd.dataframe does not work."
   ]
  },
  {
   "cell_type": "markdown",
   "id": "856bc993-62ae-4c60-b7fb-f5b097322bee",
   "metadata": {},
   "source": [
    "### Creating DataFrames by importing data from other formats"
   ]
  },
  {
   "cell_type": "markdown",
   "id": "86b58c9f-05f7-4827-9fb7-ec61bde4828b",
   "metadata": {},
   "source": [
    "- Pandas can read data from a wide variety of formats using its reader functions (refer to the complete list of supported formats here: https://pandas.pydata.org/pandas-docs/stable/user_guide/io.html). The following are some of the commonly used formats."
   ]
  },
  {
   "cell_type": "markdown",
   "id": "6704607e-1fcc-4504-899f-0b623d8e65e4",
   "metadata": {},
   "source": [
    "### From a CSV file:\n",
    "- The read_csv function can be used to read data from a CSV file into a DataFrame, as shown in the following"
   ]
  },
  {
   "cell_type": "code",
   "execution_count": 235,
   "id": "f30a8f7e-814a-4492-810c-7d748424ac59",
   "metadata": {},
   "outputs": [],
   "source": [
    "import pandas as pd\n",
    "olympics_data=pd.read_csv(\"https://raw.githubusercontent.com/svkarthik86/Advance-Python-Numpy/123da03bbfbb71ba3264bf8133c86ef632435022/olympics.csv\",skiprows=4)"
   ]
  },
  {
   "cell_type": "code",
   "execution_count": 236,
   "id": "0b8ea21d-f2b4-4970-99e2-3ddd704b6831",
   "metadata": {},
   "outputs": [
    {
     "data": {
      "text/html": [
       "<div>\n",
       "<style scoped>\n",
       "    .dataframe tbody tr th:only-of-type {\n",
       "        vertical-align: middle;\n",
       "    }\n",
       "\n",
       "    .dataframe tbody tr th {\n",
       "        vertical-align: top;\n",
       "    }\n",
       "\n",
       "    .dataframe thead th {\n",
       "        text-align: right;\n",
       "    }\n",
       "</style>\n",
       "<table border=\"1\" class=\"dataframe\">\n",
       "  <thead>\n",
       "    <tr style=\"text-align: right;\">\n",
       "      <th></th>\n",
       "      <th>City</th>\n",
       "      <th>Edition</th>\n",
       "      <th>Sport</th>\n",
       "      <th>Discipline</th>\n",
       "      <th>Athlete</th>\n",
       "      <th>NOC</th>\n",
       "      <th>Gender</th>\n",
       "      <th>Event</th>\n",
       "      <th>Event_gender</th>\n",
       "      <th>Medal</th>\n",
       "    </tr>\n",
       "  </thead>\n",
       "  <tbody>\n",
       "    <tr>\n",
       "      <th>0</th>\n",
       "      <td>Athens</td>\n",
       "      <td>1896</td>\n",
       "      <td>Aquatics</td>\n",
       "      <td>Swimming</td>\n",
       "      <td>HAJOS, Alfred</td>\n",
       "      <td>HUN</td>\n",
       "      <td>Men</td>\n",
       "      <td>100m freestyle</td>\n",
       "      <td>M</td>\n",
       "      <td>Gold</td>\n",
       "    </tr>\n",
       "    <tr>\n",
       "      <th>1</th>\n",
       "      <td>Athens</td>\n",
       "      <td>1896</td>\n",
       "      <td>Aquatics</td>\n",
       "      <td>Swimming</td>\n",
       "      <td>HERSCHMANN, Otto</td>\n",
       "      <td>AUT</td>\n",
       "      <td>Men</td>\n",
       "      <td>100m freestyle</td>\n",
       "      <td>M</td>\n",
       "      <td>Silver</td>\n",
       "    </tr>\n",
       "    <tr>\n",
       "      <th>2</th>\n",
       "      <td>Athens</td>\n",
       "      <td>1896</td>\n",
       "      <td>Aquatics</td>\n",
       "      <td>Swimming</td>\n",
       "      <td>DRIVAS, Dimitrios</td>\n",
       "      <td>GRE</td>\n",
       "      <td>Men</td>\n",
       "      <td>100m freestyle for sailors</td>\n",
       "      <td>M</td>\n",
       "      <td>Bronze</td>\n",
       "    </tr>\n",
       "    <tr>\n",
       "      <th>3</th>\n",
       "      <td>Athens</td>\n",
       "      <td>1896</td>\n",
       "      <td>Aquatics</td>\n",
       "      <td>Swimming</td>\n",
       "      <td>MALOKINIS, Ioannis</td>\n",
       "      <td>GRE</td>\n",
       "      <td>Men</td>\n",
       "      <td>100m freestyle for sailors</td>\n",
       "      <td>M</td>\n",
       "      <td>Gold</td>\n",
       "    </tr>\n",
       "    <tr>\n",
       "      <th>4</th>\n",
       "      <td>Athens</td>\n",
       "      <td>1896</td>\n",
       "      <td>Aquatics</td>\n",
       "      <td>Swimming</td>\n",
       "      <td>CHASAPIS, Spiridon</td>\n",
       "      <td>GRE</td>\n",
       "      <td>Men</td>\n",
       "      <td>100m freestyle for sailors</td>\n",
       "      <td>M</td>\n",
       "      <td>Silver</td>\n",
       "    </tr>\n",
       "    <tr>\n",
       "      <th>...</th>\n",
       "      <td>...</td>\n",
       "      <td>...</td>\n",
       "      <td>...</td>\n",
       "      <td>...</td>\n",
       "      <td>...</td>\n",
       "      <td>...</td>\n",
       "      <td>...</td>\n",
       "      <td>...</td>\n",
       "      <td>...</td>\n",
       "      <td>...</td>\n",
       "    </tr>\n",
       "    <tr>\n",
       "      <th>29211</th>\n",
       "      <td>Beijing</td>\n",
       "      <td>2008</td>\n",
       "      <td>Wrestling</td>\n",
       "      <td>Wrestling Gre-R</td>\n",
       "      <td>ENGLICH, Mirko</td>\n",
       "      <td>GER</td>\n",
       "      <td>Men</td>\n",
       "      <td>84 - 96kg</td>\n",
       "      <td>M</td>\n",
       "      <td>Silver</td>\n",
       "    </tr>\n",
       "    <tr>\n",
       "      <th>29212</th>\n",
       "      <td>Beijing</td>\n",
       "      <td>2008</td>\n",
       "      <td>Wrestling</td>\n",
       "      <td>Wrestling Gre-R</td>\n",
       "      <td>MIZGAITIS, Mindaugas</td>\n",
       "      <td>LTU</td>\n",
       "      <td>Men</td>\n",
       "      <td>96 - 120kg</td>\n",
       "      <td>M</td>\n",
       "      <td>Bronze</td>\n",
       "    </tr>\n",
       "    <tr>\n",
       "      <th>29213</th>\n",
       "      <td>Beijing</td>\n",
       "      <td>2008</td>\n",
       "      <td>Wrestling</td>\n",
       "      <td>Wrestling Gre-R</td>\n",
       "      <td>PATRIKEEV, Yuri</td>\n",
       "      <td>ARM</td>\n",
       "      <td>Men</td>\n",
       "      <td>96 - 120kg</td>\n",
       "      <td>M</td>\n",
       "      <td>Bronze</td>\n",
       "    </tr>\n",
       "    <tr>\n",
       "      <th>29214</th>\n",
       "      <td>Beijing</td>\n",
       "      <td>2008</td>\n",
       "      <td>Wrestling</td>\n",
       "      <td>Wrestling Gre-R</td>\n",
       "      <td>LOPEZ, Mijain</td>\n",
       "      <td>CUB</td>\n",
       "      <td>Men</td>\n",
       "      <td>96 - 120kg</td>\n",
       "      <td>M</td>\n",
       "      <td>Gold</td>\n",
       "    </tr>\n",
       "    <tr>\n",
       "      <th>29215</th>\n",
       "      <td>Beijing</td>\n",
       "      <td>2008</td>\n",
       "      <td>Wrestling</td>\n",
       "      <td>Wrestling Gre-R</td>\n",
       "      <td>BAROEV, Khasan</td>\n",
       "      <td>RUS</td>\n",
       "      <td>Men</td>\n",
       "      <td>96 - 120kg</td>\n",
       "      <td>M</td>\n",
       "      <td>Silver</td>\n",
       "    </tr>\n",
       "  </tbody>\n",
       "</table>\n",
       "<p>29216 rows × 10 columns</p>\n",
       "</div>"
      ],
      "text/plain": [
       "          City  Edition      Sport       Discipline               Athlete  \\\n",
       "0       Athens     1896   Aquatics         Swimming         HAJOS, Alfred   \n",
       "1       Athens     1896   Aquatics         Swimming      HERSCHMANN, Otto   \n",
       "2       Athens     1896   Aquatics         Swimming     DRIVAS, Dimitrios   \n",
       "3       Athens     1896   Aquatics         Swimming    MALOKINIS, Ioannis   \n",
       "4       Athens     1896   Aquatics         Swimming    CHASAPIS, Spiridon   \n",
       "...        ...      ...        ...              ...                   ...   \n",
       "29211  Beijing     2008  Wrestling  Wrestling Gre-R        ENGLICH, Mirko   \n",
       "29212  Beijing     2008  Wrestling  Wrestling Gre-R  MIZGAITIS, Mindaugas   \n",
       "29213  Beijing     2008  Wrestling  Wrestling Gre-R       PATRIKEEV, Yuri   \n",
       "29214  Beijing     2008  Wrestling  Wrestling Gre-R         LOPEZ, Mijain   \n",
       "29215  Beijing     2008  Wrestling  Wrestling Gre-R        BAROEV, Khasan   \n",
       "\n",
       "       NOC Gender                       Event Event_gender   Medal  \n",
       "0      HUN    Men              100m freestyle            M    Gold  \n",
       "1      AUT    Men              100m freestyle            M  Silver  \n",
       "2      GRE    Men  100m freestyle for sailors            M  Bronze  \n",
       "3      GRE    Men  100m freestyle for sailors            M    Gold  \n",
       "4      GRE    Men  100m freestyle for sailors            M  Silver  \n",
       "...    ...    ...                         ...          ...     ...  \n",
       "29211  GER    Men                   84 - 96kg            M  Silver  \n",
       "29212  LTU    Men                  96 - 120kg            M  Bronze  \n",
       "29213  ARM    Men                  96 - 120kg            M  Bronze  \n",
       "29214  CUB    Men                  96 - 120kg            M    Gold  \n",
       "29215  RUS    Men                  96 - 120kg            M  Silver  \n",
       "\n",
       "[29216 rows x 10 columns]"
      ]
     },
     "execution_count": 236,
     "metadata": {},
     "output_type": "execute_result"
    }
   ],
   "source": [
    "olympics_data"
   ]
  },
  {
   "cell_type": "code",
   "execution_count": 237,
   "id": "68f39df6-bc18-4d84-9a94-082c76fa2e4f",
   "metadata": {},
   "outputs": [
    {
     "data": {
      "text/plain": [
       "pandas.core.frame.DataFrame"
      ]
     },
     "execution_count": 237,
     "metadata": {},
     "output_type": "execute_result"
    }
   ],
   "source": [
    "type(olympics_data)"
   ]
  },
  {
   "cell_type": "code",
   "execution_count": 238,
   "id": "dde13086-e170-487e-8374-06d35ef170ad",
   "metadata": {},
   "outputs": [
    {
     "name": "stdout",
     "output_type": "stream",
     "text": [
      "<class 'pandas.core.frame.DataFrame'>\n",
      "RangeIndex: 29216 entries, 0 to 29215\n",
      "Data columns (total 10 columns):\n",
      " #   Column        Non-Null Count  Dtype \n",
      "---  ------        --------------  ----- \n",
      " 0   City          29216 non-null  object\n",
      " 1   Edition       29216 non-null  int64 \n",
      " 2   Sport         29216 non-null  object\n",
      " 3   Discipline    29216 non-null  object\n",
      " 4   Athlete       29216 non-null  object\n",
      " 5   NOC           29216 non-null  object\n",
      " 6   Gender        29216 non-null  object\n",
      " 7   Event         29216 non-null  object\n",
      " 8   Event_gender  29216 non-null  object\n",
      " 9   Medal         29216 non-null  object\n",
      "dtypes: int64(1), object(9)\n",
      "memory usage: 2.2+ MB\n"
     ]
    }
   ],
   "source": [
    "olympics_data.info()"
   ]
  },
  {
   "cell_type": "code",
   "execution_count": 242,
   "id": "748e626a-7108-44b5-b28b-f5e5dd17b074",
   "metadata": {},
   "outputs": [
    {
     "data": {
      "text/plain": [
       "array(['Athens', 'Athens', 'Athens', ..., 'Beijing', 'Beijing', 'Beijing'],\n",
       "      dtype=object)"
      ]
     },
     "execution_count": 242,
     "metadata": {},
     "output_type": "execute_result"
    }
   ],
   "source": [
    "olympics_data['City'].values"
   ]
  },
  {
   "cell_type": "code",
   "execution_count": 249,
   "id": "1c9005a4-9601-446f-8637-8360e09cc8e8",
   "metadata": {},
   "outputs": [
    {
     "data": {
      "text/plain": [
       "Men      21721\n",
       "Women     7495\n",
       "Name: Gender, dtype: int64"
      ]
     },
     "execution_count": 249,
     "metadata": {},
     "output_type": "execute_result"
    }
   ],
   "source": [
    "olympics_data['Gender'].value_counts()"
   ]
  },
  {
   "cell_type": "code",
   "execution_count": 247,
   "id": "723cb0d5-60cf-4328-9777-4236ed610fd0",
   "metadata": {},
   "outputs": [
    {
     "name": "stdout",
     "output_type": "stream",
     "text": [
      "hi\n"
     ]
    }
   ],
   "source": [
    "print(\"hi\")"
   ]
  },
  {
   "cell_type": "code",
   "execution_count": null,
   "id": "06551aa0-63e7-4737-9d9f-2e42c041dca9",
   "metadata": {},
   "outputs": [],
   "source": [
    "\n",
    "\n",
    "\n",
    "\n",
    "\n",
    "\n",
    "\n",
    "\n",
    "\n",
    "\n",
    "\n",
    "\n",
    "\n",
    "\n"
   ]
  },
  {
   "cell_type": "code",
   "execution_count": null,
   "id": "dd36bc9b-f555-440b-86d3-93f9888e5906",
   "metadata": {},
   "outputs": [],
   "source": []
  },
  {
   "cell_type": "code",
   "execution_count": 115,
   "id": "25936075-9219-4e11-ad27-78ecf73b188c",
   "metadata": {},
   "outputs": [
    {
     "data": {
      "text/html": [
       "<div>\n",
       "<style scoped>\n",
       "    .dataframe tbody tr th:only-of-type {\n",
       "        vertical-align: middle;\n",
       "    }\n",
       "\n",
       "    .dataframe tbody tr th {\n",
       "        vertical-align: top;\n",
       "    }\n",
       "\n",
       "    .dataframe thead th {\n",
       "        text-align: right;\n",
       "    }\n",
       "</style>\n",
       "<table border=\"1\" class=\"dataframe\">\n",
       "  <thead>\n",
       "    <tr style=\"text-align: right;\">\n",
       "      <th></th>\n",
       "      <th>country</th>\n",
       "      <th>continent</th>\n",
       "      <th>date</th>\n",
       "      <th>day</th>\n",
       "      <th>month</th>\n",
       "      <th>year</th>\n",
       "      <th>cases</th>\n",
       "      <th>deaths</th>\n",
       "      <th>country_code</th>\n",
       "      <th>population</th>\n",
       "    </tr>\n",
       "  </thead>\n",
       "  <tbody>\n",
       "    <tr>\n",
       "      <th>0</th>\n",
       "      <td>Afghanistan</td>\n",
       "      <td>Asia</td>\n",
       "      <td>2020-04-12</td>\n",
       "      <td>12</td>\n",
       "      <td>4</td>\n",
       "      <td>2020</td>\n",
       "      <td>34</td>\n",
       "      <td>3</td>\n",
       "      <td>AFG</td>\n",
       "      <td>37172386.0</td>\n",
       "    </tr>\n",
       "    <tr>\n",
       "      <th>1</th>\n",
       "      <td>Albania</td>\n",
       "      <td>Europe</td>\n",
       "      <td>2020-04-12</td>\n",
       "      <td>12</td>\n",
       "      <td>4</td>\n",
       "      <td>2020</td>\n",
       "      <td>17</td>\n",
       "      <td>0</td>\n",
       "      <td>ALB</td>\n",
       "      <td>2866376.0</td>\n",
       "    </tr>\n",
       "    <tr>\n",
       "      <th>2</th>\n",
       "      <td>Algeria</td>\n",
       "      <td>Africa</td>\n",
       "      <td>2020-04-12</td>\n",
       "      <td>12</td>\n",
       "      <td>4</td>\n",
       "      <td>2020</td>\n",
       "      <td>64</td>\n",
       "      <td>19</td>\n",
       "      <td>DZA</td>\n",
       "      <td>42228429.0</td>\n",
       "    </tr>\n",
       "    <tr>\n",
       "      <th>3</th>\n",
       "      <td>Andorra</td>\n",
       "      <td>Europe</td>\n",
       "      <td>2020-04-12</td>\n",
       "      <td>12</td>\n",
       "      <td>4</td>\n",
       "      <td>2020</td>\n",
       "      <td>21</td>\n",
       "      <td>2</td>\n",
       "      <td>AND</td>\n",
       "      <td>77006.0</td>\n",
       "    </tr>\n",
       "    <tr>\n",
       "      <th>4</th>\n",
       "      <td>Angola</td>\n",
       "      <td>Africa</td>\n",
       "      <td>2020-04-12</td>\n",
       "      <td>12</td>\n",
       "      <td>4</td>\n",
       "      <td>2020</td>\n",
       "      <td>0</td>\n",
       "      <td>0</td>\n",
       "      <td>AGO</td>\n",
       "      <td>30809762.0</td>\n",
       "    </tr>\n",
       "    <tr>\n",
       "      <th>...</th>\n",
       "      <td>...</td>\n",
       "      <td>...</td>\n",
       "      <td>...</td>\n",
       "      <td>...</td>\n",
       "      <td>...</td>\n",
       "      <td>...</td>\n",
       "      <td>...</td>\n",
       "      <td>...</td>\n",
       "      <td>...</td>\n",
       "      <td>...</td>\n",
       "    </tr>\n",
       "    <tr>\n",
       "      <th>201</th>\n",
       "      <td>Venezuela</td>\n",
       "      <td>America</td>\n",
       "      <td>2020-04-12</td>\n",
       "      <td>12</td>\n",
       "      <td>4</td>\n",
       "      <td>2020</td>\n",
       "      <td>0</td>\n",
       "      <td>0</td>\n",
       "      <td>VEN</td>\n",
       "      <td>28870195.0</td>\n",
       "    </tr>\n",
       "    <tr>\n",
       "      <th>202</th>\n",
       "      <td>Vietnam</td>\n",
       "      <td>Asia</td>\n",
       "      <td>2020-04-12</td>\n",
       "      <td>12</td>\n",
       "      <td>4</td>\n",
       "      <td>2020</td>\n",
       "      <td>4</td>\n",
       "      <td>0</td>\n",
       "      <td>VNM</td>\n",
       "      <td>95540395.0</td>\n",
       "    </tr>\n",
       "    <tr>\n",
       "      <th>203</th>\n",
       "      <td>Yemen</td>\n",
       "      <td>Asia</td>\n",
       "      <td>2020-04-12</td>\n",
       "      <td>12</td>\n",
       "      <td>4</td>\n",
       "      <td>2020</td>\n",
       "      <td>0</td>\n",
       "      <td>0</td>\n",
       "      <td>YEM</td>\n",
       "      <td>28498687.0</td>\n",
       "    </tr>\n",
       "    <tr>\n",
       "      <th>204</th>\n",
       "      <td>Zambia</td>\n",
       "      <td>Africa</td>\n",
       "      <td>2020-04-12</td>\n",
       "      <td>12</td>\n",
       "      <td>4</td>\n",
       "      <td>2020</td>\n",
       "      <td>0</td>\n",
       "      <td>0</td>\n",
       "      <td>ZMB</td>\n",
       "      <td>17351822.0</td>\n",
       "    </tr>\n",
       "    <tr>\n",
       "      <th>205</th>\n",
       "      <td>Zimbabwe</td>\n",
       "      <td>Africa</td>\n",
       "      <td>2020-04-12</td>\n",
       "      <td>12</td>\n",
       "      <td>4</td>\n",
       "      <td>2020</td>\n",
       "      <td>3</td>\n",
       "      <td>0</td>\n",
       "      <td>ZWE</td>\n",
       "      <td>14439018.0</td>\n",
       "    </tr>\n",
       "  </tbody>\n",
       "</table>\n",
       "<p>206 rows × 10 columns</p>\n",
       "</div>"
      ],
      "text/plain": [
       "         country continent        date  day  month  year  cases  deaths  \\\n",
       "0    Afghanistan      Asia  2020-04-12   12      4  2020     34       3   \n",
       "1        Albania    Europe  2020-04-12   12      4  2020     17       0   \n",
       "2        Algeria    Africa  2020-04-12   12      4  2020     64      19   \n",
       "3        Andorra    Europe  2020-04-12   12      4  2020     21       2   \n",
       "4         Angola    Africa  2020-04-12   12      4  2020      0       0   \n",
       "..           ...       ...         ...  ...    ...   ...    ...     ...   \n",
       "201    Venezuela   America  2020-04-12   12      4  2020      0       0   \n",
       "202      Vietnam      Asia  2020-04-12   12      4  2020      4       0   \n",
       "203        Yemen      Asia  2020-04-12   12      4  2020      0       0   \n",
       "204       Zambia    Africa  2020-04-12   12      4  2020      0       0   \n",
       "205     Zimbabwe    Africa  2020-04-12   12      4  2020      3       0   \n",
       "\n",
       "    country_code  population  \n",
       "0            AFG  37172386.0  \n",
       "1            ALB   2866376.0  \n",
       "2            DZA  42228429.0  \n",
       "3            AND     77006.0  \n",
       "4            AGO  30809762.0  \n",
       "..           ...         ...  \n",
       "201          VEN  28870195.0  \n",
       "202          VNM  95540395.0  \n",
       "203          YEM  28498687.0  \n",
       "204          ZMB  17351822.0  \n",
       "205          ZWE  14439018.0  \n",
       "\n",
       "[206 rows x 10 columns]"
      ]
     },
     "execution_count": 115,
     "metadata": {},
     "output_type": "execute_result"
    }
   ],
   "source": [
    "import pandas as pd\n",
    "src=r\"D:\\Edubridge\\Associate-Data Analytics\\Advancepython\\Data-files-master\\Data-files-master\\subset-covid-data.csv\"\n",
    "covid19_data=pd.read_csv(src)  # read data and converted to DataFrame object\n",
    "covid19_data  # DataFrame object"
   ]
  },
  {
   "cell_type": "code",
   "execution_count": null,
   "id": "ed56ed77-ae06-4404-9fac-3abcd8dd3489",
   "metadata": {},
   "outputs": [],
   "source": []
  },
  {
   "cell_type": "code",
   "execution_count": null,
   "id": "b3b6c278-450f-497b-9574-74fa872bfb9a",
   "metadata": {},
   "outputs": [],
   "source": []
  },
  {
   "cell_type": "code",
   "execution_count": 111,
   "id": "bcb986f5-879d-4d59-9d4d-4936f5ce29f7",
   "metadata": {},
   "outputs": [
    {
     "data": {
      "text/plain": [
       "pandas.core.frame.DataFrame"
      ]
     },
     "execution_count": 111,
     "metadata": {},
     "output_type": "execute_result"
    }
   ],
   "source": [
    "type(covid19_data)"
   ]
  },
  {
   "cell_type": "code",
   "execution_count": 114,
   "id": "cb5937e5-ba0e-46c6-8219-0bdd9d0c24f7",
   "metadata": {},
   "outputs": [
    {
     "data": {
      "text/plain": [
       "pandas.core.frame.DataFrame"
      ]
     },
     "execution_count": 114,
     "metadata": {},
     "output_type": "execute_result"
    }
   ],
   "source": [
    "type(covid19_data[['country_code','country']])"
   ]
  },
  {
   "cell_type": "code",
   "execution_count": 116,
   "id": "007bb588-befa-44ff-829f-f271ab19c08d",
   "metadata": {},
   "outputs": [
    {
     "data": {
      "text/html": [
       "<div>\n",
       "<style scoped>\n",
       "    .dataframe tbody tr th:only-of-type {\n",
       "        vertical-align: middle;\n",
       "    }\n",
       "\n",
       "    .dataframe tbody tr th {\n",
       "        vertical-align: top;\n",
       "    }\n",
       "\n",
       "    .dataframe thead th {\n",
       "        text-align: right;\n",
       "    }\n",
       "</style>\n",
       "<table border=\"1\" class=\"dataframe\">\n",
       "  <thead>\n",
       "    <tr style=\"text-align: right;\">\n",
       "      <th></th>\n",
       "      <th>country_code</th>\n",
       "      <th>country</th>\n",
       "    </tr>\n",
       "  </thead>\n",
       "  <tbody>\n",
       "    <tr>\n",
       "      <th>0</th>\n",
       "      <td>AFG</td>\n",
       "      <td>Afghanistan</td>\n",
       "    </tr>\n",
       "    <tr>\n",
       "      <th>1</th>\n",
       "      <td>ALB</td>\n",
       "      <td>Albania</td>\n",
       "    </tr>\n",
       "    <tr>\n",
       "      <th>2</th>\n",
       "      <td>DZA</td>\n",
       "      <td>Algeria</td>\n",
       "    </tr>\n",
       "    <tr>\n",
       "      <th>3</th>\n",
       "      <td>AND</td>\n",
       "      <td>Andorra</td>\n",
       "    </tr>\n",
       "    <tr>\n",
       "      <th>4</th>\n",
       "      <td>AGO</td>\n",
       "      <td>Angola</td>\n",
       "    </tr>\n",
       "    <tr>\n",
       "      <th>...</th>\n",
       "      <td>...</td>\n",
       "      <td>...</td>\n",
       "    </tr>\n",
       "    <tr>\n",
       "      <th>201</th>\n",
       "      <td>VEN</td>\n",
       "      <td>Venezuela</td>\n",
       "    </tr>\n",
       "    <tr>\n",
       "      <th>202</th>\n",
       "      <td>VNM</td>\n",
       "      <td>Vietnam</td>\n",
       "    </tr>\n",
       "    <tr>\n",
       "      <th>203</th>\n",
       "      <td>YEM</td>\n",
       "      <td>Yemen</td>\n",
       "    </tr>\n",
       "    <tr>\n",
       "      <th>204</th>\n",
       "      <td>ZMB</td>\n",
       "      <td>Zambia</td>\n",
       "    </tr>\n",
       "    <tr>\n",
       "      <th>205</th>\n",
       "      <td>ZWE</td>\n",
       "      <td>Zimbabwe</td>\n",
       "    </tr>\n",
       "  </tbody>\n",
       "</table>\n",
       "<p>206 rows × 2 columns</p>\n",
       "</div>"
      ],
      "text/plain": [
       "    country_code      country\n",
       "0            AFG  Afghanistan\n",
       "1            ALB      Albania\n",
       "2            DZA      Algeria\n",
       "3            AND      Andorra\n",
       "4            AGO       Angola\n",
       "..           ...          ...\n",
       "201          VEN    Venezuela\n",
       "202          VNM      Vietnam\n",
       "203          YEM        Yemen\n",
       "204          ZMB       Zambia\n",
       "205          ZWE     Zimbabwe\n",
       "\n",
       "[206 rows x 2 columns]"
      ]
     },
     "execution_count": 116,
     "metadata": {},
     "output_type": "execute_result"
    }
   ],
   "source": [
    "covid19_data[['country_code','country']]"
   ]
  },
  {
   "cell_type": "code",
   "execution_count": 125,
   "id": "2557a2af-6f79-4d1f-8bc2-7b57814e6641",
   "metadata": {},
   "outputs": [
    {
     "data": {
      "text/html": [
       "<div>\n",
       "<style scoped>\n",
       "    .dataframe tbody tr th:only-of-type {\n",
       "        vertical-align: middle;\n",
       "    }\n",
       "\n",
       "    .dataframe tbody tr th {\n",
       "        vertical-align: top;\n",
       "    }\n",
       "\n",
       "    .dataframe thead th {\n",
       "        text-align: right;\n",
       "    }\n",
       "</style>\n",
       "<table border=\"1\" class=\"dataframe\">\n",
       "  <thead>\n",
       "    <tr style=\"text-align: right;\">\n",
       "      <th></th>\n",
       "      <th>country</th>\n",
       "      <th>continent</th>\n",
       "      <th>date</th>\n",
       "      <th>day</th>\n",
       "      <th>month</th>\n",
       "      <th>year</th>\n",
       "      <th>cases</th>\n",
       "      <th>deaths</th>\n",
       "      <th>country_code</th>\n",
       "      <th>population</th>\n",
       "    </tr>\n",
       "  </thead>\n",
       "  <tbody>\n",
       "    <tr>\n",
       "      <th>0</th>\n",
       "      <td>Afghanistan</td>\n",
       "      <td>Asia</td>\n",
       "      <td>2020-04-12</td>\n",
       "      <td>12</td>\n",
       "      <td>4</td>\n",
       "      <td>2020</td>\n",
       "      <td>34</td>\n",
       "      <td>3</td>\n",
       "      <td>AFG</td>\n",
       "      <td>37172386.0</td>\n",
       "    </tr>\n",
       "    <tr>\n",
       "      <th>1</th>\n",
       "      <td>Albania</td>\n",
       "      <td>Europe</td>\n",
       "      <td>2020-04-12</td>\n",
       "      <td>12</td>\n",
       "      <td>4</td>\n",
       "      <td>2020</td>\n",
       "      <td>17</td>\n",
       "      <td>0</td>\n",
       "      <td>ALB</td>\n",
       "      <td>2866376.0</td>\n",
       "    </tr>\n",
       "    <tr>\n",
       "      <th>2</th>\n",
       "      <td>Algeria</td>\n",
       "      <td>Africa</td>\n",
       "      <td>2020-04-12</td>\n",
       "      <td>12</td>\n",
       "      <td>4</td>\n",
       "      <td>2020</td>\n",
       "      <td>64</td>\n",
       "      <td>19</td>\n",
       "      <td>DZA</td>\n",
       "      <td>42228429.0</td>\n",
       "    </tr>\n",
       "    <tr>\n",
       "      <th>3</th>\n",
       "      <td>Andorra</td>\n",
       "      <td>Europe</td>\n",
       "      <td>2020-04-12</td>\n",
       "      <td>12</td>\n",
       "      <td>4</td>\n",
       "      <td>2020</td>\n",
       "      <td>21</td>\n",
       "      <td>2</td>\n",
       "      <td>AND</td>\n",
       "      <td>77006.0</td>\n",
       "    </tr>\n",
       "    <tr>\n",
       "      <th>4</th>\n",
       "      <td>Angola</td>\n",
       "      <td>Africa</td>\n",
       "      <td>2020-04-12</td>\n",
       "      <td>12</td>\n",
       "      <td>4</td>\n",
       "      <td>2020</td>\n",
       "      <td>0</td>\n",
       "      <td>0</td>\n",
       "      <td>AGO</td>\n",
       "      <td>30809762.0</td>\n",
       "    </tr>\n",
       "    <tr>\n",
       "      <th>5</th>\n",
       "      <td>Anguilla</td>\n",
       "      <td>America</td>\n",
       "      <td>2020-04-12</td>\n",
       "      <td>12</td>\n",
       "      <td>4</td>\n",
       "      <td>2020</td>\n",
       "      <td>0</td>\n",
       "      <td>0</td>\n",
       "      <td>NaN</td>\n",
       "      <td>NaN</td>\n",
       "    </tr>\n",
       "  </tbody>\n",
       "</table>\n",
       "</div>"
      ],
      "text/plain": [
       "       country continent        date  day  month  year  cases  deaths  \\\n",
       "0  Afghanistan      Asia  2020-04-12   12      4  2020     34       3   \n",
       "1      Albania    Europe  2020-04-12   12      4  2020     17       0   \n",
       "2      Algeria    Africa  2020-04-12   12      4  2020     64      19   \n",
       "3      Andorra    Europe  2020-04-12   12      4  2020     21       2   \n",
       "4       Angola    Africa  2020-04-12   12      4  2020      0       0   \n",
       "5     Anguilla   America  2020-04-12   12      4  2020      0       0   \n",
       "\n",
       "  country_code  population  \n",
       "0          AFG  37172386.0  \n",
       "1          ALB   2866376.0  \n",
       "2          DZA  42228429.0  \n",
       "3          AND     77006.0  \n",
       "4          AGO  30809762.0  \n",
       "5          NaN         NaN  "
      ]
     },
     "execution_count": 125,
     "metadata": {},
     "output_type": "execute_result"
    }
   ],
   "source": [
    "covid19_data.loc[:5]"
   ]
  },
  {
   "cell_type": "markdown",
   "id": "ac28eb08-1381-4b26-9657-d6c5be5d1959",
   "metadata": {},
   "source": [
    "Reading data from CSV files is one of the most common ways to create a DataFrame. CSV files are comma-separated files for storing and retrieving values, where each line is equivalent to a row. \n",
    "Remember to upload the CSV file in Jupyter using the upload button on the Jupyter home page , before calling the “read_csv” function."
   ]
  },
  {
   "cell_type": "code",
   "execution_count": null,
   "id": "36efb142-07cc-4a94-b28a-bcc2f6fde0f2",
   "metadata": {},
   "outputs": [],
   "source": []
  },
  {
   "cell_type": "markdown",
   "id": "52f189f8-2ba4-4a54-92f4-4ea1bab9b092",
   "metadata": {},
   "source": [
    "### From an Excel file:\n",
    "- Pandas provides support for importing data from both xls and xlsx file formats using the pd.read_excel function.\n"
   ]
  },
  {
   "cell_type": "markdown",
   "id": "8cd64059-a6fd-47b3-942b-719204724254",
   "metadata": {},
   "source": [
    "import pandas as pd\n",
    " src=r\"D:\\Edubridge\\Associate-Data Analytics\\Advancepython\\Data-files-master\\Data-files-master\\COVID-19.xlsx\"\n",
    "Covid19_excel=pd.read_excel(src)"
   ]
  },
  {
   "cell_type": "code",
   "execution_count": 257,
   "id": "a74bc154-7d42-4b74-9c03-961aeef8a17b",
   "metadata": {},
   "outputs": [
    {
     "data": {
      "text/html": [
       "<div>\n",
       "<style scoped>\n",
       "    .dataframe tbody tr th:only-of-type {\n",
       "        vertical-align: middle;\n",
       "    }\n",
       "\n",
       "    .dataframe tbody tr th {\n",
       "        vertical-align: top;\n",
       "    }\n",
       "\n",
       "    .dataframe thead th {\n",
       "        text-align: right;\n",
       "    }\n",
       "</style>\n",
       "<table border=\"1\" class=\"dataframe\">\n",
       "  <thead>\n",
       "    <tr style=\"text-align: right;\">\n",
       "      <th></th>\n",
       "      <th>dateRep</th>\n",
       "      <th>day</th>\n",
       "      <th>month</th>\n",
       "      <th>year</th>\n",
       "      <th>cases</th>\n",
       "      <th>deaths</th>\n",
       "      <th>countriesAndTerritories</th>\n",
       "      <th>geoId</th>\n",
       "      <th>countryterritoryCode</th>\n",
       "      <th>popData2019</th>\n",
       "      <th>continentExp</th>\n",
       "    </tr>\n",
       "  </thead>\n",
       "  <tbody>\n",
       "    <tr>\n",
       "      <th>0</th>\n",
       "      <td>2020-06-29</td>\n",
       "      <td>29</td>\n",
       "      <td>6</td>\n",
       "      <td>2020</td>\n",
       "      <td>351</td>\n",
       "      <td>18</td>\n",
       "      <td>Afghanistan</td>\n",
       "      <td>AF</td>\n",
       "      <td>AFG</td>\n",
       "      <td>38041757.0</td>\n",
       "      <td>Asia</td>\n",
       "    </tr>\n",
       "    <tr>\n",
       "      <th>1</th>\n",
       "      <td>2020-06-28</td>\n",
       "      <td>28</td>\n",
       "      <td>6</td>\n",
       "      <td>2020</td>\n",
       "      <td>165</td>\n",
       "      <td>20</td>\n",
       "      <td>Afghanistan</td>\n",
       "      <td>AF</td>\n",
       "      <td>AFG</td>\n",
       "      <td>38041757.0</td>\n",
       "      <td>Asia</td>\n",
       "    </tr>\n",
       "    <tr>\n",
       "      <th>2</th>\n",
       "      <td>2020-06-27</td>\n",
       "      <td>27</td>\n",
       "      <td>6</td>\n",
       "      <td>2020</td>\n",
       "      <td>276</td>\n",
       "      <td>8</td>\n",
       "      <td>Afghanistan</td>\n",
       "      <td>AF</td>\n",
       "      <td>AFG</td>\n",
       "      <td>38041757.0</td>\n",
       "      <td>Asia</td>\n",
       "    </tr>\n",
       "    <tr>\n",
       "      <th>3</th>\n",
       "      <td>2020-06-26</td>\n",
       "      <td>26</td>\n",
       "      <td>6</td>\n",
       "      <td>2020</td>\n",
       "      <td>460</td>\n",
       "      <td>36</td>\n",
       "      <td>Afghanistan</td>\n",
       "      <td>AF</td>\n",
       "      <td>AFG</td>\n",
       "      <td>38041757.0</td>\n",
       "      <td>Asia</td>\n",
       "    </tr>\n",
       "    <tr>\n",
       "      <th>4</th>\n",
       "      <td>2020-06-25</td>\n",
       "      <td>25</td>\n",
       "      <td>6</td>\n",
       "      <td>2020</td>\n",
       "      <td>234</td>\n",
       "      <td>21</td>\n",
       "      <td>Afghanistan</td>\n",
       "      <td>AF</td>\n",
       "      <td>AFG</td>\n",
       "      <td>38041757.0</td>\n",
       "      <td>Asia</td>\n",
       "    </tr>\n",
       "    <tr>\n",
       "      <th>...</th>\n",
       "      <td>...</td>\n",
       "      <td>...</td>\n",
       "      <td>...</td>\n",
       "      <td>...</td>\n",
       "      <td>...</td>\n",
       "      <td>...</td>\n",
       "      <td>...</td>\n",
       "      <td>...</td>\n",
       "      <td>...</td>\n",
       "      <td>...</td>\n",
       "      <td>...</td>\n",
       "    </tr>\n",
       "    <tr>\n",
       "      <th>26557</th>\n",
       "      <td>2020-03-25</td>\n",
       "      <td>25</td>\n",
       "      <td>3</td>\n",
       "      <td>2020</td>\n",
       "      <td>0</td>\n",
       "      <td>0</td>\n",
       "      <td>Zimbabwe</td>\n",
       "      <td>ZW</td>\n",
       "      <td>ZWE</td>\n",
       "      <td>14645473.0</td>\n",
       "      <td>Africa</td>\n",
       "    </tr>\n",
       "    <tr>\n",
       "      <th>26558</th>\n",
       "      <td>2020-03-24</td>\n",
       "      <td>24</td>\n",
       "      <td>3</td>\n",
       "      <td>2020</td>\n",
       "      <td>0</td>\n",
       "      <td>1</td>\n",
       "      <td>Zimbabwe</td>\n",
       "      <td>ZW</td>\n",
       "      <td>ZWE</td>\n",
       "      <td>14645473.0</td>\n",
       "      <td>Africa</td>\n",
       "    </tr>\n",
       "    <tr>\n",
       "      <th>26559</th>\n",
       "      <td>2020-03-23</td>\n",
       "      <td>23</td>\n",
       "      <td>3</td>\n",
       "      <td>2020</td>\n",
       "      <td>0</td>\n",
       "      <td>0</td>\n",
       "      <td>Zimbabwe</td>\n",
       "      <td>ZW</td>\n",
       "      <td>ZWE</td>\n",
       "      <td>14645473.0</td>\n",
       "      <td>Africa</td>\n",
       "    </tr>\n",
       "    <tr>\n",
       "      <th>26560</th>\n",
       "      <td>2020-03-22</td>\n",
       "      <td>22</td>\n",
       "      <td>3</td>\n",
       "      <td>2020</td>\n",
       "      <td>1</td>\n",
       "      <td>0</td>\n",
       "      <td>Zimbabwe</td>\n",
       "      <td>ZW</td>\n",
       "      <td>ZWE</td>\n",
       "      <td>14645473.0</td>\n",
       "      <td>Africa</td>\n",
       "    </tr>\n",
       "    <tr>\n",
       "      <th>26561</th>\n",
       "      <td>2020-03-21</td>\n",
       "      <td>21</td>\n",
       "      <td>3</td>\n",
       "      <td>2020</td>\n",
       "      <td>1</td>\n",
       "      <td>0</td>\n",
       "      <td>Zimbabwe</td>\n",
       "      <td>ZW</td>\n",
       "      <td>ZWE</td>\n",
       "      <td>14645473.0</td>\n",
       "      <td>Africa</td>\n",
       "    </tr>\n",
       "  </tbody>\n",
       "</table>\n",
       "<p>26562 rows × 11 columns</p>\n",
       "</div>"
      ],
      "text/plain": [
       "         dateRep  day  month  year  cases  deaths countriesAndTerritories  \\\n",
       "0     2020-06-29   29      6  2020    351      18             Afghanistan   \n",
       "1     2020-06-28   28      6  2020    165      20             Afghanistan   \n",
       "2     2020-06-27   27      6  2020    276       8             Afghanistan   \n",
       "3     2020-06-26   26      6  2020    460      36             Afghanistan   \n",
       "4     2020-06-25   25      6  2020    234      21             Afghanistan   \n",
       "...          ...  ...    ...   ...    ...     ...                     ...   \n",
       "26557 2020-03-25   25      3  2020      0       0                Zimbabwe   \n",
       "26558 2020-03-24   24      3  2020      0       1                Zimbabwe   \n",
       "26559 2020-03-23   23      3  2020      0       0                Zimbabwe   \n",
       "26560 2020-03-22   22      3  2020      1       0                Zimbabwe   \n",
       "26561 2020-03-21   21      3  2020      1       0                Zimbabwe   \n",
       "\n",
       "      geoId countryterritoryCode  popData2019 continentExp  \n",
       "0        AF                  AFG   38041757.0         Asia  \n",
       "1        AF                  AFG   38041757.0         Asia  \n",
       "2        AF                  AFG   38041757.0         Asia  \n",
       "3        AF                  AFG   38041757.0         Asia  \n",
       "4        AF                  AFG   38041757.0         Asia  \n",
       "...     ...                  ...          ...          ...  \n",
       "26557    ZW                  ZWE   14645473.0       Africa  \n",
       "26558    ZW                  ZWE   14645473.0       Africa  \n",
       "26559    ZW                  ZWE   14645473.0       Africa  \n",
       "26560    ZW                  ZWE   14645473.0       Africa  \n",
       "26561    ZW                  ZWE   14645473.0       Africa  \n",
       "\n",
       "[26562 rows x 11 columns]"
      ]
     },
     "execution_count": 257,
     "metadata": {},
     "output_type": "execute_result"
    }
   ],
   "source": [
    "import pandas as pd \n",
    "src=r\"D:\\Edubridge\\Associate-Data Analytics\\Advancepython\\Data-files-master\\Data-files-master\\COVID-19.xlsx\"\n",
    "covid19_excel=pd.read_excel(src)\n",
    "covid19_excel"
   ]
  },
  {
   "cell_type": "code",
   "execution_count": 252,
   "id": "855ae216-67cb-44f9-8682-5b0dabfebc9b",
   "metadata": {},
   "outputs": [
    {
     "data": {
      "text/plain": [
       "pandas.core.frame.DataFrame"
      ]
     },
     "execution_count": 252,
     "metadata": {},
     "output_type": "execute_result"
    }
   ],
   "source": [
    "type(covid19_excel)"
   ]
  },
  {
   "cell_type": "markdown",
   "id": "081a2ba9-46ed-48dc-9e87-71ef3ff3959a",
   "metadata": {},
   "source": [
    "### From a JSON file:\n",
    "- JSON stands for JavaScript Object Notation and is a cross-platform file format for transmitting and exchanging data between the client and server. Pandas provides the function read_json to read data from a JSON file."
   ]
  },
  {
   "cell_type": "code",
   "execution_count": 259,
   "id": "d6b60323-771f-4f32-8175-08374c112ba9",
   "metadata": {},
   "outputs": [
    {
     "data": {
      "text/html": [
       "<div>\n",
       "<style scoped>\n",
       "    .dataframe tbody tr th:only-of-type {\n",
       "        vertical-align: middle;\n",
       "    }\n",
       "\n",
       "    .dataframe tbody tr th {\n",
       "        vertical-align: top;\n",
       "    }\n",
       "\n",
       "    .dataframe thead th {\n",
       "        text-align: right;\n",
       "    }\n",
       "</style>\n",
       "<table border=\"1\" class=\"dataframe\">\n",
       "  <thead>\n",
       "    <tr style=\"text-align: right;\">\n",
       "      <th></th>\n",
       "      <th>id</th>\n",
       "      <th>name</th>\n",
       "      <th>iso3</th>\n",
       "      <th>iso2</th>\n",
       "      <th>numeric_code</th>\n",
       "      <th>phone_code</th>\n",
       "      <th>capital</th>\n",
       "      <th>currency</th>\n",
       "      <th>currency_name</th>\n",
       "      <th>currency_symbol</th>\n",
       "      <th>tld</th>\n",
       "      <th>native</th>\n",
       "      <th>region</th>\n",
       "      <th>subregion</th>\n",
       "      <th>timezones</th>\n",
       "      <th>translations</th>\n",
       "      <th>latitude</th>\n",
       "      <th>longitude</th>\n",
       "      <th>emoji</th>\n",
       "      <th>emojiU</th>\n",
       "    </tr>\n",
       "  </thead>\n",
       "  <tbody>\n",
       "    <tr>\n",
       "      <th>0</th>\n",
       "      <td>1</td>\n",
       "      <td>Afghanistan</td>\n",
       "      <td>AFG</td>\n",
       "      <td>AF</td>\n",
       "      <td>4</td>\n",
       "      <td>93</td>\n",
       "      <td>Kabul</td>\n",
       "      <td>AFN</td>\n",
       "      <td>Afghan afghani</td>\n",
       "      <td>؋</td>\n",
       "      <td>.af</td>\n",
       "      <td>افغانستان</td>\n",
       "      <td>Asia</td>\n",
       "      <td>Southern Asia</td>\n",
       "      <td>[{'zoneName': 'Asia/Kabul', 'gmtOffset': 16200...</td>\n",
       "      <td>{'kr': '아프가니스탄', 'br': 'Afeganistão', 'pt': 'A...</td>\n",
       "      <td>33.000000</td>\n",
       "      <td>65.0</td>\n",
       "      <td>🇦🇫</td>\n",
       "      <td>U+1F1E6 U+1F1EB</td>\n",
       "    </tr>\n",
       "    <tr>\n",
       "      <th>1</th>\n",
       "      <td>2</td>\n",
       "      <td>Aland Islands</td>\n",
       "      <td>ALA</td>\n",
       "      <td>AX</td>\n",
       "      <td>248</td>\n",
       "      <td>+358-18</td>\n",
       "      <td>Mariehamn</td>\n",
       "      <td>EUR</td>\n",
       "      <td>Euro</td>\n",
       "      <td>€</td>\n",
       "      <td>.ax</td>\n",
       "      <td>Åland</td>\n",
       "      <td>Europe</td>\n",
       "      <td>Northern Europe</td>\n",
       "      <td>[{'zoneName': 'Europe/Mariehamn', 'gmtOffset':...</td>\n",
       "      <td>{'kr': '올란드 제도', 'br': 'Ilhas de Aland', 'pt':...</td>\n",
       "      <td>60.116667</td>\n",
       "      <td>19.9</td>\n",
       "      <td>🇦🇽</td>\n",
       "      <td>U+1F1E6 U+1F1FD</td>\n",
       "    </tr>\n",
       "    <tr>\n",
       "      <th>2</th>\n",
       "      <td>3</td>\n",
       "      <td>Albania</td>\n",
       "      <td>ALB</td>\n",
       "      <td>AL</td>\n",
       "      <td>8</td>\n",
       "      <td>355</td>\n",
       "      <td>Tirana</td>\n",
       "      <td>ALL</td>\n",
       "      <td>Albanian lek</td>\n",
       "      <td>Lek</td>\n",
       "      <td>.al</td>\n",
       "      <td>Shqipëria</td>\n",
       "      <td>Europe</td>\n",
       "      <td>Southern Europe</td>\n",
       "      <td>[{'zoneName': 'Europe/Tirane', 'gmtOffset': 36...</td>\n",
       "      <td>{'kr': '알바니아', 'br': 'Albânia', 'pt': 'Albânia...</td>\n",
       "      <td>41.000000</td>\n",
       "      <td>20.0</td>\n",
       "      <td>🇦🇱</td>\n",
       "      <td>U+1F1E6 U+1F1F1</td>\n",
       "    </tr>\n",
       "    <tr>\n",
       "      <th>3</th>\n",
       "      <td>4</td>\n",
       "      <td>Algeria</td>\n",
       "      <td>DZA</td>\n",
       "      <td>DZ</td>\n",
       "      <td>12</td>\n",
       "      <td>213</td>\n",
       "      <td>Algiers</td>\n",
       "      <td>DZD</td>\n",
       "      <td>Algerian dinar</td>\n",
       "      <td>دج</td>\n",
       "      <td>.dz</td>\n",
       "      <td>الجزائر</td>\n",
       "      <td>Africa</td>\n",
       "      <td>Northern Africa</td>\n",
       "      <td>[{'zoneName': 'Africa/Algiers', 'gmtOffset': 3...</td>\n",
       "      <td>{'kr': '알제리', 'br': 'Argélia', 'pt': 'Argélia'...</td>\n",
       "      <td>28.000000</td>\n",
       "      <td>3.0</td>\n",
       "      <td>🇩🇿</td>\n",
       "      <td>U+1F1E9 U+1F1FF</td>\n",
       "    </tr>\n",
       "    <tr>\n",
       "      <th>4</th>\n",
       "      <td>5</td>\n",
       "      <td>American Samoa</td>\n",
       "      <td>ASM</td>\n",
       "      <td>AS</td>\n",
       "      <td>16</td>\n",
       "      <td>+1-684</td>\n",
       "      <td>Pago Pago</td>\n",
       "      <td>USD</td>\n",
       "      <td>US Dollar</td>\n",
       "      <td>$</td>\n",
       "      <td>.as</td>\n",
       "      <td>American Samoa</td>\n",
       "      <td>Oceania</td>\n",
       "      <td>Polynesia</td>\n",
       "      <td>[{'zoneName': 'Pacific/Pago_Pago', 'gmtOffset'...</td>\n",
       "      <td>{'kr': '아메리칸사모아', 'br': 'Samoa Americana', 'pt...</td>\n",
       "      <td>-14.333333</td>\n",
       "      <td>-170.0</td>\n",
       "      <td>🇦🇸</td>\n",
       "      <td>U+1F1E6 U+1F1F8</td>\n",
       "    </tr>\n",
       "    <tr>\n",
       "      <th>...</th>\n",
       "      <td>...</td>\n",
       "      <td>...</td>\n",
       "      <td>...</td>\n",
       "      <td>...</td>\n",
       "      <td>...</td>\n",
       "      <td>...</td>\n",
       "      <td>...</td>\n",
       "      <td>...</td>\n",
       "      <td>...</td>\n",
       "      <td>...</td>\n",
       "      <td>...</td>\n",
       "      <td>...</td>\n",
       "      <td>...</td>\n",
       "      <td>...</td>\n",
       "      <td>...</td>\n",
       "      <td>...</td>\n",
       "      <td>...</td>\n",
       "      <td>...</td>\n",
       "      <td>...</td>\n",
       "      <td>...</td>\n",
       "    </tr>\n",
       "    <tr>\n",
       "      <th>245</th>\n",
       "      <td>243</td>\n",
       "      <td>Wallis And Futuna Islands</td>\n",
       "      <td>WLF</td>\n",
       "      <td>WF</td>\n",
       "      <td>876</td>\n",
       "      <td>681</td>\n",
       "      <td>Mata Utu</td>\n",
       "      <td>XPF</td>\n",
       "      <td>CFP franc</td>\n",
       "      <td>₣</td>\n",
       "      <td>.wf</td>\n",
       "      <td>Wallis et Futuna</td>\n",
       "      <td>Oceania</td>\n",
       "      <td>Polynesia</td>\n",
       "      <td>[{'zoneName': 'Pacific/Wallis', 'gmtOffset': 4...</td>\n",
       "      <td>{'kr': '왈리스 푸투나', 'br': 'Wallis e Futuna', 'pt...</td>\n",
       "      <td>-13.300000</td>\n",
       "      <td>-176.2</td>\n",
       "      <td>🇼🇫</td>\n",
       "      <td>U+1F1FC U+1F1EB</td>\n",
       "    </tr>\n",
       "    <tr>\n",
       "      <th>246</th>\n",
       "      <td>244</td>\n",
       "      <td>Western Sahara</td>\n",
       "      <td>ESH</td>\n",
       "      <td>EH</td>\n",
       "      <td>732</td>\n",
       "      <td>212</td>\n",
       "      <td>El-Aaiun</td>\n",
       "      <td>MAD</td>\n",
       "      <td>Moroccan Dirham</td>\n",
       "      <td>MAD</td>\n",
       "      <td>.eh</td>\n",
       "      <td>الصحراء الغربية</td>\n",
       "      <td>Africa</td>\n",
       "      <td>Northern Africa</td>\n",
       "      <td>[{'zoneName': 'Africa/El_Aaiun', 'gmtOffset': ...</td>\n",
       "      <td>{'kr': '서사하라', 'br': 'Saara Ocidental', 'pt': ...</td>\n",
       "      <td>24.500000</td>\n",
       "      <td>-13.0</td>\n",
       "      <td>🇪🇭</td>\n",
       "      <td>U+1F1EA U+1F1ED</td>\n",
       "    </tr>\n",
       "    <tr>\n",
       "      <th>247</th>\n",
       "      <td>245</td>\n",
       "      <td>Yemen</td>\n",
       "      <td>YEM</td>\n",
       "      <td>YE</td>\n",
       "      <td>887</td>\n",
       "      <td>967</td>\n",
       "      <td>Sanaa</td>\n",
       "      <td>YER</td>\n",
       "      <td>Yemeni rial</td>\n",
       "      <td>﷼</td>\n",
       "      <td>.ye</td>\n",
       "      <td>اليَمَن</td>\n",
       "      <td>Asia</td>\n",
       "      <td>Western Asia</td>\n",
       "      <td>[{'zoneName': 'Asia/Aden', 'gmtOffset': 10800,...</td>\n",
       "      <td>{'kr': '예멘', 'br': 'Iêmen', 'pt': 'Iémen', 'nl...</td>\n",
       "      <td>15.000000</td>\n",
       "      <td>48.0</td>\n",
       "      <td>🇾🇪</td>\n",
       "      <td>U+1F1FE U+1F1EA</td>\n",
       "    </tr>\n",
       "    <tr>\n",
       "      <th>248</th>\n",
       "      <td>246</td>\n",
       "      <td>Zambia</td>\n",
       "      <td>ZMB</td>\n",
       "      <td>ZM</td>\n",
       "      <td>894</td>\n",
       "      <td>260</td>\n",
       "      <td>Lusaka</td>\n",
       "      <td>ZMW</td>\n",
       "      <td>Zambian kwacha</td>\n",
       "      <td>ZK</td>\n",
       "      <td>.zm</td>\n",
       "      <td>Zambia</td>\n",
       "      <td>Africa</td>\n",
       "      <td>Eastern Africa</td>\n",
       "      <td>[{'zoneName': 'Africa/Lusaka', 'gmtOffset': 72...</td>\n",
       "      <td>{'kr': '잠비아', 'br': 'Zâmbia', 'pt': 'Zâmbia', ...</td>\n",
       "      <td>-15.000000</td>\n",
       "      <td>30.0</td>\n",
       "      <td>🇿🇲</td>\n",
       "      <td>U+1F1FF U+1F1F2</td>\n",
       "    </tr>\n",
       "    <tr>\n",
       "      <th>249</th>\n",
       "      <td>247</td>\n",
       "      <td>Zimbabwe</td>\n",
       "      <td>ZWE</td>\n",
       "      <td>ZW</td>\n",
       "      <td>716</td>\n",
       "      <td>263</td>\n",
       "      <td>Harare</td>\n",
       "      <td>ZWL</td>\n",
       "      <td>Zimbabwe Dollar</td>\n",
       "      <td>$</td>\n",
       "      <td>.zw</td>\n",
       "      <td>Zimbabwe</td>\n",
       "      <td>Africa</td>\n",
       "      <td>Eastern Africa</td>\n",
       "      <td>[{'zoneName': 'Africa/Harare', 'gmtOffset': 72...</td>\n",
       "      <td>{'kr': '짐바브웨', 'br': 'Zimbabwe', 'pt': 'Zimbab...</td>\n",
       "      <td>-20.000000</td>\n",
       "      <td>30.0</td>\n",
       "      <td>🇿🇼</td>\n",
       "      <td>U+1F1FF U+1F1FC</td>\n",
       "    </tr>\n",
       "  </tbody>\n",
       "</table>\n",
       "<p>250 rows × 20 columns</p>\n",
       "</div>"
      ],
      "text/plain": [
       "      id                       name iso3 iso2  numeric_code phone_code  \\\n",
       "0      1                Afghanistan  AFG   AF             4         93   \n",
       "1      2              Aland Islands  ALA   AX           248    +358-18   \n",
       "2      3                    Albania  ALB   AL             8        355   \n",
       "3      4                    Algeria  DZA   DZ            12        213   \n",
       "4      5             American Samoa  ASM   AS            16     +1-684   \n",
       "..   ...                        ...  ...  ...           ...        ...   \n",
       "245  243  Wallis And Futuna Islands  WLF   WF           876        681   \n",
       "246  244             Western Sahara  ESH   EH           732        212   \n",
       "247  245                      Yemen  YEM   YE           887        967   \n",
       "248  246                     Zambia  ZMB   ZM           894        260   \n",
       "249  247                   Zimbabwe  ZWE   ZW           716        263   \n",
       "\n",
       "       capital currency    currency_name currency_symbol  tld  \\\n",
       "0        Kabul      AFN   Afghan afghani               ؋  .af   \n",
       "1    Mariehamn      EUR             Euro               €  .ax   \n",
       "2       Tirana      ALL     Albanian lek             Lek  .al   \n",
       "3      Algiers      DZD   Algerian dinar              دج  .dz   \n",
       "4    Pago Pago      USD        US Dollar               $  .as   \n",
       "..         ...      ...              ...             ...  ...   \n",
       "245   Mata Utu      XPF        CFP franc               ₣  .wf   \n",
       "246   El-Aaiun      MAD  Moroccan Dirham             MAD  .eh   \n",
       "247      Sanaa      YER      Yemeni rial               ﷼  .ye   \n",
       "248     Lusaka      ZMW   Zambian kwacha              ZK  .zm   \n",
       "249     Harare      ZWL  Zimbabwe Dollar               $  .zw   \n",
       "\n",
       "               native   region        subregion  \\\n",
       "0           افغانستان     Asia    Southern Asia   \n",
       "1               Åland   Europe  Northern Europe   \n",
       "2           Shqipëria   Europe  Southern Europe   \n",
       "3             الجزائر   Africa  Northern Africa   \n",
       "4      American Samoa  Oceania        Polynesia   \n",
       "..                ...      ...              ...   \n",
       "245  Wallis et Futuna  Oceania        Polynesia   \n",
       "246   الصحراء الغربية   Africa  Northern Africa   \n",
       "247           اليَمَن     Asia     Western Asia   \n",
       "248            Zambia   Africa   Eastern Africa   \n",
       "249          Zimbabwe   Africa   Eastern Africa   \n",
       "\n",
       "                                             timezones  \\\n",
       "0    [{'zoneName': 'Asia/Kabul', 'gmtOffset': 16200...   \n",
       "1    [{'zoneName': 'Europe/Mariehamn', 'gmtOffset':...   \n",
       "2    [{'zoneName': 'Europe/Tirane', 'gmtOffset': 36...   \n",
       "3    [{'zoneName': 'Africa/Algiers', 'gmtOffset': 3...   \n",
       "4    [{'zoneName': 'Pacific/Pago_Pago', 'gmtOffset'...   \n",
       "..                                                 ...   \n",
       "245  [{'zoneName': 'Pacific/Wallis', 'gmtOffset': 4...   \n",
       "246  [{'zoneName': 'Africa/El_Aaiun', 'gmtOffset': ...   \n",
       "247  [{'zoneName': 'Asia/Aden', 'gmtOffset': 10800,...   \n",
       "248  [{'zoneName': 'Africa/Lusaka', 'gmtOffset': 72...   \n",
       "249  [{'zoneName': 'Africa/Harare', 'gmtOffset': 72...   \n",
       "\n",
       "                                          translations   latitude  longitude  \\\n",
       "0    {'kr': '아프가니스탄', 'br': 'Afeganistão', 'pt': 'A...  33.000000       65.0   \n",
       "1    {'kr': '올란드 제도', 'br': 'Ilhas de Aland', 'pt':...  60.116667       19.9   \n",
       "2    {'kr': '알바니아', 'br': 'Albânia', 'pt': 'Albânia...  41.000000       20.0   \n",
       "3    {'kr': '알제리', 'br': 'Argélia', 'pt': 'Argélia'...  28.000000        3.0   \n",
       "4    {'kr': '아메리칸사모아', 'br': 'Samoa Americana', 'pt... -14.333333     -170.0   \n",
       "..                                                 ...        ...        ...   \n",
       "245  {'kr': '왈리스 푸투나', 'br': 'Wallis e Futuna', 'pt... -13.300000     -176.2   \n",
       "246  {'kr': '서사하라', 'br': 'Saara Ocidental', 'pt': ...  24.500000      -13.0   \n",
       "247  {'kr': '예멘', 'br': 'Iêmen', 'pt': 'Iémen', 'nl...  15.000000       48.0   \n",
       "248  {'kr': '잠비아', 'br': 'Zâmbia', 'pt': 'Zâmbia', ... -15.000000       30.0   \n",
       "249  {'kr': '짐바브웨', 'br': 'Zimbabwe', 'pt': 'Zimbab... -20.000000       30.0   \n",
       "\n",
       "    emoji           emojiU  \n",
       "0      🇦🇫  U+1F1E6 U+1F1EB  \n",
       "1      🇦🇽  U+1F1E6 U+1F1FD  \n",
       "2      🇦🇱  U+1F1E6 U+1F1F1  \n",
       "3      🇩🇿  U+1F1E9 U+1F1FF  \n",
       "4      🇦🇸  U+1F1E6 U+1F1F8  \n",
       "..    ...              ...  \n",
       "245    🇼🇫  U+1F1FC U+1F1EB  \n",
       "246    🇪🇭  U+1F1EA U+1F1ED  \n",
       "247    🇾🇪  U+1F1FE U+1F1EA  \n",
       "248    🇿🇲  U+1F1FF U+1F1F2  \n",
       "249    🇿🇼  U+1F1FF U+1F1FC  \n",
       "\n",
       "[250 rows x 20 columns]"
      ]
     },
     "execution_count": 259,
     "metadata": {},
     "output_type": "execute_result"
    }
   ],
   "source": [
    "json_data=pd.read_json('https://raw.githubusercontent.com/svkarthik86/Advance-Python-Numpy/main/countries.json')\n",
    "json_data"
   ]
  },
  {
   "cell_type": "code",
   "execution_count": 260,
   "id": "0316b3d9-c568-4dc7-97e8-f46668eed44f",
   "metadata": {},
   "outputs": [
    {
     "name": "stdout",
     "output_type": "stream",
     "text": [
      "<class 'pandas.core.frame.DataFrame'>\n",
      "RangeIndex: 250 entries, 0 to 249\n",
      "Data columns (total 20 columns):\n",
      " #   Column           Non-Null Count  Dtype  \n",
      "---  ------           --------------  -----  \n",
      " 0   id               250 non-null    int64  \n",
      " 1   name             250 non-null    object \n",
      " 2   iso3             250 non-null    object \n",
      " 3   iso2             250 non-null    object \n",
      " 4   numeric_code     250 non-null    int64  \n",
      " 5   phone_code       250 non-null    object \n",
      " 6   capital          250 non-null    object \n",
      " 7   currency         250 non-null    object \n",
      " 8   currency_name    250 non-null    object \n",
      " 9   currency_symbol  250 non-null    object \n",
      " 10  tld              250 non-null    object \n",
      " 11  native           249 non-null    object \n",
      " 12  region           250 non-null    object \n",
      " 13  subregion        250 non-null    object \n",
      " 14  timezones        250 non-null    object \n",
      " 15  translations     250 non-null    object \n",
      " 16  latitude         250 non-null    float64\n",
      " 17  longitude        250 non-null    float64\n",
      " 18  emoji            250 non-null    object \n",
      " 19  emojiU           250 non-null    object \n",
      "dtypes: float64(2), int64(2), object(16)\n",
      "memory usage: 39.2+ KB\n"
     ]
    }
   ],
   "source": [
    "json_data.info()"
   ]
  },
  {
   "cell_type": "markdown",
   "id": "7f5c4001-a53c-456c-85a3-67701231b22b",
   "metadata": {},
   "source": [
    "### From an HTML file:\n",
    "- We can also import data from a web page using the pd.read_html function.\n",
    "- this function parses the tables on the web page into DataFrame objects. \n",
    "- This function returns a list of DataFrame objects which correspond to the tables on the web page. \n",
    "- In the following example, table[0] corresponds to the first table on the mentioned URL.\n"
   ]
  },
  {
   "cell_type": "code",
   "execution_count": 27,
   "id": "b1a9ae54-3fd8-4deb-af37-af77541543be",
   "metadata": {},
   "outputs": [],
   "source": [
    "# url=\"https://www.w3schools.com/sql/sql_create_table.asp\"\n",
    "# table=pd.read_html(url)\n",
    "# table[0]"
   ]
  },
  {
   "cell_type": "code",
   "execution_count": 2,
   "id": "0d99b67e-709b-4cc1-a7d8-863033446dba",
   "metadata": {},
   "outputs": [
    {
     "data": {
      "text/plain": [
       "list"
      ]
     },
     "execution_count": 2,
     "metadata": {},
     "output_type": "execute_result"
    }
   ],
   "source": [
    "import pandas as pd\n",
    "html_data=pd.read_html(\"test.html\",flavor=\"html5lib\")\n",
    "type(html_data)"
   ]
  },
  {
   "cell_type": "markdown",
   "id": "2f87ce9a-ba46-4f6c-8cf9-e0a2e22400fa",
   "metadata": {},
   "source": [
    "Further reading: See the complete list of supported formats in Pandas and the functions\n",
    "for reading data from such formats:\n",
    "https://pandas.pydata.org/pandas-docs/stable/reference/io.html"
   ]
  },
  {
   "cell_type": "markdown",
   "id": "3b4c7558-a004-462b-b6d9-621700c3f6cb",
   "metadata": {},
   "source": [
    "### Accessing attributes in a DataFrame\n",
    "- how to access the attributes in a DataFrame object.\n"
   ]
  },
  {
   "cell_type": "code",
   "execution_count": 28,
   "id": "996d41c4-d9c4-4d25-9854-e50ec77386cf",
   "metadata": {},
   "outputs": [],
   "source": [
    "\n",
    "combined_ages=pd.DataFrame({'class 1':[22,40],'class 2':[24,50],\n",
    "'class 3':[20,45]})"
   ]
  },
  {
   "cell_type": "markdown",
   "id": "9a50da74-ef17-4a51-aa44-2f21168b0566",
   "metadata": {},
   "source": [
    "### index"
   ]
  },
  {
   "cell_type": "code",
   "execution_count": 29,
   "id": "597df97b-6ccb-4270-a06c-15a1271d826e",
   "metadata": {},
   "outputs": [
    {
     "data": {
      "text/plain": [
       "RangeIndex(start=0, stop=2, step=1)"
      ]
     },
     "execution_count": 29,
     "metadata": {},
     "output_type": "execute_result"
    }
   ],
   "source": [
    "combined_ages.index"
   ]
  },
  {
   "cell_type": "markdown",
   "id": "3484f64b-9334-4293-9cbb-8a2e829e9916",
   "metadata": {},
   "source": [
    "### columns"
   ]
  },
  {
   "cell_type": "code",
   "execution_count": 32,
   "id": "007cd7cd-91bc-4565-9ed4-692391c6fe0a",
   "metadata": {},
   "outputs": [
    {
     "data": {
      "text/plain": [
       "Index(['class 1', 'class 2', 'class 3'], dtype='object')"
      ]
     },
     "execution_count": 32,
     "metadata": {},
     "output_type": "execute_result"
    }
   ],
   "source": [
    "#The columns attribute gives you information about the columns (their names and data type).\n",
    "\n",
    "combined_ages.columns"
   ]
  },
  {
   "cell_type": "markdown",
   "id": "24cadf66-7af6-402e-a6d5-bd68c099e87e",
   "metadata": {},
   "source": [
    "- The index object and column object are both types of index objects.\n",
    "- While the index object has a type RangeIndex, \n",
    "- the columns object has a type “Index”. \n",
    "- The values of the index object act as row labels, while those of the column object act as column labels."
   ]
  },
  {
   "cell_type": "markdown",
   "id": "5a38b9f9-82e5-4fbc-97ff-d6bdbc251bce",
   "metadata": {},
   "source": [
    "### Accessing the values in the DataFrame\n",
    "- Using the values attribute, you can obtain the data stored in the DataFrame. \n",
    "\n"
   ]
  },
  {
   "cell_type": "code",
   "execution_count": 33,
   "id": "ce501272-a0f5-4dd4-a9d4-5073896b99d6",
   "metadata": {},
   "outputs": [
    {
     "data": {
      "text/plain": [
       "array([[22, 24, 20],\n",
       "       [40, 50, 45]], dtype=int64)"
      ]
     },
     "execution_count": 33,
     "metadata": {},
     "output_type": "execute_result"
    }
   ],
   "source": [
    "combined_ages.values\n"
   ]
  },
  {
   "cell_type": "markdown",
   "id": "ab99708d-c364-42b5-aad3-b9587a296a21",
   "metadata": {},
   "source": [
    "## Modifying DataFrame objects\n",
    "- how to change the names of columns and add and delete columns and rows."
   ]
  },
  {
   "cell_type": "markdown",
   "id": "1ddf5d1e-ec4e-4fff-84b2-7bbf022f0649",
   "metadata": {},
   "source": [
    "### Renaming columns\n",
    "- The names of the columns can be changed using the rename method.\n",
    "- A dictionary is passed as an argument to this method. \n",
    "- The keys for this dictionary are the old column names, and the values are the new column names.\n"
   ]
  },
  {
   "cell_type": "code",
   "execution_count": null,
   "id": "085740d4-be23-423e-b344-82acad2c7881",
   "metadata": {},
   "outputs": [],
   "source": [
    "\n",
    "combined_ages.rename(columns={'class 1':'batch 1','class 2':'batch\n",
    "2','class 3':'batch 3'},inplace=True)\n",
    "combined_ages"
   ]
  },
  {
   "cell_type": "markdown",
   "id": "5fae8f6a-3c39-4218-ba27-b5a1238f500c",
   "metadata": {},
   "source": [
    "- The reason we use the inplace parameter so that the changes are made in the actual DataFrame object\n"
   ]
  },
  {
   "cell_type": "markdown",
   "id": "b259af31-3224-494d-ba58-ca945ee791a2",
   "metadata": {},
   "source": [
    "- Renaming can also be done by accessing the columns attribute directly and mentioning the new column names in an array\n",
    "\n"
   ]
  },
  {
   "cell_type": "code",
   "execution_count": null,
   "id": "8ebb5d46-168c-49bf-9e83-1f4b2fcc8719",
   "metadata": {},
   "outputs": [],
   "source": [
    "combined_ages.columns=['batch 1','batch 2','batch 3']"
   ]
  },
  {
   "cell_type": "markdown",
   "id": "cff7cfef-831e-468c-991e-468e790a9871",
   "metadata": {},
   "source": [
    "- Renaming using the dictionary format is a more straightforward method for renaming columns, and the changes are made to the original DataFrame object. \n",
    "- The disadvantage with this method (combined_ages.columns)is that one needs to remember the order of the columns in the DataFrame. \n",
    "- When we used the rename method, we used a dictionary where we knew which column names we were changing."
   ]
  },
  {
   "cell_type": "markdown",
   "id": "149ebdfd-8955-4f0a-917b-2bc8518ebb5d",
   "metadata": {},
   "source": [
    "### Replacing values or observations in a DataFrame\n",
    "- The replace method can be used to replace values in a DataFrame. \n",
    "- We can again use the dictionary format, with the key/value pair representing the old and new values. Here, we replace the value 22 with the value 33."
   ]
  },
  {
   "cell_type": "code",
   "execution_count": null,
   "id": "b2c7b012-ce7b-4837-93fc-8252623de510",
   "metadata": {},
   "outputs": [],
   "source": [
    "combined_ages.replace({22:33})"
   ]
  },
  {
   "cell_type": "markdown",
   "id": "d7a3b157-b3a4-4f1d-ab10-35631332c417",
   "metadata": {},
   "source": [
    "### Adding a new column to a DataFrame\n",
    "There are four ways to insert a new column in a DataFrame\n"
   ]
  },
  {
   "cell_type": "code",
   "execution_count": null,
   "id": "185b8e1b-6cba-4dfd-a049-cf046031a28b",
   "metadata": {},
   "outputs": [],
   "source": [
    "With the indexing operator, [ ]\n",
    "\n",
    "combined_ages['class 4']=[18,40]\n",
    "combined_ages"
   ]
  },
  {
   "cell_type": "code",
   "execution_count": null,
   "id": "761f874c-c06c-4a33-96b1-35cd6001344b",
   "metadata": {},
   "outputs": [],
   "source": [
    "By mentioning the column name as a string within the indexing operator and\n",
    "assigning it values, we can add a column."
   ]
  },
  {
   "cell_type": "code",
   "execution_count": null,
   "id": "d695d5e0-e0e1-4e56-a537-344f97a7e071",
   "metadata": {},
   "outputs": [],
   "source": [
    "Using the insert method\n",
    "\n",
    "combined_ages.insert(2,'class 0',[18,35])\n",
    "combined_ages"
   ]
  },
  {
   "cell_type": "code",
   "execution_count": null,
   "id": "8501cc92-dd4a-4936-8dbd-375f844f5f75",
   "metadata": {},
   "outputs": [],
   "source": [
    "The insert method can be used for adding a column. Three arguments need\n",
    "to be passed to this method, mentioned in the following.\n",
    "The first argument is the index where you want to insert the new column (in\n",
    "this case the index is 2, which means that the new column is added as the\n",
    "third column of our DataFrame)\n",
    "The second argument is the name of the new column you want to insert\n",
    "(“class 0” in this example)\n",
    "The third argument is the list containing the values of the new column (18\n",
    "and 35 in this case)\n",
    "All the three parameters are mandatory for the insert method to be able to\n",
    "add a column successfully."
   ]
  },
  {
   "cell_type": "code",
   "execution_count": null,
   "id": "3a23cb57-9a44-44da-8061-ba11a1270975",
   "metadata": {},
   "outputs": [],
   "source": [
    "Using the loc indexer \n",
    "combined_ages.loc[:,'class 4']=[20,40]\n",
    "combined_ages"
   ]
  },
  {
   "cell_type": "code",
   "execution_count": null,
   "id": "6e1b72b9-ded9-44d0-be37-1dd8f0ed445b",
   "metadata": {},
   "outputs": [],
   "source": [
    "The loc indexer is generally used for retrieval of values in from Series and\n",
    "DataFrames, but it can also be used for inserting a column. In the preceding\n",
    "statement, all the rows are selected using the : operator. This operator\n",
    "is followed by the name of the column to be inserted. The values for this\n",
    "column are enclosed within a list."
   ]
  },
  {
   "cell_type": "code",
   "execution_count": null,
   "id": "853391f3-43e8-4e40-9381-0f4bf585c554",
   "metadata": {},
   "outputs": [],
   "source": [
    "Using the concat\n",
    "function\n",
    "CODE:\n",
    "class5=pd.Series([31,48])\n",
    "combined_ages=pd.concat([combined_ages,class5],axis=1)\n",
    "combined_ages"
   ]
  },
  {
   "cell_type": "code",
   "execution_count": null,
   "id": "e91f21e1-19a2-49f5-8d65-6eff1a735721",
   "metadata": {},
   "outputs": [],
   "source": [
    "First, the column to be added (“class5” in this case) is defined as a Series\n",
    "object. It is then added to the DataFrame object using the pd.concat\n",
    "function. The axis needs to be mentioned as “1” since the new data is being\n",
    "added along the column axis."
   ]
  },
  {
   "cell_type": "code",
   "execution_count": null,
   "id": "fa16885e-fefd-484c-937b-45e2388b93da",
   "metadata": {},
   "outputs": [],
   "source": [
    "In summary, we can add a column to a DataFrame using the indexing operator, loc\n",
    "indexer, insert method, or concat function. The most straightforward and commonly\n",
    "used method for adding a column is by using the indexing operator []."
   ]
  },
  {
   "cell_type": "code",
   "execution_count": null,
   "id": "0cb90715-d585-4b04-ae2e-b9751bd2b534",
   "metadata": {},
   "outputs": [],
   "source": [
    "Inserting rows in a DataFrame\n",
    "There are two methods for adding rows in a DataFrame, either by using the append\n",
    "method or with the concat function, as shown in Table 6-4."
   ]
  },
  {
   "cell_type": "code",
   "execution_count": null,
   "id": "839cedbe-de5f-46be-b504-b5d421726781",
   "metadata": {},
   "outputs": [],
   "source": [
    "Using the append\n",
    "method\n",
    "CODE:\n",
    "combined_ages=combined_ages.append({'class 1':35,'class 2':\n",
    "33,'class 3':21},ignore_index=True)\n",
    "combined_ages"
   ]
  },
  {
   "cell_type": "code",
   "execution_count": null,
   "id": "a5cce7e1-96ce-451f-a1ca-b2b276ed6d7b",
   "metadata": {},
   "outputs": [],
   "source": [
    "The argument to the append method- the data that needs to be added - is\n",
    "defined as a dictionary. This dictionary is then passed as an argument to the\n",
    "append method. Setting the ignore_index=True parameter prevents an error\n",
    "from being thrown. This parameter resets the index. While using the append\n",
    "method, we need to ensure that we either use the ignore_index parameter\n",
    "or give a name to a Series before appending it to a DataFrame. Note that the\n",
    "append method does not have an inplace parameter that would ensure that the\n",
    "changes reflect in the original object; hence we need to set the original object to\n",
    "point to the new object created using append, as shown in the preceding code"
   ]
  },
  {
   "cell_type": "code",
   "execution_count": null,
   "id": "8f57a380-1324-4d14-b925-83fadfb5520a",
   "metadata": {},
   "outputs": [],
   "source": [
    "Using the pd.\n",
    "concat function\n",
    "CODE:\n",
    "new_row=pd.DataFrame([{'class 1':32,'class 2':37,\n",
    "'class 3':41}])\n",
    "pd.concat([combined_ages,new_row])"
   ]
  },
  {
   "cell_type": "code",
   "execution_count": null,
   "id": "ce0d5604-19f5-44ab-961f-d659245e35c3",
   "metadata": {},
   "outputs": [],
   "source": [
    "The pd.concat function is used to add new rows as shown in the preceding\n",
    "syntax. The new row to be added is defined as a DataFrame object. Then the\n",
    "pd.concat function is called and the names of the two DataFrames (the original\n",
    "DataFrame and the new row defined as a DataFrame) are passed as arguments."
   ]
  },
  {
   "cell_type": "code",
   "execution_count": null,
   "id": "bb0114dc-0427-4c70-8983-1a91f5e77804",
   "metadata": {},
   "outputs": [],
   "source": [
    "In summary, we can use either the append method or concat function for adding rows to\n",
    "a DataFrame."
   ]
  },
  {
   "cell_type": "code",
   "execution_count": null,
   "id": "7d739a9e-93d8-4be6-860e-b2236d6e29a8",
   "metadata": {},
   "outputs": [],
   "source": [
    "Deleting columns from a DataFrame\n",
    "Three methods can be used to delete a column from a DataFrame, as shown in Table 6-5."
   ]
  },
  {
   "cell_type": "code",
   "execution_count": null,
   "id": "febff669-b094-4ec9-9116-4390d6c0c361",
   "metadata": {},
   "outputs": [],
   "source": [
    "del function CODE:\n",
    "del combined_ages['class 3']\n",
    "combined_ages"
   ]
  },
  {
   "cell_type": "code",
   "execution_count": null,
   "id": "cd111cab-b1b3-465a-9a0c-8e6a386f768e",
   "metadata": {},
   "outputs": [],
   "source": [
    "The preceding statement deletes the last column (with the\n",
    "name,“class 3”).\n",
    "Note that the deletion occurs inplace, that is, in the original\n",
    "DataFrame itself."
   ]
  },
  {
   "cell_type": "code",
   "execution_count": null,
   "id": "be849b3a-0fc9-4c6c-9703-718ce6df88c6",
   "metadata": {},
   "outputs": [],
   "source": [
    "Using the pop method CODE:\n",
    "combined_ages.pop('class 2')"
   ]
  },
  {
   "cell_type": "code",
   "execution_count": null,
   "id": "0a853765-b8d8-4f38-ac3a-25334e620c29",
   "metadata": {},
   "outputs": [],
   "source": [
    "The pop method deletes a column inplace and returns the deleted\n",
    "column as a Series object"
   ]
  },
  {
   "cell_type": "code",
   "execution_count": null,
   "id": "971f9bc4-cb71-4d0f-b9eb-17d696e41309",
   "metadata": {},
   "outputs": [],
   "source": [
    "Using the drop method CODE:\n",
    "combined_ages.drop(['class 1'],axis=1,inplace=True)\n",
    "combined_ages"
   ]
  },
  {
   "cell_type": "code",
   "execution_count": null,
   "id": "297d3dff-4ed1-477b-a105-eebff84737cc",
   "metadata": {},
   "outputs": [],
   "source": [
    "The column(s) that needs to be dropped is mentioned as a string\n",
    "within a list, which is then passed as an argument to the drop\n",
    "method. Since the drop method removes rows (axis=0) by default,\n",
    "we need to specify the axis value as “1” if we want to remove a\n",
    "column.\n",
    "Unlike the del function and pop method, the deletion using the\n",
    "drop method does not occur in the original DataFrame object, and\n",
    "therefore, we need to add the inplace parameter."
   ]
  },
  {
   "cell_type": "code",
   "execution_count": null,
   "id": "7a489a21-c791-4d48-87c2-c41dadd80290",
   "metadata": {},
   "outputs": [],
   "source": [
    "To sum up, we can use the del function, pop method, or drop method to delete a column\n",
    "from a DataFrame"
   ]
  },
  {
   "cell_type": "code",
   "execution_count": null,
   "id": "eb281a1c-c64e-4dd4-a66f-b326d9cea473",
   "metadata": {},
   "outputs": [],
   "source": []
  }
 ],
 "metadata": {
  "kernelspec": {
   "display_name": "Python 3 (ipykernel)",
   "language": "python",
   "name": "python3"
  },
  "language_info": {
   "codemirror_mode": {
    "name": "ipython",
    "version": 3
   },
   "file_extension": ".py",
   "mimetype": "text/x-python",
   "name": "python",
   "nbconvert_exporter": "python",
   "pygments_lexer": "ipython3",
   "version": "3.10.2"
  }
 },
 "nbformat": 4,
 "nbformat_minor": 5
}
